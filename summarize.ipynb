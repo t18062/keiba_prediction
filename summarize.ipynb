{
 "cells": [
  {
   "cell_type": "markdown",
   "id": "420468d1-10de-4c17-a998-f1c402b6a944",
   "metadata": {},
   "source": [
    "# ライブラリ"
   ]
  },
  {
   "cell_type": "code",
   "execution_count": 3,
   "id": "159f9dee-ab42-4a31-85b2-bb498a042533",
   "metadata": {},
   "outputs": [],
   "source": [
    "import pandas as pd\n",
    "import time\n",
    "from tqdm.notebook import tqdm\n",
    "import pickle\n",
    "import re \n",
    "from urllib.request import urlopen\n",
    "import numpy as np\n",
    "import requests\n",
    "from bs4 import BeautifulSoup \n",
    "import matplotlib.pyplot as plt\n",
    "from itertools import combinations\n",
    "from itertools import permutations\n",
    "import warnings\n",
    "warnings.simplefilter(action=\"ignore\")\n",
    "\n",
    "import lightgbm as lgb\n",
    "import optuna\n",
    "import optuna.integration.lightgbm as lgb_o\n",
    "\n",
    "from sklearn.metrics import roc_auc_score\n",
    "from sklearn.preprocessing import LabelEncoder \n",
    "from sklearn.model_selection import train_test_split"
   ]
  },
  {
   "cell_type": "markdown",
   "id": "52a61cf1-6b58-49cc-9936-c44273f1dd4f",
   "metadata": {},
   "source": [
    "# 関数"
   ]
  },
  {
   "cell_type": "code",
   "execution_count": 294,
   "id": "17c42207-7bc1-40c7-be0c-81fca709c9db",
   "metadata": {},
   "outputs": [],
   "source": [
    "#min_thresholdの値から1までを100等分する\n",
    "def gain(return_func, X, n_samples=100, range_=[0.5, 3.5]):\n",
    "    gain = {}\n",
    "    for i in tqdm(range(n_samples)):\n",
    "        threshold = range_[1] * i / n_samples + range_[0] * (1 - (i / n_samples))\n",
    "        n_bets, return_rate, n_hits, std = return_func(X, threshold)\n",
    "        if n_bets > 2:\n",
    "            gain[threshold] = {\"return_rate\":return_rate,\n",
    "                                \"n_hits\":n_hits,\n",
    "                                \"std\":std,\n",
    "                                \"n_bets\":n_bets}\n",
    "    return pd.DataFrame(gain).T\n",
    "\n",
    "# yearに値を入れればいい\n",
    "def race_id_c(year):\n",
    "    race_id_list = []\n",
    "    \n",
    "    race_id_head = year\n",
    "    for place in range(1,11,1):\n",
    "        for kai in range(1,6,1):\n",
    "            for day in range(1,13,1):\n",
    "                for r in range(1,13,1):\n",
    "                    race_id = str(place).zfill(2) + str(kai).zfill(2) +\\\n",
    "                    str(day).zfill(2) + str(r).zfill(2)\n",
    "                    race_ids = race_id_head + race_id\n",
    "                    race_id_list.append(race_ids)\n",
    "    return race_id_list\n",
    "\n",
    "def split_data(df, test_size=0.3):\n",
    "    sorted_id_list = df.sort_values(\"date\").index.unique()\n",
    "    train_id_list = sorted_id_list[: round(len(sorted_id_list) * (1 - test_size))]\n",
    "    test_id_list = sorted_id_list[round(len(sorted_id_list) * (1 - test_size)) :]\n",
    "    train = df.loc[train_id_list]#.drop(['date'], axis=1)\n",
    "    test = df.loc[test_id_list]#.drop(['date'], axis=1)\n",
    "    return train, test\n",
    "\n",
    "def plot(df, label=' '):\n",
    "    plt.fill_between(df.index, y1=df['return_rate']-df['std'],\n",
    "        y2=df['return_rate']+df['std'],alpha=0.3)\n",
    " \n",
    "    plt.plot(df.index, df['return_rate'], label=label)\n",
    "    plt.legend()\n",
    "    plt.grid(True)\n",
    "\n",
    "place_dict = {\n",
    "    '札幌':'01',  '函館':'02',  '福島':'03',  '新潟':'04',  '東京':'05', \n",
    "    '中山':'06',  '中京':'07',  '京都':'08',  '阪神':'09',  '小倉':'10'\n",
    "}\n",
    "\n",
    "race_type_dict = {\n",
    "    '芝': '芝', 'ダ': 'ダート', '障': '障害'\n",
    "}"
   ]
  },
  {
   "cell_type": "code",
   "execution_count": null,
   "id": "5ee23f1b-c7d9-44a9-ae74-ae0a1f25e679",
   "metadata": {},
   "outputs": [],
   "source": [
    "\"\"\"\n",
    "trainをあたはめる際にdataframeの馬番順に直す必要がある\n",
    "\n",
    "df = df.reset_index().sort_values([\"index\",\"馬番\"]).set_index(\"index\")\n",
    "df.index.name = None\n",
    "\n",
    "\"\"\""
   ]
  },
  {
   "cell_type": "code",
   "execution_count": 130,
   "id": "4d899f7b-5fca-4517-b674-4cc3b80540c9",
   "metadata": {},
   "outputs": [],
   "source": [
    "def gain(return_func, X, n_samples=100, lower=60, min_threshold=0.6):\n",
    "    gain = {}\n",
    "    for i in tqdm(range(n_samples)):\n",
    "        threshold = 1 * i / n_samples + min_threshold * (1 - (i / n_samples))\n",
    "        n_bets, return_rate = return_func(X, threshold)\n",
    "        if n_bets > lower:\n",
    "            gain[n_bets] = return_rate\n",
    "    return pd.Series(gain)"
   ]
  },
  {
   "cell_type": "markdown",
   "id": "1a14946c-7a77-4edf-8515-36cc166438a1",
   "metadata": {},
   "source": [
    "# 基本データ"
   ]
  },
  {
   "cell_type": "code",
   "execution_count": null,
   "id": "489534eb-9bad-460f-84f0-b4a060b19f64",
   "metadata": {},
   "outputs": [],
   "source": [
    "results_19 = pd.read_pickle('results_19.pickle')\n",
    "results_20 = pd.read_pickle('results_20.pickle')\n",
    "results_21 = pd.read_pickle('results_21.pickle')\n",
    "results_all = pd.read_pickle('results_all.pickle')\n",
    "results_all.drop([\"cource_len\",\"data\"], axis=1, inplace=True)\n",
    "\n",
    "horse_results = pd.read_pickle('horse_results-Copy1.pickle')\n",
    "horse_results_20 = pd.read_pickle('horse_results_20.pickle')\n",
    "horse_results_21 = pd.read_pickle('horse_results_21.pickle')\n",
    "\n",
    "peds = pd.read_pickle('peds-Copy1.pickle')\n",
    "peds_all = pd.read_pickle('peds_all.pickle')\n",
    "n_peds_all = pd.read_pickle('n_peds_all')\n",
    "n_peds_all2 = pd.read_pickle('n_peds_all2.pickle')\n",
    "\n",
    "#r.data_cの馬番をsortしたもの　リークをなくすため\n",
    "r_data_sort = pd.read_pickle(\"r_data_sort.pickle\")\n",
    "\n",
    "return_tables_19 = pd.read_pickle('Return_tables_19.pickle')\n",
    "return_tables_20 = pd.read_pickle('Return_tables_20.pickle')\n",
    "return_tables_21 = pd.read_pickle('Return_tables_21.pickle')\n",
    "return_tables_all = pd.read_pickle(\"Return_tables_all.pickle\")"
   ]
  },
  {
   "cell_type": "markdown",
   "id": "f1260c58-1a38-46e4-bab2-b71a1b225471",
   "metadata": {},
   "source": [
    "# DataProcessor"
   ]
  },
  {
   "cell_type": "code",
   "execution_count": 10,
   "id": "abaa86fb-84eb-4cfd-ac08-58d17769cdc6",
   "metadata": {
    "tags": []
   },
   "outputs": [],
   "source": [
    "class DataProcessor:\n",
    "    def __init__(self):\n",
    "        self.data = pd.DataFrame() # raw data\n",
    "        self.data_p = pd.DataFrame() #after preprocessing\n",
    "        self.data_h = pd.DataFrame() #after merging horse_results\n",
    "        self.data_pe = pd.DataFrame() #after merging peds\n",
    "        self.data_c = pd.DataFrame() #after processing categorical features\n",
    "        self.data_ = pd.DataFrame()\n",
    "        #self.no_peds #親データがないhorse_id_list\n",
    "    \n",
    "    # 馬の過去成績のデータ追加    \n",
    "    def merge_horse_results(self, hr, n_samples_list=[5, 9, 'all']):\n",
    "        self.data_h = self.data_p.copy()\n",
    "        for n_samples in n_samples_list:\n",
    "            self.data_h = hr.merge_all(self.data_h, n_samples=n_samples)\n",
    "        self.data_h.drop([\"開催\"],axis=1, inplace=True)\n",
    "    \n",
    "    # 馬の親データの追加                \n",
    "    def merge_peds(self, peds):\n",
    "        self.data_pe = self.data_h.merge(peds,left_on='horse_id',\n",
    "        right_index=True, how='left')\n",
    "        \n",
    "        self.no_peds = self.data_pe[self.data_pe['peds_0'].isnull()]\\\n",
    "            ['horse_id'].unique()\n",
    "        if len(self.no_peds) > 0:\n",
    "            print('scrape peds at horse_id_list \"no_peds\"')\n",
    "    \n",
    "    # 質的変数への変換        \n",
    "    def process_categorical(self, le_horse, le_jockey, results_m):\n",
    "        df = self.data_pe.copy()\n",
    "        \n",
    "        #ラベルエンコーディング　horse_id,jockey_idを0始まりの整数に変換\n",
    "        mask_horse = df['horse_id'].isin(le_horse.classes_)\n",
    "        new_horse_id = df['horse_id'].mask(mask_horse).dropna().unique()\n",
    "        le_horse.classes_ = np.concatenate([le_horse.classes_, new_horse_id])\n",
    "        df['horse_id'] = le_horse.transform(df['horse_id'])\n",
    "        \n",
    "        mask_jockey = df['jockey_id'].isin(le_jockey.classes_)\n",
    "        new_jockey_id = df['jockey_id'].mask(mask_jockey).dropna().unique()\n",
    "        le_jockey.classes_ = np.concatenate([le_jockey.classes_, new_jockey_id])\n",
    "        df['jockey_id'] = le_jockey.transform(df['jockey_id'])\n",
    "        \n",
    "        weathers = results_m['weather'].unique()\n",
    "        race_types = results_m['race_type'].unique()\n",
    "        ground_states = results_m['ground_state'].unique()\n",
    "        sexes = results_m['性'].unique()\n",
    "        df['weather'] = pd.Categorical(df['weather'], weathers)\n",
    "        df['race_type'] = pd.Categorical(df['race_type'], race_types)\n",
    "        df['ground_state'] = pd.Categorical(df['ground_state'], ground_states)\n",
    "        df['性'] = pd.Categorical(df['性'], sexes)\n",
    "        \n",
    "        df = pd.get_dummies(df, columns=['weather', 'race_type', 'ground_state', '性'])\n",
    "        \n",
    "        self.data_c = df\n",
    "     \n",
    "    \n",
    "# Results class             \n",
    "class Results(DataProcessor):\n",
    "    def __init__(self, results):\n",
    "        super(Results, self).__init__()\n",
    "        self.data = results\n",
    "    \n",
    "    # path_listはpickle名\n",
    "    @classmethod\n",
    "    def read_pickle(cls, path_list):\n",
    "        df = pd.read_pickle(path_list[0])\n",
    "        for path in path_list[1:]:\n",
    "            df = update_data(df, pd.read_pickle(path))\n",
    "        return cls(df)\n",
    "    \n",
    "    @staticmethod\n",
    "    def scrape(race_id_list, pre_race_results={}):\n",
    "        race_results = pre_race_results\n",
    "        for race_id in tqdm(race_id_list):\n",
    "            if race_id in race_results.key():\n",
    "                continue\n",
    "            \n",
    "            try:\n",
    "                time.sleep(1)\n",
    "                url = \"https://db.netkeiba.com/race/\" + race_id\n",
    "                df = pd.read_html(url)[0]\n",
    "                html = requests.get(url)\n",
    "                html.encode = \"EUC-JP\"\n",
    "                soup = BeautifulSoup(html.text, \"html.parser\")\n",
    "                \n",
    "                texts = (\n",
    "                    soup.find(\"div\", attrs={\"class\" : \"data_intro\"}).find_all(\"p\")[0].tesxt\n",
    "                    + soup.find(\"div\", attrs={\"class\" : \"data_intro\"}).find_all(\"p\")[1].tesxt\n",
    "                )\n",
    "                info = re.findall(r\"\\w+\", texts)\n",
    "                for text in info:\n",
    "                    if text in [\"芝\", \"ダート\"]:\n",
    "                        df[\"race_type\"] = [text] * len(df)\n",
    "                    if \"障\" in text:\n",
    "                        df[\"race_type\"] = [\"障害\"] * len(df)\n",
    "                    if \"m\" in text:\n",
    "                        df[\"course_len\"] = [int(re.findall(r\"\\d+\", text)[0])] * len(df)\n",
    "                    if text in [\"良\", \"稍重\", \"稍\", \"重\", \"不良\"]:\n",
    "                        df[\"ground_state\"] = [text] * len(df)\n",
    "                    if text in [\"曇\", \"晴\", \"雨\", \"小雨\", \"小雪\", \"雪\"]:\n",
    "                        df[\"weather\"] = [text] * len(df)\n",
    "                    if \"年\" in text:\n",
    "                        df[\"date\"] = [text] * len(df)\n",
    "                        \n",
    "                #馬ID、騎手IDをスクレイピング\n",
    "                horse_id_list = []\n",
    "                horse_a_list = soup.find(\"table\", attrs={\"summary\": \"レース結果\"}).find_all(\n",
    "                    \"a\", attrs={\"href\": re.compile(\"^/horse\")}\n",
    "                )\n",
    "                for a in horse_a_list:\n",
    "                    horse_id = re.findall(r\"\\d+\", a[\"href\"])\n",
    "                    horse_id_list.append(horse_id[0])\n",
    "                jockey_id_list = []\n",
    "                jockey_a_list = soup.find(\"table\", attrs={\"summary\": \"レース結果\"}).find_all(\n",
    "                    \"a\", attrs={\"href\": re.compile(\"^/jockey\")}\n",
    "                )\n",
    "                for a in jockey_a_list:\n",
    "                    jockey_id = re.findall(r\"\\d+\", a[\"href\"])\n",
    "                    jockey_id_list.append(jockey_id[0])\n",
    "                df[\"horse_id\"] = horse_id_list\n",
    "                df[\"jockey_id\"] = jockey_id_list\n",
    "\n",
    "                #インデックスをrace_idにする\n",
    "                df.index = [race_id] * len(df)\n",
    "                \n",
    "                race_results[race_id] = df \n",
    "                \n",
    "            except IndexError:\n",
    "                continue\n",
    "            except Exception as e:\n",
    "                print(e)\n",
    "                break\n",
    "            except:\n",
    "                break\n",
    "        return race_results\n",
    "        # 一度dataframe型に直さずに出力を返す        \n",
    "        #return race_results\n",
    "        \n",
    "    def to_data_frame(race_results):\n",
    "        race_results_df = pd.concat([race_results[key] for key in race_results])\n",
    "\n",
    "        return race_results_df\n",
    "        \n",
    "        \n",
    "        \n",
    "    # to_dataframe関数で出力後にdataframe型に変換が可能            \n",
    "    #def to_dataframe(race_results):\n",
    "        #race_results_df = pd.concat([race_results[key] for key in race_results])\n",
    "        \n",
    "        #r.data_rr = race_results_df                    \n",
    "                \n",
    "    \n",
    "    def preprocessing(self):\n",
    "        df = self.data.copy()\n",
    "\n",
    "        # 着順に数字以外の文字列が含まれているものを取り除く\n",
    "        df['着順'] = pd.to_numeric(df['着順'], errors='coerce')\n",
    "        df.dropna(subset=['着順'], inplace=True)\n",
    "        df['着順'] = df['着順'].astype(int)\n",
    "        df['rank'] = df['着順'].map(lambda x: 1 if x < 4 else 0)\n",
    "\n",
    "        # 性齢を性と年齢に分ける\n",
    "        df[\"性\"] = df[\"性齢\"].map(lambda x: str(x)[0])\n",
    "        df[\"年齢\"] = df[\"性齢\"].map(lambda x: str(x)[1:]).astype(int)\n",
    "\n",
    "        # 馬体重を体重と体重変化に分ける (馬体重修正するかも)\n",
    "        df[\"体重\"] = df[\"馬体重\"].str.split(\"(\", expand=True)[0].astype(int)\n",
    "        df[\"体重変化\"] = df[\"馬体重\"]\\\n",
    "            .str.split(\"(\", expand=True)[1].replace(\"前計不\", \"0\").str[:-1].astype(dtype = int)\n",
    "\n",
    "        # データをint, floatに変換\n",
    "        df[\"単勝\"] = df[\"単勝\"].astype(float)\n",
    "        df['course_len'] = df['course_len'].astype(float) // 100\n",
    "\n",
    "        # 不要な列を削除\n",
    "        df.drop([\"タイム\", \"着差\", \"調教師\", \"性齢\", \"馬体重\",\"馬名\",\"騎手\",\"人気\",\"着順\"], axis=1, inplace=True)\n",
    "\n",
    "        df[\"date\"] = pd.to_datetime(df[\"date\"], format=\"%Y年%m月%d日\")\n",
    "        \n",
    "        df['開催'] = df.index.map(lambda x: str(x)[4:6])\n",
    "        \n",
    "        self.data_p = df\n",
    "        \n",
    "    def process_categorical(self):\n",
    "        self.le_horse = LabelEncoder().fit(self.data_pe['horse_id'])\n",
    "        self.le_jockey = LabelEncoder().fit(self.data_pe['jockey_id'])\n",
    "        super().process_categorical(self.le_horse, self.le_jockey, self.data_pe)\n",
    "  \n",
    "    \n",
    "# ShutubaTable class        \n",
    "class ShutubaTable(DataProcessor):\n",
    "    def __init__(self, shutuba_tables):\n",
    "        super(ShutubaTable, self).__init__()\n",
    "        self.data = shutuba_tables\n",
    "        \n",
    "    @classmethod    \n",
    "    def scrape(cls, race_id_list, date):\n",
    "        data = pd.DataFrame()\n",
    "        for race_id in tqdm(race_id_list):\n",
    "            \n",
    "            url = 'https://race.netkeiba.com/race/shutuba.html?race_id=' + race_id\n",
    "            df = pd.read_html(url)[0]\n",
    "            df = df.T.reset_index(level=0, drop=True).T\n",
    "            \n",
    "            html = requests.get(url)\n",
    "            html.encoding = \"EUC-JP\"\n",
    "            soup = BeautifulSoup(html.text, \"html.parser\")\n",
    "            \n",
    "            texts = soup.find(\"div\", attrs={\"class\":\"RaceData01\"}).text\n",
    "            texts = re.findall(r\"\\w+\", texts)\n",
    "            for text in texts:\n",
    "                if 'm' in text:\n",
    "                    df['course_len'] = [int(re.findall(r'\\d+', text)[0])] * len(df)\n",
    "                if text in [\"曇\", \"晴\", \"雨\", \"小雨\", \"小雪\", \"雪\"]:\n",
    "                    df[\"weather\"] = [text] * len(df)\n",
    "                if text in [\"良\", \"稍重\", \"稍\", \"重\"]:\n",
    "                    df[\"ground_state\"] = [text] * len(df)\n",
    "                if '不' in text:\n",
    "                    df[\"ground_state\"] = ['不良'] * len(df)\n",
    "                if '芝' in text:\n",
    "                    df['race_type'] = ['芝'] * len(df)\n",
    "                if '障' in text:\n",
    "                    df['race_type'] = ['障害'] * len(df)\n",
    "                if 'ダ' in text:\n",
    "                    df['race_type'] = ['ダート'] * len(df)\n",
    "            df['date'] = [date] * len(df)\n",
    "            \n",
    "            # horse_id\n",
    "            horse_id_list = []\n",
    "            horse_td_list = soup.find_all(\"td\", attrs={'class': 'HorseInfo'})\n",
    "            for td in horse_td_list:\n",
    "                horse_id = re.findall(r'\\d+', td.find('a')['href'])[0]\n",
    "                horse_id_list.append(horse_id)\n",
    "            # jockey_id\n",
    "            jockey_id_list = []\n",
    "            jockey_td_list = soup.find_all(\"td\", attrs={'class': 'Jockey'})\n",
    "            for td in jockey_td_list:\n",
    "                jockey_id = re.findall(r'\\d+', td.find('a')['href'])[0]\n",
    "                jockey_id_list.append(jockey_id)\n",
    "            df['horse_id'] = horse_id_list\n",
    "            df['jockey_id'] = jockey_id_list\n",
    "\n",
    "            df.index = [race_id] * len(df)\n",
    "            data = data.append(df)\n",
    "            time.sleep(1)\n",
    "        return cls(data)\n",
    "\n",
    "            \n",
    "    def preprocessing(self):\n",
    "        df = self.data.copy()\n",
    "        \n",
    "        df[\"性\"] = df[\"性齢\"].map(lambda x: str(x)[0])\n",
    "        df[\"年齢\"] = df[\"性齢\"].map(lambda x: str(x)[1:]).astype(int)\n",
    "\n",
    "        # 馬体重を体重と体重変化に分ける\n",
    "        df = df[df[\"馬体重(増減)\"] != '--']\n",
    "        df[\"体重\"] = df[\"馬体重(増減)\"].str.split(\"(\", expand=True)[0].astype(int)\n",
    "        \n",
    "        df[\"体重変化\"] = df[\"馬体重(増減)\"].str.split(\"(\", expand=True)[1].replace(\"前計不)\", \"0)\").str[:-1].astype(dtype = int)\n",
    "        \n",
    "        #df[\"体重変化\"] = df[\"馬体重(増減)\"].str.split(\"(\", expand=True)[1]\n",
    "        #df[\"体重変化\"] = df[\"体重変化\"].replace(\"前計不)\", \"0)\")\n",
    "        #df[\"体重変化\"] = df[\"体重変化\"].str[:-1].astype(int)\n",
    "        \n",
    "        df[\"date\"] = pd.to_datetime(df[\"date\"])\n",
    "        \n",
    "        df['枠'] = df['枠'].astype(int)\n",
    "        df['馬番'] = df['馬番'].astype(int)\n",
    "        df['斤量'] = df['斤量'].astype(int)\n",
    "\n",
    "        # 不要な列を削除\n",
    "        df = df[['枠', '馬番', '斤量', 'course_len', 'weather','race_type',\n",
    "        'ground_state', 'date', 'horse_id', 'jockey_id', '性', '年齢',\n",
    "        '体重', '体重変化']]\n",
    "        \n",
    "        self.data_p = df.rename(columns={'枠': '枠番'})\n",
    "        "
   ]
  },
  {
   "cell_type": "markdown",
   "id": "98baea45-8029-402e-99b7-3a98734439ca",
   "metadata": {},
   "source": [
    "# Return"
   ]
  },
  {
   "cell_type": "code",
   "execution_count": 290,
   "id": "2dd23a8c-82cb-442b-91c9-5f6f1dc8a44d",
   "metadata": {},
   "outputs": [],
   "source": [
    "class Return:\n",
    "    def __init__(self, return_tables):\n",
    "        self.return_tables = return_tables\n",
    "    \n",
    "    # path_listはpathではなく保存名で良い\n",
    "    @classmethod\n",
    "    def read_pickle(cls, path_list):\n",
    "        df = pd.concat([pd.read_pickle(path) for path in path_list])\n",
    "        return cls(df)\n",
    "        \n",
    "    @staticmethod\n",
    "    def scrape(race_id_list):\n",
    "        return_tables = {}\n",
    "        for race_id in tqdm(race_id_list):\n",
    "            try:\n",
    "                url = \"https://db.netkeiba.com/race/\" + race_id\n",
    "\n",
    "                #普通にスクレイピングすると複勝やワイドなどが区切られないで繋がってしまう。\n",
    "                #そのため、改行コードを文字列brに変換して後でsplitする\n",
    "                f = urlopen(url)\n",
    "                html = f.read()\n",
    "                html = html.replace(b'<br />', b'br')\n",
    "                dfs = pd.read_html(html)\n",
    "\n",
    "                #dfsの1番目に単勝〜馬連、2番目にワイド〜三連単がある\n",
    "                df = pd.concat([dfs[1], dfs[2]])\n",
    "\n",
    "                df.index = [race_id] * len(df)\n",
    "                return_tables[race_id] = df\n",
    "                time.sleep(1)\n",
    "            except IndexError:\n",
    "                continue\n",
    "            except Exception as e:\n",
    "                print(e)\n",
    "                break\n",
    "            except:\n",
    "                break\n",
    "\n",
    "        #pd.DataFrame型にして一つのデータにまとめる\n",
    "        return_tables_df = pd.concat([return_tables[key] for key in return_tables])\n",
    "        return return_tables_df\n",
    "    \n",
    "    \n",
    "    @property #本来ならRetrun(return_tables).fukusho(retrun_tables)の形だが、\n",
    "    #Retrun(return_tables).fukushoで扱える\n",
    "    def fukusho(self):\n",
    "        fukusho = self.return_tables[self.return_tables[0] == '複勝'][[1,2]]\n",
    "        wins = fukusho[1].str.split('br', expand=True)[[0,1,2]]\n",
    "        wins.columns = ['win_0','win_1','win_2']\n",
    "        \n",
    "        returns = fukusho[2].str.split('br', expand=True)[[0,1,2]]\n",
    "        returns.columns = ['return_0','return_1','return_2']\n",
    "         \n",
    "        df = pd.concat([wins, returns], axis=1)\n",
    "        for column in df.columns:\n",
    "            df[column] = df[column].str.replace(',','')\n",
    "        \n",
    "        return df.fillna(0).astype(int)\n",
    "    \n",
    "    @property #単勝に対して予測を行う\n",
    "    def tansho(self):\n",
    "        tansho = self.return_tables[self.return_tables[0] == '単勝'][[1,2]]\n",
    "        tansho.columns = ['win','return']\n",
    "        \n",
    "        for column in tansho.columns:\n",
    "            tansho[column] = pd.to_numeric(tansho[column], errors='coerce')\n",
    "        return tansho\n",
    "    \n",
    "    @property\n",
    "    def umaren(self):\n",
    "        umaren = self.return_tables[self.return_tables[0] == \"馬連\"][[1,2]]\n",
    "        wins = umaren[1].str.split('-', expand=True)[[0,1]]#.add_prefix(\"win_\")\n",
    "        #wins.columns = ([\"win_1\",\"win_2\"])#.add_prefix(\"win_\")\n",
    "        return_ = umaren[2].rename('return')\n",
    "        df = pd.concat([wins, return_], axis=1)\n",
    "        df = df.apply(lambda x: pd.to_numeric(x, errors=\"coerce\"))\n",
    "        \n",
    "        #for column in umaren.columns:\n",
    "            #umaren[column] = pd.to_numeric(umaren[column], errors='coerce')\n",
    "        return df"
   ]
  },
  {
   "cell_type": "code",
   "execution_count": 291,
   "id": "428c4305-4a08-492e-a617-95308dea9f41",
   "metadata": {},
   "outputs": [],
   "source": [
    "class Return:\n",
    "    def __init__(self, return_tables):\n",
    "        self.return_tables = return_tables\n",
    "    \n",
    "    # path_listはpathではなく保存名で良い\n",
    "    @classmethod\n",
    "    def read_pickle(cls, path_list):\n",
    "        df = pd.concat([pd.read_pickle(path) for path in path_list])\n",
    "        return cls(df)\n",
    "        \n",
    "    @staticmethod\n",
    "    def scrape(race_id_list):\n",
    "        return_tables = {}\n",
    "        for race_id in tqdm(race_id_list):\n",
    "            try:\n",
    "                url = \"https://db.netkeiba.com/race/\" + race_id\n",
    "\n",
    "                #普通にスクレイピングすると複勝やワイドなどが区切られないで繋がってしまう。\n",
    "                #そのため、改行コードを文字列brに変換して後でsplitする\n",
    "                f = urlopen(url)\n",
    "                html = f.read()\n",
    "                html = html.replace(b'<br />', b'br')\n",
    "                dfs = pd.read_html(html)\n",
    "\n",
    "                #dfsの1番目に単勝〜馬連、2番目にワイド〜三連単がある\n",
    "                df = pd.concat([dfs[1], dfs[2]])\n",
    "\n",
    "                df.index = [race_id] * len(df)\n",
    "                return_tables[race_id] = df\n",
    "                time.sleep(0.7)\n",
    "            except IndexError:\n",
    "                continue\n",
    "            except Exception as e:\n",
    "                print(e)\n",
    "                break\n",
    "            except:\n",
    "                break\n",
    "\n",
    "        #pd.DataFrame型にして一つのデータにまとめる\n",
    "        return_tables_df = pd.concat([return_tables[key] for key in return_tables])\n",
    "        return return_tables_df\n",
    "    \n",
    "    \n",
    "    @property #本来ならRetrun(return_tables).fukusho(retrun_tables)の形だが、\n",
    "    #Retrun(return_tables).fukushoで扱える\n",
    "    def fukusho(self):\n",
    "        fukusho = self.return_tables[self.return_tables[0] == '複勝'][[1,2]]\n",
    "        wins = fukusho[1].str.split('br', expand=True)[[0,1,2]]\n",
    "        wins.columns = ['win_0','win_1','win_2']\n",
    "        \n",
    "        returns = fukusho[2].str.split('br', expand=True)[[0,1,2]]\n",
    "        returns.columns = ['return_0','return_1','return_2']\n",
    "         \n",
    "        df = pd.concat([wins, returns], axis=1)\n",
    "        for column in df.columns:\n",
    "            df[column] = df[column].str.replace(',','')\n",
    "        \n",
    "        return df.fillna(0).astype(int)\n",
    "    \n",
    "    @property #単勝に対して予測を行う\n",
    "    def tansho(self):\n",
    "        tansho = self.return_tables[self.return_tables[0] == '単勝'][[1,2]]\n",
    "        tansho.columns = ['win','return']\n",
    "        \n",
    "        for column in tansho.columns:\n",
    "            tansho[column] = pd.to_numeric(tansho[column], errors='coerce')\n",
    "        return tansho\n",
    "    \n",
    "    @property\n",
    "    def umaren(self):\n",
    "        umaren = self.return_tables[self.return_tables[0] == \"馬連\"][[1,2]]\n",
    "        wins = umaren[1].str.split('-', expand=True)[[0,1]]#.add_prefix(\"win_\")\n",
    "        #wins.columns = ([\"win_1\",\"win_2\"])#.add_prefix(\"win_\")\n",
    "        return_ = umaren[2].rename('return')\n",
    "        df = pd.concat([wins, return_], axis=1)\n",
    "        df = df.apply(lambda x: pd.to_numeric(x, errors=\"coerce\"))\n",
    "        \n",
    "        #for column in umaren.columns:\n",
    "            #umaren[column] = pd.to_numeric(umaren[column], errors='coerce')\n",
    "        return df"
   ]
  },
  {
   "cell_type": "code",
   "execution_count": 389,
   "id": "4bb88ab7-cee5-4de1-aa87-79cc23b518d3",
   "metadata": {},
   "outputs": [
    {
     "name": "stdout",
     "output_type": "stream",
     "text": [
      "2.82 ms ± 7.27 µs per loop (mean ± std. dev. of 7 runs, 100 loops each)\n"
     ]
    }
   ],
   "source": [
    "%%timeit \n",
    "for race_id in pred_list.index.unique()[:10]:\n",
    "    (me.umaren.loc[race_id][0] in pred_list.loc[race_id].values) & \\\n",
    "    (me.umaren.loc[race_id][1] in pred_list.loc[race_id].values)"
   ]
  },
  {
   "cell_type": "code",
   "execution_count": 378,
   "id": "0a739953-c8ac-460b-8e8e-3963cd90dc7c",
   "metadata": {},
   "outputs": [
    {
     "data": {
      "text/plain": [
       "0    False\n",
       "1    False\n",
       "Name: 201909040207, dtype: bool"
      ]
     },
     "execution_count": 378,
     "metadata": {},
     "output_type": "execute_result"
    }
   ],
   "source": [
    "me.umaren.loc['201909040207'][[0,1]].isin(pred_list.loc[\"201909040207\"])"
   ]
  },
  {
   "cell_type": "code",
   "execution_count": 390,
   "id": "9d46c0eb-5faa-48be-947d-3fcc63194009",
   "metadata": {},
   "outputs": [
    {
     "name": "stdout",
     "output_type": "stream",
     "text": [
      "4.34 ms ± 4.18 µs per loop (mean ± std. dev. of 7 runs, 100 loops each)\n"
     ]
    }
   ],
   "source": [
    "%%timeit \n",
    "for race_id in pred_list.index.unique()[:10]:\n",
    "    me.umaren.loc[race_id][[0,1]].isin(pred_list.loc[race_id])"
   ]
  },
  {
   "cell_type": "code",
   "execution_count": 381,
   "id": "90519a58-6d33-48b9-856b-ef29c0ede233",
   "metadata": {},
   "outputs": [
    {
     "data": {
      "text/plain": [
       "False"
      ]
     },
     "execution_count": 381,
     "metadata": {},
     "output_type": "execute_result"
    }
   ],
   "source": [
    "set(me.umaren.loc['201909040207'][[0,1]]).issubset(set(pred_list.loc['201909040207']))"
   ]
  },
  {
   "cell_type": "code",
   "execution_count": 428,
   "id": "0faf2d05-1325-41cc-964b-4cd9206d58c5",
   "metadata": {},
   "outputs": [
    {
     "name": "stdout",
     "output_type": "stream",
     "text": [
      "5 ms ± 85.2 µs per loop (mean ± std. dev. of 7 runs, 100 loops each)\n"
     ]
    }
   ],
   "source": [
    "%%timeit \n",
    "for race_id in pred_list.index.unique()[:10]:\n",
    "    set(me.umaren.loc[race_id][[0,1]]).issubset(set(pred_list.loc[race_id]))"
   ]
  },
  {
   "cell_type": "code",
   "execution_count": 437,
   "id": "74da0fe7-10b6-424f-bc08-1e72ca6c6535",
   "metadata": {},
   "outputs": [
    {
     "data": {
      "application/vnd.jupyter.widget-view+json": {
       "model_id": "0a92ef7b81af4c1eb6f065631919e2b8",
       "version_major": 2,
       "version_minor": 0
      },
      "text/plain": [
       "  0%|          | 0/2356 [00:00<?, ?it/s]"
      ]
     },
     "metadata": {},
     "output_type": "display_data"
    }
   ],
   "source": [
    "hit = {}\n",
    "for race_id, preds in tqdm(pred_list.groupby(level=0)):\n",
    "    hit[race_id] = set(me.umaren.loc[race_id][[0,1]]).issubset(set(preds))\n"
   ]
  },
  {
   "cell_type": "markdown",
   "id": "7d353c0b-0112-4a7b-946f-55b5feb9f73d",
   "metadata": {},
   "source": [
    "# ModelEvalator"
   ]
  },
  {
   "cell_type": "code",
   "execution_count": 219,
   "id": "1b509075-5bb4-4d53-84c5-ff7b919d6f24",
   "metadata": {},
   "outputs": [],
   "source": [
    "#第一引数にあたるxにはX_testのようなテストデータを入れる\n",
    "# return_tables_path = pickle_path\n",
    "class ModelEvaluator:\n",
    "    def __init__(self, model, return_tables_path, std=True):\n",
    "        self.model = model\n",
    "        self.rt = Return.read_pickle([return_tables_path])\n",
    "        self.fukusho = self.rt.fukusho\n",
    "        self.tansho = self.rt.tansho\n",
    "        self.umaren = self.rt.umaren\n",
    "        self.std = std\n",
    "    \n",
    "    #閾値(threshold)を設定する　デフォルト0.6\n",
    "    def predict(self, X, threshold=0.6):\n",
    "        y_pred = self.predict_proba(X)\n",
    "        return [0 if p < threshold else 1 for p in y_pred]\n",
    "    \n",
    "    #1になる確率の予測\n",
    "    def predict_proba(self, X):\n",
    "        proba = pd.Series(self.model.predict_proba(X.drop([\"単勝\"],axis=1))[:,1], index=X.index)\n",
    "        if self.std:\n",
    "            standerd_scaler = lambda x: (x - x.mean()) / x.std()\n",
    "            proba = proba.groupby(level=0).transform(standerd_scaler)\n",
    "        proba = (proba - proba.min()) / (proba.max() - proba.min())\n",
    "        return proba \n",
    "    \n",
    "    #auc曲線のスコアを求める\n",
    "    def score(self, y_true, X):\n",
    "        return roc_auc_score(y_true, self.predict_proba(X))\n",
    "    \n",
    "    #各成分の特徴量の強さの表示 デフォルト20\n",
    "    def feature_importance(self, X, n_display=20):\n",
    "        importances = pd.DataFrame({\"features\":X.columns, \n",
    "                                  \"importance\":self.model.feature_importances_})\n",
    "        return importances.sort_values('importance', ascending=False)[:n_display]\n",
    "    \n",
    "    #閾値を通して1と判定されたものだけをpred_tableとして出力する\n",
    "    def pred_table(self, X, threshold=0.6, bet_only = True):\n",
    "        pred_table = X.copy()[['馬番',\"単勝\"]]\n",
    "        pred_table['pred'] = self.predict(X, threshold)\n",
    "        if bet_only:\n",
    "            return pred_table[pred_table['pred']==1][['馬番',\"単勝\"]]\n",
    "        else:\n",
    "            return pred_table\n",
    "        \n",
    "    def fukusho_return(self, X, threshold=0.6):\n",
    "        pred_table = self.pred_table(X, threshold)\n",
    "        n_bets = len(pred_table)\n",
    "        money = -100 * n_bets\n",
    "        df = self.fukusho.copy()\n",
    "        df = df.merge(pred_table, left_index=True, right_index=True, how='right')\n",
    "        for i in range(3):\n",
    "            money += df[df['win_{}'.format(i)]==df['馬番']]['return_{}'.format(i)].sum()\n",
    "        return_rate = (n_bets * 100 + money) / (n_bets * 100)\n",
    "        return n_bets, return_rate\n",
    "    \n",
    "    def tansho_return(self, X, threshold=0.6):\n",
    "        pred_table = self.pred_table(X, threshold)\n",
    "        n_bets = len(pred_table)\n",
    "        money = -100 * n_bets\n",
    "        df = self.tansho.copy()\n",
    "        df = df.merge(pred_table, left_index=True, right_index=True, how='right')\n",
    "        n_hits = len(df[df[\"win\"]==df[\"馬番\"]])\n",
    "        money += df[df['win']==df['馬番']]['return'].sum()\n",
    "        return_rate = (n_bets * 100 + money) / (n_bets * 100)\n",
    "        return n_bets, return_rate, n_hits\n",
    "    \n",
    "    def tansho_return_proper(self, X, threshold=0.5):\n",
    "        #モデルによって儲かると判断された馬\n",
    "        pred_table = self.pred_table(X, threshold)\n",
    "        n_bets = len(pred_table)\n",
    "        \n",
    "        #払い戻しの際にpred_tableを混ぜる\n",
    "        df = self.tansho.copy()\n",
    "        df = df.merge(pred_table, left_index=True, right_index=True, how='right')\n",
    "        \n",
    "        #単勝適正回収率の計算\n",
    "        return_rate = len(df.query(\"win == 馬番\")) / (1 / pred_table[\"単勝\"]).sum()\n",
    "        n_hits = len(df.query(\"win == 馬番\"))\n",
    "        return n_bets, return_rate, n_hits \n",
    "    \n",
    "    def umaren_return(self, X, threshold=0.6):\n",
    "        pred_table = self.pred_table(X, threshold)\n",
    "        hit = {}\n",
    "        n_bets = 0\n",
    "        for race_id, preds in pred_table.groupby(level=0):\n",
    "            n_bets += comb(len(preds, 2))\n",
    "            hit[race_id] = set(\n",
    "                self.umaren.loc[race_id][[0, 1]]\n",
    "            ).issubset(set(preds))\n",
    "        return_rate = self.umaren.index.map(hit).values * self.umaren['return'].sum() / \\\n",
    "            (n_bets * 100)\n",
    "        return n_bets, return_rate\n",
    "      "
   ]
  },
  {
   "cell_type": "code",
   "execution_count": 478,
   "id": "dcc4925a-0836-457d-ad36-bbf8c489ffa1",
   "metadata": {},
   "outputs": [
    {
     "data": {
      "text/plain": [
       "<AxesSubplot:>"
      ]
     },
     "execution_count": 478,
     "metadata": {},
     "output_type": "execute_result"
    },
    {
     "data": {
      "image/png": "[encoded data removed]",
      "text/plain": [
       "<Figure size 432x288 with 1 Axes>"
      ]
     },
     "metadata": {
      "needs_background": "light"
     },
     "output_type": "display_data"
    }
   ],
   "source": [
    "g.plot()"
   ]
  },
  {
   "cell_type": "code",
   "execution_count": 465,
   "id": "7b2e6f14-9915-45aa-8b92-e4def46ff612",
   "metadata": {},
   "outputs": [
    {
     "data": {
      "text/plain": [
       "pandas.core.series.Series"
      ]
     },
     "execution_count": 465,
     "metadata": {},
     "output_type": "execute_result"
    }
   ],
   "source": [
    "me.umaren"
   ]
  },
  {
   "cell_type": "markdown",
   "id": "de1c352a-9908-4575-8fbf-6e21b1b5fc90",
   "metadata": {},
   "source": [
    "# Horse_Results"
   ]
  },
  {
   "cell_type": "code",
   "execution_count": 40,
   "id": "4d69f1ed-4c00-4573-b184-34db6d3c02e5",
   "metadata": {},
   "outputs": [],
   "source": [
    "class Horse_Results:\n",
    "    def __init__(self, horse_results):\n",
    "        self.horse_results = horse_results[['日付','着順','賞金']]\n",
    "        self.preprocessing()\n",
    "        #self.horse_results.rename(columns={'着順':'着順_ave','賞金':'賞金_ave'}, inplace=True)\n",
    "    \n",
    "    # path_listはHorse_Results.pickle名\n",
    "    @classmethod\n",
    "    def read_pickle(cls, path_list):\n",
    "        df = pd.concat([pd.read_pickle(path) for path in path_list])\n",
    "        return cls(df)\n",
    "    # 使い方\n",
    "    # Horse_Results.read_pickle([pickle名])\n",
    "    \n",
    "    @staticmethod\n",
    "    def scrape(horse_id_list):\n",
    "        #horse_idをkeyにしてDataFrame型を格納\n",
    "        horse_results = {}\n",
    "        for horse_id in tqdm(horse_id_list):\n",
    "            try:\n",
    "                time.sleep(0.7)\n",
    "                url = 'https://db.netkeiba.com/horse/' + horse_id\n",
    "                df = pd.read_html(url)[3]\n",
    "                #受賞歴がある馬の場合、3番目に受賞歴テーブルが来るため、4番目のデータを取得する\n",
    "                if df.columns[0]=='受賞歴':\n",
    "                    df = pd.read_html(url)[4]\n",
    "                df.index = [horse_id] * len(df)\n",
    "                horse_results[horse_id] = df\n",
    "            except IndexError:\n",
    "                continue\n",
    "            except Exception as e:\n",
    "                print(e)\n",
    "                break\n",
    "            except:\n",
    "                break\n",
    "\n",
    "        #pd.DataFrame型にして一つのデータにまとめる        \n",
    "        horse_results_df = pd.concat([horse_results[key] for key in horse_results])\n",
    "\n",
    "        return horse_results_df\n",
    "        \n",
    "    \n",
    "    \n",
    "    def preprocessing(self):\n",
    "        df = self.horse_results.copy()\n",
    "        \n",
    "        df['着順'] = pd.to_numeric(df['着順'], errors='coerce')\n",
    "        df.dropna(subset=['着順'], inplace=True)\n",
    "        df['着順'] = df['着順'].astype(int)\n",
    "        \n",
    "        df['date'] = pd.to_datetime(df['日付']) \n",
    "        df.drop(['日付'], axis=1, inplace=True)\n",
    "        \n",
    "        df['賞金'].fillna(0, inplace=True)\n",
    "        \n",
    "        self.horse_results = df\n",
    "    \n",
    "    #対象にした日付以降のhorse_idから平均の賞金と順位を取り出す\n",
    "    def average(self, horse_id_list, date, n_samples='all'):\n",
    "        target_df = self.horse_results.query(\"index in @horse_id_list\")\n",
    "    \n",
    "        #初期値はallで日付を絞らずに平均を取る\n",
    "        #過去何レース分取り出すのかを指定する\n",
    "        if n_samples == 'all': #terget_df内の全ての平均を取る\n",
    "            filtered_df = target_df[target_df['date'] < date]\n",
    "        elif n_samples > 0: #0より大きい数字を指定された場合指定された分のデータで平均を出す\n",
    "            filtered_df = target_df[target_df['date'] < date].\\\n",
    "                sort_values('date', ascending=False).groupby(level=0).head(n_samples)\n",
    "        else:\n",
    "            raise Exception ('n_sample must be > 0')\n",
    "\n",
    "        average = filtered_df.groupby(level=0)[['着順','賞金']].mean()\n",
    "        return average.rename(columns = {'着順':'着順_{}R'.format(n_samples),'賞金':'賞金_{}R'.format(n_samples)})\n",
    "\n",
    "    #1,results(horse_id)と2,日付を入力するとresultsからdateをとる\n",
    "    #dfをメインにしてdfのhorse_idをkeyにする\n",
    "    def merge(self, results, date, n_samples='all'):\n",
    "        df = results[results['date'] == date]\n",
    "        horse_id_list = df['horse_id']\n",
    "        merge_df = df.merge(self.average(horse_id_list, date, n_samples), left_on='horse_id', right_index=True, how='left')\n",
    "        return merge_df\n",
    "    \n",
    "    #resultsにはresults_pを入れいる\n",
    "    def merge_all(self, results, n_samples=[5, 9, \"all\"]):\n",
    "        date_list = results['date'].unique()\n",
    "        merged_df = pd.concat([self.merge(results, date, n_samples) for date in tqdm(date_list)])\n",
    "        return merged_df"
   ]
  },
  {
   "cell_type": "code",
   "execution_count": 64,
   "id": "f9bee7e8-5012-4a80-953b-f94bd08de53b",
   "metadata": {
    "tags": []
   },
   "outputs": [
    {
     "data": {
      "text/html": [
       "<div>\n",
       "<style scoped>\n",
       "    .dataframe tbody tr th:only-of-type {\n",
       "        vertical-align: middle;\n",
       "    }\n",
       "\n",
       "    .dataframe tbody tr th {\n",
       "        vertical-align: top;\n",
       "    }\n",
       "\n",
       "    .dataframe thead th {\n",
       "        text-align: right;\n",
       "    }\n",
       "</style>\n",
       "<table border=\"1\" class=\"dataframe\">\n",
       "  <thead>\n",
       "    <tr style=\"text-align: right;\">\n",
       "      <th></th>\n",
       "      <th>R</th>\n",
       "      <th>賞金</th>\n",
       "    </tr>\n",
       "  </thead>\n",
       "  <tbody>\n",
       "    <tr>\n",
       "      <th>2017101106</th>\n",
       "      <td>5.96875</td>\n",
       "      <td>19.429412</td>\n",
       "    </tr>\n",
       "  </tbody>\n",
       "</table>\n",
       "</div>"
      ],
      "text/plain": [
       "                  R         賞金\n",
       "2017101106  5.96875  19.429412"
      ]
     },
     "execution_count": 64,
     "metadata": {},
     "output_type": "execute_result"
    }
   ],
   "source": [
    "aass = pd.read_pickle('horse_results-Copy1.pickle')\n",
    "aass.loc[\"2017101106\"].groupby(level=0)[[\"R\",\"賞金\"]].mean()"
   ]
  },
  {
   "cell_type": "markdown",
   "id": "4ed085da-dd6b-400d-9b27-865cf4009dcf",
   "metadata": {},
   "source": [
    "# Peds"
   ]
  },
  {
   "cell_type": "code",
   "execution_count": 14,
   "id": "a373e645-7ff9-415b-b701-865646a31a3f",
   "metadata": {
    "tags": []
   },
   "outputs": [],
   "source": [
    "class Peds:\n",
    "    def __init__(self, peds):\n",
    "        self.peds = peds\n",
    "        self.peds_e = pd.DataFrame() #after label encoding and transforming into category\n",
    "    \n",
    "    def encode(self):\n",
    "        df = self.peds.copy()\n",
    "        for column in df.columns:\n",
    "            df[column] = LabelEncoder().fit_transform(df[column].fillna('Na'))\n",
    "        self.peds_e = df.astype('category')\n",
    "    \n",
    "    # Peds.read_pickle([\"pickle_path\"])\n",
    "    @classmethod\n",
    "    def read_pickle(cls, path_list):\n",
    "        df = pd.concat([pd.read_pickle(path) for path in path_list])\n",
    "        return cls(df)\n",
    "    \n",
    "    @staticmethod\n",
    "    def scrape(horse_id_list):\n",
    "        peds_dict = {}\n",
    "        for horse_id in tqdm(horse_id_list):\n",
    "            continue\n",
    "            try:\n",
    "                url = \"https://db.netkeiba.com/horse/ped/\" + horse_id\n",
    "                df = pd.read_html(url)[0]\n",
    "                \n",
    "                #重複を削除して1列のSeries型データに直す\n",
    "                generations = {}\n",
    "                for i in reversed(range(5)):\n",
    "                    generations[i] = df[i]\n",
    "                    df.drop([i], axis = 1, inplace = True)\n",
    "                    df = df.drop_duplicates()\n",
    "                ped = pd.concat([generations[i] for i in range(5)]).rename(horse_id)\n",
    "                \n",
    "                peds_dict[horse_id] = ped.reset_index(drop = True)\n",
    "                time.sleep(0.7)\n",
    "                \n",
    "            except IndexError:\n",
    "                continue\n",
    "            except Exception as e:\n",
    "                print(e)\n",
    "                break\n",
    "            except:\n",
    "                break\n",
    "                \n",
    "    #列名をpeds_0, ..., peds_61にする\n",
    "        peds_df = pd.concat([peds_dict[key] for key in peds_dict], axis=1).T.add_prefix('peds_')\n",
    "    \n",
    "        return peds_df"
   ]
  },
  {
   "cell_type": "markdown",
   "id": "1d5b0589-9f7b-4995-88c6-4bb655250439",
   "metadata": {},
   "source": [
    "# gain"
   ]
  },
  {
   "cell_type": "code",
   "execution_count": 131,
   "id": "416240c6-3a53-49dc-b448-77928e30c205",
   "metadata": {},
   "outputs": [],
   "source": [
    "def gain(return_func, X, n_samples=100, lower=60, min_threshold=0.6):\n",
    "    gain = {}\n",
    "    for i in tqdm(range(n_samples)):\n",
    "        threshold = 1 * i / n_samples + min_threshold * (1 - (i / n_samples))\n",
    "        n_bets, return_rate, n_hits = return_func(X, threshold)\n",
    "        if n_bets > lower:\n",
    "            gain[n_bets] = {\"return_rate\":return_rate,\"n_hits\":n_hits}\n",
    "    return pd.DataFrame(gain).T"
   ]
  },
  {
   "cell_type": "code",
   "execution_count": 11,
   "id": "d7a65078-e93f-4141-95fc-83b32c5307e8",
   "metadata": {},
   "outputs": [],
   "source": [
    "def update_data(old, new):\n",
    "    filtered_old = old[~old.index.isin(new.index)]\n",
    "    return pd.concat([filtered_old, new])"
   ]
  },
  {
   "cell_type": "code",
   "execution_count": 61,
   "id": "f32dcf11-7437-46db-a2c7-a3b80c862f26",
   "metadata": {
    "tags": []
   },
   "outputs": [],
   "source": [
    "def update_data(old, new):\n",
    "    filtered_old = old[~old.index.isin(new.index)]\n",
    "    return pd.concat([filtered_old, new])\n",
    "\n",
    "class Results:\n",
    "    def __init__(self, results):\n",
    "        self.results = results\n",
    "        self.results_p = pd.DataFrame() #after preprocessing\n",
    "        self.results_h = pd.DataFrame() #after merging horse_results\n",
    "        self.results_pe = pd.DataFrame() #after merging peds\n",
    "        self.results_c = pd.DataFrame() #after processing categorical features\n",
    "    \n",
    "    def scrape(self, race_id_list, date):\n",
    "        for race_id in tqdm(race_id_list):\n",
    "            url = 'https://race.netkeiba.com/race/shutuba.html?race_id=' + race_id\n",
    "            df = pd.read_html(url)[0]\n",
    "            df = df.T.reset_index(level=0, drop=True).T\n",
    "\n",
    "            html = requests.get(url)\n",
    "            html.encoding = \"EUC-JP\"\n",
    "            soup = BeautifulSoup(html.text, \"html.parser\")\n",
    "\n",
    "            texts = soup.find('div', attrs={'class': 'RaceData01'}).text\n",
    "            texts = re.findall(r'\\w+', texts)\n",
    "            for text in texts:\n",
    "                if 'm' in text:\n",
    "                    df['course_len'] = [int(re.findall(r'\\d+', text)[0])] * len(df)\n",
    "                if text in [\"曇\", \"晴\", \"雨\", \"小雨\", \"小雪\", \"雪\"]:\n",
    "                    df[\"weather\"] = [text] * len(df)\n",
    "                if text in [\"良\", \"稍重\", \"重\"]:\n",
    "                    df[\"ground_state\"] = [text] * len(df)\n",
    "                if '不' in text:\n",
    "                    df[\"ground_state\"] = ['不良'] * len(df)\n",
    "                if '芝' in text:\n",
    "                    df['race_type'] = ['芝'] * len(df)\n",
    "                if '障' in text:\n",
    "                    df['race_type'] = ['障害'] * len(df)\n",
    "                if 'ダ' in text:\n",
    "                    df['race_type'] = ['ダート'] * len(df)\n",
    "            df['date'] = [date] * len(df)\n",
    "\n",
    "            # horse_id\n",
    "            horse_id_list = []\n",
    "            horse_td_list = soup.find_all(\"td\", attrs={'class': 'HorseInfo'})\n",
    "            for td in horse_td_list:\n",
    "                horse_id = re.findall(r'\\d+', td.find('a')['href'])[0]\n",
    "                horse_id_list.append(horse_id)\n",
    "            # jockey_id\n",
    "            jockey_id_list = []\n",
    "            jockey_td_list = soup.find_all(\"td\", attrs={'class': 'Jockey'})\n",
    "            for td in jockey_td_list:\n",
    "                jockey_id = re.findall(r'\\d+', td.find('a')['href'])[0]\n",
    "                jockey_id_list.append(jockey_id)\n",
    "            df['horse_id'] = horse_id_list\n",
    "            df['jockey_id'] = jockey_id_list\n",
    "\n",
    "            df.index = [race_id] * len(df)\n",
    "            self.results = self.results.append(df)\n",
    "            time.sleep(1)\n",
    "                \n",
    "                 \n",
    "    def preprocessing(self):\n",
    "        df = self.results.copy()\n",
    "\n",
    "        # 着順に数字以外の文字列が含まれているものを取り除く\n",
    "        df['着順'] = pd.to_numeric(df['着順'], errors='coerce')\n",
    "        df.dropna(subset=['着順'], inplace=True)\n",
    "        df['着順'] = df['着順'].astype(int)\n",
    "\n",
    "        # 性齢を性と年齢に分ける\n",
    "        df[\"性\"] = df[\"性齢\"].map(lambda x: str(x)[0])\n",
    "        df[\"年齢\"] = df[\"性齢\"].map(lambda x: str(x)[1:]).astype(int)\n",
    "\n",
    "        # 馬体重を体重と体重変化に分ける\n",
    "        df[\"体重\"] = df[\"馬体重\"].str.split(\"(\", expand=True)[0].astype(int)\n",
    "        df[\"体重変化\"] = df[\"馬体重\"].str.split(\"(\", expand=True)[1].str[:-1].astype(int)\n",
    "\n",
    "        # データをint, floatに変換\n",
    "        df[\"単勝\"] = df[\"単勝\"].astype(float)\n",
    "\n",
    "        # 不要な列を削除\n",
    "        df.drop([\"タイム\", \"着差\", \"調教師\", \"性齢\", \"馬体重\"], axis=1, inplace=True)\n",
    "\n",
    "        df[\"date\"] = pd.to_datetime(df[\"date\"], format=\"%Y年%m月%d日\")\n",
    "\n",
    "        self.results_p = df\n",
    "\n",
    "\n",
    "    # 馬の過去成績のデータ追加    \n",
    "    def merge_horse_results(self, hr, n_samples_list=[5, 9, 'all']):\n",
    "        self.results_h = self.results_p.copy()\n",
    "        for n_samples in n_samples_list:\n",
    "            self.results_h = hr.merge_all(self.results_h, n_samples=n_samples)\n",
    "            \n",
    "    def merge_peds(self, peds):\n",
    "        self.results_pe = self.results_h.merge(peds,left_on='horse_id',\n",
    "        right_index=True, how='left')\n",
    "        self.no_peds = self.results_pe[self.results_pe['peds_0'].isnull()]\\\n",
    "            ['horse_id'].unique()\n",
    "        if len(self.no_peds) > 0:\n",
    "            print('scrape peds at horse_id_list \"no_peds\"')\n",
    "            \n",
    "    def process_categorical(self, le_horse, le_jockey, results_m):\n",
    "        df = self.results_pe.copy()\n",
    "        \n",
    "        #ラベルエンコーディング　horse_id,jockey_idを0始まりの整数に変換\n",
    "        mask_horse = df['horse_id'].isin(le_horse.classes_)\n",
    "        new_horse_id = df['horse_id'].mask(mask_horse).dropna().unique()\n",
    "        le_horse.classes_ = np.concatenate([le_horse.classes_, new_horse_id])\n",
    "        df['horse_id'] = le_horse.transform(df['horse_id'])\n",
    "        \n",
    "        mask_jockey = df['jockey_id'].isin(le_jockey.classes_)\n",
    "        new_jockey_id = df['jockey_id'].mask(mask_jockey).dropna().unique()\n",
    "        le_jockey.classes_ = np.concatenate([le_jockey.classes_, new_jockey_id])\n",
    "        df['jockey_id'] = le_jockey.transform(df['jockey_id'])\n",
    "        \n",
    "        weathers = results_m['weather'].unique()\n",
    "        race_types = results_m['race_type'].unique()\n",
    "        ground_states = results_m['ground_state'].unique()\n",
    "        sexes = results_m['性'].unique()\n",
    "        df['weather'] = pd.Categorical(df['weather'], weathers)\n",
    "        df['race_type'] = pd.Categorical(df['race_type'], race_types)\n",
    "        df['ground_state'] = pd.Categorical(df['ground_state'], ground_states)\n",
    "        df['性'] = pd.Categorical(df['性'], sexes)\n",
    "        \n",
    "        df = pd.get_dummies(df, columns=['weather', 'race_type', 'ground_state', '性'])\n",
    "        \n",
    "        self.shutuba_tables_c = df\n",
    "\n",
    "class Peds:\n",
    "    def __init__(self, peds):\n",
    "        self.peds = peds\n",
    "        self.peds_e = pd.DataFrame() #after label encoding and transforming into category\n",
    "    \n",
    "    def encode(self):\n",
    "        df = self.peds.copy()\n",
    "        for column in df.columns:\n",
    "            df[column] = LabelEncoder().fit_transform(df[column].fillna('Na'))\n",
    "        self.peds_e = df.astype('category')\n"
   ]
  },
  {
   "cell_type": "code",
   "execution_count": 449,
   "id": "a972cdb8-08e3-468b-a2ca-6427be3af7ab",
   "metadata": {
    "tags": []
   },
   "outputs": [
    {
     "ename": "IndentationError",
     "evalue": "unexpected indent (417021035.py, line 2)",
     "output_type": "error",
     "traceback": [
      "\u001b[0;36m  File \u001b[0;32m\"/var/folders/tm/fn98hw1541vg9yshhxdqfgc80000gn/T/ipykernel_60688/417021035.py\"\u001b[0;36m, line \u001b[0;32m2\u001b[0m\n\u001b[0;31m    def __init__(self):\u001b[0m\n\u001b[0m    ^\u001b[0m\n\u001b[0;31mIndentationError\u001b[0m\u001b[0;31m:\u001b[0m unexpected indent\n"
     ]
    }
   ],
   "source": [
    "class ShutubaTable:\n",
    "    def __init__(self):\n",
    "        self.shutuba_tables = pd.DataFrame()\n",
    "        self.shutuba_tables_p = pd.DataFrame() #after preprocessing\n",
    "        self.shutuba_tables_h = pd.DataFrame() #after merging horse_results\n",
    "        self.shutuba_tables_pe = pd.DataFrame() #after merging peds\n",
    "        self.dshutuba_tables_c = pd.DataFrame() #after processing categorical features\n",
    "    \n",
    "    def scrape(self, race_id_list, date):\n",
    "        for race_id in tqdm(race_id_list):\n",
    "            url = 'https://race.netkeiba.com/race/shutuba.html?race_id=' + race_id\n",
    "            df = pd.read_html(url)[0]\n",
    "            df = df.T.reset_index(level=0, drop=True).T\n",
    "\n",
    "            html = requests.get(url)\n",
    "            html.encoding = \"EUC-JP\"\n",
    "            soup = BeautifulSoup(html.text, \"html.parser\")\n",
    "\n",
    "            texts = soup.find('div', attrs={'class': 'RaceData01'}).text\n",
    "            texts = re.findall(r'\\w+', texts)\n",
    "            for text in texts:\n",
    "                if 'm' in text:\n",
    "                    df['course_len'] = [int(re.findall(r'\\d+', text)[-1])] * len(df)\n",
    "                if text in [\"曇\", \"晴\", \"雨\", \"小雨\", \"小雪\", \"雪\"]:\n",
    "                    df[\"weather\"] = [text] * len(df)\n",
    "                if text in [\"良\", \"稍重\",\"稍\", \"重\"]:\n",
    "                    df[\"ground_state\"] = [text] * len(df)\n",
    "                if '不' in text:\n",
    "                    df[\"ground_state\"] = ['不良'] * len(df)\n",
    "                if '芝' in text:\n",
    "                    df['race_type'] = ['芝'] * len(df)\n",
    "                if '障' in text:\n",
    "                    df['race_type'] = ['障害'] * len(df)\n",
    "                if 'ダ' in text:\n",
    "                    df['race_type'] = ['ダート'] * len(df)\n",
    "            df['date'] = [date] * len(df)\n",
    "\n",
    "            # horse_id\n",
    "            horse_id_list = []\n",
    "            horse_td_list = soup.find_all(\"td\", attrs={'class': 'HorseInfo'})\n",
    "            for td in horse_td_list:\n",
    "                horse_id = re.findall(r'\\d+', td.find('a')['href'])[0]\n",
    "                horse_id_list.append(horse_id)\n",
    "            # jockey_id\n",
    "            jockey_id_list = []\n",
    "            jockey_td_list = soup.find_all(\"td\", attrs={'class': 'Jockey'})\n",
    "            for td in jockey_td_list:\n",
    "                jockey_id = re.findall(r'\\d+', td.find('a')['href'])[0]\n",
    "                jockey_id_list.append(jockey_id)\n",
    "            df['horse_id'] = horse_id_list\n",
    "            df['jockey_id'] = jockey_id_list\n",
    "\n",
    "            df.index = [race_id] * len(df)\n",
    "            self.shutuba_tables = self.shutuba_tables.append(df)\n",
    "            time.sleep(1)\n",
    "                \n",
    "    def preprocessing(self):\n",
    "        df = self.shutuba_tables.copy()\n",
    "        \n",
    "        df[\"性\"] = df[\"性齢\"].map(lambda x: str(x)[0])\n",
    "        df[\"年齢\"] = df[\"性齢\"].map(lambda x: str(x)[1:]).astype(int)\n",
    "\n",
    "        # 馬体重を体重と体重変化に分ける\n",
    "        df = df[df[\"馬体重(増減)\"] != '--']\n",
    "        df[\"体重\"] = df[\"馬体重(増減)\"].str.split(\"(\", expand=True)[0].astype(int)\n",
    "        \n",
    "        df[\"体重変化\"] = df[\"馬体重(増減)\"].str.split(\"(\", expand=True)[1].replace(\"前計不)\", \"0)\").str[:-1].astype(dtype = int)\n",
    "        \n",
    "        #df[\"体重変化\"] = df[\"馬体重(増減)\"].str.split(\"(\", expand=True)[1]\n",
    "        #df[\"体重変化\"] = df[\"体重変化\"].replace(\"前計不)\", \"0)\")\n",
    "        #df[\"体重変化\"] = df[\"体重変化\"].str[:-1].astype(int)\n",
    "        \n",
    "        df[\"date\"] = pd.to_datetime(df[\"date\"])\n",
    "        \n",
    "        df['枠'] = df['枠'].astype(int)\n",
    "        df['馬番'] = df['馬番'].astype(int)\n",
    "        df['斤量'] = df['斤量'].astype(int)\n",
    "\n",
    "        # 不要な列を削除\n",
    "        df = df[['枠', '馬番', '斤量', 'course_len', 'weather','race_type',\n",
    "        'ground_state', 'date', 'horse_id', 'jockey_id', '性', '年齢',\n",
    "        '体重', '体重変化']]\n",
    "        \n",
    "        self.shutuba_tables_p = df.rename(columns={'枠': '枠番'})\n",
    "        \n",
    "    def merge_horse_results(self, hr, n_samples_list=[5, 9, 'all']):\n",
    "        self.shutuba_tables_h = self.shutuba_tables_p.copy()\n",
    "        for n_samples in n_samples_list:\n",
    "            self.shutuba_tables_h = hr.merge_all(self.shutuba_tables_h, n_samples=n_samples)\n",
    "            \n",
    "    def merge_peds(self, peds):\n",
    "        self.shutuba_tables_pe = self.shutuba_tables_h.merge(peds,left_on='horse_id',\n",
    "        right_index=True, how='left')\n",
    "        self.no_peds = self.shutuba_tables_pe[self.shutuba_tables_pe['peds_0'].isnull()]\\\n",
    "            ['horse_id'].unique()\n",
    "        if len(self.no_peds) > 0:\n",
    "            print('scrape peds at horse_id_list \"no_peds\"')\n",
    "            \n",
    "    def process_categorical(self, le_horse, le_jockey, results_m):\n",
    "        df = self.shutuba_tables_pe.copy()\n",
    "        \n",
    "        mask_horse = df['horse_id'].isin(le_horse.classes_)\n",
    "        new_horse_id = df['horse_id'].mask(mask_horse).dropna().unique()\n",
    "        le_horse.classes_ = np.concatenate([le_horse.classes_, new_horse_id])\n",
    "        df['horse_id'] = le_horse.transform(df['horse_id'])\n",
    "        \n",
    "        mask_jockey = df['jockey_id'].isin(le_jockey.classes_)\n",
    "        new_jockey_id = df['jockey_id'].mask(mask_jockey).dropna().unique()\n",
    "        le_jockey.classes_ = np.concatenate([le_jockey.classes_, new_jockey_id])\n",
    "        df['jockey_id'] = le_jockey.transform(df['jockey_id'])\n",
    "        \n",
    "        weathers = results_m['weather'].unique()\n",
    "        race_types = results_m['race_type'].unique()\n",
    "        ground_states = results_m['ground_state'].unique()\n",
    "        sexes = results_m['性'].unique()\n",
    "        df['weather'] = pd.Categorical(df['weather'], weathers)\n",
    "        df['race_type'] = pd.Categorical(df['race_type'], race_types)\n",
    "        df['ground_state'] = pd.Categorical(df['ground_state'], ground_states)\n",
    "        df['性'] = pd.Categorical(df['性'], sexes)\n",
    "        \n",
    "        df = pd.get_dummies(df, columns=['weather', 'race_type', 'ground_state', '性'])\n",
    "        \n",
    "        self.shutuba_tables_c = df\n",
    "        "
   ]
  },
  {
   "cell_type": "markdown",
   "id": "93a1de20-9d1e-42cb-aa6e-2bdea3de3b33",
   "metadata": {},
   "source": [
    "# 訓練データ"
   ]
  },
  {
   "cell_type": "code",
   "execution_count": 18,
   "id": "4f8d003e-bf1f-40f9-bf87-1009cdfa0960",
   "metadata": {},
   "outputs": [
    {
     "data": {
      "application/vnd.jupyter.widget-view+json": {
       "model_id": "24f5845a3d1d4990a0c55f5d76db10dd",
       "version_major": 2,
       "version_minor": 0
      },
      "text/plain": [
       "  0%|          | 0/110 [00:00<?, ?it/s]"
      ]
     },
     "metadata": {},
     "output_type": "display_data"
    },
    {
     "data": {
      "application/vnd.jupyter.widget-view+json": {
       "model_id": "849185ff7dc149d6a4ac77a397be816a",
       "version_major": 2,
       "version_minor": 0
      },
      "text/plain": [
       "  0%|          | 0/110 [00:00<?, ?it/s]"
      ]
     },
     "metadata": {},
     "output_type": "display_data"
    },
    {
     "data": {
      "application/vnd.jupyter.widget-view+json": {
       "model_id": "4331d95ae02d40de90b9717b4c74d471",
       "version_major": 2,
       "version_minor": 0
      },
      "text/plain": [
       "  0%|          | 0/110 [00:00<?, ?it/s]"
      ]
     },
     "metadata": {},
     "output_type": "display_data"
    }
   ],
   "source": [
    "r = Results(results_19)\n",
    "r.preprocessing()\n",
    "\n",
    "hr = Horse_Results(horse_results)\n",
    "r.merge_horse_results(hr)\n"
   ]
  },
  {
   "cell_type": "code",
   "execution_count": 20,
   "id": "a3df0e89-0b20-4132-ad03-e47266ade552",
   "metadata": {},
   "outputs": [],
   "source": [
    "P = Peds(n_peds_all)\n",
    "P.encode()"
   ]
  },
  {
   "cell_type": "code",
   "execution_count": 21,
   "id": "41da6144-bf1e-4974-af60-25b35e0321d7",
   "metadata": {},
   "outputs": [],
   "source": [
    "r.merge_peds(P.peds_e)\n",
    "r.process_categorical()"
   ]
  },
  {
   "cell_type": "code",
   "execution_count": 22,
   "id": "5e36e225-1a1b-4672-b958-1dc9965b48e2",
   "metadata": {
    "scrolled": true,
    "tags": []
   },
   "outputs": [
    {
     "data": {
      "text/html": [
       "<div>\n",
       "<style scoped>\n",
       "    .dataframe tbody tr th:only-of-type {\n",
       "        vertical-align: middle;\n",
       "    }\n",
       "\n",
       "    .dataframe tbody tr th {\n",
       "        vertical-align: top;\n",
       "    }\n",
       "\n",
       "    .dataframe thead th {\n",
       "        text-align: right;\n",
       "    }\n",
       "</style>\n",
       "<table border=\"1\" class=\"dataframe\">\n",
       "  <thead>\n",
       "    <tr style=\"text-align: right;\">\n",
       "      <th></th>\n",
       "      <th>枠番</th>\n",
       "      <th>馬番</th>\n",
       "      <th>斤量</th>\n",
       "      <th>単勝</th>\n",
       "      <th>course_len</th>\n",
       "      <th>date</th>\n",
       "      <th>horse_id</th>\n",
       "      <th>jockey_id</th>\n",
       "      <th>rank</th>\n",
       "      <th>年齢</th>\n",
       "      <th>...</th>\n",
       "      <th>race_type_芝</th>\n",
       "      <th>race_type_ダート</th>\n",
       "      <th>race_type_障害</th>\n",
       "      <th>ground_state_良</th>\n",
       "      <th>ground_state_不良</th>\n",
       "      <th>ground_state_稍重</th>\n",
       "      <th>ground_state_重</th>\n",
       "      <th>性_牡</th>\n",
       "      <th>性_牝</th>\n",
       "      <th>性_セ</th>\n",
       "    </tr>\n",
       "  </thead>\n",
       "  <tbody>\n",
       "    <tr>\n",
       "      <th>201901010101</th>\n",
       "      <td>1</td>\n",
       "      <td>1</td>\n",
       "      <td>54.0</td>\n",
       "      <td>1.4</td>\n",
       "      <td>1800.0</td>\n",
       "      <td>2019-07-27</td>\n",
       "      <td>10614</td>\n",
       "      <td>152</td>\n",
       "      <td>1</td>\n",
       "      <td>2</td>\n",
       "      <td>...</td>\n",
       "      <td>1</td>\n",
       "      <td>0</td>\n",
       "      <td>0</td>\n",
       "      <td>1</td>\n",
       "      <td>0</td>\n",
       "      <td>0</td>\n",
       "      <td>0</td>\n",
       "      <td>1</td>\n",
       "      <td>0</td>\n",
       "      <td>0</td>\n",
       "    </tr>\n",
       "    <tr>\n",
       "      <th>201901010101</th>\n",
       "      <td>3</td>\n",
       "      <td>3</td>\n",
       "      <td>54.0</td>\n",
       "      <td>3.5</td>\n",
       "      <td>1800.0</td>\n",
       "      <td>2019-07-27</td>\n",
       "      <td>10194</td>\n",
       "      <td>142</td>\n",
       "      <td>1</td>\n",
       "      <td>2</td>\n",
       "      <td>...</td>\n",
       "      <td>1</td>\n",
       "      <td>0</td>\n",
       "      <td>0</td>\n",
       "      <td>1</td>\n",
       "      <td>0</td>\n",
       "      <td>0</td>\n",
       "      <td>0</td>\n",
       "      <td>1</td>\n",
       "      <td>0</td>\n",
       "      <td>0</td>\n",
       "    </tr>\n",
       "    <tr>\n",
       "      <th>201901010101</th>\n",
       "      <td>4</td>\n",
       "      <td>4</td>\n",
       "      <td>51.0</td>\n",
       "      <td>46.6</td>\n",
       "      <td>1800.0</td>\n",
       "      <td>2019-07-27</td>\n",
       "      <td>9851</td>\n",
       "      <td>136</td>\n",
       "      <td>1</td>\n",
       "      <td>2</td>\n",
       "      <td>...</td>\n",
       "      <td>1</td>\n",
       "      <td>0</td>\n",
       "      <td>0</td>\n",
       "      <td>1</td>\n",
       "      <td>0</td>\n",
       "      <td>0</td>\n",
       "      <td>0</td>\n",
       "      <td>1</td>\n",
       "      <td>0</td>\n",
       "      <td>0</td>\n",
       "    </tr>\n",
       "    <tr>\n",
       "      <th>201901010101</th>\n",
       "      <td>8</td>\n",
       "      <td>9</td>\n",
       "      <td>51.0</td>\n",
       "      <td>56.8</td>\n",
       "      <td>1800.0</td>\n",
       "      <td>2019-07-27</td>\n",
       "      <td>11089</td>\n",
       "      <td>135</td>\n",
       "      <td>0</td>\n",
       "      <td>2</td>\n",
       "      <td>...</td>\n",
       "      <td>1</td>\n",
       "      <td>0</td>\n",
       "      <td>0</td>\n",
       "      <td>1</td>\n",
       "      <td>0</td>\n",
       "      <td>0</td>\n",
       "      <td>0</td>\n",
       "      <td>1</td>\n",
       "      <td>0</td>\n",
       "      <td>0</td>\n",
       "    </tr>\n",
       "    <tr>\n",
       "      <th>201901010101</th>\n",
       "      <td>5</td>\n",
       "      <td>5</td>\n",
       "      <td>54.0</td>\n",
       "      <td>140.3</td>\n",
       "      <td>1800.0</td>\n",
       "      <td>2019-07-27</td>\n",
       "      <td>9967</td>\n",
       "      <td>47</td>\n",
       "      <td>0</td>\n",
       "      <td>2</td>\n",
       "      <td>...</td>\n",
       "      <td>1</td>\n",
       "      <td>0</td>\n",
       "      <td>0</td>\n",
       "      <td>1</td>\n",
       "      <td>0</td>\n",
       "      <td>0</td>\n",
       "      <td>0</td>\n",
       "      <td>1</td>\n",
       "      <td>0</td>\n",
       "      <td>0</td>\n",
       "    </tr>\n",
       "    <tr>\n",
       "      <th>...</th>\n",
       "      <td>...</td>\n",
       "      <td>...</td>\n",
       "      <td>...</td>\n",
       "      <td>...</td>\n",
       "      <td>...</td>\n",
       "      <td>...</td>\n",
       "      <td>...</td>\n",
       "      <td>...</td>\n",
       "      <td>...</td>\n",
       "      <td>...</td>\n",
       "      <td>...</td>\n",
       "      <td>...</td>\n",
       "      <td>...</td>\n",
       "      <td>...</td>\n",
       "      <td>...</td>\n",
       "      <td>...</td>\n",
       "      <td>...</td>\n",
       "      <td>...</td>\n",
       "      <td>...</td>\n",
       "      <td>...</td>\n",
       "      <td>...</td>\n",
       "    </tr>\n",
       "    <tr>\n",
       "      <th>201908040412</th>\n",
       "      <td>5</td>\n",
       "      <td>5</td>\n",
       "      <td>57.0</td>\n",
       "      <td>15.4</td>\n",
       "      <td>1800.0</td>\n",
       "      <td>2019-10-13</td>\n",
       "      <td>1535</td>\n",
       "      <td>63</td>\n",
       "      <td>0</td>\n",
       "      <td>5</td>\n",
       "      <td>...</td>\n",
       "      <td>0</td>\n",
       "      <td>1</td>\n",
       "      <td>0</td>\n",
       "      <td>0</td>\n",
       "      <td>0</td>\n",
       "      <td>0</td>\n",
       "      <td>1</td>\n",
       "      <td>1</td>\n",
       "      <td>0</td>\n",
       "      <td>0</td>\n",
       "    </tr>\n",
       "    <tr>\n",
       "      <th>201908040412</th>\n",
       "      <td>2</td>\n",
       "      <td>2</td>\n",
       "      <td>57.0</td>\n",
       "      <td>36.0</td>\n",
       "      <td>1800.0</td>\n",
       "      <td>2019-10-13</td>\n",
       "      <td>189</td>\n",
       "      <td>87</td>\n",
       "      <td>0</td>\n",
       "      <td>7</td>\n",
       "      <td>...</td>\n",
       "      <td>0</td>\n",
       "      <td>1</td>\n",
       "      <td>0</td>\n",
       "      <td>0</td>\n",
       "      <td>0</td>\n",
       "      <td>0</td>\n",
       "      <td>1</td>\n",
       "      <td>1</td>\n",
       "      <td>0</td>\n",
       "      <td>0</td>\n",
       "    </tr>\n",
       "    <tr>\n",
       "      <th>201908040412</th>\n",
       "      <td>1</td>\n",
       "      <td>1</td>\n",
       "      <td>57.0</td>\n",
       "      <td>7.2</td>\n",
       "      <td>1800.0</td>\n",
       "      <td>2019-10-13</td>\n",
       "      <td>1985</td>\n",
       "      <td>83</td>\n",
       "      <td>0</td>\n",
       "      <td>5</td>\n",
       "      <td>...</td>\n",
       "      <td>0</td>\n",
       "      <td>1</td>\n",
       "      <td>0</td>\n",
       "      <td>0</td>\n",
       "      <td>0</td>\n",
       "      <td>0</td>\n",
       "      <td>1</td>\n",
       "      <td>1</td>\n",
       "      <td>0</td>\n",
       "      <td>0</td>\n",
       "    </tr>\n",
       "    <tr>\n",
       "      <th>201908040412</th>\n",
       "      <td>4</td>\n",
       "      <td>4</td>\n",
       "      <td>55.0</td>\n",
       "      <td>23.9</td>\n",
       "      <td>1800.0</td>\n",
       "      <td>2019-10-13</td>\n",
       "      <td>740</td>\n",
       "      <td>163</td>\n",
       "      <td>0</td>\n",
       "      <td>6</td>\n",
       "      <td>...</td>\n",
       "      <td>0</td>\n",
       "      <td>1</td>\n",
       "      <td>0</td>\n",
       "      <td>0</td>\n",
       "      <td>0</td>\n",
       "      <td>0</td>\n",
       "      <td>1</td>\n",
       "      <td>0</td>\n",
       "      <td>1</td>\n",
       "      <td>0</td>\n",
       "    </tr>\n",
       "    <tr>\n",
       "      <th>201908040412</th>\n",
       "      <td>8</td>\n",
       "      <td>8</td>\n",
       "      <td>57.0</td>\n",
       "      <td>8.4</td>\n",
       "      <td>1800.0</td>\n",
       "      <td>2019-10-13</td>\n",
       "      <td>2562</td>\n",
       "      <td>64</td>\n",
       "      <td>0</td>\n",
       "      <td>4</td>\n",
       "      <td>...</td>\n",
       "      <td>0</td>\n",
       "      <td>1</td>\n",
       "      <td>0</td>\n",
       "      <td>0</td>\n",
       "      <td>0</td>\n",
       "      <td>0</td>\n",
       "      <td>1</td>\n",
       "      <td>1</td>\n",
       "      <td>0</td>\n",
       "      <td>0</td>\n",
       "    </tr>\n",
       "  </tbody>\n",
       "</table>\n",
       "<p>47118 rows × 96 columns</p>\n",
       "</div>"
      ],
      "text/plain": [
       "              枠番  馬番    斤量     単勝  course_len       date  horse_id  jockey_id  \\\n",
       "201901010101   1   1  54.0    1.4      1800.0 2019-07-27     10614        152   \n",
       "201901010101   3   3  54.0    3.5      1800.0 2019-07-27     10194        142   \n",
       "201901010101   4   4  51.0   46.6      1800.0 2019-07-27      9851        136   \n",
       "201901010101   8   9  51.0   56.8      1800.0 2019-07-27     11089        135   \n",
       "201901010101   5   5  54.0  140.3      1800.0 2019-07-27      9967         47   \n",
       "...           ..  ..   ...    ...         ...        ...       ...        ...   \n",
       "201908040412   5   5  57.0   15.4      1800.0 2019-10-13      1535         63   \n",
       "201908040412   2   2  57.0   36.0      1800.0 2019-10-13       189         87   \n",
       "201908040412   1   1  57.0    7.2      1800.0 2019-10-13      1985         83   \n",
       "201908040412   4   4  55.0   23.9      1800.0 2019-10-13       740        163   \n",
       "201908040412   8   8  57.0    8.4      1800.0 2019-10-13      2562         64   \n",
       "\n",
       "              rank  年齢  ...  race_type_芝  race_type_ダート  race_type_障害  \\\n",
       "201901010101     1   2  ...            1              0             0   \n",
       "201901010101     1   2  ...            1              0             0   \n",
       "201901010101     1   2  ...            1              0             0   \n",
       "201901010101     0   2  ...            1              0             0   \n",
       "201901010101     0   2  ...            1              0             0   \n",
       "...            ...  ..  ...          ...            ...           ...   \n",
       "201908040412     0   5  ...            0              1             0   \n",
       "201908040412     0   7  ...            0              1             0   \n",
       "201908040412     0   5  ...            0              1             0   \n",
       "201908040412     0   6  ...            0              1             0   \n",
       "201908040412     0   4  ...            0              1             0   \n",
       "\n",
       "              ground_state_良  ground_state_不良  ground_state_稍重  \\\n",
       "201901010101               1                0                0   \n",
       "201901010101               1                0                0   \n",
       "201901010101               1                0                0   \n",
       "201901010101               1                0                0   \n",
       "201901010101               1                0                0   \n",
       "...                      ...              ...              ...   \n",
       "201908040412               0                0                0   \n",
       "201908040412               0                0                0   \n",
       "201908040412               0                0                0   \n",
       "201908040412               0                0                0   \n",
       "201908040412               0                0                0   \n",
       "\n",
       "              ground_state_重  性_牡 性_牝 性_セ  \n",
       "201901010101               0    1   0   0  \n",
       "201901010101               0    1   0   0  \n",
       "201901010101               0    1   0   0  \n",
       "201901010101               0    1   0   0  \n",
       "201901010101               0    1   0   0  \n",
       "...                      ...  ...  ..  ..  \n",
       "201908040412               1    1   0   0  \n",
       "201908040412               1    1   0   0  \n",
       "201908040412               1    1   0   0  \n",
       "201908040412               1    0   1   0  \n",
       "201908040412               1    1   0   0  \n",
       "\n",
       "[47118 rows x 96 columns]"
      ]
     },
     "execution_count": 22,
     "metadata": {},
     "output_type": "execute_result"
    }
   ],
   "source": [
    "r.data_c"
   ]
  },
  {
   "cell_type": "code",
   "execution_count": null,
   "id": "26466416-82ae-4c60-8c2f-7c8597812fbe",
   "metadata": {},
   "outputs": [],
   "source": []
  },
  {
   "cell_type": "code",
   "execution_count": 83,
   "id": "6db29c06-b22b-4759-b498-3ae7b1c92e33",
   "metadata": {},
   "outputs": [],
   "source": [
    "train, test = split_data(r.data_c)\n",
    "train, valid = split_data(train)\n",
    "\n",
    "X_train = train.drop([\"rank\",\"date\"], axis=1)\n",
    "y_train = train['rank']\n",
    "X_test = test.drop([\"rank\",\"date\"], axis=1)\n",
    "y_test = test['rank']\n",
    "X_valid = valid.drop([\"rank\",\"date\"], axis=1)\n",
    "y_valid = valid['rank']\n",
    "X_train2 = train.drop([\"rank\",\"date\",\"単勝\"], axis=1)\n",
    "y_train2 = train['rank']"
   ]
  },
  {
   "cell_type": "code",
   "execution_count": 146,
   "id": "1a965895-f188-4525-a48e-c5fbfc39abc9",
   "metadata": {},
   "outputs": [],
   "source": [
    "me = ModelEvaluator(lgb_clf, \"Return_tables-Copy1.pickle\")"
   ]
  },
  {
   "cell_type": "code",
   "execution_count": 152,
   "id": "825723c9-c8e8-4a4f-bbcd-66cf088982d1",
   "metadata": {},
   "outputs": [
    {
     "ename": "ValueError",
     "evalue": "Number of features of the model must match the input. Model n_features_ is 94 and input n_features is 93 ",
     "output_type": "error",
     "traceback": [
      "\u001b[0;31m---------------------------------------------------------------------------\u001b[0m",
      "\u001b[0;31mValueError\u001b[0m                                Traceback (most recent call last)",
      "\u001b[0;32m/var/folders/tm/fn98hw1541vg9yshhxdqfgc80000gn/T/ipykernel_73845/1807351579.py\u001b[0m in \u001b[0;36m<module>\u001b[0;34m\u001b[0m\n\u001b[0;32m----> 1\u001b[0;31m \u001b[0mme\u001b[0m\u001b[0;34m.\u001b[0m\u001b[0mpredict_proba\u001b[0m\u001b[0;34m(\u001b[0m\u001b[0mX_train2\u001b[0m\u001b[0;34m)\u001b[0m\u001b[0;34m\u001b[0m\u001b[0;34m\u001b[0m\u001b[0m\n\u001b[0m",
      "\u001b[0;32m/var/folders/tm/fn98hw1541vg9yshhxdqfgc80000gn/T/ipykernel_73845/3529136239.py\u001b[0m in \u001b[0;36mpredict_proba\u001b[0;34m(self, X)\u001b[0m\n\u001b[1;32m     10\u001b[0m     \u001b[0;31m#1になる確率の予測\u001b[0m\u001b[0;34m\u001b[0m\u001b[0;34m\u001b[0m\u001b[0;34m\u001b[0m\u001b[0m\n\u001b[1;32m     11\u001b[0m     \u001b[0;32mdef\u001b[0m \u001b[0mpredict_proba\u001b[0m\u001b[0;34m(\u001b[0m\u001b[0mself\u001b[0m\u001b[0;34m,\u001b[0m \u001b[0mX\u001b[0m\u001b[0;34m)\u001b[0m\u001b[0;34m:\u001b[0m\u001b[0;34m\u001b[0m\u001b[0;34m\u001b[0m\u001b[0m\n\u001b[0;32m---> 12\u001b[0;31m         \u001b[0mproba\u001b[0m \u001b[0;34m=\u001b[0m \u001b[0mpd\u001b[0m\u001b[0;34m.\u001b[0m\u001b[0mSeries\u001b[0m\u001b[0;34m(\u001b[0m\u001b[0mself\u001b[0m\u001b[0;34m.\u001b[0m\u001b[0mmodel\u001b[0m\u001b[0;34m.\u001b[0m\u001b[0mpredict_proba\u001b[0m\u001b[0;34m(\u001b[0m\u001b[0mX\u001b[0m\u001b[0;34m)\u001b[0m\u001b[0;34m[\u001b[0m\u001b[0;34m:\u001b[0m\u001b[0;34m,\u001b[0m \u001b[0;36m1\u001b[0m\u001b[0;34m]\u001b[0m\u001b[0;34m,\u001b[0m \u001b[0mindex\u001b[0m\u001b[0;34m=\u001b[0m\u001b[0mX\u001b[0m\u001b[0;34m.\u001b[0m\u001b[0mindex\u001b[0m\u001b[0;34m)\u001b[0m\u001b[0;34m\u001b[0m\u001b[0;34m\u001b[0m\u001b[0m\n\u001b[0m\u001b[1;32m     13\u001b[0m         \u001b[0;32mif\u001b[0m \u001b[0mself\u001b[0m\u001b[0;34m.\u001b[0m\u001b[0mstd\u001b[0m\u001b[0;34m:\u001b[0m\u001b[0;34m\u001b[0m\u001b[0;34m\u001b[0m\u001b[0m\n\u001b[1;32m     14\u001b[0m             \u001b[0mstanderd_scaler\u001b[0m \u001b[0;34m=\u001b[0m \u001b[0;32mlambda\u001b[0m \u001b[0mx\u001b[0m\u001b[0;34m:\u001b[0m \u001b[0;34m(\u001b[0m\u001b[0mx\u001b[0m \u001b[0;34m-\u001b[0m \u001b[0mx\u001b[0m\u001b[0;34m.\u001b[0m\u001b[0mmean\u001b[0m\u001b[0;34m(\u001b[0m\u001b[0;34m)\u001b[0m\u001b[0;34m)\u001b[0m \u001b[0;34m/\u001b[0m \u001b[0mx\u001b[0m\u001b[0;34m.\u001b[0m\u001b[0mstd\u001b[0m\u001b[0;34m(\u001b[0m\u001b[0;34m)\u001b[0m\u001b[0;34m\u001b[0m\u001b[0;34m\u001b[0m\u001b[0m\n",
      "\u001b[0;32m~/opt/anaconda3/lib/python3.8/site-packages/lightgbm/sklearn.py\u001b[0m in \u001b[0;36mpredict_proba\u001b[0;34m(self, X, raw_score, start_iteration, num_iteration, pred_leaf, pred_contrib, **kwargs)\u001b[0m\n\u001b[1;32m    918\u001b[0m                       pred_leaf=False, pred_contrib=False, **kwargs):\n\u001b[1;32m    919\u001b[0m         \u001b[0;34m\"\"\"Docstring is set after definition, using a template.\"\"\"\u001b[0m\u001b[0;34m\u001b[0m\u001b[0;34m\u001b[0m\u001b[0m\n\u001b[0;32m--> 920\u001b[0;31m         \u001b[0mresult\u001b[0m \u001b[0;34m=\u001b[0m \u001b[0msuper\u001b[0m\u001b[0;34m(\u001b[0m\u001b[0;34m)\u001b[0m\u001b[0;34m.\u001b[0m\u001b[0mpredict\u001b[0m\u001b[0;34m(\u001b[0m\u001b[0mX\u001b[0m\u001b[0;34m,\u001b[0m \u001b[0mraw_score\u001b[0m\u001b[0;34m,\u001b[0m \u001b[0mstart_iteration\u001b[0m\u001b[0;34m,\u001b[0m \u001b[0mnum_iteration\u001b[0m\u001b[0;34m,\u001b[0m \u001b[0mpred_leaf\u001b[0m\u001b[0;34m,\u001b[0m \u001b[0mpred_contrib\u001b[0m\u001b[0;34m,\u001b[0m \u001b[0;34m**\u001b[0m\u001b[0mkwargs\u001b[0m\u001b[0;34m)\u001b[0m\u001b[0;34m\u001b[0m\u001b[0;34m\u001b[0m\u001b[0m\n\u001b[0m\u001b[1;32m    921\u001b[0m         \u001b[0;32mif\u001b[0m \u001b[0mcallable\u001b[0m\u001b[0;34m(\u001b[0m\u001b[0mself\u001b[0m\u001b[0;34m.\u001b[0m\u001b[0m_objective\u001b[0m\u001b[0;34m)\u001b[0m \u001b[0;32mand\u001b[0m \u001b[0;32mnot\u001b[0m \u001b[0;34m(\u001b[0m\u001b[0mraw_score\u001b[0m \u001b[0;32mor\u001b[0m \u001b[0mpred_leaf\u001b[0m \u001b[0;32mor\u001b[0m \u001b[0mpred_contrib\u001b[0m\u001b[0;34m)\u001b[0m\u001b[0;34m:\u001b[0m\u001b[0;34m\u001b[0m\u001b[0;34m\u001b[0m\u001b[0m\n\u001b[1;32m    922\u001b[0m             _log_warning(\"Cannot compute class probabilities or labels \"\n",
      "\u001b[0;32m~/opt/anaconda3/lib/python3.8/site-packages/lightgbm/sklearn.py\u001b[0m in \u001b[0;36mpredict\u001b[0;34m(self, X, raw_score, start_iteration, num_iteration, pred_leaf, pred_contrib, **kwargs)\u001b[0m\n\u001b[1;32m    720\u001b[0m         \u001b[0mn_features\u001b[0m \u001b[0;34m=\u001b[0m \u001b[0mX\u001b[0m\u001b[0;34m.\u001b[0m\u001b[0mshape\u001b[0m\u001b[0;34m[\u001b[0m\u001b[0;36m1\u001b[0m\u001b[0;34m]\u001b[0m\u001b[0;34m\u001b[0m\u001b[0;34m\u001b[0m\u001b[0m\n\u001b[1;32m    721\u001b[0m         \u001b[0;32mif\u001b[0m \u001b[0mself\u001b[0m\u001b[0;34m.\u001b[0m\u001b[0m_n_features\u001b[0m \u001b[0;34m!=\u001b[0m \u001b[0mn_features\u001b[0m\u001b[0;34m:\u001b[0m\u001b[0;34m\u001b[0m\u001b[0;34m\u001b[0m\u001b[0m\n\u001b[0;32m--> 722\u001b[0;31m             raise ValueError(\"Number of features of the model must \"\n\u001b[0m\u001b[1;32m    723\u001b[0m                              \u001b[0;34m\"match the input. Model n_features_ is %s and \"\u001b[0m\u001b[0;34m\u001b[0m\u001b[0;34m\u001b[0m\u001b[0m\n\u001b[1;32m    724\u001b[0m                              \u001b[0;34m\"input n_features is %s \"\u001b[0m\u001b[0;34m\u001b[0m\u001b[0;34m\u001b[0m\u001b[0m\n",
      "\u001b[0;31mValueError\u001b[0m: Number of features of the model must match the input. Model n_features_ is 94 and input n_features is 93 "
     ]
    }
   ],
   "source": [
    "me.predict_proba(X_train2)"
   ]
  },
  {
   "cell_type": "code",
   "execution_count": 230,
   "id": "983fb63c-1272-43f6-82b3-47028b8461e0",
   "metadata": {
    "tags": []
   },
   "outputs": [
    {
     "data": {
      "text/plain": [
       "LGBMClassifier(class_weight='balanced', n_estimators=80, num_leaves=4,\n",
       "               random_state=100)"
      ]
     },
     "execution_count": 230,
     "metadata": {},
     "output_type": "execute_result"
    }
   ],
   "source": [
    "params = {\n",
    "    \"num_leaves\": 4,\n",
    "    \"n_estimators\": 80,\n",
    "    \"class_weight\": \"balanced\",\n",
    "    \"random_state\": 100,\n",
    "}\n",
    "\n",
    "lgb_clf = lgb.LGBMClassifier(**params)\n",
    "lgb_clf.fit(X_train.values, y_train.values)"
   ]
  },
  {
   "cell_type": "code",
   "execution_count": 43,
   "id": "ae06dbdb-0db6-44ff-8cf1-cb034da57471",
   "metadata": {
    "tags": []
   },
   "outputs": [
    {
     "data": {
      "application/vnd.jupyter.widget-view+json": {
       "model_id": "a8a94d6cfcfc4213bfce55051776708e",
       "version_major": 2,
       "version_minor": 0
      },
      "text/plain": [
       "  0%|          | 0/100 [00:00<?, ?it/s]"
      ]
     },
     "metadata": {},
     "output_type": "display_data"
    },
    {
     "data": {
      "text/plain": [
       "1652    1.221519\n",
       "1611    1.239783\n",
       "1575    1.269691\n",
       "1525    1.290000\n",
       "1484    1.301044\n",
       "          ...   \n",
       "87      2.056289\n",
       "80      2.136634\n",
       "77      2.117464\n",
       "71      2.159417\n",
       "63      2.140475\n",
       "Length: 72, dtype: float64"
      ]
     },
     "execution_count": 43,
     "metadata": {},
     "output_type": "execute_result"
    }
   ],
   "source": [
    "me = ModelEvaluator(lgb_clf, \"Return_tables-Copy1.pickle\")\n",
    "#me = ModelEvaluator(lgb_clf_o, return_tables)\n",
    "\n",
    "#baseline = gain(me.tansho_return_proper, X_test)\n",
    "gain(me.tansho_return_proper, X_test)"
   ]
  },
  {
   "cell_type": "code",
   "execution_count": null,
   "id": "c7225ac9-5dd4-47d5-be52-a7e9d43a092e",
   "metadata": {},
   "outputs": [],
   "source": [
    "gain(me.tansho_return_proper, X_train)"
   ]
  },
  {
   "cell_type": "code",
   "execution_count": 206,
   "id": "fcd617f2-6b6f-4f08-9343-7c19316a9bd9",
   "metadata": {},
   "outputs": [
    {
     "data": {
      "application/vnd.jupyter.widget-view+json": {
       "model_id": "1eff8963917c4c45843352abd6bcf418",
       "version_major": 2,
       "version_minor": 0
      },
      "text/plain": [
       "  0%|          | 0/100 [00:00<?, ?it/s]"
      ]
     },
     "metadata": {},
     "output_type": "display_data"
    }
   ],
   "source": [
    "gain_proper = gain(me.tansho_return, X_test)"
   ]
  },
  {
   "cell_type": "code",
   "execution_count": 208,
   "id": "29fe354f-206b-4808-bcc9-19d455848e7b",
   "metadata": {},
   "outputs": [
    {
     "data": {
      "text/plain": [
       "<AxesSubplot:>"
      ]
     },
     "execution_count": 208,
     "metadata": {},
     "output_type": "execute_result"
    },
    {
     "data": {
      "image/png": "[encoded data removed]",
      "text/plain": [
       "<Figure size 432x288 with 1 Axes>"
      ]
     },
     "metadata": {
      "needs_background": "light"
     },
     "output_type": "display_data"
    }
   ],
   "source": [
    "gain_proper.plot()"
   ]
  },
  {
   "cell_type": "code",
   "execution_count": 232,
   "id": "0d2b7a41-6ccd-44c3-8f6a-2c39a3e55b56",
   "metadata": {},
   "outputs": [
    {
     "data": {
      "text/plain": [
       "<AxesSubplot:>"
      ]
     },
     "execution_count": 232,
     "metadata": {},
     "output_type": "execute_result"
    },
    {
     "data": {
      "image/png": "[encoded data removed]",
      "text/plain": [
       "<Figure size 432x288 with 1 Axes>"
      ]
     },
     "metadata": {
      "needs_background": "light"
     },
     "output_type": "display_data"
    }
   ],
   "source": [
    "baseline.plot()"
   ]
  },
  {
   "cell_type": "code",
   "execution_count": 271,
   "id": "63cffdb4-f0ac-4d54-abae-471e4dc72107",
   "metadata": {},
   "outputs": [
    {
     "data": {
      "image/png": "[encoded data removed]",
      "text/plain": [
       "<Figure size 600x400 with 1 Axes>"
      ]
     },
     "metadata": {
      "needs_background": "light"
     },
     "output_type": "display_data"
    }
   ],
   "source": [
    "import matplotlib.pyplot as plt\n",
    "\n",
    "plt.figure(dpi = 100)\n",
    "baseline.rename('baseline').plot(legend=True)\n",
    "gain_proper.rename('proper').plot(legend=True)\n",
    "gain_optuna.rename(\"optuna\").plot(legend=True)\n",
    "plt.grid()\n"
   ]
  },
  {
   "cell_type": "code",
   "execution_count": 215,
   "id": "f8d606a9-4fda-4215-a6e7-18cbd6d2b684",
   "metadata": {},
   "outputs": [],
   "source": [
    "train, test = split_data(r.data_c)\n",
    "train, valid = split_data(train)"
   ]
  },
  {
   "cell_type": "code",
   "execution_count": 15,
   "id": "64e1fccb-7261-4940-ba0b-0269e88a6979",
   "metadata": {},
   "outputs": [],
   "source": [
    "import optuna.integration.lightgbm as lgb_o"
   ]
  },
  {
   "cell_type": "code",
   "execution_count": 58,
   "id": "b360e7e8-cf79-4bea-94cb-28d795f846b1",
   "metadata": {},
   "outputs": [
    {
     "data": {
      "text/plain": [
       "LGBMClassifier(bagging_fraction=0.9980351277335815, bagging_freq=6,\n",
       "               feature_fraction=0.748, feature_pre_filter=False, lambda_l1=0.0,\n",
       "               lambda_l2=0.0, num_iterations=1000, num_leaves=2,\n",
       "               objective='binary', random_state=100)"
      ]
     },
     "execution_count": 58,
     "metadata": {},
     "output_type": "execute_result"
    }
   ],
   "source": [
    "lgb_clf"
   ]
  },
  {
   "cell_type": "code",
   "execution_count": 55,
   "id": "797575ea-6af2-4c87-8fbc-783431cc282e",
   "metadata": {},
   "outputs": [
    {
     "data": {
      "text/plain": [
       "{'objective': 'binary',\n",
       " 'random_state': 100,\n",
       " 'feature_pre_filter': False,\n",
       " 'lambda_l1': 0.0,\n",
       " 'lambda_l2': 0.0,\n",
       " 'num_leaves': 2,\n",
       " 'feature_fraction': 0.748,\n",
       " 'bagging_fraction': 0.9980351277335815,\n",
       " 'bagging_freq': 6,\n",
       " 'min_child_samples': 20,\n",
       " 'num_iterations': 1000}"
      ]
     },
     "execution_count": 55,
     "metadata": {},
     "output_type": "execute_result"
    }
   ],
   "source": [
    "lgb_clf_o.params"
   ]
  },
  {
   "cell_type": "code",
   "execution_count": 31,
   "id": "1601f62e-826d-4956-afd9-799ac283af90",
   "metadata": {
    "scrolled": true,
    "tags": []
   },
   "outputs": [
    {
     "name": "stderr",
     "output_type": "stream",
     "text": [
      "\u001b[32m[I 2021-10-27 14:31:11,885]\u001b[0m A new study created in memory with name: no-name-46e0701e-c373-4084-b43b-083625971f94\u001b[0m\n",
      "\n",
      "  0%|                                                     | 0/7 [00:00<?, ?it/s]\u001b[A\n",
      "feature_fraction, val_score: inf:   0%|                   | 0/7 [00:00<?, ?it/s]\u001b[A"
     ]
    },
    {
     "name": "stdout",
     "output_type": "stream",
     "text": [
      "[LightGBM] [Info] Number of positive: 5074, number of negative: 18346\n",
      "[LightGBM] [Warning] Auto-choosing row-wise multi-threading, the overhead of testing was 0.001693 seconds.\n",
      "You can set `force_row_wise=true` to remove the overhead.\n",
      "And if memory is not enough, you can set `force_col_wise=true`.\n",
      "[LightGBM] [Info] Total Bins 13440\n",
      "[LightGBM] [Info] Number of data points in the train set: 23420, number of used features: 94\n",
      "[LightGBM] [Info] [binary:BoostFromScore]: pavg=0.216652 -> initscore=-1.285282\n",
      "[LightGBM] [Info] Start training from score -1.285282\n",
      "Training until validation scores don't improve for 10 rounds\n"
     ]
    },
    {
     "name": "stderr",
     "output_type": "stream",
     "text": [
      "\n",
      "feature_fraction, val_score: 0.425199:   0%|              | 0/7 [00:00<?, ?it/s]\u001b[A\n",
      "feature_fraction, val_score: 0.425199:  14%|8     | 1/7 [00:00<00:02,  2.64it/s]\u001b[A\u001b[32m[I 2021-10-27 14:31:12,268]\u001b[0m Trial 0 finished with value: 0.4251993806538093 and parameters: {'feature_fraction': 0.8999999999999999}. Best is trial 0 with value: 0.4251993806538093.\u001b[0m\n",
      "\n",
      "feature_fraction, val_score: 0.425199:  14%|8     | 1/7 [00:00<00:02,  2.64it/s]\u001b[A"
     ]
    },
    {
     "name": "stdout",
     "output_type": "stream",
     "text": [
      "Early stopping, best iteration is:\n",
      "[37]\tvalid_0's binary_logloss: 0.361608\tvalid_1's binary_logloss: 0.425199\n",
      "[LightGBM] [Info] Number of positive: 5074, number of negative: 18346\n",
      "[LightGBM] [Warning] Auto-choosing col-wise multi-threading, the overhead of testing was 0.004208 seconds.\n",
      "You can set `force_col_wise=true` to remove the overhead.\n",
      "[LightGBM] [Info] Total Bins 13440\n",
      "[LightGBM] [Info] Number of data points in the train set: 23420, number of used features: 94\n",
      "[LightGBM] [Info] [binary:BoostFromScore]: pavg=0.216652 -> initscore=-1.285282\n",
      "[LightGBM] [Info] Start training from score -1.285282\n",
      "Training until validation scores don't improve for 10 rounds\n"
     ]
    },
    {
     "name": "stderr",
     "output_type": "stream",
     "text": [
      "\n",
      "feature_fraction, val_score: 0.425199:  14%|8     | 1/7 [00:00<00:02,  2.64it/s]\u001b[A\n",
      "feature_fraction, val_score: 0.425199:  29%|#7    | 2/7 [00:00<00:01,  2.92it/s]\u001b[A\u001b[32m[I 2021-10-27 14:31:12,585]\u001b[0m Trial 1 finished with value: 0.42525340600149836 and parameters: {'feature_fraction': 1.0}. Best is trial 0 with value: 0.4251993806538093.\u001b[0m\n",
      "\n",
      "feature_fraction, val_score: 0.425199:  29%|#7    | 2/7 [00:00<00:01,  2.92it/s]\u001b[A"
     ]
    },
    {
     "name": "stdout",
     "output_type": "stream",
     "text": [
      "Early stopping, best iteration is:\n",
      "[27]\tvalid_0's binary_logloss: 0.373256\tvalid_1's binary_logloss: 0.425253\n",
      "[LightGBM] [Info] Number of positive: 5074, number of negative: 18346\n",
      "[LightGBM] [Warning] Auto-choosing row-wise multi-threading, the overhead of testing was 0.001289 seconds.\n",
      "You can set `force_row_wise=true` to remove the overhead.\n",
      "And if memory is not enough, you can set `force_col_wise=true`.\n",
      "[LightGBM] [Info] Total Bins 13440\n",
      "[LightGBM] [Info] Number of data points in the train set: 23420, number of used features: 94\n",
      "[LightGBM] [Info] [binary:BoostFromScore]: pavg=0.216652 -> initscore=-1.285282\n",
      "[LightGBM] [Info] Start training from score -1.285282\n",
      "Training until validation scores don't improve for 10 rounds\n"
     ]
    },
    {
     "name": "stderr",
     "output_type": "stream",
     "text": [
      "\n",
      "feature_fraction, val_score: 0.425199:  29%|#7    | 2/7 [00:01<00:01,  2.92it/s]\u001b[A\n",
      "feature_fraction, val_score: 0.425199:  43%|##5   | 3/7 [00:01<00:01,  2.64it/s]\u001b[A\u001b[32m[I 2021-10-27 14:31:13,006]\u001b[0m Trial 2 finished with value: 0.42722482487730407 and parameters: {'feature_fraction': 0.5}. Best is trial 0 with value: 0.4251993806538093.\u001b[0m\n",
      "\n",
      "feature_fraction, val_score: 0.425199:  43%|##5   | 3/7 [00:01<00:01,  2.64it/s]\u001b[A"
     ]
    },
    {
     "name": "stdout",
     "output_type": "stream",
     "text": [
      "Early stopping, best iteration is:\n",
      "[59]\tvalid_0's binary_logloss: 0.349526\tvalid_1's binary_logloss: 0.427225\n",
      "[LightGBM] [Info] Number of positive: 5074, number of negative: 18346\n",
      "[LightGBM] [Warning] Auto-choosing col-wise multi-threading, the overhead of testing was 0.004685 seconds.\n",
      "You can set `force_col_wise=true` to remove the overhead.\n",
      "[LightGBM] [Info] Total Bins 13440\n",
      "[LightGBM] [Info] Number of data points in the train set: 23420, number of used features: 94\n",
      "[LightGBM] [Info] [binary:BoostFromScore]: pavg=0.216652 -> initscore=-1.285282\n",
      "[LightGBM] [Info] Start training from score -1.285282\n",
      "Training until validation scores don't improve for 10 rounds\n"
     ]
    },
    {
     "name": "stderr",
     "output_type": "stream",
     "text": [
      "\n",
      "feature_fraction, val_score: 0.425199:  43%|##5   | 3/7 [00:01<00:01,  2.64it/s]\u001b[A\n",
      "feature_fraction, val_score: 0.425199:  57%|###4  | 4/7 [00:01<00:01,  2.51it/s]\u001b[A\u001b[32m[I 2021-10-27 14:31:13,436]\u001b[0m Trial 3 finished with value: 0.4262498361563317 and parameters: {'feature_fraction': 0.8}. Best is trial 0 with value: 0.4251993806538093.\u001b[0m\n",
      "\n",
      "feature_fraction, val_score: 0.425199:  57%|###4  | 4/7 [00:01<00:01,  2.51it/s]\u001b[A"
     ]
    },
    {
     "name": "stdout",
     "output_type": "stream",
     "text": [
      "Early stopping, best iteration is:\n",
      "[32]\tvalid_0's binary_logloss: 0.368821\tvalid_1's binary_logloss: 0.42625\n",
      "[LightGBM] [Info] Number of positive: 5074, number of negative: 18346\n",
      "[LightGBM] [Warning] Auto-choosing col-wise multi-threading, the overhead of testing was 0.006600 seconds.\n",
      "You can set `force_col_wise=true` to remove the overhead.\n",
      "[LightGBM] [Info] Total Bins 13440\n",
      "[LightGBM] [Info] Number of data points in the train set: 23420, number of used features: 94\n",
      "[LightGBM] [Info] [binary:BoostFromScore]: pavg=0.216652 -> initscore=-1.285282\n",
      "[LightGBM] [Info] Start training from score -1.285282\n",
      "Training until validation scores don't improve for 10 rounds\n"
     ]
    },
    {
     "name": "stderr",
     "output_type": "stream",
     "text": [
      "\n",
      "feature_fraction, val_score: 0.425060:  57%|###4  | 4/7 [00:02<00:01,  2.51it/s]\u001b[A\n",
      "feature_fraction, val_score: 0.425060:  71%|####2 | 5/7 [00:02<00:00,  2.17it/s]\u001b[A\u001b[32m[I 2021-10-27 14:31:14,010]\u001b[0m Trial 4 finished with value: 0.42505967236002384 and parameters: {'feature_fraction': 0.7}. Best is trial 4 with value: 0.42505967236002384.\u001b[0m\n",
      "\n",
      "feature_fraction, val_score: 0.425060:  71%|####2 | 5/7 [00:02<00:00,  2.17it/s]\u001b[A"
     ]
    },
    {
     "name": "stdout",
     "output_type": "stream",
     "text": [
      "Early stopping, best iteration is:\n",
      "[36]\tvalid_0's binary_logloss: 0.365907\tvalid_1's binary_logloss: 0.42506\n",
      "[LightGBM] [Info] Number of positive: 5074, number of negative: 18346\n",
      "[LightGBM] [Warning] Auto-choosing col-wise multi-threading, the overhead of testing was 0.005554 seconds.\n",
      "You can set `force_col_wise=true` to remove the overhead.\n",
      "[LightGBM] [Info] Total Bins 13440\n",
      "[LightGBM] [Info] Number of data points in the train set: 23420, number of used features: 94\n",
      "[LightGBM] [Info] [binary:BoostFromScore]: pavg=0.216652 -> initscore=-1.285282\n",
      "[LightGBM] [Info] Start training from score -1.285282\n",
      "Training until validation scores don't improve for 10 rounds\n"
     ]
    },
    {
     "name": "stderr",
     "output_type": "stream",
     "text": [
      "\n",
      "feature_fraction, val_score: 0.425060:  71%|####2 | 5/7 [00:02<00:00,  2.17it/s]\u001b[A\n",
      "feature_fraction, val_score: 0.425060:  86%|#####1| 6/7 [00:02<00:00,  1.86it/s]\u001b[A\u001b[32m[I 2021-10-27 14:31:14,698]\u001b[0m Trial 5 finished with value: 0.4282720027202206 and parameters: {'feature_fraction': 0.4}. Best is trial 4 with value: 0.42505967236002384.\u001b[0m\n",
      "\n",
      "feature_fraction, val_score: 0.425060:  86%|#####1| 6/7 [00:02<00:00,  1.86it/s]\u001b[A"
     ]
    },
    {
     "name": "stdout",
     "output_type": "stream",
     "text": [
      "Early stopping, best iteration is:\n",
      "[55]\tvalid_0's binary_logloss: 0.356363\tvalid_1's binary_logloss: 0.428272\n",
      "[LightGBM] [Info] Number of positive: 5074, number of negative: 18346\n",
      "[LightGBM] [Warning] Auto-choosing col-wise multi-threading, the overhead of testing was 0.004661 seconds.\n",
      "You can set `force_col_wise=true` to remove the overhead.\n",
      "[LightGBM] [Info] Total Bins 13440\n",
      "[LightGBM] [Info] Number of data points in the train set: 23420, number of used features: 94\n",
      "[LightGBM] [Info] [binary:BoostFromScore]: pavg=0.216652 -> initscore=-1.285282\n",
      "[LightGBM] [Info] Start training from score -1.285282\n",
      "Training until validation scores don't improve for 10 rounds\n"
     ]
    },
    {
     "name": "stderr",
     "output_type": "stream",
     "text": [
      "\n",
      "feature_fraction, val_score: 0.425060:  86%|#####1| 6/7 [00:03<00:00,  1.86it/s]\u001b[A\n",
      "feature_fraction, val_score: 0.425060: 100%|######| 7/7 [00:03<00:00,  2.16it/s]\u001b[A\u001b[32m[I 2021-10-27 14:31:15,002]\u001b[0m Trial 6 finished with value: 0.4265154126829698 and parameters: {'feature_fraction': 0.6}. Best is trial 4 with value: 0.42505967236002384.\u001b[0m\n",
      "feature_fraction, val_score: 0.425060: 100%|######| 7/7 [00:03<00:00,  2.25it/s]\n"
     ]
    },
    {
     "name": "stdout",
     "output_type": "stream",
     "text": [
      "Early stopping, best iteration is:\n",
      "[32]\tvalid_0's binary_logloss: 0.372515\tvalid_1's binary_logloss: 0.426515\n"
     ]
    },
    {
     "name": "stderr",
     "output_type": "stream",
     "text": [
      "\n",
      "  0%|                                                    | 0/20 [00:00<?, ?it/s]\u001b[A\n",
      "num_leaves, val_score: 0.425060:  15%|#6         | 3/20 [03:00<17:00, 60.05s/it]\u001b[A\n",
      "IOStream.flush timed out\n",
      "\n"
     ]
    },
    {
     "name": "stdout",
     "output_type": "stream",
     "text": [
      "[LightGBM] [Info] Number of positive: 5074, number of negative: 18346\n",
      "[LightGBM] [Warning] Auto-choosing col-wise multi-threading, the overhead of testing was 0.004640 seconds.\n",
      "You can set `force_col_wise=true` to remove the overhead.\n",
      "[LightGBM] [Info] Total Bins 13440\n",
      "[LightGBM] [Info] Number of data points in the train set: 23420, number of used features: 94\n",
      "[LightGBM] [Info] [binary:BoostFromScore]: pavg=0.216652 -> initscore=-1.285282\n",
      "[LightGBM] [Info] Start training from score -1.285282\n",
      "Training until validation scores don't improve for 10 rounds\n",
      "Early stopping, best iteration is:\n",
      "[55]\tvalid_0's binary_logloss: 0.388174\tvalid_1's binary_logloss: 0.422838\n"
     ]
    },
    {
     "name": "stderr",
     "output_type": "stream",
     "text": [
      "num_leaves, val_score: 0.422838:   0%|                   | 0/20 [00:10<?, ?it/s]\u001b[A\n",
      "num_leaves, val_score: 0.422838:   5%|5          | 1/20 [00:10<03:10, 10.01s/it]\u001b[A\u001b[32m[I 2021-10-27 14:31:25,022]\u001b[0m Trial 7 finished with value: 0.4228382165363689 and parameters: {'num_leaves': 10}. Best is trial 7 with value: 0.4228382165363689.\u001b[0m\n",
      "\n",
      "num_leaves, val_score: 0.422838:   5%|5          | 1/20 [00:10<03:10, 10.01s/it]\u001b[A"
     ]
    },
    {
     "name": "stdout",
     "output_type": "stream",
     "text": [
      "[LightGBM] [Info] Number of positive: 5074, number of negative: 18346\n",
      "[LightGBM] [Warning] Auto-choosing col-wise multi-threading, the overhead of testing was 0.004449 seconds.\n",
      "You can set `force_col_wise=true` to remove the overhead.\n",
      "[LightGBM] [Info] Total Bins 13440\n",
      "[LightGBM] [Info] Number of data points in the train set: 23420, number of used features: 94\n",
      "[LightGBM] [Info] [binary:BoostFromScore]: pavg=0.216652 -> initscore=-1.285282\n",
      "[LightGBM] [Info] Start training from score -1.285282\n",
      "Training until validation scores don't improve for 10 rounds\n"
     ]
    },
    {
     "name": "stderr",
     "output_type": "stream",
     "text": [
      "\n",
      "num_leaves, val_score: 0.422838:   5%|5          | 1/20 [00:10<03:10, 10.01s/it]\u001b[A\n",
      "num_leaves, val_score: 0.422838:  10%|#1         | 2/20 [00:10<01:20,  4.46s/it]\u001b[A\u001b[32m[I 2021-10-27 14:31:25,594]\u001b[0m Trial 8 finished with value: 0.43430532680664635 and parameters: {'num_leaves': 128}. Best is trial 7 with value: 0.4228382165363689.\u001b[0m\n",
      "\n",
      "num_leaves, val_score: 0.422838:  10%|#1         | 2/20 [00:10<01:20,  4.46s/it]\u001b[A"
     ]
    },
    {
     "name": "stdout",
     "output_type": "stream",
     "text": [
      "Early stopping, best iteration is:\n",
      "[26]\tvalid_0's binary_logloss: 0.304332\tvalid_1's binary_logloss: 0.434305\n",
      "[LightGBM] [Info] Number of positive: 5074, number of negative: 18346\n",
      "[LightGBM] [Warning] Auto-choosing col-wise multi-threading, the overhead of testing was 0.006205 seconds.\n",
      "You can set `force_col_wise=true` to remove the overhead.\n",
      "[LightGBM] [Info] Total Bins 13440\n",
      "[LightGBM] [Info] Number of data points in the train set: 23420, number of used features: 94\n",
      "[LightGBM] [Info] [binary:BoostFromScore]: pavg=0.216652 -> initscore=-1.285282\n",
      "[LightGBM] [Info] Start training from score -1.285282\n",
      "Training until validation scores don't improve for 10 rounds\n"
     ]
    },
    {
     "name": "stderr",
     "output_type": "stream",
     "text": [
      "\n",
      "num_leaves, val_score: 0.422838:  10%|#1         | 2/20 [00:11<01:20,  4.46s/it]\u001b[A\n",
      "num_leaves, val_score: 0.422838:  15%|#6         | 3/20 [00:11<00:44,  2.62s/it]\u001b[A\u001b[32m[I 2021-10-27 14:31:26,029]\u001b[0m Trial 9 finished with value: 0.43210111447207333 and parameters: {'num_leaves': 87}. Best is trial 7 with value: 0.4228382165363689.\u001b[0m\n",
      "\n",
      "num_leaves, val_score: 0.422838:  15%|#6         | 3/20 [00:11<00:44,  2.62s/it]\u001b[A"
     ]
    },
    {
     "name": "stdout",
     "output_type": "stream",
     "text": [
      "Early stopping, best iteration is:\n",
      "[30]\tvalid_0's binary_logloss: 0.320774\tvalid_1's binary_logloss: 0.432101\n",
      "[LightGBM] [Info] Number of positive: 5074, number of negative: 18346\n",
      "[LightGBM] [Warning] Auto-choosing col-wise multi-threading, the overhead of testing was 0.004614 seconds.\n",
      "You can set `force_col_wise=true` to remove the overhead.\n",
      "[LightGBM] [Info] Total Bins 13440\n",
      "[LightGBM] [Info] Number of data points in the train set: 23420, number of used features: 94\n",
      "[LightGBM] [Info] [binary:BoostFromScore]: pavg=0.216652 -> initscore=-1.285282\n",
      "[LightGBM] [Info] Start training from score -1.285282\n",
      "Training until validation scores don't improve for 10 rounds\n"
     ]
    },
    {
     "name": "stderr",
     "output_type": "stream",
     "text": [
      "\n",
      "num_leaves, val_score: 0.422838:  15%|#6         | 3/20 [00:11<00:44,  2.62s/it]\u001b[A\n",
      "num_leaves, val_score: 0.422838:  20%|##2        | 4/20 [00:11<00:28,  1.75s/it]\u001b[A\u001b[32m[I 2021-10-27 14:31:26,450]\u001b[0m Trial 10 finished with value: 0.4286943538376026 and parameters: {'num_leaves': 60}. Best is trial 7 with value: 0.4228382165363689.\u001b[0m\n",
      "\n",
      "num_leaves, val_score: 0.422838:  20%|##2        | 4/20 [00:11<00:28,  1.75s/it]\u001b[A"
     ]
    },
    {
     "name": "stdout",
     "output_type": "stream",
     "text": [
      "Early stopping, best iteration is:\n",
      "[32]\tvalid_0's binary_logloss: 0.339728\tvalid_1's binary_logloss: 0.428694\n",
      "[LightGBM] [Info] Number of positive: 5074, number of negative: 18346\n",
      "[LightGBM] [Warning] Auto-choosing col-wise multi-threading, the overhead of testing was 0.004018 seconds.\n",
      "You can set `force_col_wise=true` to remove the overhead.\n",
      "[LightGBM] [Info] Total Bins 13440\n",
      "[LightGBM] [Info] Number of data points in the train set: 23420, number of used features: 94\n",
      "[LightGBM] [Info] [binary:BoostFromScore]: pavg=0.216652 -> initscore=-1.285282\n",
      "[LightGBM] [Info] Start training from score -1.285282\n",
      "Training until validation scores don't improve for 10 rounds\n"
     ]
    },
    {
     "name": "stderr",
     "output_type": "stream",
     "text": [
      "\n",
      "num_leaves, val_score: 0.422838:  20%|##2        | 4/20 [00:12<00:28,  1.75s/it]\u001b[A\n",
      "num_leaves, val_score: 0.422838:  25%|##7        | 5/20 [00:12<00:20,  1.38s/it]\u001b[A\u001b[32m[I 2021-10-27 14:31:27,167]\u001b[0m Trial 11 finished with value: 0.43984098712164693 and parameters: {'num_leaves': 252}. Best is trial 7 with value: 0.4228382165363689.\u001b[0m\n",
      "\n",
      "num_leaves, val_score: 0.422838:  25%|##7        | 5/20 [00:12<00:20,  1.38s/it]\u001b[A"
     ]
    },
    {
     "name": "stdout",
     "output_type": "stream",
     "text": [
      "Early stopping, best iteration is:\n",
      "[25]\tvalid_0's binary_logloss: 0.246878\tvalid_1's binary_logloss: 0.439841\n",
      "[LightGBM] [Info] Number of positive: 5074, number of negative: 18346\n",
      "[LightGBM] [Warning] Auto-choosing col-wise multi-threading, the overhead of testing was 0.004265 seconds.\n",
      "You can set `force_col_wise=true` to remove the overhead.\n",
      "[LightGBM] [Info] Total Bins 13440\n",
      "[LightGBM] [Info] Number of data points in the train set: 23420, number of used features: 94\n",
      "[LightGBM] [Info] [binary:BoostFromScore]: pavg=0.216652 -> initscore=-1.285282\n",
      "[LightGBM] [Info] Start training from score -1.285282\n",
      "Training until validation scores don't improve for 10 rounds\n"
     ]
    },
    {
     "name": "stderr",
     "output_type": "stream",
     "text": [
      "\n",
      "num_leaves, val_score: 0.422838:  25%|##7        | 5/20 [00:12<00:20,  1.38s/it]\u001b[A\n",
      "num_leaves, val_score: 0.422838:  30%|###3       | 6/20 [00:12<00:15,  1.11s/it]\u001b[A\u001b[32m[I 2021-10-27 14:31:27,765]\u001b[0m Trial 12 finished with value: 0.43573834008440954 and parameters: {'num_leaves': 163}. Best is trial 7 with value: 0.4228382165363689.\u001b[0m\n",
      "\n",
      "num_leaves, val_score: 0.422838:  30%|###3       | 6/20 [00:12<00:15,  1.11s/it]\u001b[A"
     ]
    },
    {
     "name": "stdout",
     "output_type": "stream",
     "text": [
      "Early stopping, best iteration is:\n",
      "[29]\tvalid_0's binary_logloss: 0.273035\tvalid_1's binary_logloss: 0.435738\n",
      "[LightGBM] [Info] Number of positive: 5074, number of negative: 18346\n",
      "[LightGBM] [Warning] Auto-choosing col-wise multi-threading, the overhead of testing was 0.004184 seconds.\n",
      "You can set `force_col_wise=true` to remove the overhead.\n",
      "[LightGBM] [Info] Total Bins 13440\n",
      "[LightGBM] [Info] Number of data points in the train set: 23420, number of used features: 94\n",
      "[LightGBM] [Info] [binary:BoostFromScore]: pavg=0.216652 -> initscore=-1.285282\n",
      "[LightGBM] [Info] Start training from score -1.285282\n",
      "Training until validation scores don't improve for 10 rounds\n"
     ]
    },
    {
     "name": "stderr",
     "output_type": "stream",
     "text": [
      "\n",
      "num_leaves, val_score: 0.422838:  30%|###3       | 6/20 [00:13<00:15,  1.11s/it]\u001b[A\n",
      "num_leaves, val_score: 0.422838:  35%|###8       | 7/20 [00:13<00:12,  1.05it/s]\u001b[A\u001b[32m[I 2021-10-27 14:31:28,386]\u001b[0m Trial 13 finished with value: 0.4392593281652912 and parameters: {'num_leaves': 227}. Best is trial 7 with value: 0.4228382165363689.\u001b[0m\n",
      "\n",
      "num_leaves, val_score: 0.422838:  35%|###8       | 7/20 [00:13<00:12,  1.05it/s]\u001b[A"
     ]
    },
    {
     "name": "stdout",
     "output_type": "stream",
     "text": [
      "Early stopping, best iteration is:\n",
      "[23]\tvalid_0's binary_logloss: 0.2673\tvalid_1's binary_logloss: 0.439259\n",
      "[LightGBM] [Info] Number of positive: 5074, number of negative: 18346\n",
      "[LightGBM] [Warning] Auto-choosing col-wise multi-threading, the overhead of testing was 0.006327 seconds.\n",
      "You can set `force_col_wise=true` to remove the overhead.\n",
      "[LightGBM] [Info] Total Bins 13440\n",
      "[LightGBM] [Info] Number of data points in the train set: 23420, number of used features: 94\n",
      "[LightGBM] [Info] [binary:BoostFromScore]: pavg=0.216652 -> initscore=-1.285282\n",
      "[LightGBM] [Info] Start training from score -1.285282\n",
      "Training until validation scores don't improve for 10 rounds\n"
     ]
    },
    {
     "name": "stderr",
     "output_type": "stream",
     "text": [
      "\n",
      "num_leaves, val_score: 0.422838:  35%|###8       | 7/20 [00:13<00:12,  1.05it/s]\u001b[A\n",
      "num_leaves, val_score: 0.422838:  40%|####4      | 8/20 [00:13<00:09,  1.31it/s]\u001b[A\u001b[32m[I 2021-10-27 14:31:28,747]\u001b[0m Trial 14 finished with value: 0.4316743282747718 and parameters: {'num_leaves': 66}. Best is trial 7 with value: 0.4228382165363689.\u001b[0m\n",
      "\n",
      "num_leaves, val_score: 0.422838:  40%|####4      | 8/20 [00:13<00:09,  1.31it/s]\u001b[A"
     ]
    },
    {
     "name": "stdout",
     "output_type": "stream",
     "text": [
      "Early stopping, best iteration is:\n",
      "[26]\tvalid_0's binary_logloss: 0.347603\tvalid_1's binary_logloss: 0.431674\n",
      "[LightGBM] [Info] Number of positive: 5074, number of negative: 18346\n",
      "[LightGBM] [Warning] Auto-choosing col-wise multi-threading, the overhead of testing was 0.004638 seconds.\n",
      "You can set `force_col_wise=true` to remove the overhead.\n",
      "[LightGBM] [Info] Total Bins 13440\n",
      "[LightGBM] [Info] Number of data points in the train set: 23420, number of used features: 94\n",
      "[LightGBM] [Info] [binary:BoostFromScore]: pavg=0.216652 -> initscore=-1.285282\n",
      "[LightGBM] [Info] Start training from score -1.285282\n",
      "Training until validation scores don't improve for 10 rounds\n"
     ]
    },
    {
     "name": "stderr",
     "output_type": "stream",
     "text": [
      "\n",
      "num_leaves, val_score: 0.422838:  40%|####4      | 8/20 [00:14<00:09,  1.31it/s]\u001b[A\n",
      "num_leaves, val_score: 0.422838:  45%|####9      | 9/20 [00:14<00:07,  1.48it/s]\u001b[A\u001b[32m[I 2021-10-27 14:31:29,232]\u001b[0m Trial 15 finished with value: 0.4321125466114208 and parameters: {'num_leaves': 81}. Best is trial 7 with value: 0.4228382165363689.\u001b[0m\n",
      "\n",
      "num_leaves, val_score: 0.422838:  45%|####9      | 9/20 [00:14<00:07,  1.48it/s]\u001b[A"
     ]
    },
    {
     "name": "stdout",
     "output_type": "stream",
     "text": [
      "Early stopping, best iteration is:\n",
      "[31]\tvalid_0's binary_logloss: 0.322655\tvalid_1's binary_logloss: 0.432113\n",
      "[LightGBM] [Info] Number of positive: 5074, number of negative: 18346\n",
      "[LightGBM] [Warning] Auto-choosing col-wise multi-threading, the overhead of testing was 0.004236 seconds.\n",
      "You can set `force_col_wise=true` to remove the overhead.\n",
      "[LightGBM] [Info] Total Bins 13440\n",
      "[LightGBM] [Info] Number of data points in the train set: 23420, number of used features: 94\n",
      "[LightGBM] [Info] [binary:BoostFromScore]: pavg=0.216652 -> initscore=-1.285282\n",
      "[LightGBM] [Info] Start training from score -1.285282\n",
      "Training until validation scores don't improve for 10 rounds\n"
     ]
    },
    {
     "name": "stderr",
     "output_type": "stream",
     "text": [
      "\n",
      "num_leaves, val_score: 0.422838:  45%|####9      | 9/20 [00:14<00:07,  1.48it/s]\u001b[A\n",
      "num_leaves, val_score: 0.422838:  50%|#####     | 10/20 [00:14<00:06,  1.54it/s]\u001b[A\u001b[32m[I 2021-10-27 14:31:29,815]\u001b[0m Trial 16 finished with value: 0.4330800797874801 and parameters: {'num_leaves': 124}. Best is trial 7 with value: 0.4228382165363689.\u001b[0m\n",
      "\n",
      "num_leaves, val_score: 0.422838:  50%|#####     | 10/20 [00:14<00:06,  1.54it/s]\u001b[A"
     ]
    },
    {
     "name": "stdout",
     "output_type": "stream",
     "text": [
      "Early stopping, best iteration is:\n",
      "[25]\tvalid_0's binary_logloss: 0.310725\tvalid_1's binary_logloss: 0.43308\n",
      "[LightGBM] [Info] Number of positive: 5074, number of negative: 18346\n",
      "[LightGBM] [Warning] Auto-choosing col-wise multi-threading, the overhead of testing was 0.006540 seconds.\n",
      "You can set `force_col_wise=true` to remove the overhead.\n",
      "[LightGBM] [Info] Total Bins 13440\n",
      "[LightGBM] [Info] Number of data points in the train set: 23420, number of used features: 94\n",
      "[LightGBM] [Info] [binary:BoostFromScore]: pavg=0.216652 -> initscore=-1.285282\n",
      "[LightGBM] [Info] Start training from score -1.285282\n",
      "Training until validation scores don't improve for 10 rounds\n"
     ]
    },
    {
     "name": "stderr",
     "output_type": "stream",
     "text": [
      "\n",
      "num_leaves, val_score: 0.422838:  50%|#####     | 10/20 [00:15<00:06,  1.54it/s]\u001b[A\n",
      "num_leaves, val_score: 0.422838:  55%|#####5    | 11/20 [00:15<00:04,  1.87it/s]\u001b[A\u001b[32m[I 2021-10-27 14:31:30,092]\u001b[0m Trial 17 finished with value: 0.42364145164120764 and parameters: {'num_leaves': 16}. Best is trial 7 with value: 0.4228382165363689.\u001b[0m\n",
      "\n",
      "num_leaves, val_score: 0.422838:  55%|#####5    | 11/20 [00:15<00:04,  1.87it/s]\u001b[A"
     ]
    },
    {
     "name": "stdout",
     "output_type": "stream",
     "text": [
      "Early stopping, best iteration is:\n",
      "[36]\tvalid_0's binary_logloss: 0.386944\tvalid_1's binary_logloss: 0.423641\n",
      "[LightGBM] [Info] Number of positive: 5074, number of negative: 18346\n",
      "[LightGBM] [Warning] Auto-choosing col-wise multi-threading, the overhead of testing was 0.003973 seconds.\n",
      "You can set `force_col_wise=true` to remove the overhead.\n",
      "[LightGBM] [Info] Total Bins 13440\n",
      "[LightGBM] [Info] Number of data points in the train set: 23420, number of used features: 94\n",
      "[LightGBM] [Info] [binary:BoostFromScore]: pavg=0.216652 -> initscore=-1.285282\n",
      "[LightGBM] [Info] Start training from score -1.285282\n",
      "Training until validation scores don't improve for 10 rounds\n"
     ]
    },
    {
     "name": "stderr",
     "output_type": "stream",
     "text": [
      "\n",
      "num_leaves, val_score: 0.421553:  55%|#####5    | 11/20 [00:15<00:04,  1.87it/s]\u001b[A\n",
      "num_leaves, val_score: 0.421553:  60%|######    | 12/20 [00:15<00:03,  2.21it/s]\u001b[A\u001b[32m[I 2021-10-27 14:31:30,360]\u001b[0m Trial 18 finished with value: 0.42155272443709085 and parameters: {'num_leaves': 4}. Best is trial 18 with value: 0.42155272443709085.\u001b[0m\n",
      "\n",
      "num_leaves, val_score: 0.421553:  60%|######    | 12/20 [00:15<00:03,  2.21it/s]\u001b[A"
     ]
    },
    {
     "name": "stdout",
     "output_type": "stream",
     "text": [
      "Early stopping, best iteration is:\n",
      "[65]\tvalid_0's binary_logloss: 0.399645\tvalid_1's binary_logloss: 0.421553\n",
      "[LightGBM] [Info] Number of positive: 5074, number of negative: 18346\n",
      "[LightGBM] [Warning] Auto-choosing col-wise multi-threading, the overhead of testing was 0.004215 seconds.\n",
      "You can set `force_col_wise=true` to remove the overhead.\n",
      "[LightGBM] [Info] Total Bins 13440\n",
      "[LightGBM] [Info] Number of data points in the train set: 23420, number of used features: 94\n",
      "[LightGBM] [Info] [binary:BoostFromScore]: pavg=0.216652 -> initscore=-1.285282\n",
      "[LightGBM] [Info] Start training from score -1.285282\n",
      "Training until validation scores don't improve for 10 rounds\n"
     ]
    },
    {
     "name": "stderr",
     "output_type": "stream",
     "text": [
      "\n",
      "num_leaves, val_score: 0.421354:  60%|######    | 12/20 [00:15<00:03,  2.21it/s]\u001b[A\n",
      "num_leaves, val_score: 0.421354:  65%|######5   | 13/20 [00:15<00:02,  2.49it/s]\u001b[A\u001b[32m[I 2021-10-27 14:31:30,642]\u001b[0m Trial 19 finished with value: 0.42135439360426097 and parameters: {'num_leaves': 3}. Best is trial 19 with value: 0.42135439360426097.\u001b[0m\n",
      "\n",
      "num_leaves, val_score: 0.421354:  65%|######5   | 13/20 [00:15<00:02,  2.49it/s]\u001b[A"
     ]
    },
    {
     "name": "stdout",
     "output_type": "stream",
     "text": [
      "[100]\tvalid_0's binary_logloss: 0.399205\tvalid_1's binary_logloss: 0.421457\n",
      "Early stopping, best iteration is:\n",
      "[93]\tvalid_0's binary_logloss: 0.39965\tvalid_1's binary_logloss: 0.421354\n",
      "[LightGBM] [Info] Number of positive: 5074, number of negative: 18346\n",
      "[LightGBM] [Warning] Auto-choosing col-wise multi-threading, the overhead of testing was 0.004861 seconds.\n",
      "You can set `force_col_wise=true` to remove the overhead.\n",
      "[LightGBM] [Info] Total Bins 13440\n",
      "[LightGBM] [Info] Number of data points in the train set: 23420, number of used features: 94\n",
      "[LightGBM] [Info] [binary:BoostFromScore]: pavg=0.216652 -> initscore=-1.285282\n",
      "[LightGBM] [Info] Start training from score -1.285282\n",
      "Training until validation scores don't improve for 10 rounds\n"
     ]
    },
    {
     "name": "stderr",
     "output_type": "stream",
     "text": [
      "\n",
      "num_leaves, val_score: 0.421116:  65%|######5   | 13/20 [00:15<00:02,  2.49it/s]\u001b[A\n",
      "num_leaves, val_score: 0.421116:  70%|#######   | 14/20 [00:15<00:02,  2.63it/s]\u001b[A\u001b[32m[I 2021-10-27 14:31:30,972]\u001b[0m Trial 20 finished with value: 0.4211158075136087 and parameters: {'num_leaves': 2}. Best is trial 20 with value: 0.4211158075136087.\u001b[0m\n",
      "\n",
      "num_leaves, val_score: 0.421116:  70%|#######   | 14/20 [00:15<00:02,  2.63it/s]\u001b[A"
     ]
    },
    {
     "name": "stdout",
     "output_type": "stream",
     "text": [
      "[100]\tvalid_0's binary_logloss: 0.402833\tvalid_1's binary_logloss: 0.421633\n",
      "Early stopping, best iteration is:\n",
      "[148]\tvalid_0's binary_logloss: 0.401322\tvalid_1's binary_logloss: 0.421116\n",
      "[LightGBM] [Info] Number of positive: 5074, number of negative: 18346\n",
      "[LightGBM] [Warning] Auto-choosing col-wise multi-threading, the overhead of testing was 0.004107 seconds.\n",
      "You can set `force_col_wise=true` to remove the overhead.\n",
      "[LightGBM] [Info] Total Bins 13440\n",
      "[LightGBM] [Info] Number of data points in the train set: 23420, number of used features: 94\n",
      "[LightGBM] [Info] [binary:BoostFromScore]: pavg=0.216652 -> initscore=-1.285282\n",
      "[LightGBM] [Info] Start training from score -1.285282\n",
      "Training until validation scores don't improve for 10 rounds\n"
     ]
    },
    {
     "name": "stderr",
     "output_type": "stream",
     "text": [
      "\n",
      "num_leaves, val_score: 0.421116:  70%|#######   | 14/20 [00:16<00:02,  2.63it/s]\u001b[A\n",
      "num_leaves, val_score: 0.421116:  75%|#######5  | 15/20 [00:16<00:01,  2.74it/s]\u001b[A\u001b[32m[I 2021-10-27 14:31:31,302]\u001b[0m Trial 21 finished with value: 0.42613028207682113 and parameters: {'num_leaves': 40}. Best is trial 20 with value: 0.4211158075136087.\u001b[0m\n",
      "\n",
      "num_leaves, val_score: 0.421116:  75%|#######5  | 15/20 [00:16<00:01,  2.74it/s]\u001b[A"
     ]
    },
    {
     "name": "stdout",
     "output_type": "stream",
     "text": [
      "Early stopping, best iteration is:\n",
      "[32]\tvalid_0's binary_logloss: 0.359678\tvalid_1's binary_logloss: 0.42613\n",
      "[LightGBM] [Info] Number of positive: 5074, number of negative: 18346\n",
      "[LightGBM] [Warning] Auto-choosing col-wise multi-threading, the overhead of testing was 0.004252 seconds.\n",
      "You can set `force_col_wise=true` to remove the overhead.\n",
      "[LightGBM] [Info] Total Bins 13440\n",
      "[LightGBM] [Info] Number of data points in the train set: 23420, number of used features: 94\n",
      "[LightGBM] [Info] [binary:BoostFromScore]: pavg=0.216652 -> initscore=-1.285282\n",
      "[LightGBM] [Info] Start training from score -1.285282\n",
      "Training until validation scores don't improve for 10 rounds\n"
     ]
    },
    {
     "name": "stderr",
     "output_type": "stream",
     "text": [
      "\n",
      "num_leaves, val_score: 0.421116:  75%|#######5  | 15/20 [00:16<00:01,  2.74it/s]\u001b[A\n",
      "num_leaves, val_score: 0.421116:  80%|########  | 16/20 [00:16<00:01,  2.83it/s]\u001b[A\u001b[32m[I 2021-10-27 14:31:31,628]\u001b[0m Trial 22 finished with value: 0.42674677237372327 and parameters: {'num_leaves': 38}. Best is trial 20 with value: 0.4211158075136087.\u001b[0m\n",
      "\n",
      "num_leaves, val_score: 0.421116:  80%|########  | 16/20 [00:16<00:01,  2.83it/s]\u001b[A"
     ]
    },
    {
     "name": "stdout",
     "output_type": "stream",
     "text": [
      "Early stopping, best iteration is:\n",
      "[33]\tvalid_0's binary_logloss: 0.361307\tvalid_1's binary_logloss: 0.426747\n",
      "[LightGBM] [Info] Number of positive: 5074, number of negative: 18346\n",
      "[LightGBM] [Warning] Auto-choosing col-wise multi-threading, the overhead of testing was 0.004069 seconds.\n",
      "You can set `force_col_wise=true` to remove the overhead.\n",
      "[LightGBM] [Info] Total Bins 13440\n",
      "[LightGBM] [Info] Number of data points in the train set: 23420, number of used features: 94\n",
      "[LightGBM] [Info] [binary:BoostFromScore]: pavg=0.216652 -> initscore=-1.285282\n",
      "[LightGBM] [Info] Start training from score -1.285282\n",
      "Training until validation scores don't improve for 10 rounds\n"
     ]
    },
    {
     "name": "stderr",
     "output_type": "stream",
     "text": [
      "\n",
      "num_leaves, val_score: 0.421116:  80%|########  | 16/20 [00:17<00:01,  2.83it/s]\u001b[A\n",
      "num_leaves, val_score: 0.421116:  85%|########5 | 17/20 [00:17<00:01,  2.32it/s]\u001b[A\u001b[32m[I 2021-10-27 14:31:32,243]\u001b[0m Trial 23 finished with value: 0.43516441289579116 and parameters: {'num_leaves': 180}. Best is trial 20 with value: 0.4211158075136087.\u001b[0m\n",
      "\n",
      "num_leaves, val_score: 0.421116:  85%|########5 | 17/20 [00:17<00:01,  2.32it/s]\u001b[A"
     ]
    },
    {
     "name": "stdout",
     "output_type": "stream",
     "text": [
      "Early stopping, best iteration is:\n",
      "[26]\tvalid_0's binary_logloss: 0.275451\tvalid_1's binary_logloss: 0.435164\n",
      "[LightGBM] [Info] Number of positive: 5074, number of negative: 18346\n",
      "[LightGBM] [Warning] Auto-choosing col-wise multi-threading, the overhead of testing was 0.006058 seconds.\n",
      "You can set `force_col_wise=true` to remove the overhead.\n",
      "[LightGBM] [Info] Total Bins 13440\n",
      "[LightGBM] [Info] Number of data points in the train set: 23420, number of used features: 94\n",
      "[LightGBM] [Info] [binary:BoostFromScore]: pavg=0.216652 -> initscore=-1.285282\n",
      "[LightGBM] [Info] Start training from score -1.285282\n",
      "Training until validation scores don't improve for 10 rounds\n"
     ]
    },
    {
     "name": "stderr",
     "output_type": "stream",
     "text": [
      "\n",
      "num_leaves, val_score: 0.421116:  85%|########5 | 17/20 [00:17<00:01,  2.32it/s]\u001b[A\n",
      "num_leaves, val_score: 0.421116:  90%|######### | 18/20 [00:17<00:00,  2.28it/s]\u001b[A\u001b[32m[I 2021-10-27 14:31:32,695]\u001b[0m Trial 24 finished with value: 0.4330549154643964 and parameters: {'num_leaves': 112}. Best is trial 20 with value: 0.4211158075136087.\u001b[0m\n",
      "\n",
      "num_leaves, val_score: 0.421116:  90%|######### | 18/20 [00:17<00:00,  2.28it/s]\u001b[A"
     ]
    },
    {
     "name": "stdout",
     "output_type": "stream",
     "text": [
      "Early stopping, best iteration is:\n",
      "[26]\tvalid_0's binary_logloss: 0.314282\tvalid_1's binary_logloss: 0.433055\n",
      "[LightGBM] [Info] Number of positive: 5074, number of negative: 18346\n",
      "[LightGBM] [Warning] Auto-choosing col-wise multi-threading, the overhead of testing was 0.006838 seconds.\n",
      "You can set `force_col_wise=true` to remove the overhead.\n",
      "[LightGBM] [Info] Total Bins 13440\n",
      "[LightGBM] [Info] Number of data points in the train set: 23420, number of used features: 94\n",
      "[LightGBM] [Info] [binary:BoostFromScore]: pavg=0.216652 -> initscore=-1.285282\n",
      "[LightGBM] [Info] Start training from score -1.285282\n",
      "Training until validation scores don't improve for 10 rounds\n"
     ]
    },
    {
     "name": "stderr",
     "output_type": "stream",
     "text": [
      "\n",
      "num_leaves, val_score: 0.421116:  90%|######### | 18/20 [00:18<00:00,  2.28it/s]\u001b[A\n",
      "num_leaves, val_score: 0.421116:  95%|#########5| 19/20 [00:18<00:00,  2.48it/s]\u001b[A\u001b[32m[I 2021-10-27 14:31:33,016]\u001b[0m Trial 25 finished with value: 0.4272926334798132 and parameters: {'num_leaves': 37}. Best is trial 20 with value: 0.4211158075136087.\u001b[0m\n",
      "\n",
      "num_leaves, val_score: 0.421116:  95%|#########5| 19/20 [00:18<00:00,  2.48it/s]\u001b[A"
     ]
    },
    {
     "name": "stdout",
     "output_type": "stream",
     "text": [
      "Early stopping, best iteration is:\n",
      "[31]\tvalid_0's binary_logloss: 0.365243\tvalid_1's binary_logloss: 0.427293\n",
      "[LightGBM] [Info] Number of positive: 5074, number of negative: 18346\n",
      "[LightGBM] [Warning] Auto-choosing col-wise multi-threading, the overhead of testing was 0.004101 seconds.\n",
      "You can set `force_col_wise=true` to remove the overhead.\n",
      "[LightGBM] [Info] Total Bins 13440\n",
      "[LightGBM] [Info] Number of data points in the train set: 23420, number of used features: 94\n",
      "[LightGBM] [Info] [binary:BoostFromScore]: pavg=0.216652 -> initscore=-1.285282\n",
      "[LightGBM] [Info] Start training from score -1.285282\n",
      "Training until validation scores don't improve for 10 rounds\n"
     ]
    },
    {
     "name": "stderr",
     "output_type": "stream",
     "text": [
      "\n",
      "num_leaves, val_score: 0.421116:  95%|#########5| 19/20 [00:18<00:00,  2.48it/s]\u001b[A\n",
      "num_leaves, val_score: 0.421116: 100%|##########| 20/20 [00:18<00:00,  2.24it/s]\u001b[A\u001b[32m[I 2021-10-27 14:31:33,561]\u001b[0m Trial 26 finished with value: 0.43532567843428155 and parameters: {'num_leaves': 162}. Best is trial 20 with value: 0.4211158075136087.\u001b[0m\n",
      "num_leaves, val_score: 0.421116: 100%|##########| 20/20 [00:18<00:00,  1.08it/s]\n"
     ]
    },
    {
     "name": "stdout",
     "output_type": "stream",
     "text": [
      "Early stopping, best iteration is:\n",
      "[26]\tvalid_0's binary_logloss: 0.283939\tvalid_1's binary_logloss: 0.435326\n"
     ]
    },
    {
     "name": "stderr",
     "output_type": "stream",
     "text": [
      "bagging, val_score: 0.421116:   0%|                      | 0/10 [00:00<?, ?it/s]"
     ]
    },
    {
     "name": "stdout",
     "output_type": "stream",
     "text": [
      "[LightGBM] [Info] Number of positive: 5074, number of negative: 18346\n",
      "[LightGBM] [Warning] Auto-choosing col-wise multi-threading, the overhead of testing was 0.004274 seconds.\n",
      "You can set `force_col_wise=true` to remove the overhead.\n",
      "[LightGBM] [Info] Total Bins 13440\n",
      "[LightGBM] [Info] Number of data points in the train set: 23420, number of used features: 94\n",
      "[LightGBM] [Info] [binary:BoostFromScore]: pavg=0.216652 -> initscore=-1.285282\n",
      "[LightGBM] [Info] Start training from score -1.285282\n",
      "Training until validation scores don't improve for 10 rounds\n",
      "[100]\tvalid_0's binary_logloss: 0.402763\tvalid_1's binary_logloss: 0.421798\n"
     ]
    },
    {
     "name": "stderr",
     "output_type": "stream",
     "text": [
      "bagging, val_score: 0.421116:  10%|#4            | 1/10 [00:00<00:02,  3.39it/s]\u001b[32m[I 2021-10-27 14:31:33,859]\u001b[0m Trial 27 finished with value: 0.4211848369430815 and parameters: {'bagging_fraction': 0.7689169534727462, 'bagging_freq': 2}. Best is trial 27 with value: 0.4211848369430815.\u001b[0m\n",
      "bagging, val_score: 0.421116:  10%|#4            | 1/10 [00:00<00:02,  3.39it/s]"
     ]
    },
    {
     "name": "stdout",
     "output_type": "stream",
     "text": [
      "Early stopping, best iteration is:\n",
      "[120]\tvalid_0's binary_logloss: 0.40192\tvalid_1's binary_logloss: 0.421185\n",
      "[LightGBM] [Info] Number of positive: 5074, number of negative: 18346\n",
      "[LightGBM] [Warning] Auto-choosing col-wise multi-threading, the overhead of testing was 0.005522 seconds.\n",
      "You can set `force_col_wise=true` to remove the overhead.\n",
      "[LightGBM] [Info] Total Bins 13440\n",
      "[LightGBM] [Info] Number of data points in the train set: 23420, number of used features: 94\n",
      "[LightGBM] [Info] [binary:BoostFromScore]: pavg=0.216652 -> initscore=-1.285282\n",
      "[LightGBM] [Info] Start training from score -1.285282\n",
      "Training until validation scores don't improve for 10 rounds\n"
     ]
    },
    {
     "name": "stderr",
     "output_type": "stream",
     "text": [
      "bagging, val_score: 0.421116:  20%|##8           | 2/10 [00:00<00:02,  3.47it/s]\u001b[32m[I 2021-10-27 14:31:34,143]\u001b[0m Trial 28 finished with value: 0.4214874830062372 and parameters: {'bagging_fraction': 0.8246791141002099, 'bagging_freq': 5}. Best is trial 27 with value: 0.4211848369430815.\u001b[0m\n",
      "bagging, val_score: 0.421116:  20%|##8           | 2/10 [00:00<00:02,  3.47it/s]"
     ]
    },
    {
     "name": "stdout",
     "output_type": "stream",
     "text": [
      "[100]\tvalid_0's binary_logloss: 0.402868\tvalid_1's binary_logloss: 0.421714\n",
      "Early stopping, best iteration is:\n",
      "[115]\tvalid_0's binary_logloss: 0.402237\tvalid_1's binary_logloss: 0.421487\n",
      "[LightGBM] [Info] Number of positive: 5074, number of negative: 18346\n",
      "[LightGBM] [Warning] Auto-choosing col-wise multi-threading, the overhead of testing was 0.003948 seconds.\n",
      "You can set `force_col_wise=true` to remove the overhead.\n",
      "[LightGBM] [Info] Total Bins 13440\n",
      "[LightGBM] [Info] Number of data points in the train set: 23420, number of used features: 94\n",
      "[LightGBM] [Info] [binary:BoostFromScore]: pavg=0.216652 -> initscore=-1.285282\n",
      "[LightGBM] [Info] Start training from score -1.285282\n",
      "Training until validation scores don't improve for 10 rounds\n"
     ]
    },
    {
     "name": "stderr",
     "output_type": "stream",
     "text": [
      "bagging, val_score: 0.421116:  30%|####2         | 3/10 [00:00<00:01,  3.56it/s]\u001b[32m[I 2021-10-27 14:31:34,415]\u001b[0m Trial 29 finished with value: 0.4216463133425539 and parameters: {'bagging_fraction': 0.6078591653825837, 'bagging_freq': 1}. Best is trial 27 with value: 0.4211848369430815.\u001b[0m\n",
      "bagging, val_score: 0.421116:  30%|####2         | 3/10 [00:00<00:01,  3.56it/s]"
     ]
    },
    {
     "name": "stdout",
     "output_type": "stream",
     "text": [
      "[100]\tvalid_0's binary_logloss: 0.402899\tvalid_1's binary_logloss: 0.422027\n",
      "Early stopping, best iteration is:\n",
      "[115]\tvalid_0's binary_logloss: 0.40206\tvalid_1's binary_logloss: 0.421646\n",
      "[LightGBM] [Info] Number of positive: 5074, number of negative: 18346\n",
      "[LightGBM] [Warning] Auto-choosing col-wise multi-threading, the overhead of testing was 0.006177 seconds.\n",
      "You can set `force_col_wise=true` to remove the overhead.\n",
      "[LightGBM] [Info] Total Bins 13440\n",
      "[LightGBM] [Info] Number of data points in the train set: 23420, number of used features: 94\n",
      "[LightGBM] [Info] [binary:BoostFromScore]: pavg=0.216652 -> initscore=-1.285282\n",
      "[LightGBM] [Info] Start training from score -1.285282\n",
      "Training until validation scores don't improve for 10 rounds\n"
     ]
    },
    {
     "name": "stderr",
     "output_type": "stream",
     "text": [
      "bagging, val_score: 0.421034:  40%|#####6        | 4/10 [00:01<00:01,  3.28it/s]\u001b[32m[I 2021-10-27 14:31:34,757]\u001b[0m Trial 30 finished with value: 0.42103423691016467 and parameters: {'bagging_fraction': 0.9980351277335815, 'bagging_freq': 6}. Best is trial 30 with value: 0.42103423691016467.\u001b[0m\n",
      "bagging, val_score: 0.421034:  40%|#####6        | 4/10 [00:01<00:01,  3.28it/s]"
     ]
    },
    {
     "name": "stdout",
     "output_type": "stream",
     "text": [
      "[100]\tvalid_0's binary_logloss: 0.402834\tvalid_1's binary_logloss: 0.421549\n",
      "Early stopping, best iteration is:\n",
      "[153]\tvalid_0's binary_logloss: 0.401193\tvalid_1's binary_logloss: 0.421034\n",
      "[LightGBM] [Info] Number of positive: 5074, number of negative: 18346\n",
      "[LightGBM] [Warning] Auto-choosing col-wise multi-threading, the overhead of testing was 0.004953 seconds.\n",
      "You can set `force_col_wise=true` to remove the overhead.\n",
      "[LightGBM] [Info] Total Bins 13440\n",
      "[LightGBM] [Info] Number of data points in the train set: 23420, number of used features: 94\n",
      "[LightGBM] [Info] [binary:BoostFromScore]: pavg=0.216652 -> initscore=-1.285282\n",
      "[LightGBM] [Info] Start training from score -1.285282\n",
      "Training until validation scores don't improve for 10 rounds\n",
      "[100]\tvalid_0's binary_logloss: 0.402741\tvalid_1's binary_logloss: 0.421544\n"
     ]
    },
    {
     "name": "stderr",
     "output_type": "stream",
     "text": [
      "bagging, val_score: 0.421034:  50%|#######       | 5/10 [00:01<00:01,  3.08it/s]\u001b[32m[I 2021-10-27 14:31:35,117]\u001b[0m Trial 31 finished with value: 0.4211444504660714 and parameters: {'bagging_fraction': 0.9612002271357409, 'bagging_freq': 2}. Best is trial 30 with value: 0.42103423691016467.\u001b[0m\n",
      "bagging, val_score: 0.421034:  50%|#######       | 5/10 [00:01<00:01,  3.08it/s]"
     ]
    },
    {
     "name": "stdout",
     "output_type": "stream",
     "text": [
      "Early stopping, best iteration is:\n",
      "[157]\tvalid_0's binary_logloss: 0.400933\tvalid_1's binary_logloss: 0.421144\n",
      "[LightGBM] [Info] Number of positive: 5074, number of negative: 18346\n",
      "[LightGBM] [Warning] Auto-choosing col-wise multi-threading, the overhead of testing was 0.006766 seconds.\n",
      "You can set `force_col_wise=true` to remove the overhead.\n",
      "[LightGBM] [Info] Total Bins 13440\n",
      "[LightGBM] [Info] Number of data points in the train set: 23420, number of used features: 94\n",
      "[LightGBM] [Info] [binary:BoostFromScore]: pavg=0.216652 -> initscore=-1.285282\n",
      "[LightGBM] [Info] Start training from score -1.285282\n",
      "Training until validation scores don't improve for 10 rounds\n"
     ]
    },
    {
     "name": "stderr",
     "output_type": "stream",
     "text": [
      "bagging, val_score: 0.421034:  60%|########4     | 6/10 [00:01<00:01,  3.11it/s]\u001b[32m[I 2021-10-27 14:31:35,434]\u001b[0m Trial 32 finished with value: 0.42119585380613944 and parameters: {'bagging_fraction': 0.841639544361791, 'bagging_freq': 2}. Best is trial 30 with value: 0.42103423691016467.\u001b[0m\n",
      "bagging, val_score: 0.421034:  60%|########4     | 6/10 [00:01<00:01,  3.11it/s]"
     ]
    },
    {
     "name": "stdout",
     "output_type": "stream",
     "text": [
      "[100]\tvalid_0's binary_logloss: 0.402764\tvalid_1's binary_logloss: 0.421776\n",
      "Early stopping, best iteration is:\n",
      "[130]\tvalid_0's binary_logloss: 0.401575\tvalid_1's binary_logloss: 0.421196\n",
      "[LightGBM] [Info] Number of positive: 5074, number of negative: 18346\n",
      "[LightGBM] [Warning] Auto-choosing col-wise multi-threading, the overhead of testing was 0.003962 seconds.\n",
      "You can set `force_col_wise=true` to remove the overhead.\n",
      "[LightGBM] [Info] Total Bins 13440\n",
      "[LightGBM] [Info] Number of data points in the train set: 23420, number of used features: 94\n",
      "[LightGBM] [Info] [binary:BoostFromScore]: pavg=0.216652 -> initscore=-1.285282\n",
      "[LightGBM] [Info] Start training from score -1.285282\n",
      "Training until validation scores don't improve for 10 rounds\n"
     ]
    },
    {
     "name": "stderr",
     "output_type": "stream",
     "text": [
      "bagging, val_score: 0.421034:  70%|#########7    | 7/10 [00:02<00:00,  3.28it/s]\u001b[32m[I 2021-10-27 14:31:35,704]\u001b[0m Trial 33 finished with value: 0.4214836128579703 and parameters: {'bagging_fraction': 0.6043473648795493, 'bagging_freq': 6}. Best is trial 30 with value: 0.42103423691016467.\u001b[0m\n",
      "bagging, val_score: 0.421034:  70%|#########7    | 7/10 [00:02<00:00,  3.28it/s]"
     ]
    },
    {
     "name": "stdout",
     "output_type": "stream",
     "text": [
      "[100]\tvalid_0's binary_logloss: 0.403025\tvalid_1's binary_logloss: 0.42215\n",
      "Early stopping, best iteration is:\n",
      "[118]\tvalid_0's binary_logloss: 0.402231\tvalid_1's binary_logloss: 0.421484\n",
      "[LightGBM] [Info] Number of positive: 5074, number of negative: 18346\n",
      "[LightGBM] [Warning] Auto-choosing col-wise multi-threading, the overhead of testing was 0.006578 seconds.\n",
      "You can set `force_col_wise=true` to remove the overhead.\n",
      "[LightGBM] [Info] Total Bins 13440\n",
      "[LightGBM] [Info] Number of data points in the train set: 23420, number of used features: 94\n",
      "[LightGBM] [Info] [binary:BoostFromScore]: pavg=0.216652 -> initscore=-1.285282\n",
      "[LightGBM] [Info] Start training from score -1.285282\n",
      "Training until validation scores don't improve for 10 rounds\n"
     ]
    },
    {
     "name": "stderr",
     "output_type": "stream",
     "text": [
      "bagging, val_score: 0.421034:  80%|###########2  | 8/10 [00:02<00:00,  3.41it/s]\u001b[32m[I 2021-10-27 14:31:35,973]\u001b[0m Trial 34 finished with value: 0.421611104571377 and parameters: {'bagging_fraction': 0.5277383555284707, 'bagging_freq': 7}. Best is trial 30 with value: 0.42103423691016467.\u001b[0m\n",
      "bagging, val_score: 0.421034:  80%|###########2  | 8/10 [00:02<00:00,  3.41it/s]"
     ]
    },
    {
     "name": "stdout",
     "output_type": "stream",
     "text": [
      "[100]\tvalid_0's binary_logloss: 0.403126\tvalid_1's binary_logloss: 0.422179\n",
      "Early stopping, best iteration is:\n",
      "[124]\tvalid_0's binary_logloss: 0.402129\tvalid_1's binary_logloss: 0.421611\n",
      "[LightGBM] [Info] Number of positive: 5074, number of negative: 18346\n",
      "[LightGBM] [Warning] Auto-choosing col-wise multi-threading, the overhead of testing was 0.004349 seconds.\n",
      "You can set `force_col_wise=true` to remove the overhead.\n",
      "[LightGBM] [Info] Total Bins 13440\n",
      "[LightGBM] [Info] Number of data points in the train set: 23420, number of used features: 94\n",
      "[LightGBM] [Info] [binary:BoostFromScore]: pavg=0.216652 -> initscore=-1.285282\n",
      "[LightGBM] [Info] Start training from score -1.285282\n",
      "Training until validation scores don't improve for 10 rounds\n"
     ]
    },
    {
     "name": "stderr",
     "output_type": "stream",
     "text": [
      "bagging, val_score: 0.421034:  90%|############6 | 9/10 [00:02<00:00,  3.38it/s]\u001b[32m[I 2021-10-27 14:31:36,275]\u001b[0m Trial 35 finished with value: 0.421273038818338 and parameters: {'bagging_fraction': 0.5714124018527851, 'bagging_freq': 2}. Best is trial 30 with value: 0.42103423691016467.\u001b[0m\n",
      "bagging, val_score: 0.421034:  90%|############6 | 9/10 [00:02<00:00,  3.38it/s]"
     ]
    },
    {
     "name": "stdout",
     "output_type": "stream",
     "text": [
      "[100]\tvalid_0's binary_logloss: 0.40269\tvalid_1's binary_logloss: 0.42184\n",
      "Early stopping, best iteration is:\n",
      "[140]\tvalid_0's binary_logloss: 0.400969\tvalid_1's binary_logloss: 0.421273\n",
      "[LightGBM] [Info] Number of positive: 5074, number of negative: 18346\n",
      "[LightGBM] [Warning] Auto-choosing col-wise multi-threading, the overhead of testing was 0.005222 seconds.\n",
      "You can set `force_col_wise=true` to remove the overhead.\n",
      "[LightGBM] [Info] Total Bins 13440\n",
      "[LightGBM] [Info] Number of data points in the train set: 23420, number of used features: 94\n",
      "[LightGBM] [Info] [binary:BoostFromScore]: pavg=0.216652 -> initscore=-1.285282\n",
      "[LightGBM] [Info] Start training from score -1.285282\n",
      "Training until validation scores don't improve for 10 rounds\n"
     ]
    },
    {
     "name": "stderr",
     "output_type": "stream",
     "text": [
      "bagging, val_score: 0.421034: 100%|#############| 10/10 [00:03<00:00,  3.30it/s]\u001b[32m[I 2021-10-27 14:31:36,592]\u001b[0m Trial 36 finished with value: 0.4211457439892617 and parameters: {'bagging_fraction': 0.6324708153120978, 'bagging_freq': 1}. Best is trial 30 with value: 0.42103423691016467.\u001b[0m\n",
      "bagging, val_score: 0.421034: 100%|#############| 10/10 [00:03<00:00,  3.30it/s]\n"
     ]
    },
    {
     "name": "stdout",
     "output_type": "stream",
     "text": [
      "[100]\tvalid_0's binary_logloss: 0.402869\tvalid_1's binary_logloss: 0.421935\n",
      "Early stopping, best iteration is:\n",
      "[151]\tvalid_0's binary_logloss: 0.400882\tvalid_1's binary_logloss: 0.421146\n"
     ]
    },
    {
     "name": "stderr",
     "output_type": "stream",
     "text": [
      "feature_fraction_stage2, val_score: 0.421034:   0%|       | 0/6 [00:00<?, ?it/s]"
     ]
    },
    {
     "name": "stdout",
     "output_type": "stream",
     "text": [
      "[LightGBM] [Info] Number of positive: 5074, number of negative: 18346\n",
      "[LightGBM] [Warning] Auto-choosing col-wise multi-threading, the overhead of testing was 0.004077 seconds.\n",
      "You can set `force_col_wise=true` to remove the overhead.\n",
      "[LightGBM] [Info] Total Bins 13440\n",
      "[LightGBM] [Info] Number of data points in the train set: 23420, number of used features: 94\n",
      "[LightGBM] [Info] [binary:BoostFromScore]: pavg=0.216652 -> initscore=-1.285282\n",
      "[LightGBM] [Info] Start training from score -1.285282\n",
      "Training until validation scores don't improve for 10 rounds\n",
      "[100]\tvalid_0's binary_logloss: 0.402903\tvalid_1's binary_logloss: 0.421605\n"
     ]
    },
    {
     "name": "stderr",
     "output_type": "stream",
     "text": [
      "feature_fraction_stage2, val_score: 0.421031:  17%|1| 1/6 [00:00<00:01,  3.15it/\u001b[32m[I 2021-10-27 14:31:36,912]\u001b[0m Trial 37 finished with value: 0.4210306008280355 and parameters: {'feature_fraction': 0.652}. Best is trial 37 with value: 0.4210306008280355.\u001b[0m\n",
      "feature_fraction_stage2, val_score: 0.421031:  17%|1| 1/6 [00:00<00:01,  3.15it/"
     ]
    },
    {
     "name": "stdout",
     "output_type": "stream",
     "text": [
      "Early stopping, best iteration is:\n",
      "[131]\tvalid_0's binary_logloss: 0.401784\tvalid_1's binary_logloss: 0.421031\n",
      "[LightGBM] [Info] Number of positive: 5074, number of negative: 18346\n",
      "[LightGBM] [Warning] Auto-choosing col-wise multi-threading, the overhead of testing was 0.004196 seconds.\n",
      "You can set `force_col_wise=true` to remove the overhead.\n",
      "[LightGBM] [Info] Total Bins 13440\n",
      "[LightGBM] [Info] Number of data points in the train set: 23420, number of used features: 94\n",
      "[LightGBM] [Info] [binary:BoostFromScore]: pavg=0.216652 -> initscore=-1.285282\n",
      "[LightGBM] [Info] Start training from score -1.285282\n",
      "Training until validation scores don't improve for 10 rounds\n"
     ]
    },
    {
     "name": "stderr",
     "output_type": "stream",
     "text": [
      "feature_fraction_stage2, val_score: 0.421031:  33%|3| 2/6 [00:00<00:01,  3.14it/\u001b[32m[I 2021-10-27 14:31:37,232]\u001b[0m Trial 38 finished with value: 0.42112401918227355 and parameters: {'feature_fraction': 0.6839999999999999}. Best is trial 37 with value: 0.4210306008280355.\u001b[0m\n",
      "feature_fraction_stage2, val_score: 0.421031:  33%|3| 2/6 [00:00<00:01,  3.14it/"
     ]
    },
    {
     "name": "stdout",
     "output_type": "stream",
     "text": [
      "[100]\tvalid_0's binary_logloss: 0.402906\tvalid_1's binary_logloss: 0.421639\n",
      "Early stopping, best iteration is:\n",
      "[133]\tvalid_0's binary_logloss: 0.401725\tvalid_1's binary_logloss: 0.421124\n",
      "[LightGBM] [Info] Number of positive: 5074, number of negative: 18346\n",
      "[LightGBM] [Warning] Auto-choosing col-wise multi-threading, the overhead of testing was 0.004279 seconds.\n",
      "You can set `force_col_wise=true` to remove the overhead.\n",
      "[LightGBM] [Info] Total Bins 13440\n",
      "[LightGBM] [Info] Number of data points in the train set: 23420, number of used features: 94\n",
      "[LightGBM] [Info] [binary:BoostFromScore]: pavg=0.216652 -> initscore=-1.285282\n",
      "[LightGBM] [Info] Start training from score -1.285282\n",
      "Training until validation scores don't improve for 10 rounds\n"
     ]
    },
    {
     "name": "stderr",
     "output_type": "stream",
     "text": [
      "feature_fraction_stage2, val_score: 0.420905:  50%|5| 3/6 [00:00<00:00,  3.17it/\u001b[32m[I 2021-10-27 14:31:37,544]\u001b[0m Trial 39 finished with value: 0.4209051788548438 and parameters: {'feature_fraction': 0.748}. Best is trial 39 with value: 0.4209051788548438.\u001b[0m\n",
      "feature_fraction_stage2, val_score: 0.420905:  50%|5| 3/6 [00:00<00:00,  3.17it/"
     ]
    },
    {
     "name": "stdout",
     "output_type": "stream",
     "text": [
      "[100]\tvalid_0's binary_logloss: 0.402592\tvalid_1's binary_logloss: 0.421195\n",
      "Early stopping, best iteration is:\n",
      "[132]\tvalid_0's binary_logloss: 0.401602\tvalid_1's binary_logloss: 0.420905\n",
      "[LightGBM] [Info] Number of positive: 5074, number of negative: 18346\n",
      "[LightGBM] [Warning] Auto-choosing col-wise multi-threading, the overhead of testing was 0.004108 seconds.\n",
      "You can set `force_col_wise=true` to remove the overhead.\n",
      "[LightGBM] [Info] Total Bins 13440\n",
      "[LightGBM] [Info] Number of data points in the train set: 23420, number of used features: 94\n",
      "[LightGBM] [Info] [binary:BoostFromScore]: pavg=0.216652 -> initscore=-1.285282\n",
      "[LightGBM] [Info] Start training from score -1.285282\n",
      "Training until validation scores don't improve for 10 rounds\n"
     ]
    },
    {
     "name": "stderr",
     "output_type": "stream",
     "text": [
      "feature_fraction_stage2, val_score: 0.420905:  67%|6| 4/6 [00:01<00:00,  3.19it/\u001b[32m[I 2021-10-27 14:31:37,853]\u001b[0m Trial 40 finished with value: 0.42113155081298825 and parameters: {'feature_fraction': 0.716}. Best is trial 39 with value: 0.4209051788548438.\u001b[0m\n",
      "feature_fraction_stage2, val_score: 0.420905:  67%|6| 4/6 [00:01<00:00,  3.19it/"
     ]
    },
    {
     "name": "stdout",
     "output_type": "stream",
     "text": [
      "[100]\tvalid_0's binary_logloss: 0.402834\tvalid_1's binary_logloss: 0.421549\n",
      "Early stopping, best iteration is:\n",
      "[132]\tvalid_0's binary_logloss: 0.401726\tvalid_1's binary_logloss: 0.421132\n",
      "[LightGBM] [Info] Number of positive: 5074, number of negative: 18346\n",
      "[LightGBM] [Warning] Auto-choosing col-wise multi-threading, the overhead of testing was 0.004084 seconds.\n",
      "You can set `force_col_wise=true` to remove the overhead.\n",
      "[LightGBM] [Info] Total Bins 13440\n",
      "[LightGBM] [Info] Number of data points in the train set: 23420, number of used features: 94\n",
      "[LightGBM] [Info] [binary:BoostFromScore]: pavg=0.216652 -> initscore=-1.285282\n",
      "[LightGBM] [Info] Start training from score -1.285282\n",
      "Training until validation scores don't improve for 10 rounds\n"
     ]
    },
    {
     "name": "stderr",
     "output_type": "stream",
     "text": [
      "feature_fraction_stage2, val_score: 0.420905:  83%|8| 5/6 [00:01<00:00,  3.27it/\u001b[32m[I 2021-10-27 14:31:38,147]\u001b[0m Trial 41 finished with value: 0.4209372570781769 and parameters: {'feature_fraction': 0.7799999999999999}. Best is trial 39 with value: 0.4209051788548438.\u001b[0m\n",
      "feature_fraction_stage2, val_score: 0.420905:  83%|8| 5/6 [00:01<00:00,  3.27it/"
     ]
    },
    {
     "name": "stdout",
     "output_type": "stream",
     "text": [
      "[100]\tvalid_0's binary_logloss: 0.402585\tvalid_1's binary_logloss: 0.42118\n",
      "Early stopping, best iteration is:\n",
      "[115]\tvalid_0's binary_logloss: 0.402079\tvalid_1's binary_logloss: 0.420937\n",
      "[LightGBM] [Info] Number of positive: 5074, number of negative: 18346\n",
      "[LightGBM] [Warning] Auto-choosing col-wise multi-threading, the overhead of testing was 0.003878 seconds.\n",
      "You can set `force_col_wise=true` to remove the overhead.\n",
      "[LightGBM] [Info] Total Bins 13440\n",
      "[LightGBM] [Info] Number of data points in the train set: 23420, number of used features: 94\n",
      "[LightGBM] [Info] [binary:BoostFromScore]: pavg=0.216652 -> initscore=-1.285282\n",
      "[LightGBM] [Info] Start training from score -1.285282\n",
      "Training until validation scores don't improve for 10 rounds\n"
     ]
    },
    {
     "name": "stderr",
     "output_type": "stream",
     "text": [
      "feature_fraction_stage2, val_score: 0.420905: 100%|#| 6/6 [00:01<00:00,  3.12it/\u001b[32m[I 2021-10-27 14:31:38,497]\u001b[0m Trial 42 finished with value: 0.4210640736209 and parameters: {'feature_fraction': 0.62}. Best is trial 39 with value: 0.4209051788548438.\u001b[0m\n",
      "feature_fraction_stage2, val_score: 0.420905: 100%|#| 6/6 [00:01<00:00,  3.15it/\n"
     ]
    },
    {
     "name": "stdout",
     "output_type": "stream",
     "text": [
      "[100]\tvalid_0's binary_logloss: 0.403292\tvalid_1's binary_logloss: 0.421974\n",
      "Early stopping, best iteration is:\n",
      "[158]\tvalid_0's binary_logloss: 0.401249\tvalid_1's binary_logloss: 0.421064\n"
     ]
    },
    {
     "name": "stderr",
     "output_type": "stream",
     "text": [
      "regularization_factors, val_score: 0.420905:   0%|       | 0/20 [00:00<?, ?it/s]"
     ]
    },
    {
     "name": "stdout",
     "output_type": "stream",
     "text": [
      "[LightGBM] [Info] Number of positive: 5074, number of negative: 18346\n",
      "[LightGBM] [Warning] Auto-choosing col-wise multi-threading, the overhead of testing was 0.006365 seconds.\n",
      "You can set `force_col_wise=true` to remove the overhead.\n",
      "[LightGBM] [Info] Total Bins 13440\n",
      "[LightGBM] [Info] Number of data points in the train set: 23420, number of used features: 94\n",
      "[LightGBM] [Info] [binary:BoostFromScore]: pavg=0.216652 -> initscore=-1.285282\n",
      "[LightGBM] [Info] Start training from score -1.285282\n",
      "Training until validation scores don't improve for 10 rounds\n",
      "[100]\tvalid_0's binary_logloss: 0.402709\tvalid_1's binary_logloss: 0.42128\n"
     ]
    },
    {
     "name": "stderr",
     "output_type": "stream",
     "text": [
      "regularization_factors, val_score: 0.420905:   5%| | 1/20 [00:00<00:05,  3.23it/\u001b[32m[I 2021-10-27 14:31:38,810]\u001b[0m Trial 43 finished with value: 0.4211084046191887 and parameters: {'lambda_l1': 2.0759636578225655, 'lambda_l2': 1.8472955697249507}. Best is trial 43 with value: 0.4211084046191887.\u001b[0m\n",
      "regularization_factors, val_score: 0.420905:   5%| | 1/20 [00:00<00:05,  3.23it/"
     ]
    },
    {
     "name": "stdout",
     "output_type": "stream",
     "text": [
      "Early stopping, best iteration is:\n",
      "[125]\tvalid_0's binary_logloss: 0.401941\tvalid_1's binary_logloss: 0.421108\n",
      "[LightGBM] [Info] Number of positive: 5074, number of negative: 18346\n",
      "[LightGBM] [Warning] Auto-choosing col-wise multi-threading, the overhead of testing was 0.004287 seconds.\n",
      "You can set `force_col_wise=true` to remove the overhead.\n",
      "[LightGBM] [Info] Total Bins 13440\n",
      "[LightGBM] [Info] Number of data points in the train set: 23420, number of used features: 94\n",
      "[LightGBM] [Info] [binary:BoostFromScore]: pavg=0.216652 -> initscore=-1.285282\n",
      "[LightGBM] [Info] Start training from score -1.285282\n",
      "Training until validation scores don't improve for 10 rounds\n",
      "[100]\tvalid_0's binary_logloss: 0.402591\tvalid_1's binary_logloss: 0.421164\n"
     ]
    },
    {
     "name": "stderr",
     "output_type": "stream",
     "text": [
      "regularization_factors, val_score: 0.420905:  10%|1| 2/20 [00:00<00:05,  3.31it/\u001b[32m[I 2021-10-27 14:31:39,106]\u001b[0m Trial 44 finished with value: 0.420908647344163 and parameters: {'lambda_l1': 3.247017514745793e-05, 'lambda_l2': 0.001691195219649693}. Best is trial 44 with value: 0.420908647344163.\u001b[0m\n",
      "regularization_factors, val_score: 0.420905:  10%|1| 2/20 [00:00<00:05,  3.31it/"
     ]
    },
    {
     "name": "stdout",
     "output_type": "stream",
     "text": [
      "Early stopping, best iteration is:\n",
      "[122]\tvalid_0's binary_logloss: 0.40187\tvalid_1's binary_logloss: 0.420909\n",
      "[LightGBM] [Info] Number of positive: 5074, number of negative: 18346\n",
      "[LightGBM] [Warning] Auto-choosing col-wise multi-threading, the overhead of testing was 0.004070 seconds.\n",
      "You can set `force_col_wise=true` to remove the overhead.\n",
      "[LightGBM] [Info] Total Bins 13440\n",
      "[LightGBM] [Info] Number of data points in the train set: 23420, number of used features: 94\n",
      "[LightGBM] [Info] [binary:BoostFromScore]: pavg=0.216652 -> initscore=-1.285282\n",
      "[LightGBM] [Info] Start training from score -1.285282\n",
      "Training until validation scores don't improve for 10 rounds\n"
     ]
    },
    {
     "name": "stderr",
     "output_type": "stream",
     "text": [
      "regularization_factors, val_score: 0.420905:  15%|1| 3/20 [00:00<00:05,  3.09it/\u001b[32m[I 2021-10-27 14:31:39,456]\u001b[0m Trial 45 finished with value: 0.420908954201709 and parameters: {'lambda_l1': 1.3554259150021517e-08, 'lambda_l2': 0.017389976386396732}. Best is trial 44 with value: 0.420908647344163.\u001b[0m\n",
      "regularization_factors, val_score: 0.420905:  15%|1| 3/20 [00:00<00:05,  3.09it/"
     ]
    },
    {
     "name": "stdout",
     "output_type": "stream",
     "text": [
      "[100]\tvalid_0's binary_logloss: 0.402591\tvalid_1's binary_logloss: 0.421165\n",
      "Early stopping, best iteration is:\n",
      "[122]\tvalid_0's binary_logloss: 0.40187\tvalid_1's binary_logloss: 0.420909\n",
      "[LightGBM] [Info] Number of positive: 5074, number of negative: 18346\n",
      "[LightGBM] [Warning] Auto-choosing col-wise multi-threading, the overhead of testing was 0.004066 seconds.\n",
      "You can set `force_col_wise=true` to remove the overhead.\n",
      "[LightGBM] [Info] Total Bins 13440\n",
      "[LightGBM] [Info] Number of data points in the train set: 23420, number of used features: 94\n",
      "[LightGBM] [Info] [binary:BoostFromScore]: pavg=0.216652 -> initscore=-1.285282\n",
      "[LightGBM] [Info] Start training from score -1.285282\n",
      "Training until validation scores don't improve for 10 rounds\n"
     ]
    },
    {
     "name": "stderr",
     "output_type": "stream",
     "text": [
      "regularization_factors, val_score: 0.420905:  20%|2| 4/20 [00:01<00:05,  3.03it/\u001b[32m[I 2021-10-27 14:31:39,797]\u001b[0m Trial 46 finished with value: 0.42090882510115846 and parameters: {'lambda_l1': 0.0032705627600200884, 'lambda_l2': 0.0054774534528650625}. Best is trial 44 with value: 0.420908647344163.\u001b[0m\n",
      "regularization_factors, val_score: 0.420905:  20%|2| 4/20 [00:01<00:05,  3.03it/"
     ]
    },
    {
     "name": "stdout",
     "output_type": "stream",
     "text": [
      "[100]\tvalid_0's binary_logloss: 0.402591\tvalid_1's binary_logloss: 0.421165\n",
      "Early stopping, best iteration is:\n",
      "[122]\tvalid_0's binary_logloss: 0.40187\tvalid_1's binary_logloss: 0.420909\n",
      "[LightGBM] [Info] Number of positive: 5074, number of negative: 18346\n",
      "[LightGBM] [Warning] Auto-choosing col-wise multi-threading, the overhead of testing was 0.004272 seconds.\n",
      "You can set `force_col_wise=true` to remove the overhead.\n",
      "[LightGBM] [Info] Total Bins 13440\n",
      "[LightGBM] [Info] Number of data points in the train set: 23420, number of used features: 94\n",
      "[LightGBM] [Info] [binary:BoostFromScore]: pavg=0.216652 -> initscore=-1.285282\n",
      "[LightGBM] [Info] Start training from score -1.285282\n",
      "Training until validation scores don't improve for 10 rounds\n"
     ]
    },
    {
     "name": "stderr",
     "output_type": "stream",
     "text": [
      "regularization_factors, val_score: 0.420905:  25%|2| 5/20 [00:01<00:04,  3.09it/\u001b[32m[I 2021-10-27 14:31:40,108]\u001b[0m Trial 47 finished with value: 0.4209086425916035 and parameters: {'lambda_l1': 6.694189505369919e-07, 'lambda_l2': 0.0014999254846577088}. Best is trial 47 with value: 0.4209086425916035.\u001b[0m\n",
      "regularization_factors, val_score: 0.420905:  25%|2| 5/20 [00:01<00:04,  3.09it/"
     ]
    },
    {
     "name": "stdout",
     "output_type": "stream",
     "text": [
      "[100]\tvalid_0's binary_logloss: 0.402591\tvalid_1's binary_logloss: 0.421164\n",
      "Early stopping, best iteration is:\n",
      "[122]\tvalid_0's binary_logloss: 0.401869\tvalid_1's binary_logloss: 0.420909\n",
      "[LightGBM] [Info] Number of positive: 5074, number of negative: 18346\n",
      "[LightGBM] [Warning] Auto-choosing col-wise multi-threading, the overhead of testing was 0.004100 seconds.\n",
      "You can set `force_col_wise=true` to remove the overhead.\n",
      "[LightGBM] [Info] Total Bins 13440\n",
      "[LightGBM] [Info] Number of data points in the train set: 23420, number of used features: 94\n",
      "[LightGBM] [Info] [binary:BoostFromScore]: pavg=0.216652 -> initscore=-1.285282\n",
      "[LightGBM] [Info] Start training from score -1.285282\n",
      "Training until validation scores don't improve for 10 rounds\n"
     ]
    },
    {
     "name": "stderr",
     "output_type": "stream",
     "text": [
      "regularization_factors, val_score: 0.420905:  30%|3| 6/20 [00:01<00:04,  3.13it/\u001b[32m[I 2021-10-27 14:31:40,420]\u001b[0m Trial 48 finished with value: 0.4209087157710486 and parameters: {'lambda_l1': 0.00010272224054801713, 'lambda_l2': 0.005064087577638078}. Best is trial 47 with value: 0.4209086425916035.\u001b[0m\n",
      "regularization_factors, val_score: 0.420905:  30%|3| 6/20 [00:01<00:04,  3.13it/"
     ]
    },
    {
     "name": "stdout",
     "output_type": "stream",
     "text": [
      "[100]\tvalid_0's binary_logloss: 0.402591\tvalid_1's binary_logloss: 0.421164\n",
      "Early stopping, best iteration is:\n",
      "[122]\tvalid_0's binary_logloss: 0.40187\tvalid_1's binary_logloss: 0.420909\n",
      "[LightGBM] [Info] Number of positive: 5074, number of negative: 18346\n",
      "[LightGBM] [Warning] Auto-choosing col-wise multi-threading, the overhead of testing was 0.004182 seconds.\n",
      "You can set `force_col_wise=true` to remove the overhead.\n",
      "[LightGBM] [Info] Total Bins 13440\n",
      "[LightGBM] [Info] Number of data points in the train set: 23420, number of used features: 94\n",
      "[LightGBM] [Info] [binary:BoostFromScore]: pavg=0.216652 -> initscore=-1.285282\n",
      "[LightGBM] [Info] Start training from score -1.285282\n",
      "Training until validation scores don't improve for 10 rounds\n"
     ]
    },
    {
     "name": "stderr",
     "output_type": "stream",
     "text": [
      "regularization_factors, val_score: 0.420905:  35%|3| 7/20 [00:02<00:04,  3.18it/\u001b[32m[I 2021-10-27 14:31:40,724]\u001b[0m Trial 49 finished with value: 0.4209091936037069 and parameters: {'lambda_l1': 0.0176667573571458, 'lambda_l2': 0.0007966599409082964}. Best is trial 47 with value: 0.4209086425916035.\u001b[0m\n",
      "regularization_factors, val_score: 0.420905:  35%|3| 7/20 [00:02<00:04,  3.18it/"
     ]
    },
    {
     "name": "stdout",
     "output_type": "stream",
     "text": [
      "[100]\tvalid_0's binary_logloss: 0.402592\tvalid_1's binary_logloss: 0.421165\n",
      "Early stopping, best iteration is:\n",
      "[122]\tvalid_0's binary_logloss: 0.40187\tvalid_1's binary_logloss: 0.420909\n",
      "[LightGBM] [Info] Number of positive: 5074, number of negative: 18346\n",
      "[LightGBM] [Warning] Auto-choosing col-wise multi-threading, the overhead of testing was 0.007375 seconds.\n",
      "You can set `force_col_wise=true` to remove the overhead.\n",
      "[LightGBM] [Info] Total Bins 13440\n",
      "[LightGBM] [Info] Number of data points in the train set: 23420, number of used features: 94\n",
      "[LightGBM] [Info] [binary:BoostFromScore]: pavg=0.216652 -> initscore=-1.285282\n",
      "[LightGBM] [Info] Start training from score -1.285282\n",
      "Training until validation scores don't improve for 10 rounds\n"
     ]
    },
    {
     "name": "stderr",
     "output_type": "stream",
     "text": [
      "regularization_factors, val_score: 0.420905:  40%|4| 8/20 [00:02<00:04,  2.87it/\u001b[32m[I 2021-10-27 14:31:41,144]\u001b[0m Trial 50 finished with value: 0.4209626380804921 and parameters: {'lambda_l1': 5.09756591689669e-08, 'lambda_l2': 0.7844045849707512}. Best is trial 47 with value: 0.4209086425916035.\u001b[0m\n",
      "regularization_factors, val_score: 0.420905:  40%|4| 8/20 [00:02<00:04,  2.87it/"
     ]
    },
    {
     "name": "stdout",
     "output_type": "stream",
     "text": [
      "[100]\tvalid_0's binary_logloss: 0.402607\tvalid_1's binary_logloss: 0.421181\n",
      "Early stopping, best iteration is:\n",
      "[117]\tvalid_0's binary_logloss: 0.402033\tvalid_1's binary_logloss: 0.420963\n",
      "[LightGBM] [Info] Number of positive: 5074, number of negative: 18346\n",
      "[LightGBM] [Warning] Auto-choosing col-wise multi-threading, the overhead of testing was 0.004357 seconds.\n",
      "You can set `force_col_wise=true` to remove the overhead.\n",
      "[LightGBM] [Info] Total Bins 13440\n",
      "[LightGBM] [Info] Number of data points in the train set: 23420, number of used features: 94\n",
      "[LightGBM] [Info] [binary:BoostFromScore]: pavg=0.216652 -> initscore=-1.285282\n",
      "[LightGBM] [Info] Start training from score -1.285282\n",
      "Training until validation scores don't improve for 10 rounds\n"
     ]
    },
    {
     "name": "stderr",
     "output_type": "stream",
     "text": [
      "regularization_factors, val_score: 0.420905:  45%|4| 9/20 [00:02<00:03,  2.94it/\u001b[32m[I 2021-10-27 14:31:41,468]\u001b[0m Trial 51 finished with value: 0.42090865265546995 and parameters: {'lambda_l1': 3.079137118980622e-07, 'lambda_l2': 0.0020141998162189305}. Best is trial 47 with value: 0.4209086425916035.\u001b[0m\n",
      "regularization_factors, val_score: 0.420905:  45%|4| 9/20 [00:02<00:03,  2.94it/"
     ]
    },
    {
     "name": "stdout",
     "output_type": "stream",
     "text": [
      "[100]\tvalid_0's binary_logloss: 0.402591\tvalid_1's binary_logloss: 0.421164\n",
      "Early stopping, best iteration is:\n",
      "[122]\tvalid_0's binary_logloss: 0.40187\tvalid_1's binary_logloss: 0.420909\n",
      "[LightGBM] [Info] Number of positive: 5074, number of negative: 18346\n",
      "[LightGBM] [Warning] Auto-choosing col-wise multi-threading, the overhead of testing was 0.006042 seconds.\n",
      "You can set `force_col_wise=true` to remove the overhead.\n",
      "[LightGBM] [Info] Total Bins 13440\n",
      "[LightGBM] [Info] Number of data points in the train set: 23420, number of used features: 94\n",
      "[LightGBM] [Info] [binary:BoostFromScore]: pavg=0.216652 -> initscore=-1.285282\n",
      "[LightGBM] [Info] Start training from score -1.285282\n",
      "Training until validation scores don't improve for 10 rounds\n",
      "[100]\tvalid_0's binary_logloss: 0.402718\tvalid_1's binary_logloss: 0.421355\n"
     ]
    },
    {
     "name": "stderr",
     "output_type": "stream",
     "text": [
      "regularization_factors, val_score: 0.420905:  50%|5| 10/20 [00:03<00:03,  2.80it\u001b[32m[I 2021-10-27 14:31:41,864]\u001b[0m Trial 52 finished with value: 0.42100189587344844 and parameters: {'lambda_l1': 0.0020881219695775208, 'lambda_l2': 7.710350580557382}. Best is trial 47 with value: 0.4209086425916035.\u001b[0m\n",
      "regularization_factors, val_score: 0.420905:  50%|5| 10/20 [00:03<00:03,  2.80it"
     ]
    },
    {
     "name": "stdout",
     "output_type": "stream",
     "text": [
      "Early stopping, best iteration is:\n",
      "[133]\tvalid_0's binary_logloss: 0.401728\tvalid_1's binary_logloss: 0.421002\n",
      "[LightGBM] [Info] Number of positive: 5074, number of negative: 18346\n",
      "[LightGBM] [Warning] Auto-choosing col-wise multi-threading, the overhead of testing was 0.004900 seconds.\n",
      "You can set `force_col_wise=true` to remove the overhead.\n",
      "[LightGBM] [Info] Total Bins 13440\n",
      "[LightGBM] [Info] Number of data points in the train set: 23420, number of used features: 94\n",
      "[LightGBM] [Info] [binary:BoostFromScore]: pavg=0.216652 -> initscore=-1.285282\n",
      "[LightGBM] [Info] Start training from score -1.285282\n",
      "Training until validation scores don't improve for 10 rounds\n"
     ]
    },
    {
     "name": "stderr",
     "output_type": "stream",
     "text": [
      "regularization_factors, val_score: 0.420905:  55%|5| 11/20 [00:03<00:03,  2.88it\u001b[32m[I 2021-10-27 14:31:42,190]\u001b[0m Trial 53 finished with value: 0.4209051789858472 and parameters: {'lambda_l1': 2.87295408467766e-06, 'lambda_l2': 2.2527216122186036e-06}. Best is trial 53 with value: 0.4209051789858472.\u001b[0m\n",
      "regularization_factors, val_score: 0.420905:  55%|5| 11/20 [00:03<00:03,  2.88it"
     ]
    },
    {
     "name": "stdout",
     "output_type": "stream",
     "text": [
      "[100]\tvalid_0's binary_logloss: 0.402592\tvalid_1's binary_logloss: 0.421195\n",
      "Early stopping, best iteration is:\n",
      "[132]\tvalid_0's binary_logloss: 0.401602\tvalid_1's binary_logloss: 0.420905\n",
      "[LightGBM] [Info] Number of positive: 5074, number of negative: 18346\n",
      "[LightGBM] [Warning] Auto-choosing col-wise multi-threading, the overhead of testing was 0.004460 seconds.\n",
      "You can set `force_col_wise=true` to remove the overhead.\n",
      "[LightGBM] [Info] Total Bins 13440\n",
      "[LightGBM] [Info] Number of data points in the train set: 23420, number of used features: 94\n",
      "[LightGBM] [Info] [binary:BoostFromScore]: pavg=0.216652 -> initscore=-1.285282\n",
      "[LightGBM] [Info] Start training from score -1.285282\n",
      "Training until validation scores don't improve for 10 rounds\n"
     ]
    },
    {
     "name": "stderr",
     "output_type": "stream",
     "text": [
      "regularization_factors, val_score: 0.420905:  60%|6| 12/20 [00:04<00:03,  2.60it\u001b[32m[I 2021-10-27 14:31:42,660]\u001b[0m Trial 54 finished with value: 0.42090517896796686 and parameters: {'lambda_l1': 2.603817394964935e-06, 'lambda_l2': 1.748305684883842e-06}. Best is trial 54 with value: 0.42090517896796686.\u001b[0m\n",
      "regularization_factors, val_score: 0.420905:  60%|6| 12/20 [00:04<00:03,  2.60it"
     ]
    },
    {
     "name": "stdout",
     "output_type": "stream",
     "text": [
      "[100]\tvalid_0's binary_logloss: 0.402592\tvalid_1's binary_logloss: 0.421195\n",
      "Early stopping, best iteration is:\n",
      "[132]\tvalid_0's binary_logloss: 0.401602\tvalid_1's binary_logloss: 0.420905\n",
      "[LightGBM] [Info] Number of positive: 5074, number of negative: 18346\n",
      "[LightGBM] [Warning] Auto-choosing col-wise multi-threading, the overhead of testing was 0.005640 seconds.\n",
      "You can set `force_col_wise=true` to remove the overhead.\n",
      "[LightGBM] [Info] Total Bins 13440\n",
      "[LightGBM] [Info] Number of data points in the train set: 23420, number of used features: 94\n",
      "[LightGBM] [Info] [binary:BoostFromScore]: pavg=0.216652 -> initscore=-1.285282\n",
      "[LightGBM] [Info] Start training from score -1.285282\n",
      "Training until validation scores don't improve for 10 rounds\n"
     ]
    },
    {
     "name": "stderr",
     "output_type": "stream",
     "text": [
      "regularization_factors, val_score: 0.420905:  65%|6| 13/20 [00:04<00:02,  2.46it\u001b[32m[I 2021-10-27 14:31:43,114]\u001b[0m Trial 55 finished with value: 0.42090517900305857 and parameters: {'lambda_l1': 4.6507729773280255e-06, 'lambda_l2': 5.043668681231716e-07}. Best is trial 54 with value: 0.42090517896796686.\u001b[0m\n",
      "regularization_factors, val_score: 0.420905:  65%|6| 13/20 [00:04<00:02,  2.46it"
     ]
    },
    {
     "name": "stdout",
     "output_type": "stream",
     "text": [
      "[100]\tvalid_0's binary_logloss: 0.402592\tvalid_1's binary_logloss: 0.421195\n",
      "Early stopping, best iteration is:\n",
      "[132]\tvalid_0's binary_logloss: 0.401602\tvalid_1's binary_logloss: 0.420905\n",
      "[LightGBM] [Info] Number of positive: 5074, number of negative: 18346\n",
      "[LightGBM] [Warning] Auto-choosing col-wise multi-threading, the overhead of testing was 0.005830 seconds.\n",
      "You can set `force_col_wise=true` to remove the overhead.\n",
      "[LightGBM] [Info] Total Bins 13440\n",
      "[LightGBM] [Info] Number of data points in the train set: 23420, number of used features: 94\n",
      "[LightGBM] [Info] [binary:BoostFromScore]: pavg=0.216652 -> initscore=-1.285282\n",
      "[LightGBM] [Info] Start training from score -1.285282\n",
      "Training until validation scores don't improve for 10 rounds\n"
     ]
    },
    {
     "name": "stderr",
     "output_type": "stream",
     "text": [
      "regularization_factors, val_score: 0.420905:  70%|7| 14/20 [00:05<00:02,  2.35it\u001b[32m[I 2021-10-27 14:31:43,586]\u001b[0m Trial 56 finished with value: 0.4209051790759283 and parameters: {'lambda_l1': 6.447381692864445e-06, 'lambda_l2': 1.3276379913508293e-06}. Best is trial 54 with value: 0.42090517896796686.\u001b[0m\n",
      "regularization_factors, val_score: 0.420905:  70%|7| 14/20 [00:05<00:02,  2.35it"
     ]
    },
    {
     "name": "stdout",
     "output_type": "stream",
     "text": [
      "[100]\tvalid_0's binary_logloss: 0.402592\tvalid_1's binary_logloss: 0.421195\n",
      "Early stopping, best iteration is:\n",
      "[132]\tvalid_0's binary_logloss: 0.401602\tvalid_1's binary_logloss: 0.420905\n",
      "[LightGBM] [Info] Number of positive: 5074, number of negative: 18346\n",
      "[LightGBM] [Warning] Auto-choosing col-wise multi-threading, the overhead of testing was 0.006179 seconds.\n",
      "You can set `force_col_wise=true` to remove the overhead.\n",
      "[LightGBM] [Info] Total Bins 13440\n",
      "[LightGBM] [Info] Number of data points in the train set: 23420, number of used features: 94\n",
      "[LightGBM] [Info] [binary:BoostFromScore]: pavg=0.216652 -> initscore=-1.285282\n",
      "[LightGBM] [Info] Start training from score -1.285282\n",
      "Training until validation scores don't improve for 10 rounds\n"
     ]
    },
    {
     "name": "stderr",
     "output_type": "stream",
     "text": [
      "regularization_factors, val_score: 0.420905:  75%|7| 15/20 [00:05<00:02,  2.28it\u001b[32m[I 2021-10-27 14:31:44,056]\u001b[0m Trial 57 finished with value: 0.4209051791513139 and parameters: {'lambda_l1': 9.450463254342915e-07, 'lambda_l2': 1.3841910561694858e-05}. Best is trial 54 with value: 0.42090517896796686.\u001b[0m\n",
      "regularization_factors, val_score: 0.420905:  75%|7| 15/20 [00:05<00:02,  2.28it"
     ]
    },
    {
     "name": "stdout",
     "output_type": "stream",
     "text": [
      "[100]\tvalid_0's binary_logloss: 0.402592\tvalid_1's binary_logloss: 0.421195\n",
      "Early stopping, best iteration is:\n",
      "[132]\tvalid_0's binary_logloss: 0.401602\tvalid_1's binary_logloss: 0.420905\n",
      "[LightGBM] [Info] Number of positive: 5074, number of negative: 18346\n",
      "[LightGBM] [Warning] Auto-choosing col-wise multi-threading, the overhead of testing was 0.007537 seconds.\n",
      "You can set `force_col_wise=true` to remove the overhead.\n",
      "[LightGBM] [Info] Total Bins 13440\n",
      "[LightGBM] [Info] Number of data points in the train set: 23420, number of used features: 94\n",
      "[LightGBM] [Info] [binary:BoostFromScore]: pavg=0.216652 -> initscore=-1.285282\n",
      "[LightGBM] [Info] Start training from score -1.285282\n",
      "Training until validation scores don't improve for 10 rounds\n"
     ]
    },
    {
     "name": "stderr",
     "output_type": "stream",
     "text": [
      "regularization_factors, val_score: 0.420905:  80%|8| 16/20 [00:05<00:01,  2.27it\u001b[32m[I 2021-10-27 14:31:44,499]\u001b[0m Trial 58 finished with value: 0.4209086220422916 and parameters: {'lambda_l1': 0.00027944684456150356, 'lambda_l2': 1.1574187633813302e-08}. Best is trial 54 with value: 0.42090517896796686.\u001b[0m\n",
      "regularization_factors, val_score: 0.420905:  80%|8| 16/20 [00:05<00:01,  2.27it"
     ]
    },
    {
     "name": "stdout",
     "output_type": "stream",
     "text": [
      "[100]\tvalid_0's binary_logloss: 0.402591\tvalid_1's binary_logloss: 0.421164\n",
      "Early stopping, best iteration is:\n",
      "[122]\tvalid_0's binary_logloss: 0.401869\tvalid_1's binary_logloss: 0.420909\n",
      "[LightGBM] [Info] Number of positive: 5074, number of negative: 18346\n",
      "[LightGBM] [Warning] Auto-choosing col-wise multi-threading, the overhead of testing was 0.005543 seconds.\n",
      "You can set `force_col_wise=true` to remove the overhead.\n",
      "[LightGBM] [Info] Total Bins 13440\n",
      "[LightGBM] [Info] Number of data points in the train set: 23420, number of used features: 94\n",
      "[LightGBM] [Info] [binary:BoostFromScore]: pavg=0.216652 -> initscore=-1.285282\n",
      "[LightGBM] [Info] Start training from score -1.285282\n",
      "Training until validation scores don't improve for 10 rounds\n"
     ]
    },
    {
     "name": "stderr",
     "output_type": "stream",
     "text": [
      "regularization_factors, val_score: 0.420905:  85%|8| 17/20 [00:06<00:01,  2.29it\u001b[32m[I 2021-10-27 14:31:44,930]\u001b[0m Trial 59 finished with value: 0.4209784020095698 and parameters: {'lambda_l1': 0.37466695858488697, 'lambda_l2': 2.8138804988942682e-05}. Best is trial 54 with value: 0.42090517896796686.\u001b[0m\n",
      "regularization_factors, val_score: 0.420905:  85%|8| 17/20 [00:06<00:01,  2.29it"
     ]
    },
    {
     "name": "stdout",
     "output_type": "stream",
     "text": [
      "[100]\tvalid_0's binary_logloss: 0.402608\tvalid_1's binary_logloss: 0.421207\n",
      "Early stopping, best iteration is:\n",
      "[117]\tvalid_0's binary_logloss: 0.402036\tvalid_1's binary_logloss: 0.420978\n",
      "[LightGBM] [Info] Number of positive: 5074, number of negative: 18346\n",
      "[LightGBM] [Warning] Auto-choosing col-wise multi-threading, the overhead of testing was 0.006470 seconds.\n",
      "You can set `force_col_wise=true` to remove the overhead.\n",
      "[LightGBM] [Info] Total Bins 13440\n",
      "[LightGBM] [Info] Number of data points in the train set: 23420, number of used features: 94\n",
      "[LightGBM] [Info] [binary:BoostFromScore]: pavg=0.216652 -> initscore=-1.285282\n",
      "[LightGBM] [Info] Start training from score -1.285282\n",
      "Training until validation scores don't improve for 10 rounds\n"
     ]
    },
    {
     "name": "stderr",
     "output_type": "stream",
     "text": [
      "regularization_factors, val_score: 0.420905:  90%|9| 18/20 [00:06<00:00,  2.18it\u001b[32m[I 2021-10-27 14:31:45,438]\u001b[0m Trial 60 finished with value: 0.4209051793000916 and parameters: {'lambda_l1': 1.5140414797247163e-05, 'lambda_l2': 3.9097435740903966e-08}. Best is trial 54 with value: 0.42090517896796686.\u001b[0m\n",
      "regularization_factors, val_score: 0.420905:  90%|9| 18/20 [00:06<00:00,  2.18it"
     ]
    },
    {
     "name": "stdout",
     "output_type": "stream",
     "text": [
      "[100]\tvalid_0's binary_logloss: 0.402592\tvalid_1's binary_logloss: 0.421195\n",
      "Early stopping, best iteration is:\n",
      "[132]\tvalid_0's binary_logloss: 0.401602\tvalid_1's binary_logloss: 0.420905\n",
      "[LightGBM] [Info] Number of positive: 5074, number of negative: 18346\n",
      "[LightGBM] [Warning] Auto-choosing col-wise multi-threading, the overhead of testing was 0.006232 seconds.\n",
      "You can set `force_col_wise=true` to remove the overhead.\n",
      "[LightGBM] [Info] Total Bins 13440\n",
      "[LightGBM] [Info] Number of data points in the train set: 23420, number of used features: 94\n",
      "[LightGBM] [Info] [binary:BoostFromScore]: pavg=0.216652 -> initscore=-1.285282\n",
      "[LightGBM] [Info] Start training from score -1.285282\n",
      "Training until validation scores don't improve for 10 rounds\n"
     ]
    },
    {
     "name": "stderr",
     "output_type": "stream",
     "text": [
      "regularization_factors, val_score: 0.420905:  95%|9| 19/20 [00:07<00:00,  2.08it\u001b[32m[I 2021-10-27 14:31:45,968]\u001b[0m Trial 61 finished with value: 0.4209051796465118 and parameters: {'lambda_l1': 1.2861072879311216e-07, 'lambda_l2': 4.170067304816493e-05}. Best is trial 54 with value: 0.42090517896796686.\u001b[0m\n",
      "regularization_factors, val_score: 0.420905:  95%|9| 19/20 [00:07<00:00,  2.08it"
     ]
    },
    {
     "name": "stdout",
     "output_type": "stream",
     "text": [
      "[100]\tvalid_0's binary_logloss: 0.402592\tvalid_1's binary_logloss: 0.421195\n",
      "Early stopping, best iteration is:\n",
      "[132]\tvalid_0's binary_logloss: 0.401602\tvalid_1's binary_logloss: 0.420905\n",
      "[LightGBM] [Info] Number of positive: 5074, number of negative: 18346\n",
      "[LightGBM] [Warning] Auto-choosing col-wise multi-threading, the overhead of testing was 0.007295 seconds.\n",
      "You can set `force_col_wise=true` to remove the overhead.\n",
      "[LightGBM] [Info] Total Bins 13440\n",
      "[LightGBM] [Info] Number of data points in the train set: 23420, number of used features: 94\n",
      "[LightGBM] [Info] [binary:BoostFromScore]: pavg=0.216652 -> initscore=-1.285282\n",
      "[LightGBM] [Info] Start training from score -1.285282\n",
      "Training until validation scores don't improve for 10 rounds\n"
     ]
    },
    {
     "name": "stderr",
     "output_type": "stream",
     "text": [
      "regularization_factors, val_score: 0.420905: 100%|#| 20/20 [00:07<00:00,  2.02it\u001b[32m[I 2021-10-27 14:31:46,500]\u001b[0m Trial 62 finished with value: 0.42090517891083634 and parameters: {'lambda_l1': 1.3884489344070321e-06, 'lambda_l2': 5.876596386995932e-07}. Best is trial 62 with value: 0.42090517891083634.\u001b[0m\n",
      "regularization_factors, val_score: 0.420905: 100%|#| 20/20 [00:08<00:00,  2.50it\n"
     ]
    },
    {
     "name": "stdout",
     "output_type": "stream",
     "text": [
      "[100]\tvalid_0's binary_logloss: 0.402592\tvalid_1's binary_logloss: 0.421195\n",
      "Early stopping, best iteration is:\n",
      "[132]\tvalid_0's binary_logloss: 0.401602\tvalid_1's binary_logloss: 0.420905\n"
     ]
    },
    {
     "name": "stderr",
     "output_type": "stream",
     "text": [
      "min_data_in_leaf, val_score: 0.420905:   0%|              | 0/5 [00:00<?, ?it/s]"
     ]
    },
    {
     "name": "stdout",
     "output_type": "stream",
     "text": [
      "[LightGBM] [Info] Number of positive: 5074, number of negative: 18346\n",
      "[LightGBM] [Warning] Auto-choosing col-wise multi-threading, the overhead of testing was 0.004898 seconds.\n",
      "You can set `force_col_wise=true` to remove the overhead.\n",
      "[LightGBM] [Info] Total Bins 13440\n",
      "[LightGBM] [Info] Number of data points in the train set: 23420, number of used features: 94\n",
      "[LightGBM] [Info] [binary:BoostFromScore]: pavg=0.216652 -> initscore=-1.285282\n",
      "[LightGBM] [Info] Start training from score -1.285282\n",
      "Training until validation scores don't improve for 10 rounds\n"
     ]
    },
    {
     "name": "stderr",
     "output_type": "stream",
     "text": [
      "min_data_in_leaf, val_score: 0.420905:  20%|#2    | 1/5 [00:00<00:01,  2.35it/s]\u001b[32m[I 2021-10-27 14:31:46,930]\u001b[0m Trial 63 finished with value: 0.4209051788548438 and parameters: {'min_child_samples': 50}. Best is trial 63 with value: 0.4209051788548438.\u001b[0m\n",
      "min_data_in_leaf, val_score: 0.420905:  20%|#2    | 1/5 [00:00<00:01,  2.35it/s]"
     ]
    },
    {
     "name": "stdout",
     "output_type": "stream",
     "text": [
      "[100]\tvalid_0's binary_logloss: 0.402592\tvalid_1's binary_logloss: 0.421195\n",
      "Early stopping, best iteration is:\n",
      "[132]\tvalid_0's binary_logloss: 0.401602\tvalid_1's binary_logloss: 0.420905\n",
      "[LightGBM] [Info] Number of positive: 5074, number of negative: 18346\n",
      "[LightGBM] [Warning] Auto-choosing row-wise multi-threading, the overhead of testing was 0.001616 seconds.\n",
      "You can set `force_row_wise=true` to remove the overhead.\n",
      "And if memory is not enough, you can set `force_col_wise=true`.\n",
      "[LightGBM] [Info] Total Bins 13440\n",
      "[LightGBM] [Info] Number of data points in the train set: 23420, number of used features: 94\n",
      "[LightGBM] [Info] [binary:BoostFromScore]: pavg=0.216652 -> initscore=-1.285282\n",
      "[LightGBM] [Info] Start training from score -1.285282\n",
      "Training until validation scores don't improve for 10 rounds\n"
     ]
    },
    {
     "name": "stderr",
     "output_type": "stream",
     "text": [
      "min_data_in_leaf, val_score: 0.420905:  40%|##4   | 2/5 [00:00<00:01,  2.53it/s]\u001b[32m[I 2021-10-27 14:31:47,302]\u001b[0m Trial 64 finished with value: 0.4209051788548438 and parameters: {'min_child_samples': 25}. Best is trial 63 with value: 0.4209051788548438.\u001b[0m\n",
      "min_data_in_leaf, val_score: 0.420905:  40%|##4   | 2/5 [00:00<00:01,  2.53it/s]"
     ]
    },
    {
     "name": "stdout",
     "output_type": "stream",
     "text": [
      "[100]\tvalid_0's binary_logloss: 0.402592\tvalid_1's binary_logloss: 0.421195\n",
      "Early stopping, best iteration is:\n",
      "[132]\tvalid_0's binary_logloss: 0.401602\tvalid_1's binary_logloss: 0.420905\n",
      "[LightGBM] [Info] Number of positive: 5074, number of negative: 18346\n",
      "[LightGBM] [Warning] Auto-choosing col-wise multi-threading, the overhead of testing was 0.005115 seconds.\n",
      "You can set `force_col_wise=true` to remove the overhead.\n",
      "[LightGBM] [Info] Total Bins 13440\n",
      "[LightGBM] [Info] Number of data points in the train set: 23420, number of used features: 94\n",
      "[LightGBM] [Info] [binary:BoostFromScore]: pavg=0.216652 -> initscore=-1.285282\n",
      "[LightGBM] [Info] Start training from score -1.285282\n",
      "Training until validation scores don't improve for 10 rounds\n",
      "[100]\tvalid_0's binary_logloss: 0.402592\tvalid_1's binary_logloss: 0.421195\n"
     ]
    },
    {
     "name": "stderr",
     "output_type": "stream",
     "text": [
      "min_data_in_leaf, val_score: 0.420905:  60%|###6  | 3/5 [00:01<00:00,  2.67it/s]\u001b[32m[I 2021-10-27 14:31:47,654]\u001b[0m Trial 65 finished with value: 0.4209051788548438 and parameters: {'min_child_samples': 5}. Best is trial 63 with value: 0.4209051788548438.\u001b[0m\n",
      "min_data_in_leaf, val_score: 0.420905:  60%|###6  | 3/5 [00:01<00:00,  2.67it/s]"
     ]
    },
    {
     "name": "stdout",
     "output_type": "stream",
     "text": [
      "Early stopping, best iteration is:\n",
      "[132]\tvalid_0's binary_logloss: 0.401602\tvalid_1's binary_logloss: 0.420905\n",
      "[LightGBM] [Info] Number of positive: 5074, number of negative: 18346\n",
      "[LightGBM] [Warning] Auto-choosing col-wise multi-threading, the overhead of testing was 0.004174 seconds.\n",
      "You can set `force_col_wise=true` to remove the overhead.\n",
      "[LightGBM] [Info] Total Bins 13440\n",
      "[LightGBM] [Info] Number of data points in the train set: 23420, number of used features: 94\n",
      "[LightGBM] [Info] [binary:BoostFromScore]: pavg=0.216652 -> initscore=-1.285282\n",
      "[LightGBM] [Info] Start training from score -1.285282\n",
      "Training until validation scores don't improve for 10 rounds\n"
     ]
    },
    {
     "name": "stderr",
     "output_type": "stream",
     "text": [
      "min_data_in_leaf, val_score: 0.420905:  80%|####8 | 4/5 [00:01<00:00,  2.54it/s]\u001b[32m[I 2021-10-27 14:31:48,077]\u001b[0m Trial 66 finished with value: 0.4209051788548438 and parameters: {'min_child_samples': 100}. Best is trial 63 with value: 0.4209051788548438.\u001b[0m\n",
      "min_data_in_leaf, val_score: 0.420905:  80%|####8 | 4/5 [00:01<00:00,  2.54it/s]"
     ]
    },
    {
     "name": "stdout",
     "output_type": "stream",
     "text": [
      "[100]\tvalid_0's binary_logloss: 0.402592\tvalid_1's binary_logloss: 0.421195\n",
      "Early stopping, best iteration is:\n",
      "[132]\tvalid_0's binary_logloss: 0.401602\tvalid_1's binary_logloss: 0.420905\n",
      "[LightGBM] [Info] Number of positive: 5074, number of negative: 18346\n",
      "[LightGBM] [Warning] Auto-choosing col-wise multi-threading, the overhead of testing was 0.005587 seconds.\n",
      "You can set `force_col_wise=true` to remove the overhead.\n",
      "[LightGBM] [Info] Total Bins 13440\n",
      "[LightGBM] [Info] Number of data points in the train set: 23420, number of used features: 94\n",
      "[LightGBM] [Info] [binary:BoostFromScore]: pavg=0.216652 -> initscore=-1.285282\n",
      "[LightGBM] [Info] Start training from score -1.285282\n",
      "Training until validation scores don't improve for 10 rounds\n",
      "[100]\tvalid_0's binary_logloss: 0.402592\tvalid_1's binary_logloss: 0.421195\n"
     ]
    },
    {
     "name": "stderr",
     "output_type": "stream",
     "text": [
      "min_data_in_leaf, val_score: 0.420905: 100%|######| 5/5 [00:01<00:00,  2.51it/s]\u001b[32m[I 2021-10-27 14:31:48,483]\u001b[0m Trial 67 finished with value: 0.4209051788548438 and parameters: {'min_child_samples': 10}. Best is trial 63 with value: 0.4209051788548438.\u001b[0m\n",
      "min_data_in_leaf, val_score: 0.420905: 100%|######| 5/5 [00:01<00:00,  2.52it/s]"
     ]
    },
    {
     "name": "stdout",
     "output_type": "stream",
     "text": [
      "Early stopping, best iteration is:\n",
      "[132]\tvalid_0's binary_logloss: 0.401602\tvalid_1's binary_logloss: 0.420905\n"
     ]
    },
    {
     "name": "stderr",
     "output_type": "stream",
     "text": [
      "\n"
     ]
    }
   ],
   "source": [
    "lgb_train = lgb_o.Dataset(X_train.values, y_train.values)\n",
    "lgb_valid = lgb_o.Dataset(X_valid.values, y_valid.values)\n",
    "lgb_train2 = lgb_o.Dataset(X_train2.values, y_train2.values)\n",
    "\n",
    "params = {\n",
    "    \"objective\":\"binary\",\n",
    "    \"random_state\": 100\n",
    "}\n",
    "lgb_clf_o = lgb_o.train(params, lgb_train,\n",
    "                       valid_sets=(lgb_train, lgb_valid),\n",
    "                       verbose_eval=100,\n",
    "                       early_stopping_rounds=10)"
   ]
  },
  {
   "cell_type": "code",
   "execution_count": 63,
   "id": "df371ffe-baa6-4ed6-9345-b8be3fb767ef",
   "metadata": {
    "tags": []
   },
   "outputs": [
    {
     "data": {
      "text/plain": [
       "{'objective': 'binary',\n",
       " 'random_state': 100,\n",
       " 'feature_pre_filter': False,\n",
       " 'lambda_l1': 0.0,\n",
       " 'lambda_l2': 0.0,\n",
       " 'num_leaves': 2,\n",
       " 'feature_fraction': 0.748,\n",
       " 'bagging_fraction': 0.9980351277335815,\n",
       " 'bagging_freq': 6,\n",
       " 'min_child_samples': 20,\n",
       " 'num_iterations': 1000}"
      ]
     },
     "execution_count": 63,
     "metadata": {},
     "output_type": "execute_result"
    }
   ],
   "source": [
    "lgb_clf_o.params"
   ]
  },
  {
   "cell_type": "code",
   "execution_count": 64,
   "id": "aa7b98c5-7191-4873-b25f-0501f5ad9243",
   "metadata": {
    "tags": []
   },
   "outputs": [
    {
     "ename": "AttributeError",
     "evalue": "module 'optuna.integration.lightgbm' has no attribute 'train2'",
     "output_type": "error",
     "traceback": [
      "\u001b[0;31m---------------------------------------------------------------------------\u001b[0m",
      "\u001b[0;31mAttributeError\u001b[0m                            Traceback (most recent call last)",
      "\u001b[0;32m/var/folders/tm/fn98hw1541vg9yshhxdqfgc80000gn/T/ipykernel_73845/1074014024.py\u001b[0m in \u001b[0;36m<module>\u001b[0;34m\u001b[0m\n\u001b[1;32m      5\u001b[0m     \u001b[0;34m\"random_state\"\u001b[0m\u001b[0;34m:\u001b[0m \u001b[0;36m100\u001b[0m\u001b[0;34m\u001b[0m\u001b[0;34m\u001b[0m\u001b[0m\n\u001b[1;32m      6\u001b[0m }\n\u001b[0;32m----> 7\u001b[0;31m lgb_clf_o2 = lgb_o.train2(params, lgb_train2,\n\u001b[0m\u001b[1;32m      8\u001b[0m                        \u001b[0mvalid_sets\u001b[0m\u001b[0;34m=\u001b[0m\u001b[0;34m(\u001b[0m\u001b[0mlgb_train2\u001b[0m\u001b[0;34m,\u001b[0m \u001b[0mlgb_valid\u001b[0m\u001b[0;34m)\u001b[0m\u001b[0;34m,\u001b[0m\u001b[0;34m\u001b[0m\u001b[0;34m\u001b[0m\u001b[0m\n\u001b[1;32m      9\u001b[0m                        \u001b[0mverbose_eval\u001b[0m\u001b[0;34m=\u001b[0m\u001b[0;36m100\u001b[0m\u001b[0;34m,\u001b[0m\u001b[0;34m\u001b[0m\u001b[0;34m\u001b[0m\u001b[0m\n",
      "\u001b[0;31mAttributeError\u001b[0m: module 'optuna.integration.lightgbm' has no attribute 'train2'"
     ]
    }
   ],
   "source": [
    "lgb_train2 = lgb_o.Dataset(X_train2.values, y_train2.values)\n",
    "\n",
    "params = {\n",
    "    \"objective\":\"binary\",\n",
    "    \"random_state\": 100\n",
    "}\n",
    "lgb_clf_o2 = lgb_o.train2(params, lgb_train2,\n",
    "                       valid_sets=(lgb_train2, lgb_valid),\n",
    "                       verbose_eval=100,\n",
    "                       early_stopping_rounds=10)"
   ]
  },
  {
   "cell_type": "code",
   "execution_count": 33,
   "id": "129e4294-26cc-4d37-94b0-ea077b976362",
   "metadata": {},
   "outputs": [
    {
     "data": {
      "text/plain": [
       "{'objective': 'binary',\n",
       " 'random_state': 100,\n",
       " 'feature_pre_filter': False,\n",
       " 'lambda_l1': 0.0,\n",
       " 'lambda_l2': 0.0,\n",
       " 'num_leaves': 2,\n",
       " 'feature_fraction': 0.748,\n",
       " 'bagging_fraction': 0.9980351277335815,\n",
       " 'bagging_freq': 6,\n",
       " 'min_child_samples': 20,\n",
       " 'num_iterations': 1000,\n",
       " 'early_stopping_round': 10}"
      ]
     },
     "execution_count": 33,
     "metadata": {},
     "output_type": "execute_result"
    }
   ],
   "source": [
    "lgb_clf_o.params"
   ]
  },
  {
   "cell_type": "code",
   "execution_count": 29,
   "id": "d46566a2-8b8a-435e-8fb8-7168e24e4150",
   "metadata": {
    "tags": []
   },
   "outputs": [],
   "source": [
    "params = {\n",
    " 'objective': 'binary',\n",
    " 'random_state': 100,\n",
    " 'feature_pre_filter': False,\n",
    " 'lambda_l1': 1.3791597033646388e-08,\n",
    " 'lambda_l2': 1.347298109719846e-08,\n",
    " 'num_leaves': 256,\n",
    " 'feature_fraction': 1.0,\n",
    " 'bagging_fraction': 0.8083827851133965,\n",
    " 'bagging_freq': 3,\n",
    " 'min_child_samples': 5,\n",
    " 'num_iterations': 1000,\n",
    " 'early_stopping_round': 10\n",
    "}"
   ]
  },
  {
   "cell_type": "code",
   "execution_count": 34,
   "id": "5d2c9392-7053-4343-bb6e-0f8cd4b92fd7",
   "metadata": {},
   "outputs": [
    {
     "data": {
      "text/plain": [
       "10"
      ]
     },
     "execution_count": 34,
     "metadata": {},
     "output_type": "execute_result"
    }
   ],
   "source": [
    "lgb_clf_o.params.pop(\"early_stopping_round\")"
   ]
  },
  {
   "cell_type": "code",
   "execution_count": 262,
   "id": "d23d193d-e19c-4b71-817d-428825f1347f",
   "metadata": {},
   "outputs": [
    {
     "data": {
      "text/plain": [
       "{'objective': 'binary',\n",
       " 'random_state': 100,\n",
       " 'feature_pre_filter': False,\n",
       " 'lambda_l1': 1.3791597033646388e-08,\n",
       " 'lambda_l2': 1.347298109719846e-08,\n",
       " 'num_leaves': 256,\n",
       " 'feature_fraction': 1.0,\n",
       " 'bagging_fraction': 0.8083827851133965,\n",
       " 'bagging_freq': 3,\n",
       " 'min_child_samples': 5}"
      ]
     },
     "execution_count": 262,
     "metadata": {},
     "output_type": "execute_result"
    }
   ],
   "source": [
    "lgb_clf_o.params"
   ]
  },
  {
   "cell_type": "code",
   "execution_count": 227,
   "id": "950a2878-b57a-4e51-a4f7-36419bcbde82",
   "metadata": {},
   "outputs": [],
   "source": [
    "# ハイパーオアメータを使ってlgb_trainを学習\n",
    "# 学習したもお出るを使って分割したlgb_validで検証\n",
    "# 検証結果を利用して、ハイパーパラメータを変えてlgb_trainで再学習\n",
    "# 上記を繰り返す　\n",
    "feature_pre_filter チューニング時はfalse\n",
    "lambda_l1,2 正則化、過学習防止\n",
    "num_leaves　葉の数\n",
    "feature_fraction x 特徴量のx％で１つの木を育てる\n",
    "bagging_fraction x データをx分だけ使って木を育てる　\n",
    "bagging_freq　バギングする頻度\n",
    "min_child_samples　最終的に一つの葉に残るデータ数"
   ]
  },
  {
   "cell_type": "code",
   "execution_count": 35,
   "id": "d14bcb9f-3156-47c1-bf5f-51e1d3d107c0",
   "metadata": {
    "tags": []
   },
   "outputs": [
    {
     "name": "stderr",
     "output_type": "stream",
     "text": [
      "/Users/ko/opt/anaconda3/lib/python3.8/site-packages/lightgbm/engine.py:148: UserWarning: Found `num_iterations` in params. Will use it instead of argument\n",
      "  _log_warning(\"Found `{}` in params. Will use it instead of argument\".format(alias))\n"
     ]
    },
    {
     "data": {
      "text/plain": [
       "LGBMClassifier(bagging_fraction=0.9980351277335815, bagging_freq=6,\n",
       "               feature_fraction=0.748, feature_pre_filter=False, lambda_l1=0.0,\n",
       "               lambda_l2=0.0, num_iterations=1000, num_leaves=2,\n",
       "               objective='binary', random_state=100)"
      ]
     },
     "execution_count": 35,
     "metadata": {},
     "output_type": "execute_result"
    }
   ],
   "source": [
    "lgb_clf = lgb.LGBMClassifier(**lgb_clf_o.params)\n",
    "lgb_clf.fit(X_train.values, y_train.values)"
   ]
  },
  {
   "cell_type": "code",
   "execution_count": 540,
   "id": "2f15cbca-11de-4b88-a2ce-66b23a50b79f",
   "metadata": {
    "collapsed": true,
    "jupyter": {
     "outputs_hidden": true
    },
    "tags": []
   },
   "outputs": [
    {
     "name": "stdout",
     "output_type": "stream",
     "text": [
      "[LightGBM] [Warning] bagging_freq is set=3, subsample_freq=0 will be ignored. Current value: bagging_freq=3\n",
      "[LightGBM] [Warning] feature_fraction is set=1.0, colsample_bytree=1.0 will be ignored. Current value: feature_fraction=1.0\n",
      "[LightGBM] [Warning] bagging_fraction is set=0.8083827851133965, subsample=1.0 will be ignored. Current value: bagging_fraction=0.8083827851133965\n",
      "[LightGBM] [Warning] lambda_l2 is set=1.347298109719846e-08, reg_lambda=0.0 will be ignored. Current value: lambda_l2=1.347298109719846e-08\n",
      "[LightGBM] [Warning] lambda_l1 is set=1.3791597033646388e-08, reg_alpha=0.0 will be ignored. Current value: lambda_l1=1.3791597033646388e-08\n"
     ]
    },
    {
     "data": {
      "text/plain": [
       "LGBMClassifier(bagging_fraction=0.8083827851133965, bagging_freq=3,\n",
       "               feature_fraction=1.0, feature_pre_filter=False,\n",
       "               lambda_l1=1.3791597033646388e-08,\n",
       "               lambda_l2=1.347298109719846e-08, min_child_samples=5,\n",
       "               num_leaves=256, objective='binary', random_state=100)"
      ]
     },
     "execution_count": 540,
     "metadata": {},
     "output_type": "execute_result"
    }
   ],
   "source": [
    "lgb_clf = lgb.LGBMClassifier(**lgb_clf_o.params)\n",
    "lgb_clf.fit(X_train2.values, y_train2.values)"
   ]
  },
  {
   "cell_type": "code",
   "execution_count": 502,
   "id": "19309603-2eee-4c3f-8a5e-cd603c41ad77",
   "metadata": {},
   "outputs": [
    {
     "data": {
      "text/html": [
       "<div>\n",
       "<style scoped>\n",
       "    .dataframe tbody tr th:only-of-type {\n",
       "        vertical-align: middle;\n",
       "    }\n",
       "\n",
       "    .dataframe tbody tr th {\n",
       "        vertical-align: top;\n",
       "    }\n",
       "\n",
       "    .dataframe thead th {\n",
       "        text-align: right;\n",
       "    }\n",
       "</style>\n",
       "<table border=\"1\" class=\"dataframe\">\n",
       "  <thead>\n",
       "    <tr style=\"text-align: right;\">\n",
       "      <th></th>\n",
       "      <th>枠番</th>\n",
       "      <th>馬番</th>\n",
       "      <th>斤量</th>\n",
       "      <th>単勝</th>\n",
       "      <th>course_len</th>\n",
       "      <th>horse_id</th>\n",
       "      <th>jockey_id</th>\n",
       "      <th>年齢</th>\n",
       "      <th>体重</th>\n",
       "      <th>体重変化</th>\n",
       "      <th>...</th>\n",
       "      <th>race_type_芝</th>\n",
       "      <th>race_type_ダート</th>\n",
       "      <th>race_type_障害</th>\n",
       "      <th>ground_state_良</th>\n",
       "      <th>ground_state_不良</th>\n",
       "      <th>ground_state_稍重</th>\n",
       "      <th>ground_state_重</th>\n",
       "      <th>性_牡</th>\n",
       "      <th>性_牝</th>\n",
       "      <th>性_セ</th>\n",
       "    </tr>\n",
       "  </thead>\n",
       "  <tbody>\n",
       "    <tr>\n",
       "      <th>201909040104</th>\n",
       "      <td>4</td>\n",
       "      <td>5</td>\n",
       "      <td>54.0</td>\n",
       "      <td>1.4</td>\n",
       "      <td>1400.0</td>\n",
       "      <td>10663</td>\n",
       "      <td>60</td>\n",
       "      <td>2</td>\n",
       "      <td>436</td>\n",
       "      <td>0</td>\n",
       "      <td>...</td>\n",
       "      <td>1</td>\n",
       "      <td>0</td>\n",
       "      <td>0</td>\n",
       "      <td>1</td>\n",
       "      <td>0</td>\n",
       "      <td>0</td>\n",
       "      <td>0</td>\n",
       "      <td>0</td>\n",
       "      <td>1</td>\n",
       "      <td>0</td>\n",
       "    </tr>\n",
       "    <tr>\n",
       "      <th>201909040104</th>\n",
       "      <td>6</td>\n",
       "      <td>10</td>\n",
       "      <td>54.0</td>\n",
       "      <td>15.3</td>\n",
       "      <td>1400.0</td>\n",
       "      <td>8494</td>\n",
       "      <td>14</td>\n",
       "      <td>2</td>\n",
       "      <td>470</td>\n",
       "      <td>0</td>\n",
       "      <td>...</td>\n",
       "      <td>1</td>\n",
       "      <td>0</td>\n",
       "      <td>0</td>\n",
       "      <td>1</td>\n",
       "      <td>0</td>\n",
       "      <td>0</td>\n",
       "      <td>0</td>\n",
       "      <td>0</td>\n",
       "      <td>1</td>\n",
       "      <td>0</td>\n",
       "    </tr>\n",
       "    <tr>\n",
       "      <th>201909040104</th>\n",
       "      <td>7</td>\n",
       "      <td>11</td>\n",
       "      <td>51.0</td>\n",
       "      <td>96.7</td>\n",
       "      <td>1400.0</td>\n",
       "      <td>8347</td>\n",
       "      <td>136</td>\n",
       "      <td>2</td>\n",
       "      <td>418</td>\n",
       "      <td>0</td>\n",
       "      <td>...</td>\n",
       "      <td>1</td>\n",
       "      <td>0</td>\n",
       "      <td>0</td>\n",
       "      <td>1</td>\n",
       "      <td>0</td>\n",
       "      <td>0</td>\n",
       "      <td>0</td>\n",
       "      <td>0</td>\n",
       "      <td>1</td>\n",
       "      <td>0</td>\n",
       "    </tr>\n",
       "    <tr>\n",
       "      <th>201909040104</th>\n",
       "      <td>4</td>\n",
       "      <td>6</td>\n",
       "      <td>54.0</td>\n",
       "      <td>7.2</td>\n",
       "      <td>1400.0</td>\n",
       "      <td>11065</td>\n",
       "      <td>25</td>\n",
       "      <td>2</td>\n",
       "      <td>494</td>\n",
       "      <td>0</td>\n",
       "      <td>...</td>\n",
       "      <td>1</td>\n",
       "      <td>0</td>\n",
       "      <td>0</td>\n",
       "      <td>1</td>\n",
       "      <td>0</td>\n",
       "      <td>0</td>\n",
       "      <td>0</td>\n",
       "      <td>0</td>\n",
       "      <td>1</td>\n",
       "      <td>0</td>\n",
       "    </tr>\n",
       "    <tr>\n",
       "      <th>201909040104</th>\n",
       "      <td>2</td>\n",
       "      <td>2</td>\n",
       "      <td>54.0</td>\n",
       "      <td>170.4</td>\n",
       "      <td>1400.0</td>\n",
       "      <td>9465</td>\n",
       "      <td>38</td>\n",
       "      <td>2</td>\n",
       "      <td>420</td>\n",
       "      <td>0</td>\n",
       "      <td>...</td>\n",
       "      <td>1</td>\n",
       "      <td>0</td>\n",
       "      <td>0</td>\n",
       "      <td>1</td>\n",
       "      <td>0</td>\n",
       "      <td>0</td>\n",
       "      <td>0</td>\n",
       "      <td>0</td>\n",
       "      <td>1</td>\n",
       "      <td>0</td>\n",
       "    </tr>\n",
       "    <tr>\n",
       "      <th>...</th>\n",
       "      <td>...</td>\n",
       "      <td>...</td>\n",
       "      <td>...</td>\n",
       "      <td>...</td>\n",
       "      <td>...</td>\n",
       "      <td>...</td>\n",
       "      <td>...</td>\n",
       "      <td>...</td>\n",
       "      <td>...</td>\n",
       "      <td>...</td>\n",
       "      <td>...</td>\n",
       "      <td>...</td>\n",
       "      <td>...</td>\n",
       "      <td>...</td>\n",
       "      <td>...</td>\n",
       "      <td>...</td>\n",
       "      <td>...</td>\n",
       "      <td>...</td>\n",
       "      <td>...</td>\n",
       "      <td>...</td>\n",
       "      <td>...</td>\n",
       "    </tr>\n",
       "    <tr>\n",
       "      <th>201909050902</th>\n",
       "      <td>5</td>\n",
       "      <td>10</td>\n",
       "      <td>54.0</td>\n",
       "      <td>66.7</td>\n",
       "      <td>1400.0</td>\n",
       "      <td>10254</td>\n",
       "      <td>110</td>\n",
       "      <td>2</td>\n",
       "      <td>474</td>\n",
       "      <td>-10</td>\n",
       "      <td>...</td>\n",
       "      <td>0</td>\n",
       "      <td>1</td>\n",
       "      <td>0</td>\n",
       "      <td>0</td>\n",
       "      <td>0</td>\n",
       "      <td>1</td>\n",
       "      <td>0</td>\n",
       "      <td>0</td>\n",
       "      <td>1</td>\n",
       "      <td>0</td>\n",
       "    </tr>\n",
       "    <tr>\n",
       "      <th>201909050902</th>\n",
       "      <td>3</td>\n",
       "      <td>5</td>\n",
       "      <td>54.0</td>\n",
       "      <td>470.9</td>\n",
       "      <td>1400.0</td>\n",
       "      <td>8485</td>\n",
       "      <td>172</td>\n",
       "      <td>2</td>\n",
       "      <td>406</td>\n",
       "      <td>-2</td>\n",
       "      <td>...</td>\n",
       "      <td>0</td>\n",
       "      <td>1</td>\n",
       "      <td>0</td>\n",
       "      <td>0</td>\n",
       "      <td>0</td>\n",
       "      <td>1</td>\n",
       "      <td>0</td>\n",
       "      <td>0</td>\n",
       "      <td>1</td>\n",
       "      <td>0</td>\n",
       "    </tr>\n",
       "    <tr>\n",
       "      <th>201909050902</th>\n",
       "      <td>6</td>\n",
       "      <td>12</td>\n",
       "      <td>55.0</td>\n",
       "      <td>265.3</td>\n",
       "      <td>1400.0</td>\n",
       "      <td>8919</td>\n",
       "      <td>85</td>\n",
       "      <td>2</td>\n",
       "      <td>502</td>\n",
       "      <td>8</td>\n",
       "      <td>...</td>\n",
       "      <td>0</td>\n",
       "      <td>1</td>\n",
       "      <td>0</td>\n",
       "      <td>0</td>\n",
       "      <td>0</td>\n",
       "      <td>1</td>\n",
       "      <td>0</td>\n",
       "      <td>1</td>\n",
       "      <td>0</td>\n",
       "      <td>0</td>\n",
       "    </tr>\n",
       "    <tr>\n",
       "      <th>201909050902</th>\n",
       "      <td>4</td>\n",
       "      <td>8</td>\n",
       "      <td>54.0</td>\n",
       "      <td>24.2</td>\n",
       "      <td>1400.0</td>\n",
       "      <td>10352</td>\n",
       "      <td>70</td>\n",
       "      <td>2</td>\n",
       "      <td>438</td>\n",
       "      <td>0</td>\n",
       "      <td>...</td>\n",
       "      <td>0</td>\n",
       "      <td>1</td>\n",
       "      <td>0</td>\n",
       "      <td>0</td>\n",
       "      <td>0</td>\n",
       "      <td>1</td>\n",
       "      <td>0</td>\n",
       "      <td>0</td>\n",
       "      <td>1</td>\n",
       "      <td>0</td>\n",
       "    </tr>\n",
       "    <tr>\n",
       "      <th>201909050902</th>\n",
       "      <td>7</td>\n",
       "      <td>14</td>\n",
       "      <td>55.0</td>\n",
       "      <td>314.7</td>\n",
       "      <td>1400.0</td>\n",
       "      <td>9400</td>\n",
       "      <td>99</td>\n",
       "      <td>2</td>\n",
       "      <td>472</td>\n",
       "      <td>-2</td>\n",
       "      <td>...</td>\n",
       "      <td>0</td>\n",
       "      <td>1</td>\n",
       "      <td>0</td>\n",
       "      <td>0</td>\n",
       "      <td>0</td>\n",
       "      <td>1</td>\n",
       "      <td>0</td>\n",
       "      <td>1</td>\n",
       "      <td>0</td>\n",
       "      <td>0</td>\n",
       "    </tr>\n",
       "  </tbody>\n",
       "</table>\n",
       "<p>13997 rows × 94 columns</p>\n",
       "</div>"
      ],
      "text/plain": [
       "              枠番  馬番    斤量     単勝  course_len  horse_id  jockey_id  年齢   体重  \\\n",
       "201909040104   4   5  54.0    1.4      1400.0     10663         60   2  436   \n",
       "201909040104   6  10  54.0   15.3      1400.0      8494         14   2  470   \n",
       "201909040104   7  11  51.0   96.7      1400.0      8347        136   2  418   \n",
       "201909040104   4   6  54.0    7.2      1400.0     11065         25   2  494   \n",
       "201909040104   2   2  54.0  170.4      1400.0      9465         38   2  420   \n",
       "...           ..  ..   ...    ...         ...       ...        ...  ..  ...   \n",
       "201909050902   5  10  54.0   66.7      1400.0     10254        110   2  474   \n",
       "201909050902   3   5  54.0  470.9      1400.0      8485        172   2  406   \n",
       "201909050902   6  12  55.0  265.3      1400.0      8919         85   2  502   \n",
       "201909050902   4   8  54.0   24.2      1400.0     10352         70   2  438   \n",
       "201909050902   7  14  55.0  314.7      1400.0      9400         99   2  472   \n",
       "\n",
       "              体重変化  ...  race_type_芝  race_type_ダート  race_type_障害  \\\n",
       "201909040104     0  ...            1              0             0   \n",
       "201909040104     0  ...            1              0             0   \n",
       "201909040104     0  ...            1              0             0   \n",
       "201909040104     0  ...            1              0             0   \n",
       "201909040104     0  ...            1              0             0   \n",
       "...            ...  ...          ...            ...           ...   \n",
       "201909050902   -10  ...            0              1             0   \n",
       "201909050902    -2  ...            0              1             0   \n",
       "201909050902     8  ...            0              1             0   \n",
       "201909050902     0  ...            0              1             0   \n",
       "201909050902    -2  ...            0              1             0   \n",
       "\n",
       "              ground_state_良  ground_state_不良  ground_state_稍重 ground_state_重  \\\n",
       "201909040104               1                0                0              0   \n",
       "201909040104               1                0                0              0   \n",
       "201909040104               1                0                0              0   \n",
       "201909040104               1                0                0              0   \n",
       "201909040104               1                0                0              0   \n",
       "...                      ...              ...              ...            ...   \n",
       "201909050902               0                0                1              0   \n",
       "201909050902               0                0                1              0   \n",
       "201909050902               0                0                1              0   \n",
       "201909050902               0                0                1              0   \n",
       "201909050902               0                0                1              0   \n",
       "\n",
       "             性_牡 性_牝 性_セ  \n",
       "201909040104   0   1   0  \n",
       "201909040104   0   1   0  \n",
       "201909040104   0   1   0  \n",
       "201909040104   0   1   0  \n",
       "201909040104   0   1   0  \n",
       "...           ..  ..  ..  \n",
       "201909050902   0   1   0  \n",
       "201909050902   0   1   0  \n",
       "201909050902   1   0   0  \n",
       "201909050902   0   1   0  \n",
       "201909050902   1   0   0  \n",
       "\n",
       "[13997 rows x 94 columns]"
      ]
     },
     "execution_count": 502,
     "metadata": {},
     "output_type": "execute_result"
    }
   ],
   "source": [
    "X_test"
   ]
  },
  {
   "cell_type": "code",
   "execution_count": 513,
   "id": "233f9b8a-b5f6-4938-8be1-7644b6259d0f",
   "metadata": {},
   "outputs": [],
   "source": [
    "X_test2 = X_test.drop('単勝', axis=1)"
   ]
  },
  {
   "cell_type": "code",
   "execution_count": 509,
   "id": "cb77973e-df0d-4aa9-83af-2689f2a56efb",
   "metadata": {},
   "outputs": [
    {
     "data": {
      "text/html": [
       "<div>\n",
       "<style scoped>\n",
       "    .dataframe tbody tr th:only-of-type {\n",
       "        vertical-align: middle;\n",
       "    }\n",
       "\n",
       "    .dataframe tbody tr th {\n",
       "        vertical-align: top;\n",
       "    }\n",
       "\n",
       "    .dataframe thead th {\n",
       "        text-align: right;\n",
       "    }\n",
       "</style>\n",
       "<table border=\"1\" class=\"dataframe\">\n",
       "  <thead>\n",
       "    <tr style=\"text-align: right;\">\n",
       "      <th></th>\n",
       "      <th>枠番</th>\n",
       "      <th>馬番</th>\n",
       "      <th>斤量</th>\n",
       "      <th>単勝</th>\n",
       "      <th>course_len</th>\n",
       "      <th>horse_id</th>\n",
       "      <th>jockey_id</th>\n",
       "      <th>年齢</th>\n",
       "      <th>体重</th>\n",
       "      <th>体重変化</th>\n",
       "      <th>...</th>\n",
       "      <th>race_type_芝</th>\n",
       "      <th>race_type_ダート</th>\n",
       "      <th>race_type_障害</th>\n",
       "      <th>ground_state_良</th>\n",
       "      <th>ground_state_不良</th>\n",
       "      <th>ground_state_稍重</th>\n",
       "      <th>ground_state_重</th>\n",
       "      <th>性_牡</th>\n",
       "      <th>性_牝</th>\n",
       "      <th>性_セ</th>\n",
       "    </tr>\n",
       "  </thead>\n",
       "  <tbody>\n",
       "    <tr>\n",
       "      <th>201909040104</th>\n",
       "      <td>4</td>\n",
       "      <td>5</td>\n",
       "      <td>54.0</td>\n",
       "      <td>1.4</td>\n",
       "      <td>1400.0</td>\n",
       "      <td>10663</td>\n",
       "      <td>60</td>\n",
       "      <td>2</td>\n",
       "      <td>436</td>\n",
       "      <td>0</td>\n",
       "      <td>...</td>\n",
       "      <td>1</td>\n",
       "      <td>0</td>\n",
       "      <td>0</td>\n",
       "      <td>1</td>\n",
       "      <td>0</td>\n",
       "      <td>0</td>\n",
       "      <td>0</td>\n",
       "      <td>0</td>\n",
       "      <td>1</td>\n",
       "      <td>0</td>\n",
       "    </tr>\n",
       "    <tr>\n",
       "      <th>201909040104</th>\n",
       "      <td>6</td>\n",
       "      <td>10</td>\n",
       "      <td>54.0</td>\n",
       "      <td>15.3</td>\n",
       "      <td>1400.0</td>\n",
       "      <td>8494</td>\n",
       "      <td>14</td>\n",
       "      <td>2</td>\n",
       "      <td>470</td>\n",
       "      <td>0</td>\n",
       "      <td>...</td>\n",
       "      <td>1</td>\n",
       "      <td>0</td>\n",
       "      <td>0</td>\n",
       "      <td>1</td>\n",
       "      <td>0</td>\n",
       "      <td>0</td>\n",
       "      <td>0</td>\n",
       "      <td>0</td>\n",
       "      <td>1</td>\n",
       "      <td>0</td>\n",
       "    </tr>\n",
       "    <tr>\n",
       "      <th>201909040104</th>\n",
       "      <td>7</td>\n",
       "      <td>11</td>\n",
       "      <td>51.0</td>\n",
       "      <td>96.7</td>\n",
       "      <td>1400.0</td>\n",
       "      <td>8347</td>\n",
       "      <td>136</td>\n",
       "      <td>2</td>\n",
       "      <td>418</td>\n",
       "      <td>0</td>\n",
       "      <td>...</td>\n",
       "      <td>1</td>\n",
       "      <td>0</td>\n",
       "      <td>0</td>\n",
       "      <td>1</td>\n",
       "      <td>0</td>\n",
       "      <td>0</td>\n",
       "      <td>0</td>\n",
       "      <td>0</td>\n",
       "      <td>1</td>\n",
       "      <td>0</td>\n",
       "    </tr>\n",
       "    <tr>\n",
       "      <th>201909040104</th>\n",
       "      <td>4</td>\n",
       "      <td>6</td>\n",
       "      <td>54.0</td>\n",
       "      <td>7.2</td>\n",
       "      <td>1400.0</td>\n",
       "      <td>11065</td>\n",
       "      <td>25</td>\n",
       "      <td>2</td>\n",
       "      <td>494</td>\n",
       "      <td>0</td>\n",
       "      <td>...</td>\n",
       "      <td>1</td>\n",
       "      <td>0</td>\n",
       "      <td>0</td>\n",
       "      <td>1</td>\n",
       "      <td>0</td>\n",
       "      <td>0</td>\n",
       "      <td>0</td>\n",
       "      <td>0</td>\n",
       "      <td>1</td>\n",
       "      <td>0</td>\n",
       "    </tr>\n",
       "    <tr>\n",
       "      <th>201909040104</th>\n",
       "      <td>2</td>\n",
       "      <td>2</td>\n",
       "      <td>54.0</td>\n",
       "      <td>170.4</td>\n",
       "      <td>1400.0</td>\n",
       "      <td>9465</td>\n",
       "      <td>38</td>\n",
       "      <td>2</td>\n",
       "      <td>420</td>\n",
       "      <td>0</td>\n",
       "      <td>...</td>\n",
       "      <td>1</td>\n",
       "      <td>0</td>\n",
       "      <td>0</td>\n",
       "      <td>1</td>\n",
       "      <td>0</td>\n",
       "      <td>0</td>\n",
       "      <td>0</td>\n",
       "      <td>0</td>\n",
       "      <td>1</td>\n",
       "      <td>0</td>\n",
       "    </tr>\n",
       "    <tr>\n",
       "      <th>...</th>\n",
       "      <td>...</td>\n",
       "      <td>...</td>\n",
       "      <td>...</td>\n",
       "      <td>...</td>\n",
       "      <td>...</td>\n",
       "      <td>...</td>\n",
       "      <td>...</td>\n",
       "      <td>...</td>\n",
       "      <td>...</td>\n",
       "      <td>...</td>\n",
       "      <td>...</td>\n",
       "      <td>...</td>\n",
       "      <td>...</td>\n",
       "      <td>...</td>\n",
       "      <td>...</td>\n",
       "      <td>...</td>\n",
       "      <td>...</td>\n",
       "      <td>...</td>\n",
       "      <td>...</td>\n",
       "      <td>...</td>\n",
       "      <td>...</td>\n",
       "    </tr>\n",
       "    <tr>\n",
       "      <th>201909050902</th>\n",
       "      <td>5</td>\n",
       "      <td>10</td>\n",
       "      <td>54.0</td>\n",
       "      <td>66.7</td>\n",
       "      <td>1400.0</td>\n",
       "      <td>10254</td>\n",
       "      <td>110</td>\n",
       "      <td>2</td>\n",
       "      <td>474</td>\n",
       "      <td>-10</td>\n",
       "      <td>...</td>\n",
       "      <td>0</td>\n",
       "      <td>1</td>\n",
       "      <td>0</td>\n",
       "      <td>0</td>\n",
       "      <td>0</td>\n",
       "      <td>1</td>\n",
       "      <td>0</td>\n",
       "      <td>0</td>\n",
       "      <td>1</td>\n",
       "      <td>0</td>\n",
       "    </tr>\n",
       "    <tr>\n",
       "      <th>201909050902</th>\n",
       "      <td>3</td>\n",
       "      <td>5</td>\n",
       "      <td>54.0</td>\n",
       "      <td>470.9</td>\n",
       "      <td>1400.0</td>\n",
       "      <td>8485</td>\n",
       "      <td>172</td>\n",
       "      <td>2</td>\n",
       "      <td>406</td>\n",
       "      <td>-2</td>\n",
       "      <td>...</td>\n",
       "      <td>0</td>\n",
       "      <td>1</td>\n",
       "      <td>0</td>\n",
       "      <td>0</td>\n",
       "      <td>0</td>\n",
       "      <td>1</td>\n",
       "      <td>0</td>\n",
       "      <td>0</td>\n",
       "      <td>1</td>\n",
       "      <td>0</td>\n",
       "    </tr>\n",
       "    <tr>\n",
       "      <th>201909050902</th>\n",
       "      <td>6</td>\n",
       "      <td>12</td>\n",
       "      <td>55.0</td>\n",
       "      <td>265.3</td>\n",
       "      <td>1400.0</td>\n",
       "      <td>8919</td>\n",
       "      <td>85</td>\n",
       "      <td>2</td>\n",
       "      <td>502</td>\n",
       "      <td>8</td>\n",
       "      <td>...</td>\n",
       "      <td>0</td>\n",
       "      <td>1</td>\n",
       "      <td>0</td>\n",
       "      <td>0</td>\n",
       "      <td>0</td>\n",
       "      <td>1</td>\n",
       "      <td>0</td>\n",
       "      <td>1</td>\n",
       "      <td>0</td>\n",
       "      <td>0</td>\n",
       "    </tr>\n",
       "    <tr>\n",
       "      <th>201909050902</th>\n",
       "      <td>4</td>\n",
       "      <td>8</td>\n",
       "      <td>54.0</td>\n",
       "      <td>24.2</td>\n",
       "      <td>1400.0</td>\n",
       "      <td>10352</td>\n",
       "      <td>70</td>\n",
       "      <td>2</td>\n",
       "      <td>438</td>\n",
       "      <td>0</td>\n",
       "      <td>...</td>\n",
       "      <td>0</td>\n",
       "      <td>1</td>\n",
       "      <td>0</td>\n",
       "      <td>0</td>\n",
       "      <td>0</td>\n",
       "      <td>1</td>\n",
       "      <td>0</td>\n",
       "      <td>0</td>\n",
       "      <td>1</td>\n",
       "      <td>0</td>\n",
       "    </tr>\n",
       "    <tr>\n",
       "      <th>201909050902</th>\n",
       "      <td>7</td>\n",
       "      <td>14</td>\n",
       "      <td>55.0</td>\n",
       "      <td>314.7</td>\n",
       "      <td>1400.0</td>\n",
       "      <td>9400</td>\n",
       "      <td>99</td>\n",
       "      <td>2</td>\n",
       "      <td>472</td>\n",
       "      <td>-2</td>\n",
       "      <td>...</td>\n",
       "      <td>0</td>\n",
       "      <td>1</td>\n",
       "      <td>0</td>\n",
       "      <td>0</td>\n",
       "      <td>0</td>\n",
       "      <td>1</td>\n",
       "      <td>0</td>\n",
       "      <td>1</td>\n",
       "      <td>0</td>\n",
       "      <td>0</td>\n",
       "    </tr>\n",
       "  </tbody>\n",
       "</table>\n",
       "<p>13997 rows × 94 columns</p>\n",
       "</div>"
      ],
      "text/plain": [
       "              枠番  馬番    斤量     単勝  course_len  horse_id  jockey_id  年齢   体重  \\\n",
       "201909040104   4   5  54.0    1.4      1400.0     10663         60   2  436   \n",
       "201909040104   6  10  54.0   15.3      1400.0      8494         14   2  470   \n",
       "201909040104   7  11  51.0   96.7      1400.0      8347        136   2  418   \n",
       "201909040104   4   6  54.0    7.2      1400.0     11065         25   2  494   \n",
       "201909040104   2   2  54.0  170.4      1400.0      9465         38   2  420   \n",
       "...           ..  ..   ...    ...         ...       ...        ...  ..  ...   \n",
       "201909050902   5  10  54.0   66.7      1400.0     10254        110   2  474   \n",
       "201909050902   3   5  54.0  470.9      1400.0      8485        172   2  406   \n",
       "201909050902   6  12  55.0  265.3      1400.0      8919         85   2  502   \n",
       "201909050902   4   8  54.0   24.2      1400.0     10352         70   2  438   \n",
       "201909050902   7  14  55.0  314.7      1400.0      9400         99   2  472   \n",
       "\n",
       "              体重変化  ...  race_type_芝  race_type_ダート  race_type_障害  \\\n",
       "201909040104     0  ...            1              0             0   \n",
       "201909040104     0  ...            1              0             0   \n",
       "201909040104     0  ...            1              0             0   \n",
       "201909040104     0  ...            1              0             0   \n",
       "201909040104     0  ...            1              0             0   \n",
       "...            ...  ...          ...            ...           ...   \n",
       "201909050902   -10  ...            0              1             0   \n",
       "201909050902    -2  ...            0              1             0   \n",
       "201909050902     8  ...            0              1             0   \n",
       "201909050902     0  ...            0              1             0   \n",
       "201909050902    -2  ...            0              1             0   \n",
       "\n",
       "              ground_state_良  ground_state_不良  ground_state_稍重 ground_state_重  \\\n",
       "201909040104               1                0                0              0   \n",
       "201909040104               1                0                0              0   \n",
       "201909040104               1                0                0              0   \n",
       "201909040104               1                0                0              0   \n",
       "201909040104               1                0                0              0   \n",
       "...                      ...              ...              ...            ...   \n",
       "201909050902               0                0                1              0   \n",
       "201909050902               0                0                1              0   \n",
       "201909050902               0                0                1              0   \n",
       "201909050902               0                0                1              0   \n",
       "201909050902               0                0                1              0   \n",
       "\n",
       "             性_牡 性_牝 性_セ  \n",
       "201909040104   0   1   0  \n",
       "201909040104   0   1   0  \n",
       "201909040104   0   1   0  \n",
       "201909040104   0   1   0  \n",
       "201909040104   0   1   0  \n",
       "...           ..  ..  ..  \n",
       "201909050902   0   1   0  \n",
       "201909050902   0   1   0  \n",
       "201909050902   1   0   0  \n",
       "201909050902   0   1   0  \n",
       "201909050902   1   0   0  \n",
       "\n",
       "[13997 rows x 94 columns]"
      ]
     },
     "execution_count": 509,
     "metadata": {},
     "output_type": "execute_result"
    }
   ],
   "source": [
    "X_test"
   ]
  },
  {
   "cell_type": "code",
   "execution_count": 514,
   "id": "41637380-65d8-4ffb-abbb-3f7de70d2d02",
   "metadata": {},
   "outputs": [
    {
     "data": {
      "text/html": [
       "<div>\n",
       "<style scoped>\n",
       "    .dataframe tbody tr th:only-of-type {\n",
       "        vertical-align: middle;\n",
       "    }\n",
       "\n",
       "    .dataframe tbody tr th {\n",
       "        vertical-align: top;\n",
       "    }\n",
       "\n",
       "    .dataframe thead th {\n",
       "        text-align: right;\n",
       "    }\n",
       "</style>\n",
       "<table border=\"1\" class=\"dataframe\">\n",
       "  <thead>\n",
       "    <tr style=\"text-align: right;\">\n",
       "      <th></th>\n",
       "      <th>枠番</th>\n",
       "      <th>馬番</th>\n",
       "      <th>斤量</th>\n",
       "      <th>course_len</th>\n",
       "      <th>horse_id</th>\n",
       "      <th>jockey_id</th>\n",
       "      <th>年齢</th>\n",
       "      <th>体重</th>\n",
       "      <th>体重変化</th>\n",
       "      <th>着順_5R</th>\n",
       "      <th>...</th>\n",
       "      <th>race_type_芝</th>\n",
       "      <th>race_type_ダート</th>\n",
       "      <th>race_type_障害</th>\n",
       "      <th>ground_state_良</th>\n",
       "      <th>ground_state_不良</th>\n",
       "      <th>ground_state_稍重</th>\n",
       "      <th>ground_state_重</th>\n",
       "      <th>性_牡</th>\n",
       "      <th>性_牝</th>\n",
       "      <th>性_セ</th>\n",
       "    </tr>\n",
       "  </thead>\n",
       "  <tbody>\n",
       "    <tr>\n",
       "      <th>201909040104</th>\n",
       "      <td>4</td>\n",
       "      <td>5</td>\n",
       "      <td>54.0</td>\n",
       "      <td>1400.0</td>\n",
       "      <td>10663</td>\n",
       "      <td>60</td>\n",
       "      <td>2</td>\n",
       "      <td>436</td>\n",
       "      <td>0</td>\n",
       "      <td>NaN</td>\n",
       "      <td>...</td>\n",
       "      <td>1</td>\n",
       "      <td>0</td>\n",
       "      <td>0</td>\n",
       "      <td>1</td>\n",
       "      <td>0</td>\n",
       "      <td>0</td>\n",
       "      <td>0</td>\n",
       "      <td>0</td>\n",
       "      <td>1</td>\n",
       "      <td>0</td>\n",
       "    </tr>\n",
       "    <tr>\n",
       "      <th>201909040104</th>\n",
       "      <td>6</td>\n",
       "      <td>10</td>\n",
       "      <td>54.0</td>\n",
       "      <td>1400.0</td>\n",
       "      <td>8494</td>\n",
       "      <td>14</td>\n",
       "      <td>2</td>\n",
       "      <td>470</td>\n",
       "      <td>0</td>\n",
       "      <td>NaN</td>\n",
       "      <td>...</td>\n",
       "      <td>1</td>\n",
       "      <td>0</td>\n",
       "      <td>0</td>\n",
       "      <td>1</td>\n",
       "      <td>0</td>\n",
       "      <td>0</td>\n",
       "      <td>0</td>\n",
       "      <td>0</td>\n",
       "      <td>1</td>\n",
       "      <td>0</td>\n",
       "    </tr>\n",
       "    <tr>\n",
       "      <th>201909040104</th>\n",
       "      <td>7</td>\n",
       "      <td>11</td>\n",
       "      <td>51.0</td>\n",
       "      <td>1400.0</td>\n",
       "      <td>8347</td>\n",
       "      <td>136</td>\n",
       "      <td>2</td>\n",
       "      <td>418</td>\n",
       "      <td>0</td>\n",
       "      <td>NaN</td>\n",
       "      <td>...</td>\n",
       "      <td>1</td>\n",
       "      <td>0</td>\n",
       "      <td>0</td>\n",
       "      <td>1</td>\n",
       "      <td>0</td>\n",
       "      <td>0</td>\n",
       "      <td>0</td>\n",
       "      <td>0</td>\n",
       "      <td>1</td>\n",
       "      <td>0</td>\n",
       "    </tr>\n",
       "    <tr>\n",
       "      <th>201909040104</th>\n",
       "      <td>4</td>\n",
       "      <td>6</td>\n",
       "      <td>54.0</td>\n",
       "      <td>1400.0</td>\n",
       "      <td>11065</td>\n",
       "      <td>25</td>\n",
       "      <td>2</td>\n",
       "      <td>494</td>\n",
       "      <td>0</td>\n",
       "      <td>NaN</td>\n",
       "      <td>...</td>\n",
       "      <td>1</td>\n",
       "      <td>0</td>\n",
       "      <td>0</td>\n",
       "      <td>1</td>\n",
       "      <td>0</td>\n",
       "      <td>0</td>\n",
       "      <td>0</td>\n",
       "      <td>0</td>\n",
       "      <td>1</td>\n",
       "      <td>0</td>\n",
       "    </tr>\n",
       "    <tr>\n",
       "      <th>201909040104</th>\n",
       "      <td>2</td>\n",
       "      <td>2</td>\n",
       "      <td>54.0</td>\n",
       "      <td>1400.0</td>\n",
       "      <td>9465</td>\n",
       "      <td>38</td>\n",
       "      <td>2</td>\n",
       "      <td>420</td>\n",
       "      <td>0</td>\n",
       "      <td>NaN</td>\n",
       "      <td>...</td>\n",
       "      <td>1</td>\n",
       "      <td>0</td>\n",
       "      <td>0</td>\n",
       "      <td>1</td>\n",
       "      <td>0</td>\n",
       "      <td>0</td>\n",
       "      <td>0</td>\n",
       "      <td>0</td>\n",
       "      <td>1</td>\n",
       "      <td>0</td>\n",
       "    </tr>\n",
       "    <tr>\n",
       "      <th>...</th>\n",
       "      <td>...</td>\n",
       "      <td>...</td>\n",
       "      <td>...</td>\n",
       "      <td>...</td>\n",
       "      <td>...</td>\n",
       "      <td>...</td>\n",
       "      <td>...</td>\n",
       "      <td>...</td>\n",
       "      <td>...</td>\n",
       "      <td>...</td>\n",
       "      <td>...</td>\n",
       "      <td>...</td>\n",
       "      <td>...</td>\n",
       "      <td>...</td>\n",
       "      <td>...</td>\n",
       "      <td>...</td>\n",
       "      <td>...</td>\n",
       "      <td>...</td>\n",
       "      <td>...</td>\n",
       "      <td>...</td>\n",
       "      <td>...</td>\n",
       "    </tr>\n",
       "    <tr>\n",
       "      <th>201909050902</th>\n",
       "      <td>5</td>\n",
       "      <td>10</td>\n",
       "      <td>54.0</td>\n",
       "      <td>1400.0</td>\n",
       "      <td>10254</td>\n",
       "      <td>110</td>\n",
       "      <td>2</td>\n",
       "      <td>474</td>\n",
       "      <td>-10</td>\n",
       "      <td>10.00</td>\n",
       "      <td>...</td>\n",
       "      <td>0</td>\n",
       "      <td>1</td>\n",
       "      <td>0</td>\n",
       "      <td>0</td>\n",
       "      <td>0</td>\n",
       "      <td>1</td>\n",
       "      <td>0</td>\n",
       "      <td>0</td>\n",
       "      <td>1</td>\n",
       "      <td>0</td>\n",
       "    </tr>\n",
       "    <tr>\n",
       "      <th>201909050902</th>\n",
       "      <td>3</td>\n",
       "      <td>5</td>\n",
       "      <td>54.0</td>\n",
       "      <td>1400.0</td>\n",
       "      <td>8485</td>\n",
       "      <td>172</td>\n",
       "      <td>2</td>\n",
       "      <td>406</td>\n",
       "      <td>-2</td>\n",
       "      <td>8.00</td>\n",
       "      <td>...</td>\n",
       "      <td>0</td>\n",
       "      <td>1</td>\n",
       "      <td>0</td>\n",
       "      <td>0</td>\n",
       "      <td>0</td>\n",
       "      <td>1</td>\n",
       "      <td>0</td>\n",
       "      <td>0</td>\n",
       "      <td>1</td>\n",
       "      <td>0</td>\n",
       "    </tr>\n",
       "    <tr>\n",
       "      <th>201909050902</th>\n",
       "      <td>6</td>\n",
       "      <td>12</td>\n",
       "      <td>55.0</td>\n",
       "      <td>1400.0</td>\n",
       "      <td>8919</td>\n",
       "      <td>85</td>\n",
       "      <td>2</td>\n",
       "      <td>502</td>\n",
       "      <td>8</td>\n",
       "      <td>10.00</td>\n",
       "      <td>...</td>\n",
       "      <td>0</td>\n",
       "      <td>1</td>\n",
       "      <td>0</td>\n",
       "      <td>0</td>\n",
       "      <td>0</td>\n",
       "      <td>1</td>\n",
       "      <td>0</td>\n",
       "      <td>1</td>\n",
       "      <td>0</td>\n",
       "      <td>0</td>\n",
       "    </tr>\n",
       "    <tr>\n",
       "      <th>201909050902</th>\n",
       "      <td>4</td>\n",
       "      <td>8</td>\n",
       "      <td>54.0</td>\n",
       "      <td>1400.0</td>\n",
       "      <td>10352</td>\n",
       "      <td>70</td>\n",
       "      <td>2</td>\n",
       "      <td>438</td>\n",
       "      <td>0</td>\n",
       "      <td>5.75</td>\n",
       "      <td>...</td>\n",
       "      <td>0</td>\n",
       "      <td>1</td>\n",
       "      <td>0</td>\n",
       "      <td>0</td>\n",
       "      <td>0</td>\n",
       "      <td>1</td>\n",
       "      <td>0</td>\n",
       "      <td>0</td>\n",
       "      <td>1</td>\n",
       "      <td>0</td>\n",
       "    </tr>\n",
       "    <tr>\n",
       "      <th>201909050902</th>\n",
       "      <td>7</td>\n",
       "      <td>14</td>\n",
       "      <td>55.0</td>\n",
       "      <td>1400.0</td>\n",
       "      <td>9400</td>\n",
       "      <td>99</td>\n",
       "      <td>2</td>\n",
       "      <td>472</td>\n",
       "      <td>-2</td>\n",
       "      <td>17.00</td>\n",
       "      <td>...</td>\n",
       "      <td>0</td>\n",
       "      <td>1</td>\n",
       "      <td>0</td>\n",
       "      <td>0</td>\n",
       "      <td>0</td>\n",
       "      <td>1</td>\n",
       "      <td>0</td>\n",
       "      <td>1</td>\n",
       "      <td>0</td>\n",
       "      <td>0</td>\n",
       "    </tr>\n",
       "  </tbody>\n",
       "</table>\n",
       "<p>13997 rows × 93 columns</p>\n",
       "</div>"
      ],
      "text/plain": [
       "              枠番  馬番    斤量  course_len  horse_id  jockey_id  年齢   体重  体重変化  \\\n",
       "201909040104   4   5  54.0      1400.0     10663         60   2  436     0   \n",
       "201909040104   6  10  54.0      1400.0      8494         14   2  470     0   \n",
       "201909040104   7  11  51.0      1400.0      8347        136   2  418     0   \n",
       "201909040104   4   6  54.0      1400.0     11065         25   2  494     0   \n",
       "201909040104   2   2  54.0      1400.0      9465         38   2  420     0   \n",
       "...           ..  ..   ...         ...       ...        ...  ..  ...   ...   \n",
       "201909050902   5  10  54.0      1400.0     10254        110   2  474   -10   \n",
       "201909050902   3   5  54.0      1400.0      8485        172   2  406    -2   \n",
       "201909050902   6  12  55.0      1400.0      8919         85   2  502     8   \n",
       "201909050902   4   8  54.0      1400.0     10352         70   2  438     0   \n",
       "201909050902   7  14  55.0      1400.0      9400         99   2  472    -2   \n",
       "\n",
       "              着順_5R  ...  race_type_芝  race_type_ダート  race_type_障害  \\\n",
       "201909040104    NaN  ...            1              0             0   \n",
       "201909040104    NaN  ...            1              0             0   \n",
       "201909040104    NaN  ...            1              0             0   \n",
       "201909040104    NaN  ...            1              0             0   \n",
       "201909040104    NaN  ...            1              0             0   \n",
       "...             ...  ...          ...            ...           ...   \n",
       "201909050902  10.00  ...            0              1             0   \n",
       "201909050902   8.00  ...            0              1             0   \n",
       "201909050902  10.00  ...            0              1             0   \n",
       "201909050902   5.75  ...            0              1             0   \n",
       "201909050902  17.00  ...            0              1             0   \n",
       "\n",
       "              ground_state_良  ground_state_不良 ground_state_稍重 ground_state_重  \\\n",
       "201909040104               1                0               0              0   \n",
       "201909040104               1                0               0              0   \n",
       "201909040104               1                0               0              0   \n",
       "201909040104               1                0               0              0   \n",
       "201909040104               1                0               0              0   \n",
       "...                      ...              ...             ...            ...   \n",
       "201909050902               0                0               1              0   \n",
       "201909050902               0                0               1              0   \n",
       "201909050902               0                0               1              0   \n",
       "201909050902               0                0               1              0   \n",
       "201909050902               0                0               1              0   \n",
       "\n",
       "             性_牡 性_牝 性_セ  \n",
       "201909040104   0   1   0  \n",
       "201909040104   0   1   0  \n",
       "201909040104   0   1   0  \n",
       "201909040104   0   1   0  \n",
       "201909040104   0   1   0  \n",
       "...           ..  ..  ..  \n",
       "201909050902   0   1   0  \n",
       "201909050902   0   1   0  \n",
       "201909050902   1   0   0  \n",
       "201909050902   0   1   0  \n",
       "201909050902   1   0   0  \n",
       "\n",
       "[13997 rows x 93 columns]"
      ]
     },
     "execution_count": 514,
     "metadata": {},
     "output_type": "execute_result"
    }
   ],
   "source": [
    "X_test2"
   ]
  },
  {
   "cell_type": "code",
   "execution_count": 285,
   "id": "4aee255c-daa5-4389-9f4e-fdd5288773b1",
   "metadata": {},
   "outputs": [
    {
     "data": {
      "text/plain": [
       "<AxesSubplot:>"
      ]
     },
     "execution_count": 285,
     "metadata": {},
     "output_type": "execute_result"
    },
    {
     "data": {
      "image/png": "[encoded data removed]",
      "text/plain": [
       "<Figure size 432x288 with 1 Axes>"
      ]
     },
     "metadata": {
      "needs_background": "light"
     },
     "output_type": "display_data"
    }
   ],
   "source": [
    "gain_optuna.plot()"
   ]
  },
  {
   "cell_type": "code",
   "execution_count": 549,
   "id": "56af893f-ddf6-4f81-b84d-eea47c77d2bd",
   "metadata": {},
   "outputs": [
    {
     "data": {
      "text/html": [
       "<div>\n",
       "<style scoped>\n",
       "    .dataframe tbody tr th:only-of-type {\n",
       "        vertical-align: middle;\n",
       "    }\n",
       "\n",
       "    .dataframe tbody tr th {\n",
       "        vertical-align: top;\n",
       "    }\n",
       "\n",
       "    .dataframe thead th {\n",
       "        text-align: right;\n",
       "    }\n",
       "</style>\n",
       "<table border=\"1\" class=\"dataframe\">\n",
       "  <thead>\n",
       "    <tr style=\"text-align: right;\">\n",
       "      <th></th>\n",
       "      <th>features</th>\n",
       "      <th>importance</th>\n",
       "    </tr>\n",
       "  </thead>\n",
       "  <tbody>\n",
       "    <tr>\n",
       "      <th>3</th>\n",
       "      <td>単勝</td>\n",
       "      <td>1288</td>\n",
       "    </tr>\n",
       "    <tr>\n",
       "      <th>6</th>\n",
       "      <td>jockey_id</td>\n",
       "      <td>825</td>\n",
       "    </tr>\n",
       "    <tr>\n",
       "      <th>11</th>\n",
       "      <td>賞金_5R</td>\n",
       "      <td>752</td>\n",
       "    </tr>\n",
       "    <tr>\n",
       "      <th>10</th>\n",
       "      <td>着順_5R</td>\n",
       "      <td>705</td>\n",
       "    </tr>\n",
       "    <tr>\n",
       "      <th>13</th>\n",
       "      <td>賞金_9R</td>\n",
       "      <td>668</td>\n",
       "    </tr>\n",
       "    <tr>\n",
       "      <th>12</th>\n",
       "      <td>着順_9R</td>\n",
       "      <td>663</td>\n",
       "    </tr>\n",
       "    <tr>\n",
       "      <th>9</th>\n",
       "      <td>体重変化</td>\n",
       "      <td>658</td>\n",
       "    </tr>\n",
       "    <tr>\n",
       "      <th>8</th>\n",
       "      <td>体重</td>\n",
       "      <td>650</td>\n",
       "    </tr>\n",
       "    <tr>\n",
       "      <th>1</th>\n",
       "      <td>馬番</td>\n",
       "      <td>600</td>\n",
       "    </tr>\n",
       "    <tr>\n",
       "      <th>15</th>\n",
       "      <td>賞金_allR</td>\n",
       "      <td>598</td>\n",
       "    </tr>\n",
       "    <tr>\n",
       "      <th>14</th>\n",
       "      <td>着順_allR</td>\n",
       "      <td>552</td>\n",
       "    </tr>\n",
       "    <tr>\n",
       "      <th>17</th>\n",
       "      <td>peds_1</td>\n",
       "      <td>529</td>\n",
       "    </tr>\n",
       "    <tr>\n",
       "      <th>5</th>\n",
       "      <td>horse_id</td>\n",
       "      <td>499</td>\n",
       "    </tr>\n",
       "    <tr>\n",
       "      <th>29</th>\n",
       "      <td>peds_13</td>\n",
       "      <td>490</td>\n",
       "    </tr>\n",
       "    <tr>\n",
       "      <th>45</th>\n",
       "      <td>peds_29</td>\n",
       "      <td>475</td>\n",
       "    </tr>\n",
       "    <tr>\n",
       "      <th>75</th>\n",
       "      <td>peds_59</td>\n",
       "      <td>472</td>\n",
       "    </tr>\n",
       "    <tr>\n",
       "      <th>77</th>\n",
       "      <td>peds_61</td>\n",
       "      <td>466</td>\n",
       "    </tr>\n",
       "    <tr>\n",
       "      <th>76</th>\n",
       "      <td>peds_60</td>\n",
       "      <td>462</td>\n",
       "    </tr>\n",
       "    <tr>\n",
       "      <th>21</th>\n",
       "      <td>peds_5</td>\n",
       "      <td>456</td>\n",
       "    </tr>\n",
       "    <tr>\n",
       "      <th>74</th>\n",
       "      <td>peds_58</td>\n",
       "      <td>451</td>\n",
       "    </tr>\n",
       "  </tbody>\n",
       "</table>\n",
       "</div>"
      ],
      "text/plain": [
       "     features  importance\n",
       "3          単勝        1288\n",
       "6   jockey_id         825\n",
       "11      賞金_5R         752\n",
       "10      着順_5R         705\n",
       "13      賞金_9R         668\n",
       "12      着順_9R         663\n",
       "9        体重変化         658\n",
       "8          体重         650\n",
       "1          馬番         600\n",
       "15    賞金_allR         598\n",
       "14    着順_allR         552\n",
       "17     peds_1         529\n",
       "5    horse_id         499\n",
       "29    peds_13         490\n",
       "45    peds_29         475\n",
       "75    peds_59         472\n",
       "77    peds_61         466\n",
       "76    peds_60         462\n",
       "21     peds_5         456\n",
       "74    peds_58         451"
      ]
     },
     "execution_count": 549,
     "metadata": {},
     "output_type": "execute_result"
    }
   ],
   "source": [
    "me.feature_importance(X_test)"
   ]
  },
  {
   "cell_type": "code",
   "execution_count": null,
   "id": "e6751a5e-1ea4-4861-9b8b-02fabe6e88f6",
   "metadata": {},
   "outputs": [],
   "source": []
  },
  {
   "cell_type": "code",
   "execution_count": null,
   "id": "00bdc36a-1bd0-4b60-b9cb-06e7ba134a9d",
   "metadata": {},
   "outputs": [],
   "source": []
  },
  {
   "cell_type": "markdown",
   "id": "6ce1f6e4-1b97-41d1-a89a-d8ddd0521055",
   "metadata": {},
   "source": [
    "# horse_resultsに着差、通過の特徴量を追加"
   ]
  },
  {
   "cell_type": "code",
   "execution_count": 25,
   "id": "73544673-13e1-4db3-a7e1-d257511b44fd",
   "metadata": {},
   "outputs": [
    {
     "data": {
      "text/plain": [
       "2017105318    0.9\n",
       "2017105318    1.9\n",
       "2017105318    0.2\n",
       "2017105318    0.6\n",
       "2017105318    0.0\n",
       "             ... \n",
       "2017101106    1.6\n",
       "2017101106    1.7\n",
       "2017101106    1.8\n",
       "2017101106    1.6\n",
       "2017101106    1.6\n",
       "Name: 着差, Length: 251337, dtype: float64"
      ]
     },
     "execution_count": 25,
     "metadata": {},
     "output_type": "execute_result"
    }
   ],
   "source": [
    "horse_results[\"着差\"].map(lambda x:0 if x<0 else x)"
   ]
  },
  {
   "cell_type": "code",
   "execution_count": 385,
   "id": "2864278d-a6f6-437c-826c-e70f9f45d55e",
   "metadata": {},
   "outputs": [],
   "source": [
    "class Horse_Results:\n",
    "    def __init__(self, horse_results):\n",
    "        self.horse_results = horse_results[['日付','着順','賞金','着差','通過']]\n",
    "        self.preprocessing()\n",
    "        #self.horse_results.rename(columns={'着順':'着順_ave','賞金':'賞金_ave'}, inplace=True)\n",
    "    \n",
    "    # path_listはHorse_Results.pickle名\n",
    "    @classmethod\n",
    "    def read_pickle(cls, path_list):\n",
    "        df = pd.concat([pd.read_pickle(path) for path in path_list])\n",
    "        return cls(df)\n",
    "    # 使い方\n",
    "    # Horse_Results.read_pickle([pickle名])\n",
    "    \n",
    "    @staticmethod\n",
    "    def scrape(horse_id_list):\n",
    "        #horse_idをkeyにしてDataFrame型を格納\n",
    "        horse_results = {}\n",
    "        for horse_id in tqdm(horse_id_list):\n",
    "            try:\n",
    "                url = 'https://db.netkeiba.com/horse/' + horse_id\n",
    "                df = pd.read_html(url)[3]\n",
    "                #受賞歴がある馬の場合、3番目に受賞歴テーブルが来るため、4番目のデータを取得する\n",
    "                if df.columns[0]=='受賞歴':\n",
    "                    df = pd.read_html(url)[4]\n",
    "                df.index = [horse_id] * len(df)\n",
    "                horse_results[horse_id] = df\n",
    "                time.sleep(1)\n",
    "            except IndexError:\n",
    "                continue\n",
    "            except Exception as e:\n",
    "                print(e)\n",
    "                break\n",
    "            except:\n",
    "                break\n",
    "\n",
    "        #pd.DataFrame型にして一つのデータにまとめる        \n",
    "        horse_results_df = pd.concat([horse_results[key] for key in horse_results])\n",
    "\n",
    "        return horse_results_df\n",
    "        \n",
    "    \n",
    "    \n",
    "    def preprocessing(self):\n",
    "        df = self.horse_results.copy()\n",
    "        \n",
    "        df['着順'] = pd.to_numeric(df['着順'], errors='coerce')\n",
    "        df.dropna(subset=['着順'], inplace=True)\n",
    "        df['着順'] = df['着順'].astype(int)\n",
    "        \n",
    "        df['date'] = pd.to_datetime(df['日付']) \n",
    "        df.drop(['日付'], axis=1, inplace=True)\n",
    "        \n",
    "        df['賞金'].fillna(0, inplace=True)\n",
    "        \n",
    "        df['着差'] = df['着差'].map(lambda x:0 if x<0 else x)\n",
    "                                \n",
    "        def corner(x, n):\n",
    "            if type(x) != str:\n",
    "                return x\n",
    "            elif n == 4:\n",
    "                return int(re.findall(r\"\\d+\", x)[-1])\n",
    "            elif n == 1:\n",
    "                return int(re.findall(r\"\\d+\", x)[0])\n",
    "            \n",
    "        df['final_corner'] = df['通過'].map(lambda x: corner(x, n=4))\n",
    "        df['first_corner'] = df['通過'].map(lambda x: corner(x, n=1))\n",
    "        \n",
    "        df['final_rank'] = df['final_corner'] - df['着順']\n",
    "        df['first_rank'] = df['first_corner'] - df['着順']\n",
    "        df['first_to_final'] = df['first_rank'] - df['final_rank']\n",
    "\n",
    "        self.horse_results = df\n",
    "    \n",
    "    #対象にした日付以降のhorse_idから平均の賞金と順位を取り出す\n",
    "    def average(self, horse_id_list, date, n_samples='all'):\n",
    "        target_df = self.horse_results.query(\"index in @horse_id_list\")\n",
    "    \n",
    "        #初期値はallで日付を絞らずに平均を取る\n",
    "        #過去何レース分取り出すのかを指定する\n",
    "        if n_samples == 'all': #terget_df内の全ての平均を取る\n",
    "            filtered_df = target_df[target_df['date'] < date]\n",
    "        elif n_samples > 0: #0より大きい数字を指定された場合指定された分のデータで平均を出す\n",
    "            filtered_df = target_df[target_df['date'] < date].\\\n",
    "                sort_values('date', ascending=False).groupby(level=0).head(n_samples)\n",
    "        else:\n",
    "            raise Exception ('n_sample must be > 0')\n",
    "\n",
    "        average = filtered_df.groupby(level=0)[['着順','賞金','着差','first_corner','first_rank','first_to_final']].mean()\n",
    "        return average.rename(columns = {\n",
    "            '着順':'着順_{}R'.format(n_samples),\n",
    "            '賞金':'賞金_{}R'.format(n_samples),\n",
    "            '着差':'着差_{}R'.format(n_samples),\n",
    "            'first_corner':'first_corner_{}R'.format(n_samples),\n",
    "            'first_rank':'first_rank_{}R'.format(n_samples),\n",
    "            'first_to_final':'first_to_final_{}R'.format(n_samples)})\n",
    "\n",
    "    #1,results(horse_id)と2,日付を入力するとresultsからdateをとる\n",
    "    #dfをメインにしてdfのhorse_idをkeyにする\n",
    "    def merge(self, results, date, n_samples='all'):\n",
    "        df = results[results['date'] == date]\n",
    "        horse_id_list = df['horse_id']\n",
    "        merge_df = df.merge(self.average(horse_id_list, date, n_samples), left_on='horse_id', right_index=True, how='left')\n",
    "        return merge_df\n",
    "    \n",
    "    #resultsにはresults_pを入れいる\n",
    "    def merge_all(self, results, n_samples=[5, 9, \"all\"]):\n",
    "        date_list = results['date'].unique()\n",
    "        merged_df = pd.concat([self.merge(results, date, n_samples) for date in tqdm(date_list)])\n",
    "        return merged_df"
   ]
  },
  {
   "cell_type": "code",
   "execution_count": 358,
   "id": "23222d4a-3dba-45ed-a445-537cb6ac5215",
   "metadata": {},
   "outputs": [],
   "source": [
    "#第一引数にあたるxにはX_testのようなテストデータを入れる\n",
    "# return_tables_path = pickle_path\n",
    "class ModelEvaluator:\n",
    "    def __init__(self, model, return_tables_list, std=True):\n",
    "        self.model = model\n",
    "        self.rt = Return.read_pickle(return_tables_list)\n",
    "        #self.rt = return_tables_list\n",
    "        self.fukusho = self.rt.fukusho\n",
    "        self.tansho = self.rt.tansho\n",
    "        self.umaren = self.rt.umaren\n",
    "        self.std = std\n",
    "    \n",
    "    #閾値(threshold)を設定する　デフォルト0.6\n",
    "    def predict(self, X, threshold=0.6):\n",
    "        y_pred = self.predict_proba(X)\n",
    "        return [0 if p < threshold else 1 for p in y_pred]\n",
    "    \n",
    "    #1になる確率の予測\n",
    "    def predict_proba(self, X):\n",
    "        proba = pd.Series(self.model.predict_proba(X.drop([\"単勝\"],axis=1))[:,1], index=X.index)\n",
    "        if self.std:\n",
    "            standerd_scaler = lambda x: (x - x.mean()) / x.std()\n",
    "            proba = proba.groupby(level=0).transform(standerd_scaler)\n",
    "        proba = (proba - proba.min()) / (proba.max() - proba.min())\n",
    "        return proba \n",
    "    \n",
    "    #auc曲線のスコアを求める\n",
    "    def score(self, y_true, X):\n",
    "        return roc_auc_score(y_true, self.predict_proba(X))\n",
    "    \n",
    "    #各成分の特徴量の強さの表示 デフォルト20\n",
    "    def feature_importance(self, X, n_display=20):\n",
    "        importances = pd.DataFrame({\"features\":X.columns, \n",
    "                                  \"importance\":self.model.feature_importances_})\n",
    "        return importances.sort_values('importance', ascending=False)[:n_display]\n",
    "    \n",
    "    #閾値を通して1と判定されたものだけをpred_tableとして出力する\n",
    "    def pred_table(self, X, threshold=0.6, bet_only = True):\n",
    "        pred_table = X.copy()[['馬番',\"単勝\"]]\n",
    "        pred_table['pred'] = self.predict(X, threshold)\n",
    "        if bet_only:\n",
    "            return pred_table[pred_table['pred']==1][['馬番',\"単勝\"]]\n",
    "        else:\n",
    "            return pred_table\n",
    "        \n",
    "    def fukusho_return(self, X, threshold=0.6):\n",
    "        pred_table = self.pred_table(X, threshold)\n",
    "        n_bets = len(pred_table)\n",
    "        money = -100 * n_bets\n",
    "        df = self.fukusho.copy()\n",
    "        df = df.merge(pred_table, left_index=True, right_index=True, how='right')\n",
    "        for i in range(3):\n",
    "            money += df[df['win_{}'.format(i)]==df['馬番']]['return_{}'.format(i)].sum()\n",
    "        return_rate = (n_bets * 100 + money) / (n_bets * 100)\n",
    "        return n_bets, return_rate\n",
    "    \n",
    "    def tansho_return(self, X, threshold=0.6):\n",
    "        pred_table = self.pred_table(X, threshold)\n",
    "        n_bets = len(pred_table)\n",
    "        n_races = pred_table.index.nunique()\n",
    "        \n",
    "        money = -100 * n_bets\n",
    "        df = self.tansho.copy()\n",
    "        df = df.merge(pred_table, left_index=True, right_index=True, how='right')\n",
    "        n_hits = len(df[df[\"win\"]==df[\"馬番\"]])\n",
    "        money += df[df['win']==df['馬番']]['return'].sum()\n",
    "        return_rate = (n_bets * 100 + money) / (n_bets * 100)\n",
    "        \n",
    "        std = ((df['win'] == df['馬番'])*\\\n",
    "               df['return']).groupby(level=0).sum().std() *\\\n",
    "                np.sqrt(n_races)/(n_bets*100)\n",
    "        \n",
    "        \n",
    "        return n_bets, return_rate, n_hits, std\n",
    "        #self.df = df\n",
    "        #self.tansho_df = self.tansho.copy()\n",
    "    \n",
    "    def tansho_return_proper(self, X, threshold=0.5):\n",
    "        #モデルによって儲かると判断された馬\n",
    "        pred_table = self.pred_table(X, threshold)\n",
    "        n_bets = len(pred_table)\n",
    "        n_races = pred_table.index.nunique()\n",
    "        \n",
    "        #払い戻しの際にpred_tableを混ぜる\n",
    "        df = self.tansho.copy()\n",
    "        df = df.merge(pred_table, left_index=True, right_index=True, how='right')\n",
    "        #self.s_df = df \n",
    "        \n",
    "        bet_money = (1 / pred_table[\"単勝\"]).sum()\n",
    "    \n",
    "        std = ((df[\"win\"] == df[\"馬番\"]).astype(int).groupby(level=0).sum().std()\\\n",
    "               * np.sqrt(n_races) / bet_money)\n",
    "        \n",
    "        #単勝適正回収率の計算\n",
    "        n_hits = len(df.query(\"win == 馬番\"))\n",
    "        return_rate = n_hits / (1/ pred_table['単勝']).sum()\n",
    "        \n",
    "        return n_bets, return_rate, n_hits, std\n",
    "    \n",
    "    def umaren_return(self, X, threshold=0.6):\n",
    "        pred_table = self.pred_table(X, threshold)\n",
    "        hit = {}\n",
    "        n_bets = 0\n",
    "        for race_id, preds in pred_table.groupby(level=0):\n",
    "            n_bets += comb(len(preds, 2))\n",
    "            hit[race_id] = set(\n",
    "                self.umaren.loc[race_id][[0, 1]]\n",
    "            ).issubset(set(preds))\n",
    "        return_rate = self.umaren.index.map(hit).values * self.umaren['return'].sum() / \\\n",
    "            (n_bets * 100)\n",
    "        return n_bets, return_rate\n",
    "      "
   ]
  },
  {
   "cell_type": "code",
   "execution_count": 386,
   "id": "94b4101e-d58f-4f68-a813-f338f9c2fd40",
   "metadata": {
    "scrolled": true,
    "tags": []
   },
   "outputs": [
    {
     "data": {
      "text/html": [
       "<div>\n",
       "<style scoped>\n",
       "    .dataframe tbody tr th:only-of-type {\n",
       "        vertical-align: middle;\n",
       "    }\n",
       "\n",
       "    .dataframe tbody tr th {\n",
       "        vertical-align: top;\n",
       "    }\n",
       "\n",
       "    .dataframe thead th {\n",
       "        text-align: right;\n",
       "    }\n",
       "</style>\n",
       "<table border=\"1\" class=\"dataframe\">\n",
       "  <thead>\n",
       "    <tr style=\"text-align: right;\">\n",
       "      <th></th>\n",
       "      <th>着順</th>\n",
       "      <th>賞金</th>\n",
       "      <th>着差</th>\n",
       "      <th>通過</th>\n",
       "      <th>date</th>\n",
       "      <th>final_corner</th>\n",
       "      <th>first_corner</th>\n",
       "      <th>final_rank</th>\n",
       "      <th>first_rank</th>\n",
       "      <th>first_to_final</th>\n",
       "    </tr>\n",
       "  </thead>\n",
       "  <tbody>\n",
       "    <tr>\n",
       "      <th>2017105318</th>\n",
       "      <td>11</td>\n",
       "      <td>0.0</td>\n",
       "      <td>0.9</td>\n",
       "      <td>3-3-3-2</td>\n",
       "      <td>2021-07-17</td>\n",
       "      <td>2.0</td>\n",
       "      <td>3.0</td>\n",
       "      <td>-9.0</td>\n",
       "      <td>-8.0</td>\n",
       "      <td>1.0</td>\n",
       "    </tr>\n",
       "    <tr>\n",
       "      <th>2017105318</th>\n",
       "      <td>16</td>\n",
       "      <td>0.0</td>\n",
       "      <td>1.9</td>\n",
       "      <td>1-1-1-1</td>\n",
       "      <td>2020-12-26</td>\n",
       "      <td>1.0</td>\n",
       "      <td>1.0</td>\n",
       "      <td>-15.0</td>\n",
       "      <td>-15.0</td>\n",
       "      <td>0.0</td>\n",
       "    </tr>\n",
       "    <tr>\n",
       "      <th>2017105318</th>\n",
       "      <td>4</td>\n",
       "      <td>110.0</td>\n",
       "      <td>0.2</td>\n",
       "      <td>7-6-4-4</td>\n",
       "      <td>2020-08-02</td>\n",
       "      <td>4.0</td>\n",
       "      <td>7.0</td>\n",
       "      <td>0.0</td>\n",
       "      <td>3.0</td>\n",
       "      <td>3.0</td>\n",
       "    </tr>\n",
       "    <tr>\n",
       "      <th>2017105318</th>\n",
       "      <td>6</td>\n",
       "      <td>0.0</td>\n",
       "      <td>0.6</td>\n",
       "      <td>10-7-7-2</td>\n",
       "      <td>2019-08-31</td>\n",
       "      <td>2.0</td>\n",
       "      <td>10.0</td>\n",
       "      <td>-4.0</td>\n",
       "      <td>4.0</td>\n",
       "      <td>8.0</td>\n",
       "    </tr>\n",
       "    <tr>\n",
       "      <th>2017105318</th>\n",
       "      <td>1</td>\n",
       "      <td>500.0</td>\n",
       "      <td>0.0</td>\n",
       "      <td>1-1-1-1</td>\n",
       "      <td>2019-07-27</td>\n",
       "      <td>1.0</td>\n",
       "      <td>1.0</td>\n",
       "      <td>0.0</td>\n",
       "      <td>0.0</td>\n",
       "      <td>0.0</td>\n",
       "    </tr>\n",
       "    <tr>\n",
       "      <th>...</th>\n",
       "      <td>...</td>\n",
       "      <td>...</td>\n",
       "      <td>...</td>\n",
       "      <td>...</td>\n",
       "      <td>...</td>\n",
       "      <td>...</td>\n",
       "      <td>...</td>\n",
       "      <td>...</td>\n",
       "      <td>...</td>\n",
       "      <td>...</td>\n",
       "    </tr>\n",
       "    <tr>\n",
       "      <th>2017101106</th>\n",
       "      <td>7</td>\n",
       "      <td>0.0</td>\n",
       "      <td>1.6</td>\n",
       "      <td>5-5-6-7</td>\n",
       "      <td>2020-03-14</td>\n",
       "      <td>7.0</td>\n",
       "      <td>5.0</td>\n",
       "      <td>0.0</td>\n",
       "      <td>-2.0</td>\n",
       "      <td>-2.0</td>\n",
       "    </tr>\n",
       "    <tr>\n",
       "      <th>2017101106</th>\n",
       "      <td>9</td>\n",
       "      <td>0.0</td>\n",
       "      <td>1.7</td>\n",
       "      <td>8-8-10-9</td>\n",
       "      <td>2020-02-29</td>\n",
       "      <td>9.0</td>\n",
       "      <td>8.0</td>\n",
       "      <td>0.0</td>\n",
       "      <td>-1.0</td>\n",
       "      <td>-1.0</td>\n",
       "    </tr>\n",
       "    <tr>\n",
       "      <th>2017101106</th>\n",
       "      <td>13</td>\n",
       "      <td>0.0</td>\n",
       "      <td>1.8</td>\n",
       "      <td>1-1-1-1</td>\n",
       "      <td>2020-02-09</td>\n",
       "      <td>1.0</td>\n",
       "      <td>1.0</td>\n",
       "      <td>-12.0</td>\n",
       "      <td>-12.0</td>\n",
       "      <td>0.0</td>\n",
       "    </tr>\n",
       "    <tr>\n",
       "      <th>2017101106</th>\n",
       "      <td>5</td>\n",
       "      <td>51.0</td>\n",
       "      <td>1.6</td>\n",
       "      <td>10-9-9-7</td>\n",
       "      <td>2020-01-25</td>\n",
       "      <td>7.0</td>\n",
       "      <td>10.0</td>\n",
       "      <td>2.0</td>\n",
       "      <td>5.0</td>\n",
       "      <td>3.0</td>\n",
       "    </tr>\n",
       "    <tr>\n",
       "      <th>2017101106</th>\n",
       "      <td>8</td>\n",
       "      <td>0.0</td>\n",
       "      <td>1.6</td>\n",
       "      <td>4-6-7-5</td>\n",
       "      <td>2019-09-01</td>\n",
       "      <td>5.0</td>\n",
       "      <td>4.0</td>\n",
       "      <td>-3.0</td>\n",
       "      <td>-4.0</td>\n",
       "      <td>-1.0</td>\n",
       "    </tr>\n",
       "  </tbody>\n",
       "</table>\n",
       "<p>248007 rows × 10 columns</p>\n",
       "</div>"
      ],
      "text/plain": [
       "            着順     賞金   着差        通過       date  final_corner  first_corner  \\\n",
       "2017105318  11    0.0  0.9   3-3-3-2 2021-07-17           2.0           3.0   \n",
       "2017105318  16    0.0  1.9   1-1-1-1 2020-12-26           1.0           1.0   \n",
       "2017105318   4  110.0  0.2   7-6-4-4 2020-08-02           4.0           7.0   \n",
       "2017105318   6    0.0  0.6  10-7-7-2 2019-08-31           2.0          10.0   \n",
       "2017105318   1  500.0  0.0   1-1-1-1 2019-07-27           1.0           1.0   \n",
       "...         ..    ...  ...       ...        ...           ...           ...   \n",
       "2017101106   7    0.0  1.6   5-5-6-7 2020-03-14           7.0           5.0   \n",
       "2017101106   9    0.0  1.7  8-8-10-9 2020-02-29           9.0           8.0   \n",
       "2017101106  13    0.0  1.8   1-1-1-1 2020-02-09           1.0           1.0   \n",
       "2017101106   5   51.0  1.6  10-9-9-7 2020-01-25           7.0          10.0   \n",
       "2017101106   8    0.0  1.6   4-6-7-5 2019-09-01           5.0           4.0   \n",
       "\n",
       "            final_rank  first_rank  first_to_final  \n",
       "2017105318        -9.0        -8.0             1.0  \n",
       "2017105318       -15.0       -15.0             0.0  \n",
       "2017105318         0.0         3.0             3.0  \n",
       "2017105318        -4.0         4.0             8.0  \n",
       "2017105318         0.0         0.0             0.0  \n",
       "...                ...         ...             ...  \n",
       "2017101106         0.0        -2.0            -2.0  \n",
       "2017101106         0.0        -1.0            -1.0  \n",
       "2017101106       -12.0       -12.0             0.0  \n",
       "2017101106         2.0         5.0             3.0  \n",
       "2017101106        -3.0        -4.0            -1.0  \n",
       "\n",
       "[248007 rows x 10 columns]"
      ]
     },
     "execution_count": 386,
     "metadata": {},
     "output_type": "execute_result"
    }
   ],
   "source": [
    "hr = Horse_Results.read_pickle([\"horse_results-Copy1.pickle\"])\n",
    "#hr.horse_results\n",
    "hr.horse_results#.loc['2017101106']"
   ]
  },
  {
   "cell_type": "code",
   "execution_count": 387,
   "id": "0884fd45-a27b-4cbf-bcff-2221846b459a",
   "metadata": {},
   "outputs": [
    {
     "data": {
      "application/vnd.jupyter.widget-view+json": {
       "model_id": "721cda6af5a547948e8b76a46a9202be",
       "version_major": 2,
       "version_minor": 0
      },
      "text/plain": [
       "  0%|          | 0/110 [00:00<?, ?it/s]"
      ]
     },
     "metadata": {},
     "output_type": "display_data"
    },
    {
     "data": {
      "application/vnd.jupyter.widget-view+json": {
       "model_id": "7b593957e42e4b84891e0967a8e169d0",
       "version_major": 2,
       "version_minor": 0
      },
      "text/plain": [
       "  0%|          | 0/110 [00:00<?, ?it/s]"
      ]
     },
     "metadata": {},
     "output_type": "display_data"
    },
    {
     "data": {
      "application/vnd.jupyter.widget-view+json": {
       "model_id": "4119de569aa74c83b58b4ce30f53fb46",
       "version_major": 2,
       "version_minor": 0
      },
      "text/plain": [
       "  0%|          | 0/110 [00:00<?, ?it/s]"
      ]
     },
     "metadata": {},
     "output_type": "display_data"
    }
   ],
   "source": [
    "r = Results.read_pickle([\"results_19.pickle\"])\n",
    "r.preprocessing()\n",
    "r.merge_horse_results(hr)"
   ]
  },
  {
   "cell_type": "code",
   "execution_count": 388,
   "id": "fcd9da40-0af7-4405-b89c-33c1ea928726",
   "metadata": {
    "tags": []
   },
   "outputs": [],
   "source": [
    "p = Peds(n_peds_all)\n",
    "p.encode()"
   ]
  },
  {
   "cell_type": "code",
   "execution_count": 389,
   "id": "7de4c682-7200-42c9-844f-af8ee3c6537d",
   "metadata": {
    "scrolled": true,
    "tags": []
   },
   "outputs": [],
   "source": [
    "r.merge_peds(p.peds_e)"
   ]
  },
  {
   "cell_type": "code",
   "execution_count": 390,
   "id": "16451c4b-0093-4474-be49-e658ff63743b",
   "metadata": {},
   "outputs": [],
   "source": [
    "r.process_categorical()"
   ]
  },
  {
   "cell_type": "code",
   "execution_count": 363,
   "id": "7461ae39-388c-4175-9e0b-0d724ac211ea",
   "metadata": {
    "tags": []
   },
   "outputs": [],
   "source": [
    "rr = r.data_c.drop(['単勝'],axis=1)\n",
    "#r.data_c['単勝']"
   ]
  },
  {
   "cell_type": "code",
   "execution_count": 20,
   "id": "d1d2290a-6559-493f-87e7-c64e7d280120",
   "metadata": {
    "scrolled": true,
    "tags": []
   },
   "outputs": [
    {
     "name": "stderr",
     "output_type": "stream",
     "text": [
      "\u001b[32m[I 2021-11-11 11:40:32,146]\u001b[0m A new study created in memory with name: no-name-430f8b5f-b93b-4f33-9cf8-d625dbcf5175\u001b[0m\n",
      "feature_fraction, val_score: inf:   0%|                   | 0/7 [00:00<?, ?it/s]"
     ]
    },
    {
     "name": "stdout",
     "output_type": "stream",
     "text": [
      "[LightGBM] [Info] Number of positive: 5074, number of negative: 18346\n",
      "[LightGBM] [Warning] Auto-choosing col-wise multi-threading, the overhead of testing was 0.004646 seconds.\n",
      "You can set `force_col_wise=true` to remove the overhead.\n",
      "[LightGBM] [Info] Total Bins 16103\n",
      "[LightGBM] [Info] Number of data points in the train set: 23420, number of used features: 106\n",
      "[LightGBM] [Info] [binary:BoostFromScore]: pavg=0.216652 -> initscore=-1.285282\n",
      "[LightGBM] [Info] Start training from score -1.285282\n",
      "Training until validation scores don't improve for 10 rounds\n"
     ]
    },
    {
     "name": "stderr",
     "output_type": "stream",
     "text": [
      "feature_fraction, val_score: 0.426658:  14%|8     | 1/7 [00:00<00:02,  2.51it/s]\u001b[32m[I 2021-11-11 11:40:32,548]\u001b[0m Trial 0 finished with value: 0.42665844344997045 and parameters: {'feature_fraction': 0.5}. Best is trial 0 with value: 0.42665844344997045.\u001b[0m\n",
      "feature_fraction, val_score: 0.426658:  14%|8     | 1/7 [00:00<00:02,  2.51it/s]"
     ]
    },
    {
     "name": "stdout",
     "output_type": "stream",
     "text": [
      "Early stopping, best iteration is:\n",
      "[42]\tvalid_0's binary_logloss: 0.362188\tvalid_1's binary_logloss: 0.426658\n",
      "[LightGBM] [Info] Number of positive: 5074, number of negative: 18346\n",
      "[LightGBM] [Warning] Auto-choosing col-wise multi-threading, the overhead of testing was 0.005324 seconds.\n",
      "You can set `force_col_wise=true` to remove the overhead.\n",
      "[LightGBM] [Info] Total Bins 16103\n",
      "[LightGBM] [Info] Number of data points in the train set: 23420, number of used features: 106\n",
      "[LightGBM] [Info] [binary:BoostFromScore]: pavg=0.216652 -> initscore=-1.285282\n",
      "[LightGBM] [Info] Start training from score -1.285282\n",
      "Training until validation scores don't improve for 10 rounds\n"
     ]
    },
    {
     "name": "stderr",
     "output_type": "stream",
     "text": [
      "feature_fraction, val_score: 0.426658:  29%|#7    | 2/7 [00:00<00:01,  2.75it/s]\u001b[32m[I 2021-11-11 11:40:32,887]\u001b[0m Trial 1 finished with value: 0.4271804222867684 and parameters: {'feature_fraction': 0.6}. Best is trial 0 with value: 0.42665844344997045.\u001b[0m\n",
      "feature_fraction, val_score: 0.426658:  29%|#7    | 2/7 [00:00<00:01,  2.75it/s]"
     ]
    },
    {
     "name": "stdout",
     "output_type": "stream",
     "text": [
      "Early stopping, best iteration is:\n",
      "[28]\tvalid_0's binary_logloss: 0.375184\tvalid_1's binary_logloss: 0.42718\n",
      "[LightGBM] [Info] Number of positive: 5074, number of negative: 18346\n",
      "[LightGBM] [Warning] Auto-choosing col-wise multi-threading, the overhead of testing was 0.004350 seconds.\n",
      "You can set `force_col_wise=true` to remove the overhead.\n",
      "[LightGBM] [Info] Total Bins 16103\n",
      "[LightGBM] [Info] Number of data points in the train set: 23420, number of used features: 106\n",
      "[LightGBM] [Info] [binary:BoostFromScore]: pavg=0.216652 -> initscore=-1.285282\n",
      "[LightGBM] [Info] Start training from score -1.285282\n",
      "Training until validation scores don't improve for 10 rounds\n"
     ]
    },
    {
     "name": "stderr",
     "output_type": "stream",
     "text": [
      "feature_fraction, val_score: 0.425020:  43%|##5   | 3/7 [00:01<00:01,  2.79it/s]\u001b[32m[I 2021-11-11 11:40:33,241]\u001b[0m Trial 2 finished with value: 0.4250204637171962 and parameters: {'feature_fraction': 0.8}. Best is trial 2 with value: 0.4250204637171962.\u001b[0m\n",
      "feature_fraction, val_score: 0.425020:  43%|##5   | 3/7 [00:01<00:01,  2.79it/s]"
     ]
    },
    {
     "name": "stdout",
     "output_type": "stream",
     "text": [
      "Early stopping, best iteration is:\n",
      "[28]\tvalid_0's binary_logloss: 0.371855\tvalid_1's binary_logloss: 0.42502\n",
      "[LightGBM] [Info] Number of positive: 5074, number of negative: 18346\n",
      "[LightGBM] [Warning] Auto-choosing col-wise multi-threading, the overhead of testing was 0.007344 seconds.\n",
      "You can set `force_col_wise=true` to remove the overhead.\n",
      "[LightGBM] [Info] Total Bins 16103\n",
      "[LightGBM] [Info] Number of data points in the train set: 23420, number of used features: 106\n",
      "[LightGBM] [Info] [binary:BoostFromScore]: pavg=0.216652 -> initscore=-1.285282\n",
      "[LightGBM] [Info] Start training from score -1.285282\n",
      "Training until validation scores don't improve for 10 rounds\n"
     ]
    },
    {
     "name": "stderr",
     "output_type": "stream",
     "text": [
      "feature_fraction, val_score: 0.424703:  57%|###4  | 4/7 [00:01<00:01,  2.79it/s]\u001b[32m[I 2021-11-11 11:40:33,598]\u001b[0m Trial 3 finished with value: 0.4247033937514097 and parameters: {'feature_fraction': 1.0}. Best is trial 3 with value: 0.4247033937514097.\u001b[0m\n",
      "feature_fraction, val_score: 0.424703:  57%|###4  | 4/7 [00:01<00:01,  2.79it/s]"
     ]
    },
    {
     "name": "stdout",
     "output_type": "stream",
     "text": [
      "Early stopping, best iteration is:\n",
      "[26]\tvalid_0's binary_logloss: 0.373605\tvalid_1's binary_logloss: 0.424703\n",
      "[LightGBM] [Info] Number of positive: 5074, number of negative: 18346\n",
      "[LightGBM] [Warning] Auto-choosing row-wise multi-threading, the overhead of testing was 0.001484 seconds.\n",
      "You can set `force_row_wise=true` to remove the overhead.\n",
      "And if memory is not enough, you can set `force_col_wise=true`.\n",
      "[LightGBM] [Info] Total Bins 16103\n",
      "[LightGBM] [Info] Number of data points in the train set: 23420, number of used features: 106\n",
      "[LightGBM] [Info] [binary:BoostFromScore]: pavg=0.216652 -> initscore=-1.285282\n",
      "[LightGBM] [Info] Start training from score -1.285282\n",
      "Training until validation scores don't improve for 10 rounds\n"
     ]
    },
    {
     "name": "stderr",
     "output_type": "stream",
     "text": [
      "feature_fraction, val_score: 0.424703:  71%|####2 | 5/7 [00:02<00:01,  1.93it/s]\u001b[32m[I 2021-11-11 11:40:34,402]\u001b[0m Trial 4 finished with value: 0.4278235914864501 and parameters: {'feature_fraction': 0.4}. Best is trial 3 with value: 0.4247033937514097.\u001b[0m\n",
      "feature_fraction, val_score: 0.424703:  71%|####2 | 5/7 [00:02<00:01,  1.93it/s]"
     ]
    },
    {
     "name": "stdout",
     "output_type": "stream",
     "text": [
      "Early stopping, best iteration is:\n",
      "[63]\tvalid_0's binary_logloss: 0.346943\tvalid_1's binary_logloss: 0.427824\n",
      "[LightGBM] [Info] Number of positive: 5074, number of negative: 18346\n",
      "[LightGBM] [Warning] Auto-choosing col-wise multi-threading, the overhead of testing was 0.008634 seconds.\n",
      "You can set `force_col_wise=true` to remove the overhead.\n",
      "[LightGBM] [Info] Total Bins 16103\n",
      "[LightGBM] [Info] Number of data points in the train set: 23420, number of used features: 106\n",
      "[LightGBM] [Info] [binary:BoostFromScore]: pavg=0.216652 -> initscore=-1.285282\n",
      "[LightGBM] [Info] Start training from score -1.285282\n",
      "Training until validation scores don't improve for 10 rounds\n"
     ]
    },
    {
     "name": "stderr",
     "output_type": "stream",
     "text": [
      "feature_fraction, val_score: 0.423883:  86%|#####1| 6/7 [00:02<00:00,  1.84it/s]\u001b[32m[I 2021-11-11 11:40:34,993]\u001b[0m Trial 5 finished with value: 0.4238827271432496 and parameters: {'feature_fraction': 0.8999999999999999}. Best is trial 5 with value: 0.4238827271432496.\u001b[0m\n",
      "feature_fraction, val_score: 0.423883:  86%|#####1| 6/7 [00:02<00:00,  1.84it/s]"
     ]
    },
    {
     "name": "stdout",
     "output_type": "stream",
     "text": [
      "Early stopping, best iteration is:\n",
      "[29]\tvalid_0's binary_logloss: 0.370592\tvalid_1's binary_logloss: 0.423883\n",
      "[LightGBM] [Info] Number of positive: 5074, number of negative: 18346\n",
      "[LightGBM] [Warning] Auto-choosing col-wise multi-threading, the overhead of testing was 0.004586 seconds.\n",
      "You can set `force_col_wise=true` to remove the overhead.\n",
      "[LightGBM] [Info] Total Bins 16103\n",
      "[LightGBM] [Info] Number of data points in the train set: 23420, number of used features: 106\n",
      "[LightGBM] [Info] [binary:BoostFromScore]: pavg=0.216652 -> initscore=-1.285282\n",
      "[LightGBM] [Info] Start training from score -1.285282\n",
      "Training until validation scores don't improve for 10 rounds\n"
     ]
    },
    {
     "name": "stderr",
     "output_type": "stream",
     "text": [
      "feature_fraction, val_score: 0.423883: 100%|######| 7/7 [00:03<00:00,  1.73it/s]\u001b[32m[I 2021-11-11 11:40:35,642]\u001b[0m Trial 6 finished with value: 0.4248480511036138 and parameters: {'feature_fraction': 0.7}. Best is trial 5 with value: 0.4238827271432496.\u001b[0m\n",
      "feature_fraction, val_score: 0.423883: 100%|######| 7/7 [00:03<00:00,  2.00it/s]\n"
     ]
    },
    {
     "name": "stdout",
     "output_type": "stream",
     "text": [
      "Early stopping, best iteration is:\n",
      "[38]\tvalid_0's binary_logloss: 0.361801\tvalid_1's binary_logloss: 0.424848\n"
     ]
    },
    {
     "name": "stderr",
     "output_type": "stream",
     "text": [
      "num_leaves, val_score: 0.423883:   0%|                   | 0/20 [00:00<?, ?it/s]"
     ]
    },
    {
     "name": "stdout",
     "output_type": "stream",
     "text": [
      "[LightGBM] [Info] Number of positive: 5074, number of negative: 18346\n",
      "[LightGBM] [Warning] Auto-choosing col-wise multi-threading, the overhead of testing was 0.007431 seconds.\n",
      "You can set `force_col_wise=true` to remove the overhead.\n",
      "[LightGBM] [Info] Total Bins 16103\n",
      "[LightGBM] [Info] Number of data points in the train set: 23420, number of used features: 106\n",
      "[LightGBM] [Info] [binary:BoostFromScore]: pavg=0.216652 -> initscore=-1.285282\n",
      "[LightGBM] [Info] Start training from score -1.285282\n",
      "Training until validation scores don't improve for 10 rounds\n"
     ]
    },
    {
     "name": "stderr",
     "output_type": "stream",
     "text": [
      "num_leaves, val_score: 0.423883:   5%|5          | 1/20 [00:00<00:18,  1.02it/s]\u001b[32m[I 2021-11-11 11:40:36,626]\u001b[0m Trial 7 finished with value: 0.43615828279051383 and parameters: {'num_leaves': 229}. Best is trial 7 with value: 0.43615828279051383.\u001b[0m\n",
      "num_leaves, val_score: 0.423883:   5%|5          | 1/20 [00:00<00:18,  1.02it/s]"
     ]
    },
    {
     "name": "stdout",
     "output_type": "stream",
     "text": [
      "Early stopping, best iteration is:\n",
      "[22]\tvalid_0's binary_logloss: 0.258402\tvalid_1's binary_logloss: 0.436158\n",
      "[LightGBM] [Info] Number of positive: 5074, number of negative: 18346\n",
      "[LightGBM] [Warning] Auto-choosing col-wise multi-threading, the overhead of testing was 0.004758 seconds.\n",
      "You can set `force_col_wise=true` to remove the overhead.\n",
      "[LightGBM] [Info] Total Bins 16103\n",
      "[LightGBM] [Info] Number of data points in the train set: 23420, number of used features: 106\n",
      "[LightGBM] [Info] [binary:BoostFromScore]: pavg=0.216652 -> initscore=-1.285282\n",
      "[LightGBM] [Info] Start training from score -1.285282\n",
      "Training until validation scores don't improve for 10 rounds\n"
     ]
    },
    {
     "name": "stderr",
     "output_type": "stream",
     "text": [
      "num_leaves, val_score: 0.423883:  10%|#1         | 2/20 [00:01<00:12,  1.47it/s]\u001b[32m[I 2021-11-11 11:40:37,094]\u001b[0m Trial 8 finished with value: 0.4267136056552974 and parameters: {'num_leaves': 47}. Best is trial 8 with value: 0.4267136056552974.\u001b[0m\n",
      "num_leaves, val_score: 0.423883:  10%|#1         | 2/20 [00:01<00:12,  1.47it/s]"
     ]
    },
    {
     "name": "stdout",
     "output_type": "stream",
     "text": [
      "Early stopping, best iteration is:\n",
      "[29]\tvalid_0's binary_logloss: 0.352579\tvalid_1's binary_logloss: 0.426714\n",
      "[LightGBM] [Info] Number of positive: 5074, number of negative: 18346\n",
      "[LightGBM] [Warning] Auto-choosing col-wise multi-threading, the overhead of testing was 0.004486 seconds.\n",
      "You can set `force_col_wise=true` to remove the overhead.\n",
      "[LightGBM] [Info] Total Bins 16103\n",
      "[LightGBM] [Info] Number of data points in the train set: 23420, number of used features: 106\n",
      "[LightGBM] [Info] [binary:BoostFromScore]: pavg=0.216652 -> initscore=-1.285282\n",
      "[LightGBM] [Info] Start training from score -1.285282\n",
      "Training until validation scores don't improve for 10 rounds\n"
     ]
    },
    {
     "name": "stderr",
     "output_type": "stream",
     "text": [
      "num_leaves, val_score: 0.423883:  15%|#6         | 3/20 [00:02<00:11,  1.46it/s]\u001b[32m[I 2021-11-11 11:40:37,791]\u001b[0m Trial 9 finished with value: 0.43449841197849576 and parameters: {'num_leaves': 195}. Best is trial 8 with value: 0.4267136056552974.\u001b[0m\n",
      "num_leaves, val_score: 0.423883:  15%|#6         | 3/20 [00:02<00:11,  1.46it/s]"
     ]
    },
    {
     "name": "stdout",
     "output_type": "stream",
     "text": [
      "Early stopping, best iteration is:\n",
      "[21]\tvalid_0's binary_logloss: 0.278942\tvalid_1's binary_logloss: 0.434498\n",
      "[LightGBM] [Info] Number of positive: 5074, number of negative: 18346\n",
      "[LightGBM] [Warning] Auto-choosing col-wise multi-threading, the overhead of testing was 0.004941 seconds.\n",
      "You can set `force_col_wise=true` to remove the overhead.\n",
      "[LightGBM] [Info] Total Bins 16103\n",
      "[LightGBM] [Info] Number of data points in the train set: 23420, number of used features: 106\n",
      "[LightGBM] [Info] [binary:BoostFromScore]: pavg=0.216652 -> initscore=-1.285282\n",
      "[LightGBM] [Info] Start training from score -1.285282\n",
      "Training until validation scores don't improve for 10 rounds\n"
     ]
    },
    {
     "name": "stderr",
     "output_type": "stream",
     "text": [
      "num_leaves, val_score: 0.423883:  20%|##2        | 4/20 [00:02<00:10,  1.60it/s]\u001b[32m[I 2021-11-11 11:40:38,325]\u001b[0m Trial 10 finished with value: 0.4308269949221495 and parameters: {'num_leaves': 105}. Best is trial 8 with value: 0.4267136056552974.\u001b[0m\n",
      "num_leaves, val_score: 0.423883:  20%|##2        | 4/20 [00:02<00:10,  1.60it/s]"
     ]
    },
    {
     "name": "stdout",
     "output_type": "stream",
     "text": [
      "Early stopping, best iteration is:\n",
      "[21]\tvalid_0's binary_logloss: 0.327761\tvalid_1's binary_logloss: 0.430827\n",
      "[LightGBM] [Info] Number of positive: 5074, number of negative: 18346\n",
      "[LightGBM] [Warning] Auto-choosing col-wise multi-threading, the overhead of testing was 0.004922 seconds.\n",
      "You can set `force_col_wise=true` to remove the overhead.\n",
      "[LightGBM] [Info] Total Bins 16103\n",
      "[LightGBM] [Info] Number of data points in the train set: 23420, number of used features: 106\n",
      "[LightGBM] [Info] [binary:BoostFromScore]: pavg=0.216652 -> initscore=-1.285282\n",
      "[LightGBM] [Info] Start training from score -1.285282\n",
      "Training until validation scores don't improve for 10 rounds\n"
     ]
    },
    {
     "name": "stderr",
     "output_type": "stream",
     "text": [
      "num_leaves, val_score: 0.423883:  25%|##7        | 5/20 [00:03<00:10,  1.47it/s]\u001b[32m[I 2021-11-11 11:40:39,102]\u001b[0m Trial 11 finished with value: 0.4390780541409622 and parameters: {'num_leaves': 250}. Best is trial 8 with value: 0.4267136056552974.\u001b[0m\n",
      "num_leaves, val_score: 0.423883:  25%|##7        | 5/20 [00:03<00:10,  1.47it/s]"
     ]
    },
    {
     "name": "stdout",
     "output_type": "stream",
     "text": [
      "Early stopping, best iteration is:\n",
      "[20]\tvalid_0's binary_logloss: 0.261723\tvalid_1's binary_logloss: 0.439078\n",
      "[LightGBM] [Info] Number of positive: 5074, number of negative: 18346\n",
      "[LightGBM] [Warning] Auto-choosing col-wise multi-threading, the overhead of testing was 0.004988 seconds.\n",
      "You can set `force_col_wise=true` to remove the overhead.\n",
      "[LightGBM] [Info] Total Bins 16103\n",
      "[LightGBM] [Info] Number of data points in the train set: 23420, number of used features: 106\n",
      "[LightGBM] [Info] [binary:BoostFromScore]: pavg=0.216652 -> initscore=-1.285282\n",
      "[LightGBM] [Info] Start training from score -1.285282\n",
      "Training until validation scores don't improve for 10 rounds\n"
     ]
    },
    {
     "name": "stderr",
     "output_type": "stream",
     "text": [
      "num_leaves, val_score: 0.423883:  30%|###3       | 6/20 [00:03<00:08,  1.69it/s]\u001b[32m[I 2021-11-11 11:40:39,518]\u001b[0m Trial 12 finished with value: 0.4267136056552974 and parameters: {'num_leaves': 47}. Best is trial 8 with value: 0.4267136056552974.\u001b[0m\n",
      "num_leaves, val_score: 0.423883:  30%|###3       | 6/20 [00:03<00:08,  1.69it/s]"
     ]
    },
    {
     "name": "stdout",
     "output_type": "stream",
     "text": [
      "Early stopping, best iteration is:\n",
      "[29]\tvalid_0's binary_logloss: 0.352579\tvalid_1's binary_logloss: 0.426714\n",
      "[LightGBM] [Info] Number of positive: 5074, number of negative: 18346\n",
      "[LightGBM] [Warning] Auto-choosing row-wise multi-threading, the overhead of testing was 0.001818 seconds.\n",
      "You can set `force_row_wise=true` to remove the overhead.\n",
      "And if memory is not enough, you can set `force_col_wise=true`.\n",
      "[LightGBM] [Info] Total Bins 16103\n",
      "[LightGBM] [Info] Number of data points in the train set: 23420, number of used features: 106\n",
      "[LightGBM] [Info] [binary:BoostFromScore]: pavg=0.216652 -> initscore=-1.285282\n",
      "[LightGBM] [Info] Start training from score -1.285282\n",
      "Training until validation scores don't improve for 10 rounds\n"
     ]
    },
    {
     "name": "stderr",
     "output_type": "stream",
     "text": [
      "num_leaves, val_score: 0.423883:  35%|###8       | 7/20 [00:04<00:08,  1.50it/s]\u001b[32m[I 2021-11-11 11:40:40,336]\u001b[0m Trial 13 finished with value: 0.43584576229914523 and parameters: {'num_leaves': 235}. Best is trial 8 with value: 0.4267136056552974.\u001b[0m\n",
      "num_leaves, val_score: 0.423883:  35%|###8       | 7/20 [00:04<00:08,  1.50it/s]"
     ]
    },
    {
     "name": "stdout",
     "output_type": "stream",
     "text": [
      "Early stopping, best iteration is:\n",
      "[19]\tvalid_0's binary_logloss: 0.273372\tvalid_1's binary_logloss: 0.435846\n",
      "[LightGBM] [Info] Number of positive: 5074, number of negative: 18346\n",
      "[LightGBM] [Warning] Auto-choosing col-wise multi-threading, the overhead of testing was 0.006844 seconds.\n",
      "You can set `force_col_wise=true` to remove the overhead.\n",
      "[LightGBM] [Info] Total Bins 16103\n",
      "[LightGBM] [Info] Number of data points in the train set: 23420, number of used features: 106\n",
      "[LightGBM] [Info] [binary:BoostFromScore]: pavg=0.216652 -> initscore=-1.285282\n",
      "[LightGBM] [Info] Start training from score -1.285282\n",
      "Training until validation scores don't improve for 10 rounds\n"
     ]
    },
    {
     "name": "stderr",
     "output_type": "stream",
     "text": [
      "num_leaves, val_score: 0.422098:  40%|####4      | 8/20 [00:04<00:06,  1.81it/s]\u001b[32m[I 2021-11-11 11:40:40,645]\u001b[0m Trial 14 finished with value: 0.42209803252980344 and parameters: {'num_leaves': 9}. Best is trial 14 with value: 0.42209803252980344.\u001b[0m\n",
      "num_leaves, val_score: 0.422098:  40%|####4      | 8/20 [00:05<00:06,  1.81it/s]"
     ]
    },
    {
     "name": "stdout",
     "output_type": "stream",
     "text": [
      "Early stopping, best iteration is:\n",
      "[41]\tvalid_0's binary_logloss: 0.393537\tvalid_1's binary_logloss: 0.422098\n",
      "[LightGBM] [Info] Number of positive: 5074, number of negative: 18346\n",
      "[LightGBM] [Warning] Auto-choosing col-wise multi-threading, the overhead of testing was 0.006496 seconds.\n",
      "You can set `force_col_wise=true` to remove the overhead.\n",
      "[LightGBM] [Info] Total Bins 16103\n",
      "[LightGBM] [Info] Number of data points in the train set: 23420, number of used features: 106\n",
      "[LightGBM] [Info] [binary:BoostFromScore]: pavg=0.216652 -> initscore=-1.285282\n",
      "[LightGBM] [Info] Start training from score -1.285282\n",
      "Training until validation scores don't improve for 10 rounds\n"
     ]
    },
    {
     "name": "stderr",
     "output_type": "stream",
     "text": [
      "num_leaves, val_score: 0.422098:  45%|####9      | 9/20 [00:05<00:06,  1.78it/s]\u001b[32m[I 2021-11-11 11:40:41,227]\u001b[0m Trial 15 finished with value: 0.43263606968351437 and parameters: {'num_leaves': 138}. Best is trial 14 with value: 0.42209803252980344.\u001b[0m\n",
      "num_leaves, val_score: 0.422098:  45%|####9      | 9/20 [00:05<00:06,  1.78it/s]"
     ]
    },
    {
     "name": "stdout",
     "output_type": "stream",
     "text": [
      "Early stopping, best iteration is:\n",
      "[22]\tvalid_0's binary_logloss: 0.304346\tvalid_1's binary_logloss: 0.432636\n",
      "[LightGBM] [Info] Number of positive: 5074, number of negative: 18346\n",
      "[LightGBM] [Warning] Auto-choosing col-wise multi-threading, the overhead of testing was 0.005097 seconds.\n",
      "You can set `force_col_wise=true` to remove the overhead.\n",
      "[LightGBM] [Info] Total Bins 16103\n",
      "[LightGBM] [Info] Number of data points in the train set: 23420, number of used features: 106\n",
      "[LightGBM] [Info] [binary:BoostFromScore]: pavg=0.216652 -> initscore=-1.285282\n",
      "[LightGBM] [Info] Start training from score -1.285282\n",
      "Training until validation scores don't improve for 10 rounds\n"
     ]
    },
    {
     "name": "stderr",
     "output_type": "stream",
     "text": [
      "num_leaves, val_score: 0.422098:  50%|#####     | 10/20 [00:06<00:06,  1.65it/s]\u001b[32m[I 2021-11-11 11:40:41,938]\u001b[0m Trial 16 finished with value: 0.434350279973442 and parameters: {'num_leaves': 211}. Best is trial 14 with value: 0.42209803252980344.\u001b[0m\n",
      "num_leaves, val_score: 0.422098:  50%|#####     | 10/20 [00:06<00:06,  1.65it/s]"
     ]
    },
    {
     "name": "stdout",
     "output_type": "stream",
     "text": [
      "Early stopping, best iteration is:\n",
      "[20]\tvalid_0's binary_logloss: 0.277104\tvalid_1's binary_logloss: 0.43435\n",
      "[LightGBM] [Info] Number of positive: 5074, number of negative: 18346\n",
      "[LightGBM] [Warning] Auto-choosing col-wise multi-threading, the overhead of testing was 0.004483 seconds.\n",
      "You can set `force_col_wise=true` to remove the overhead.\n",
      "[LightGBM] [Info] Total Bins 16103\n",
      "[LightGBM] [Info] Number of data points in the train set: 23420, number of used features: 106\n",
      "[LightGBM] [Info] [binary:BoostFromScore]: pavg=0.216652 -> initscore=-1.285282\n",
      "[LightGBM] [Info] Start training from score -1.285282\n",
      "Training until validation scores don't improve for 10 rounds\n"
     ]
    },
    {
     "name": "stderr",
     "output_type": "stream",
     "text": [
      "num_leaves, val_score: 0.422098:  55%|#####5    | 11/20 [00:06<00:04,  1.93it/s]\u001b[32m[I 2021-11-11 11:40:42,251]\u001b[0m Trial 17 finished with value: 0.42209803252980344 and parameters: {'num_leaves': 9}. Best is trial 14 with value: 0.42209803252980344.\u001b[0m\n",
      "num_leaves, val_score: 0.422098:  55%|#####5    | 11/20 [00:06<00:04,  1.93it/s]"
     ]
    },
    {
     "name": "stdout",
     "output_type": "stream",
     "text": [
      "Early stopping, best iteration is:\n",
      "[41]\tvalid_0's binary_logloss: 0.393537\tvalid_1's binary_logloss: 0.422098\n",
      "[LightGBM] [Info] Number of positive: 5074, number of negative: 18346\n",
      "[LightGBM] [Warning] Auto-choosing col-wise multi-threading, the overhead of testing was 0.005920 seconds.\n",
      "You can set `force_col_wise=true` to remove the overhead.\n",
      "[LightGBM] [Info] Total Bins 16103\n",
      "[LightGBM] [Info] Number of data points in the train set: 23420, number of used features: 106\n",
      "[LightGBM] [Info] [binary:BoostFromScore]: pavg=0.216652 -> initscore=-1.285282\n",
      "[LightGBM] [Info] Start training from score -1.285282\n",
      "Training until validation scores don't improve for 10 rounds\n"
     ]
    },
    {
     "name": "stderr",
     "output_type": "stream",
     "text": [
      "num_leaves, val_score: 0.421059:  60%|######    | 12/20 [00:06<00:03,  2.26it/s]\u001b[32m[I 2021-11-11 11:40:42,525]\u001b[0m Trial 18 finished with value: 0.42105945315545185 and parameters: {'num_leaves': 4}. Best is trial 18 with value: 0.42105945315545185.\u001b[0m\n",
      "num_leaves, val_score: 0.421059:  60%|######    | 12/20 [00:06<00:03,  2.26it/s]"
     ]
    },
    {
     "name": "stdout",
     "output_type": "stream",
     "text": [
      "Early stopping, best iteration is:\n",
      "[43]\tvalid_0's binary_logloss: 0.401535\tvalid_1's binary_logloss: 0.421059\n",
      "[LightGBM] [Info] Number of positive: 5074, number of negative: 18346\n",
      "[LightGBM] [Warning] Auto-choosing col-wise multi-threading, the overhead of testing was 0.005017 seconds.\n",
      "You can set `force_col_wise=true` to remove the overhead.\n",
      "[LightGBM] [Info] Total Bins 16103\n",
      "[LightGBM] [Info] Number of data points in the train set: 23420, number of used features: 106\n",
      "[LightGBM] [Info] [binary:BoostFromScore]: pavg=0.216652 -> initscore=-1.285282\n",
      "[LightGBM] [Info] Start training from score -1.285282\n",
      "Training until validation scores don't improve for 10 rounds\n"
     ]
    },
    {
     "name": "stderr",
     "output_type": "stream",
     "text": [
      "num_leaves, val_score: 0.421059:  65%|######5   | 13/20 [00:07<00:02,  2.48it/s]\u001b[32m[I 2021-11-11 11:40:42,836]\u001b[0m Trial 19 finished with value: 0.42128042458963 and parameters: {'num_leaves': 6}. Best is trial 18 with value: 0.42105945315545185.\u001b[0m\n",
      "num_leaves, val_score: 0.421059:  65%|######5   | 13/20 [00:07<00:02,  2.48it/s]"
     ]
    },
    {
     "name": "stdout",
     "output_type": "stream",
     "text": [
      "Early stopping, best iteration is:\n",
      "[50]\tvalid_0's binary_logloss: 0.397067\tvalid_1's binary_logloss: 0.42128\n",
      "[LightGBM] [Info] Number of positive: 5074, number of negative: 18346\n",
      "[LightGBM] [Warning] Auto-choosing col-wise multi-threading, the overhead of testing was 0.006984 seconds.\n",
      "You can set `force_col_wise=true` to remove the overhead.\n",
      "[LightGBM] [Info] Total Bins 16103\n",
      "[LightGBM] [Info] Number of data points in the train set: 23420, number of used features: 106\n",
      "[LightGBM] [Info] [binary:BoostFromScore]: pavg=0.216652 -> initscore=-1.285282\n",
      "[LightGBM] [Info] Start training from score -1.285282\n",
      "Training until validation scores don't improve for 10 rounds\n"
     ]
    },
    {
     "name": "stderr",
     "output_type": "stream",
     "text": [
      "num_leaves, val_score: 0.421059:  70%|#######   | 14/20 [00:07<00:02,  2.35it/s]\u001b[32m[I 2021-11-11 11:40:43,314]\u001b[0m Trial 20 finished with value: 0.42835643943273727 and parameters: {'num_leaves': 70}. Best is trial 18 with value: 0.42105945315545185.\u001b[0m\n",
      "num_leaves, val_score: 0.421059:  70%|#######   | 14/20 [00:07<00:02,  2.35it/s]"
     ]
    },
    {
     "name": "stdout",
     "output_type": "stream",
     "text": [
      "Early stopping, best iteration is:\n",
      "[27]\tvalid_0's binary_logloss: 0.335633\tvalid_1's binary_logloss: 0.428356\n",
      "[LightGBM] [Info] Number of positive: 5074, number of negative: 18346\n",
      "[LightGBM] [Warning] Auto-choosing col-wise multi-threading, the overhead of testing was 0.004149 seconds.\n",
      "You can set `force_col_wise=true` to remove the overhead.\n",
      "[LightGBM] [Info] Total Bins 16103\n",
      "[LightGBM] [Info] Number of data points in the train set: 23420, number of used features: 106\n",
      "[LightGBM] [Info] [binary:BoostFromScore]: pavg=0.216652 -> initscore=-1.285282\n",
      "[LightGBM] [Info] Start training from score -1.285282\n",
      "Training until validation scores don't improve for 10 rounds\n"
     ]
    },
    {
     "name": "stderr",
     "output_type": "stream",
     "text": [
      "num_leaves, val_score: 0.421059:  75%|#######5  | 15/20 [00:08<00:02,  2.05it/s]\u001b[32m[I 2021-11-11 11:40:43,945]\u001b[0m Trial 21 finished with value: 0.4335576401850209 and parameters: {'num_leaves': 152}. Best is trial 18 with value: 0.42105945315545185.\u001b[0m\n",
      "num_leaves, val_score: 0.421059:  75%|#######5  | 15/20 [00:08<00:02,  2.05it/s]"
     ]
    },
    {
     "name": "stdout",
     "output_type": "stream",
     "text": [
      "Early stopping, best iteration is:\n",
      "[22]\tvalid_0's binary_logloss: 0.296199\tvalid_1's binary_logloss: 0.433558\n",
      "[LightGBM] [Info] Number of positive: 5074, number of negative: 18346\n",
      "[LightGBM] [Warning] Auto-choosing col-wise multi-threading, the overhead of testing was 0.007066 seconds.\n",
      "You can set `force_col_wise=true` to remove the overhead.\n",
      "[LightGBM] [Info] Total Bins 16103\n",
      "[LightGBM] [Info] Number of data points in the train set: 23420, number of used features: 106\n",
      "[LightGBM] [Info] [binary:BoostFromScore]: pavg=0.216652 -> initscore=-1.285282\n",
      "[LightGBM] [Info] Start training from score -1.285282\n",
      "Training until validation scores don't improve for 10 rounds\n"
     ]
    },
    {
     "name": "stderr",
     "output_type": "stream",
     "text": [
      "num_leaves, val_score: 0.421059:  80%|########  | 16/20 [00:08<00:01,  2.00it/s]\u001b[32m[I 2021-11-11 11:40:44,471]\u001b[0m Trial 22 finished with value: 0.429648390570927 and parameters: {'num_leaves': 91}. Best is trial 18 with value: 0.42105945315545185.\u001b[0m\n",
      "num_leaves, val_score: 0.421059:  80%|########  | 16/20 [00:08<00:01,  2.00it/s]"
     ]
    },
    {
     "name": "stdout",
     "output_type": "stream",
     "text": [
      "Early stopping, best iteration is:\n",
      "[27]\tvalid_0's binary_logloss: 0.317442\tvalid_1's binary_logloss: 0.429648\n",
      "[LightGBM] [Info] Number of positive: 5074, number of negative: 18346\n",
      "[LightGBM] [Warning] Auto-choosing col-wise multi-threading, the overhead of testing was 0.004945 seconds.\n",
      "You can set `force_col_wise=true` to remove the overhead.\n",
      "[LightGBM] [Info] Total Bins 16103\n",
      "[LightGBM] [Info] Number of data points in the train set: 23420, number of used features: 106\n",
      "[LightGBM] [Info] [binary:BoostFromScore]: pavg=0.216652 -> initscore=-1.285282\n",
      "[LightGBM] [Info] Start training from score -1.285282\n",
      "Training until validation scores don't improve for 10 rounds\n"
     ]
    },
    {
     "name": "stderr",
     "output_type": "stream",
     "text": [
      "num_leaves, val_score: 0.421059:  85%|########5 | 17/20 [00:09<00:01,  2.28it/s]\u001b[32m[I 2021-11-11 11:40:44,771]\u001b[0m Trial 23 finished with value: 0.42128042458963 and parameters: {'num_leaves': 6}. Best is trial 18 with value: 0.42105945315545185.\u001b[0m\n",
      "num_leaves, val_score: 0.421059:  85%|########5 | 17/20 [00:09<00:01,  2.28it/s]"
     ]
    },
    {
     "name": "stdout",
     "output_type": "stream",
     "text": [
      "Early stopping, best iteration is:\n",
      "[50]\tvalid_0's binary_logloss: 0.397067\tvalid_1's binary_logloss: 0.42128\n",
      "[LightGBM] [Info] Number of positive: 5074, number of negative: 18346\n",
      "[LightGBM] [Warning] Auto-choosing row-wise multi-threading, the overhead of testing was 0.002276 seconds.\n",
      "You can set `force_row_wise=true` to remove the overhead.\n",
      "And if memory is not enough, you can set `force_col_wise=true`.\n",
      "[LightGBM] [Info] Total Bins 16103\n",
      "[LightGBM] [Info] Number of data points in the train set: 23420, number of used features: 106\n",
      "[LightGBM] [Info] [binary:BoostFromScore]: pavg=0.216652 -> initscore=-1.285282\n",
      "[LightGBM] [Info] Start training from score -1.285282\n",
      "Training until validation scores don't improve for 10 rounds\n"
     ]
    },
    {
     "name": "stderr",
     "output_type": "stream",
     "text": [
      "num_leaves, val_score: 0.421059:  90%|######### | 18/20 [00:09<00:00,  2.24it/s]\u001b[32m[I 2021-11-11 11:40:45,232]\u001b[0m Trial 24 finished with value: 0.4261114492523431 and parameters: {'num_leaves': 45}. Best is trial 18 with value: 0.42105945315545185.\u001b[0m\n",
      "num_leaves, val_score: 0.421059:  90%|######### | 18/20 [00:09<00:00,  2.24it/s]"
     ]
    },
    {
     "name": "stdout",
     "output_type": "stream",
     "text": [
      "Early stopping, best iteration is:\n",
      "[29]\tvalid_0's binary_logloss: 0.354792\tvalid_1's binary_logloss: 0.426111\n",
      "[LightGBM] [Info] Number of positive: 5074, number of negative: 18346\n",
      "[LightGBM] [Warning] Auto-choosing col-wise multi-threading, the overhead of testing was 0.004386 seconds.\n",
      "You can set `force_col_wise=true` to remove the overhead.\n",
      "[LightGBM] [Info] Total Bins 16103\n",
      "[LightGBM] [Info] Number of data points in the train set: 23420, number of used features: 106\n",
      "[LightGBM] [Info] [binary:BoostFromScore]: pavg=0.216652 -> initscore=-1.285282\n",
      "[LightGBM] [Info] Start training from score -1.285282\n",
      "Training until validation scores don't improve for 10 rounds\n"
     ]
    },
    {
     "name": "stderr",
     "output_type": "stream",
     "text": [
      "num_leaves, val_score: 0.421059:  95%|#########5| 19/20 [00:10<00:00,  2.01it/s]\u001b[32m[I 2021-11-11 11:40:45,846]\u001b[0m Trial 25 finished with value: 0.4351943040707034 and parameters: {'num_leaves': 169}. Best is trial 18 with value: 0.42105945315545185.\u001b[0m\n",
      "num_leaves, val_score: 0.421059:  95%|#########5| 19/20 [00:10<00:00,  2.01it/s]"
     ]
    },
    {
     "name": "stdout",
     "output_type": "stream",
     "text": [
      "Early stopping, best iteration is:\n",
      "[19]\tvalid_0's binary_logloss: 0.301751\tvalid_1's binary_logloss: 0.435194\n",
      "[LightGBM] [Info] Number of positive: 5074, number of negative: 18346\n",
      "[LightGBM] [Warning] Auto-choosing col-wise multi-threading, the overhead of testing was 0.004735 seconds.\n",
      "You can set `force_col_wise=true` to remove the overhead.\n",
      "[LightGBM] [Info] Total Bins 16103\n",
      "[LightGBM] [Info] Number of data points in the train set: 23420, number of used features: 106\n",
      "[LightGBM] [Info] [binary:BoostFromScore]: pavg=0.216652 -> initscore=-1.285282\n",
      "[LightGBM] [Info] Start training from score -1.285282\n",
      "Training until validation scores don't improve for 10 rounds\n"
     ]
    },
    {
     "name": "stderr",
     "output_type": "stream",
     "text": [
      "num_leaves, val_score: 0.421059: 100%|##########| 20/20 [00:10<00:00,  2.20it/s]\u001b[32m[I 2021-11-11 11:40:46,200]\u001b[0m Trial 26 finished with value: 0.4238827271432496 and parameters: {'num_leaves': 31}. Best is trial 18 with value: 0.42105945315545185.\u001b[0m\n",
      "num_leaves, val_score: 0.421059: 100%|##########| 20/20 [00:10<00:00,  1.89it/s]\n"
     ]
    },
    {
     "name": "stdout",
     "output_type": "stream",
     "text": [
      "Early stopping, best iteration is:\n",
      "[29]\tvalid_0's binary_logloss: 0.370592\tvalid_1's binary_logloss: 0.423883\n"
     ]
    },
    {
     "name": "stderr",
     "output_type": "stream",
     "text": [
      "bagging, val_score: 0.421059:   0%|                      | 0/10 [00:00<?, ?it/s]"
     ]
    },
    {
     "name": "stdout",
     "output_type": "stream",
     "text": [
      "[LightGBM] [Info] Number of positive: 5074, number of negative: 18346\n",
      "[LightGBM] [Warning] Auto-choosing col-wise multi-threading, the overhead of testing was 0.005851 seconds.\n",
      "You can set `force_col_wise=true` to remove the overhead.\n",
      "[LightGBM] [Info] Total Bins 16103\n",
      "[LightGBM] [Info] Number of data points in the train set: 23420, number of used features: 106\n",
      "[LightGBM] [Info] [binary:BoostFromScore]: pavg=0.216652 -> initscore=-1.285282\n",
      "[LightGBM] [Info] Start training from score -1.285282\n",
      "Training until validation scores don't improve for 10 rounds\n"
     ]
    },
    {
     "name": "stderr",
     "output_type": "stream",
     "text": [
      "bagging, val_score: 0.421059:  10%|#4            | 1/10 [00:00<00:02,  4.01it/s]\u001b[32m[I 2021-11-11 11:40:46,453]\u001b[0m Trial 27 finished with value: 0.42163585421618516 and parameters: {'bagging_fraction': 0.46727394411517703, 'bagging_freq': 2}. Best is trial 27 with value: 0.42163585421618516.\u001b[0m\n",
      "bagging, val_score: 0.421059:  10%|#4            | 1/10 [00:00<00:02,  4.01it/s]"
     ]
    },
    {
     "name": "stdout",
     "output_type": "stream",
     "text": [
      "Early stopping, best iteration is:\n",
      "[37]\tvalid_0's binary_logloss: 0.402416\tvalid_1's binary_logloss: 0.421636\n",
      "[LightGBM] [Info] Number of positive: 5074, number of negative: 18346\n",
      "[LightGBM] [Warning] Auto-choosing row-wise multi-threading, the overhead of testing was 0.001815 seconds.\n",
      "You can set `force_row_wise=true` to remove the overhead.\n",
      "And if memory is not enough, you can set `force_col_wise=true`.\n",
      "[LightGBM] [Info] Total Bins 16103\n",
      "[LightGBM] [Info] Number of data points in the train set: 23420, number of used features: 106\n",
      "[LightGBM] [Info] [binary:BoostFromScore]: pavg=0.216652 -> initscore=-1.285282\n",
      "[LightGBM] [Info] Start training from score -1.285282\n",
      "Training until validation scores don't improve for 10 rounds\n",
      "Early stopping, best iteration is:\n",
      "[59]\tvalid_0's binary_logloss: 0.39931\tvalid_1's binary_logloss: 0.421248\n"
     ]
    },
    {
     "name": "stderr",
     "output_type": "stream",
     "text": [
      "bagging, val_score: 0.421059:  20%|##8           | 2/10 [00:00<00:02,  3.65it/s]\u001b[32m[I 2021-11-11 11:40:46,743]\u001b[0m Trial 28 finished with value: 0.421247657373744 and parameters: {'bagging_fraction': 0.5943120886552677, 'bagging_freq': 3}. Best is trial 28 with value: 0.421247657373744.\u001b[0m\n",
      "bagging, val_score: 0.421059:  20%|##8           | 2/10 [00:00<00:02,  3.65it/s]"
     ]
    },
    {
     "name": "stdout",
     "output_type": "stream",
     "text": [
      "[LightGBM] [Info] Number of positive: 5074, number of negative: 18346\n",
      "[LightGBM] [Warning] Auto-choosing col-wise multi-threading, the overhead of testing was 0.004550 seconds.\n",
      "You can set `force_col_wise=true` to remove the overhead.\n",
      "[LightGBM] [Info] Total Bins 16103\n",
      "[LightGBM] [Info] Number of data points in the train set: 23420, number of used features: 106\n",
      "[LightGBM] [Info] [binary:BoostFromScore]: pavg=0.216652 -> initscore=-1.285282\n",
      "[LightGBM] [Info] Start training from score -1.285282\n",
      "Training until validation scores don't improve for 10 rounds\n",
      "Early stopping, best iteration is:\n",
      "[54]\tvalid_0's binary_logloss: 0.39974\tvalid_1's binary_logloss: 0.421118\n"
     ]
    },
    {
     "name": "stderr",
     "output_type": "stream",
     "text": [
      "bagging, val_score: 0.421059:  30%|####2         | 3/10 [00:00<00:01,  3.59it/s]\u001b[32m[I 2021-11-11 11:40:47,028]\u001b[0m Trial 29 finished with value: 0.42111846183927965 and parameters: {'bagging_fraction': 0.4569959203207832, 'bagging_freq': 1}. Best is trial 29 with value: 0.42111846183927965.\u001b[0m\n",
      "bagging, val_score: 0.421059:  30%|####2         | 3/10 [00:00<00:01,  3.59it/s]"
     ]
    },
    {
     "name": "stdout",
     "output_type": "stream",
     "text": [
      "[LightGBM] [Info] Number of positive: 5074, number of negative: 18346\n",
      "[LightGBM] [Warning] Auto-choosing col-wise multi-threading, the overhead of testing was 0.004598 seconds.\n",
      "You can set `force_col_wise=true` to remove the overhead.\n",
      "[LightGBM] [Info] Total Bins 16103\n",
      "[LightGBM] [Info] Number of data points in the train set: 23420, number of used features: 106\n",
      "[LightGBM] [Info] [binary:BoostFromScore]: pavg=0.216652 -> initscore=-1.285282\n",
      "[LightGBM] [Info] Start training from score -1.285282\n",
      "Training until validation scores don't improve for 10 rounds\n"
     ]
    },
    {
     "name": "stderr",
     "output_type": "stream",
     "text": [
      "bagging, val_score: 0.421059:  40%|#####6        | 4/10 [00:01<00:01,  3.06it/s]\u001b[32m[I 2021-11-11 11:40:47,429]\u001b[0m Trial 30 finished with value: 0.42109558949707765 and parameters: {'bagging_fraction': 0.8641462261470867, 'bagging_freq': 6}. Best is trial 30 with value: 0.42109558949707765.\u001b[0m\n",
      "bagging, val_score: 0.421059:  40%|#####6        | 4/10 [00:01<00:01,  3.06it/s]"
     ]
    },
    {
     "name": "stdout",
     "output_type": "stream",
     "text": [
      "Early stopping, best iteration is:\n",
      "[78]\tvalid_0's binary_logloss: 0.397534\tvalid_1's binary_logloss: 0.421096\n",
      "[LightGBM] [Info] Number of positive: 5074, number of negative: 18346\n",
      "[LightGBM] [Warning] Auto-choosing col-wise multi-threading, the overhead of testing was 0.006817 seconds.\n",
      "You can set `force_col_wise=true` to remove the overhead.\n",
      "[LightGBM] [Info] Total Bins 16103\n",
      "[LightGBM] [Info] Number of data points in the train set: 23420, number of used features: 106\n",
      "[LightGBM] [Info] [binary:BoostFromScore]: pavg=0.216652 -> initscore=-1.285282\n",
      "[LightGBM] [Info] Start training from score -1.285282\n",
      "Training until validation scores don't improve for 10 rounds\n"
     ]
    },
    {
     "name": "stderr",
     "output_type": "stream",
     "text": [
      "bagging, val_score: 0.421059:  50%|#######       | 5/10 [00:01<00:01,  3.17it/s]\u001b[32m[I 2021-11-11 11:40:47,724]\u001b[0m Trial 31 finished with value: 0.4218765044417346 and parameters: {'bagging_fraction': 0.553356996664583, 'bagging_freq': 5}. Best is trial 30 with value: 0.42109558949707765.\u001b[0m\n",
      "bagging, val_score: 0.421059:  50%|#######       | 5/10 [00:01<00:01,  3.17it/s]"
     ]
    },
    {
     "name": "stdout",
     "output_type": "stream",
     "text": [
      "Early stopping, best iteration is:\n",
      "[56]\tvalid_0's binary_logloss: 0.400022\tvalid_1's binary_logloss: 0.421877\n",
      "[LightGBM] [Info] Number of positive: 5074, number of negative: 18346\n",
      "[LightGBM] [Warning] Auto-choosing col-wise multi-threading, the overhead of testing was 0.007009 seconds.\n",
      "You can set `force_col_wise=true` to remove the overhead.\n",
      "[LightGBM] [Info] Total Bins 16103\n",
      "[LightGBM] [Info] Number of data points in the train set: 23420, number of used features: 106\n",
      "[LightGBM] [Info] [binary:BoostFromScore]: pavg=0.216652 -> initscore=-1.285282\n",
      "[LightGBM] [Info] Start training from score -1.285282\n",
      "Training until validation scores don't improve for 10 rounds\n"
     ]
    },
    {
     "name": "stderr",
     "output_type": "stream",
     "text": [
      "bagging, val_score: 0.420978:  60%|########4     | 6/10 [00:01<00:01,  3.27it/s]\u001b[32m[I 2021-11-11 11:40:48,010]\u001b[0m Trial 32 finished with value: 0.42097753767397406 and parameters: {'bagging_fraction': 0.8295235542136072, 'bagging_freq': 2}. Best is trial 32 with value: 0.42097753767397406.\u001b[0m\n",
      "bagging, val_score: 0.420978:  60%|########4     | 6/10 [00:01<00:01,  3.27it/s]"
     ]
    },
    {
     "name": "stdout",
     "output_type": "stream",
     "text": [
      "Early stopping, best iteration is:\n",
      "[46]\tvalid_0's binary_logloss: 0.40093\tvalid_1's binary_logloss: 0.420978\n",
      "[LightGBM] [Info] Number of positive: 5074, number of negative: 18346\n",
      "[LightGBM] [Warning] Auto-choosing col-wise multi-threading, the overhead of testing was 0.006979 seconds.\n",
      "You can set `force_col_wise=true` to remove the overhead.\n",
      "[LightGBM] [Info] Total Bins 16103\n",
      "[LightGBM] [Info] Number of data points in the train set: 23420, number of used features: 106\n",
      "[LightGBM] [Info] [binary:BoostFromScore]: pavg=0.216652 -> initscore=-1.285282\n",
      "[LightGBM] [Info] Start training from score -1.285282\n",
      "Training until validation scores don't improve for 10 rounds\n"
     ]
    },
    {
     "name": "stderr",
     "output_type": "stream",
     "text": [
      "bagging, val_score: 0.420978:  70%|#########7    | 7/10 [00:02<00:00,  3.41it/s]\u001b[32m[I 2021-11-11 11:40:48,278]\u001b[0m Trial 33 finished with value: 0.42144607554687236 and parameters: {'bagging_fraction': 0.9036376340611668, 'bagging_freq': 6}. Best is trial 32 with value: 0.42097753767397406.\u001b[0m\n",
      "bagging, val_score: 0.420978:  70%|#########7    | 7/10 [00:02<00:00,  3.41it/s]"
     ]
    },
    {
     "name": "stdout",
     "output_type": "stream",
     "text": [
      "Early stopping, best iteration is:\n",
      "[39]\tvalid_0's binary_logloss: 0.402153\tvalid_1's binary_logloss: 0.421446\n",
      "[LightGBM] [Info] Number of positive: 5074, number of negative: 18346\n",
      "[LightGBM] [Warning] Auto-choosing col-wise multi-threading, the overhead of testing was 0.004800 seconds.\n",
      "You can set `force_col_wise=true` to remove the overhead.\n",
      "[LightGBM] [Info] Total Bins 16103\n",
      "[LightGBM] [Info] Number of data points in the train set: 23420, number of used features: 106\n",
      "[LightGBM] [Info] [binary:BoostFromScore]: pavg=0.216652 -> initscore=-1.285282\n",
      "[LightGBM] [Info] Start training from score -1.285282\n",
      "Training until validation scores don't improve for 10 rounds\n"
     ]
    },
    {
     "name": "stderr",
     "output_type": "stream",
     "text": [
      "bagging, val_score: 0.420978:  80%|###########2  | 8/10 [00:02<00:00,  3.61it/s]\u001b[32m[I 2021-11-11 11:40:48,519]\u001b[0m Trial 34 finished with value: 0.42174148480019863 and parameters: {'bagging_fraction': 0.44517668773960173, 'bagging_freq': 6}. Best is trial 32 with value: 0.42097753767397406.\u001b[0m\n",
      "bagging, val_score: 0.420978:  80%|###########2  | 8/10 [00:02<00:00,  3.61it/s]"
     ]
    },
    {
     "name": "stdout",
     "output_type": "stream",
     "text": [
      "Early stopping, best iteration is:\n",
      "[39]\tvalid_0's binary_logloss: 0.402286\tvalid_1's binary_logloss: 0.421741\n",
      "[LightGBM] [Info] Number of positive: 5074, number of negative: 18346\n",
      "[LightGBM] [Warning] Auto-choosing col-wise multi-threading, the overhead of testing was 0.004893 seconds.\n",
      "You can set `force_col_wise=true` to remove the overhead.\n",
      "[LightGBM] [Info] Total Bins 16103\n",
      "[LightGBM] [Info] Number of data points in the train set: 23420, number of used features: 106\n",
      "[LightGBM] [Info] [binary:BoostFromScore]: pavg=0.216652 -> initscore=-1.285282\n",
      "[LightGBM] [Info] Start training from score -1.285282\n",
      "Training until validation scores don't improve for 10 rounds\n"
     ]
    },
    {
     "name": "stderr",
     "output_type": "stream",
     "text": [
      "bagging, val_score: 0.420978:  90%|############6 | 9/10 [00:02<00:00,  3.66it/s]\u001b[32m[I 2021-11-11 11:40:48,784]\u001b[0m Trial 35 finished with value: 0.42144098913766354 and parameters: {'bagging_fraction': 0.7189500366289796, 'bagging_freq': 6}. Best is trial 32 with value: 0.42097753767397406.\u001b[0m\n",
      "bagging, val_score: 0.420978:  90%|############6 | 9/10 [00:02<00:00,  3.66it/s]"
     ]
    },
    {
     "name": "stdout",
     "output_type": "stream",
     "text": [
      "Early stopping, best iteration is:\n",
      "[42]\tvalid_0's binary_logloss: 0.401635\tvalid_1's binary_logloss: 0.421441\n",
      "[LightGBM] [Info] Number of positive: 5074, number of negative: 18346\n",
      "[LightGBM] [Warning] Auto-choosing col-wise multi-threading, the overhead of testing was 0.005604 seconds.\n",
      "You can set `force_col_wise=true` to remove the overhead.\n",
      "[LightGBM] [Info] Total Bins 16103\n",
      "[LightGBM] [Info] Number of data points in the train set: 23420, number of used features: 106\n",
      "[LightGBM] [Info] [binary:BoostFromScore]: pavg=0.216652 -> initscore=-1.285282\n",
      "[LightGBM] [Info] Start training from score -1.285282\n",
      "Training until validation scores don't improve for 10 rounds\n"
     ]
    },
    {
     "name": "stderr",
     "output_type": "stream",
     "text": [
      "bagging, val_score: 0.420978: 100%|#############| 10/10 [00:02<00:00,  3.72it/s]\u001b[32m[I 2021-11-11 11:40:49,044]\u001b[0m Trial 36 finished with value: 0.4212593225193285 and parameters: {'bagging_fraction': 0.5070376816633829, 'bagging_freq': 4}. Best is trial 32 with value: 0.42097753767397406.\u001b[0m\n",
      "bagging, val_score: 0.420978: 100%|#############| 10/10 [00:02<00:00,  3.52it/s]\n"
     ]
    },
    {
     "name": "stdout",
     "output_type": "stream",
     "text": [
      "Early stopping, best iteration is:\n",
      "[47]\tvalid_0's binary_logloss: 0.401056\tvalid_1's binary_logloss: 0.421259\n"
     ]
    },
    {
     "name": "stderr",
     "output_type": "stream",
     "text": [
      "feature_fraction_stage2, val_score: 0.420978:   0%|       | 0/6 [00:00<?, ?it/s]"
     ]
    },
    {
     "name": "stdout",
     "output_type": "stream",
     "text": [
      "[LightGBM] [Info] Number of positive: 5074, number of negative: 18346\n",
      "[LightGBM] [Warning] Auto-choosing col-wise multi-threading, the overhead of testing was 0.004624 seconds.\n",
      "You can set `force_col_wise=true` to remove the overhead.\n",
      "[LightGBM] [Info] Total Bins 16103\n",
      "[LightGBM] [Info] Number of data points in the train set: 23420, number of used features: 106\n",
      "[LightGBM] [Info] [binary:BoostFromScore]: pavg=0.216652 -> initscore=-1.285282\n",
      "[LightGBM] [Info] Start training from score -1.285282\n",
      "Training until validation scores don't improve for 10 rounds\n"
     ]
    },
    {
     "name": "stderr",
     "output_type": "stream",
     "text": [
      "feature_fraction_stage2, val_score: 0.420978:  17%|1| 1/6 [00:00<00:01,  3.24it/\u001b[32m[I 2021-11-11 11:40:49,356]\u001b[0m Trial 37 finished with value: 0.42097753767397406 and parameters: {'feature_fraction': 0.9159999999999999}. Best is trial 37 with value: 0.42097753767397406.\u001b[0m\n",
      "feature_fraction_stage2, val_score: 0.420978:  17%|1| 1/6 [00:00<00:01,  3.24it/"
     ]
    },
    {
     "name": "stdout",
     "output_type": "stream",
     "text": [
      "Early stopping, best iteration is:\n",
      "[46]\tvalid_0's binary_logloss: 0.40093\tvalid_1's binary_logloss: 0.420978\n",
      "[LightGBM] [Info] Number of positive: 5074, number of negative: 18346\n",
      "[LightGBM] [Warning] Auto-choosing col-wise multi-threading, the overhead of testing was 0.004697 seconds.\n",
      "You can set `force_col_wise=true` to remove the overhead.\n",
      "[LightGBM] [Info] Total Bins 16103\n",
      "[LightGBM] [Info] Number of data points in the train set: 23420, number of used features: 106\n",
      "[LightGBM] [Info] [binary:BoostFromScore]: pavg=0.216652 -> initscore=-1.285282\n",
      "[LightGBM] [Info] Start training from score -1.285282\n",
      "Training until validation scores don't improve for 10 rounds\n"
     ]
    },
    {
     "name": "stderr",
     "output_type": "stream",
     "text": [
      "feature_fraction_stage2, val_score: 0.420978:  33%|3| 2/6 [00:00<00:01,  3.46it/\u001b[32m[I 2021-11-11 11:40:49,631]\u001b[0m Trial 38 finished with value: 0.42122090980945287 and parameters: {'feature_fraction': 0.82}. Best is trial 37 with value: 0.42097753767397406.\u001b[0m\n",
      "feature_fraction_stage2, val_score: 0.420978:  33%|3| 2/6 [00:00<00:01,  3.46it/"
     ]
    },
    {
     "name": "stdout",
     "output_type": "stream",
     "text": [
      "Early stopping, best iteration is:\n",
      "[45]\tvalid_0's binary_logloss: 0.401172\tvalid_1's binary_logloss: 0.421221\n",
      "[LightGBM] [Info] Number of positive: 5074, number of negative: 18346\n",
      "[LightGBM] [Warning] Auto-choosing col-wise multi-threading, the overhead of testing was 0.004427 seconds.\n",
      "You can set `force_col_wise=true` to remove the overhead.\n",
      "[LightGBM] [Info] Total Bins 16103\n",
      "[LightGBM] [Info] Number of data points in the train set: 23420, number of used features: 106\n",
      "[LightGBM] [Info] [binary:BoostFromScore]: pavg=0.216652 -> initscore=-1.285282\n",
      "[LightGBM] [Info] Start training from score -1.285282\n",
      "Training until validation scores don't improve for 10 rounds\n"
     ]
    },
    {
     "name": "stderr",
     "output_type": "stream",
     "text": [
      "feature_fraction_stage2, val_score: 0.420972:  50%|5| 3/6 [00:00<00:00,  3.47it/\u001b[32m[I 2021-11-11 11:40:49,917]\u001b[0m Trial 39 finished with value: 0.42097180412430935 and parameters: {'feature_fraction': 0.948}. Best is trial 39 with value: 0.42097180412430935.\u001b[0m\n",
      "feature_fraction_stage2, val_score: 0.420972:  50%|5| 3/6 [00:00<00:00,  3.47it/"
     ]
    },
    {
     "name": "stdout",
     "output_type": "stream",
     "text": [
      "Early stopping, best iteration is:\n",
      "[43]\tvalid_0's binary_logloss: 0.40131\tvalid_1's binary_logloss: 0.420972\n",
      "[LightGBM] [Info] Number of positive: 5074, number of negative: 18346\n",
      "[LightGBM] [Warning] Auto-choosing col-wise multi-threading, the overhead of testing was 0.005409 seconds.\n",
      "You can set `force_col_wise=true` to remove the overhead.\n",
      "[LightGBM] [Info] Total Bins 16103\n",
      "[LightGBM] [Info] Number of data points in the train set: 23420, number of used features: 106\n",
      "[LightGBM] [Info] [binary:BoostFromScore]: pavg=0.216652 -> initscore=-1.285282\n",
      "[LightGBM] [Info] Start training from score -1.285282\n",
      "Training until validation scores don't improve for 10 rounds\n"
     ]
    },
    {
     "name": "stderr",
     "output_type": "stream",
     "text": [
      "feature_fraction_stage2, val_score: 0.420972:  67%|6| 4/6 [00:01<00:00,  3.54it/\u001b[32m[I 2021-11-11 11:40:50,191]\u001b[0m Trial 40 finished with value: 0.42097753767397406 and parameters: {'feature_fraction': 0.8839999999999999}. Best is trial 39 with value: 0.42097180412430935.\u001b[0m\n",
      "feature_fraction_stage2, val_score: 0.420972:  67%|6| 4/6 [00:01<00:00,  3.54it/"
     ]
    },
    {
     "name": "stdout",
     "output_type": "stream",
     "text": [
      "Early stopping, best iteration is:\n",
      "[46]\tvalid_0's binary_logloss: 0.40093\tvalid_1's binary_logloss: 0.420978\n",
      "[LightGBM] [Info] Number of positive: 5074, number of negative: 18346\n",
      "[LightGBM] [Warning] Auto-choosing col-wise multi-threading, the overhead of testing was 0.006881 seconds.\n",
      "You can set `force_col_wise=true` to remove the overhead.\n",
      "[LightGBM] [Info] Total Bins 16103\n",
      "[LightGBM] [Info] Number of data points in the train set: 23420, number of used features: 106\n",
      "[LightGBM] [Info] [binary:BoostFromScore]: pavg=0.216652 -> initscore=-1.285282\n",
      "[LightGBM] [Info] Start training from score -1.285282\n",
      "Training until validation scores don't improve for 10 rounds\n"
     ]
    },
    {
     "name": "stderr",
     "output_type": "stream",
     "text": [
      "feature_fraction_stage2, val_score: 0.420877:  83%|8| 5/6 [00:01<00:00,  3.58it/\u001b[32m[I 2021-11-11 11:40:50,465]\u001b[0m Trial 41 finished with value: 0.4208772375503288 and parameters: {'feature_fraction': 0.9799999999999999}. Best is trial 41 with value: 0.4208772375503288.\u001b[0m\n",
      "feature_fraction_stage2, val_score: 0.420877:  83%|8| 5/6 [00:01<00:00,  3.58it/"
     ]
    },
    {
     "name": "stdout",
     "output_type": "stream",
     "text": [
      "Early stopping, best iteration is:\n",
      "[42]\tvalid_0's binary_logloss: 0.401385\tvalid_1's binary_logloss: 0.420877\n",
      "[LightGBM] [Info] Number of positive: 5074, number of negative: 18346\n",
      "[LightGBM] [Warning] Auto-choosing col-wise multi-threading, the overhead of testing was 0.004573 seconds.\n",
      "You can set `force_col_wise=true` to remove the overhead.\n",
      "[LightGBM] [Info] Total Bins 16103\n",
      "[LightGBM] [Info] Number of data points in the train set: 23420, number of used features: 106\n",
      "[LightGBM] [Info] [binary:BoostFromScore]: pavg=0.216652 -> initscore=-1.285282\n",
      "[LightGBM] [Info] Start training from score -1.285282\n",
      "Training until validation scores don't improve for 10 rounds\n"
     ]
    },
    {
     "name": "stderr",
     "output_type": "stream",
     "text": [
      "feature_fraction_stage2, val_score: 0.420877: 100%|#| 6/6 [00:01<00:00,  3.59it/\u001b[32m[I 2021-11-11 11:40:50,744]\u001b[0m Trial 42 finished with value: 0.4211285440566922 and parameters: {'feature_fraction': 0.852}. Best is trial 41 with value: 0.4208772375503288.\u001b[0m\n",
      "feature_fraction_stage2, val_score: 0.420877: 100%|#| 6/6 [00:01<00:00,  3.53it/\n"
     ]
    },
    {
     "name": "stdout",
     "output_type": "stream",
     "text": [
      "Early stopping, best iteration is:\n",
      "[46]\tvalid_0's binary_logloss: 0.400984\tvalid_1's binary_logloss: 0.421129\n"
     ]
    },
    {
     "name": "stderr",
     "output_type": "stream",
     "text": [
      "regularization_factors, val_score: 0.420877:   0%|       | 0/20 [00:00<?, ?it/s]"
     ]
    },
    {
     "name": "stdout",
     "output_type": "stream",
     "text": [
      "[LightGBM] [Info] Number of positive: 5074, number of negative: 18346\n",
      "[LightGBM] [Warning] Auto-choosing col-wise multi-threading, the overhead of testing was 0.006157 seconds.\n",
      "You can set `force_col_wise=true` to remove the overhead.\n",
      "[LightGBM] [Info] Total Bins 16103\n",
      "[LightGBM] [Info] Number of data points in the train set: 23420, number of used features: 106\n",
      "[LightGBM] [Info] [binary:BoostFromScore]: pavg=0.216652 -> initscore=-1.285282\n",
      "[LightGBM] [Info] Start training from score -1.285282\n",
      "Training until validation scores don't improve for 10 rounds\n"
     ]
    },
    {
     "name": "stderr",
     "output_type": "stream",
     "text": [
      "regularization_factors, val_score: 0.420877:   5%| | 1/20 [00:00<00:05,  3.48it/\u001b[32m[I 2021-11-11 11:40:51,035]\u001b[0m Trial 43 finished with value: 0.4213506423082304 and parameters: {'lambda_l1': 0.0003098182999648275, 'lambda_l2': 6.154452107715563}. Best is trial 43 with value: 0.4213506423082304.\u001b[0m\n",
      "regularization_factors, val_score: 0.420877:   5%| | 1/20 [00:00<00:05,  3.48it/"
     ]
    },
    {
     "name": "stdout",
     "output_type": "stream",
     "text": [
      "Early stopping, best iteration is:\n",
      "[42]\tvalid_0's binary_logloss: 0.401831\tvalid_1's binary_logloss: 0.421351\n",
      "[LightGBM] [Info] Number of positive: 5074, number of negative: 18346\n",
      "[LightGBM] [Warning] Auto-choosing col-wise multi-threading, the overhead of testing was 0.004612 seconds.\n",
      "You can set `force_col_wise=true` to remove the overhead.\n",
      "[LightGBM] [Info] Total Bins 16103\n",
      "[LightGBM] [Info] Number of data points in the train set: 23420, number of used features: 106\n",
      "[LightGBM] [Info] [binary:BoostFromScore]: pavg=0.216652 -> initscore=-1.285282\n",
      "[LightGBM] [Info] Start training from score -1.285282\n",
      "Training until validation scores don't improve for 10 rounds\n"
     ]
    },
    {
     "name": "stderr",
     "output_type": "stream",
     "text": [
      "regularization_factors, val_score: 0.420877:  10%|1| 2/20 [00:00<00:04,  3.66it/\u001b[32m[I 2021-11-11 11:40:51,299]\u001b[0m Trial 44 finished with value: 0.4210541574836642 and parameters: {'lambda_l1': 0.33173247442131115, 'lambda_l2': 0.0001449137317261585}. Best is trial 44 with value: 0.4210541574836642.\u001b[0m\n",
      "regularization_factors, val_score: 0.420877:  10%|1| 2/20 [00:00<00:04,  3.66it/"
     ]
    },
    {
     "name": "stdout",
     "output_type": "stream",
     "text": [
      "Early stopping, best iteration is:\n",
      "[42]\tvalid_0's binary_logloss: 0.401458\tvalid_1's binary_logloss: 0.421054\n",
      "[LightGBM] [Info] Number of positive: 5074, number of negative: 18346\n",
      "[LightGBM] [Warning] Auto-choosing col-wise multi-threading, the overhead of testing was 0.004846 seconds.\n",
      "You can set `force_col_wise=true` to remove the overhead.\n",
      "[LightGBM] [Info] Total Bins 16103\n",
      "[LightGBM] [Info] Number of data points in the train set: 23420, number of used features: 106\n",
      "[LightGBM] [Info] [binary:BoostFromScore]: pavg=0.216652 -> initscore=-1.285282\n",
      "[LightGBM] [Info] Start training from score -1.285282\n",
      "Training until validation scores don't improve for 10 rounds\n"
     ]
    },
    {
     "name": "stderr",
     "output_type": "stream",
     "text": [
      "regularization_factors, val_score: 0.420877:  15%|1| 3/20 [00:00<00:04,  3.67it/\u001b[32m[I 2021-11-11 11:40:51,571]\u001b[0m Trial 45 finished with value: 0.4208772375572797 and parameters: {'lambda_l1': 1.4673602040052182e-07, 'lambda_l2': 1.6256127980397504e-07}. Best is trial 45 with value: 0.4208772375572797.\u001b[0m\n",
      "regularization_factors, val_score: 0.420877:  15%|1| 3/20 [00:00<00:04,  3.67it/"
     ]
    },
    {
     "name": "stdout",
     "output_type": "stream",
     "text": [
      "Early stopping, best iteration is:\n",
      "[42]\tvalid_0's binary_logloss: 0.401385\tvalid_1's binary_logloss: 0.420877\n",
      "[LightGBM] [Info] Number of positive: 5074, number of negative: 18346\n",
      "[LightGBM] [Warning] Auto-choosing col-wise multi-threading, the overhead of testing was 0.004763 seconds.\n",
      "You can set `force_col_wise=true` to remove the overhead.\n",
      "[LightGBM] [Info] Total Bins 16103\n",
      "[LightGBM] [Info] Number of data points in the train set: 23420, number of used features: 106\n",
      "[LightGBM] [Info] [binary:BoostFromScore]: pavg=0.216652 -> initscore=-1.285282\n",
      "[LightGBM] [Info] Start training from score -1.285282\n",
      "Training until validation scores don't improve for 10 rounds\n"
     ]
    },
    {
     "name": "stderr",
     "output_type": "stream",
     "text": [
      "regularization_factors, val_score: 0.420877:  20%|2| 4/20 [00:01<00:04,  3.67it/\u001b[32m[I 2021-11-11 11:40:51,843]\u001b[0m Trial 46 finished with value: 0.4210205701313546 and parameters: {'lambda_l1': 0.00048007311313851074, 'lambda_l2': 0.09879599181771354}. Best is trial 45 with value: 0.4208772375572797.\u001b[0m\n",
      "regularization_factors, val_score: 0.420877:  20%|2| 4/20 [00:01<00:04,  3.67it/"
     ]
    },
    {
     "name": "stdout",
     "output_type": "stream",
     "text": [
      "Early stopping, best iteration is:\n",
      "[42]\tvalid_0's binary_logloss: 0.401472\tvalid_1's binary_logloss: 0.421021\n",
      "[LightGBM] [Info] Number of positive: 5074, number of negative: 18346\n",
      "[LightGBM] [Warning] Auto-choosing col-wise multi-threading, the overhead of testing was 0.004935 seconds.\n",
      "You can set `force_col_wise=true` to remove the overhead.\n",
      "[LightGBM] [Info] Total Bins 16103\n",
      "[LightGBM] [Info] Number of data points in the train set: 23420, number of used features: 106\n",
      "[LightGBM] [Info] [binary:BoostFromScore]: pavg=0.216652 -> initscore=-1.285282\n",
      "[LightGBM] [Info] Start training from score -1.285282\n",
      "Training until validation scores don't improve for 10 rounds\n"
     ]
    },
    {
     "name": "stderr",
     "output_type": "stream",
     "text": [
      "regularization_factors, val_score: 0.420877:  25%|2| 5/20 [00:01<00:04,  3.71it/\u001b[32m[I 2021-11-11 11:40:52,108]\u001b[0m Trial 47 finished with value: 0.4208772531109938 and parameters: {'lambda_l1': 0.0005286707065950153, 'lambda_l2': 2.744822297981726e-07}. Best is trial 45 with value: 0.4208772375572797.\u001b[0m\n",
      "regularization_factors, val_score: 0.420877:  25%|2| 5/20 [00:01<00:04,  3.71it/"
     ]
    },
    {
     "name": "stdout",
     "output_type": "stream",
     "text": [
      "Early stopping, best iteration is:\n",
      "[42]\tvalid_0's binary_logloss: 0.401385\tvalid_1's binary_logloss: 0.420877\n",
      "[LightGBM] [Info] Number of positive: 5074, number of negative: 18346\n",
      "[LightGBM] [Warning] Auto-choosing row-wise multi-threading, the overhead of testing was 0.002576 seconds.\n",
      "You can set `force_row_wise=true` to remove the overhead.\n",
      "And if memory is not enough, you can set `force_col_wise=true`.\n",
      "[LightGBM] [Info] Total Bins 16103\n",
      "[LightGBM] [Info] Number of data points in the train set: 23420, number of used features: 106\n",
      "[LightGBM] [Info] [binary:BoostFromScore]: pavg=0.216652 -> initscore=-1.285282\n",
      "[LightGBM] [Info] Start training from score -1.285282\n",
      "Training until validation scores don't improve for 10 rounds\n"
     ]
    },
    {
     "name": "stderr",
     "output_type": "stream",
     "text": [
      "regularization_factors, val_score: 0.420877:  30%|3| 6/20 [00:01<00:03,  3.57it/\u001b[32m[I 2021-11-11 11:40:52,408]\u001b[0m Trial 48 finished with value: 0.42106066909895995 and parameters: {'lambda_l1': 0.07703981683399201, 'lambda_l2': 0.5798187981864872}. Best is trial 45 with value: 0.4208772375572797.\u001b[0m\n",
      "regularization_factors, val_score: 0.420877:  30%|3| 6/20 [00:01<00:03,  3.57it/"
     ]
    },
    {
     "name": "stdout",
     "output_type": "stream",
     "text": [
      "Early stopping, best iteration is:\n",
      "[42]\tvalid_0's binary_logloss: 0.401452\tvalid_1's binary_logloss: 0.421061\n",
      "[LightGBM] [Info] Number of positive: 5074, number of negative: 18346\n",
      "[LightGBM] [Warning] Auto-choosing col-wise multi-threading, the overhead of testing was 0.007193 seconds.\n",
      "You can set `force_col_wise=true` to remove the overhead.\n",
      "[LightGBM] [Info] Total Bins 16103\n",
      "[LightGBM] [Info] Number of data points in the train set: 23420, number of used features: 106\n",
      "[LightGBM] [Info] [binary:BoostFromScore]: pavg=0.216652 -> initscore=-1.285282\n",
      "[LightGBM] [Info] Start training from score -1.285282\n",
      "Training until validation scores don't improve for 10 rounds\n"
     ]
    },
    {
     "name": "stderr",
     "output_type": "stream",
     "text": [
      "regularization_factors, val_score: 0.420877:  35%|3| 7/20 [00:01<00:03,  3.56it/\u001b[32m[I 2021-11-11 11:40:52,690]\u001b[0m Trial 49 finished with value: 0.42087723756249135 and parameters: {'lambda_l1': 3.832947646051233e-07, 'lambda_l2': 2.8610613448542293e-08}. Best is trial 45 with value: 0.4208772375572797.\u001b[0m\n",
      "regularization_factors, val_score: 0.420877:  35%|3| 7/20 [00:01<00:03,  3.56it/"
     ]
    },
    {
     "name": "stdout",
     "output_type": "stream",
     "text": [
      "Early stopping, best iteration is:\n",
      "[42]\tvalid_0's binary_logloss: 0.401385\tvalid_1's binary_logloss: 0.420877\n",
      "[LightGBM] [Info] Number of positive: 5074, number of negative: 18346\n",
      "[LightGBM] [Warning] Auto-choosing col-wise multi-threading, the overhead of testing was 0.006963 seconds.\n",
      "You can set `force_col_wise=true` to remove the overhead.\n",
      "[LightGBM] [Info] Total Bins 16103\n",
      "[LightGBM] [Info] Number of data points in the train set: 23420, number of used features: 106\n",
      "[LightGBM] [Info] [binary:BoostFromScore]: pavg=0.216652 -> initscore=-1.285282\n",
      "[LightGBM] [Info] Start training from score -1.285282\n",
      "Training until validation scores don't improve for 10 rounds\n"
     ]
    },
    {
     "name": "stderr",
     "output_type": "stream",
     "text": [
      "regularization_factors, val_score: 0.420877:  40%|4| 8/20 [00:02<00:03,  3.54it/\u001b[32m[I 2021-11-11 11:40:52,977]\u001b[0m Trial 50 finished with value: 0.42104417165992836 and parameters: {'lambda_l1': 0.3742664325093997, 'lambda_l2': 0.004137195530042444}. Best is trial 45 with value: 0.4208772375572797.\u001b[0m\n",
      "regularization_factors, val_score: 0.420877:  40%|4| 8/20 [00:02<00:03,  3.54it/"
     ]
    },
    {
     "name": "stdout",
     "output_type": "stream",
     "text": [
      "Early stopping, best iteration is:\n",
      "[42]\tvalid_0's binary_logloss: 0.401513\tvalid_1's binary_logloss: 0.421044\n",
      "[LightGBM] [Info] Number of positive: 5074, number of negative: 18346\n",
      "[LightGBM] [Warning] Auto-choosing col-wise multi-threading, the overhead of testing was 0.004593 seconds.\n",
      "You can set `force_col_wise=true` to remove the overhead.\n",
      "[LightGBM] [Info] Total Bins 16103\n",
      "[LightGBM] [Info] Number of data points in the train set: 23420, number of used features: 106\n",
      "[LightGBM] [Info] [binary:BoostFromScore]: pavg=0.216652 -> initscore=-1.285282\n",
      "[LightGBM] [Info] Start training from score -1.285282\n",
      "Training until validation scores don't improve for 10 rounds\n"
     ]
    },
    {
     "name": "stderr",
     "output_type": "stream",
     "text": [
      "regularization_factors, val_score: 0.420877:  45%|4| 9/20 [00:02<00:03,  3.51it/\u001b[32m[I 2021-11-11 11:40:53,265]\u001b[0m Trial 51 finished with value: 0.4211663825197812 and parameters: {'lambda_l1': 0.11565571335237843, 'lambda_l2': 5.556998245518567}. Best is trial 45 with value: 0.4208772375572797.\u001b[0m\n",
      "regularization_factors, val_score: 0.420877:  45%|4| 9/20 [00:02<00:03,  3.51it/"
     ]
    },
    {
     "name": "stdout",
     "output_type": "stream",
     "text": [
      "Early stopping, best iteration is:\n",
      "[42]\tvalid_0's binary_logloss: 0.401867\tvalid_1's binary_logloss: 0.421166\n",
      "[LightGBM] [Info] Number of positive: 5074, number of negative: 18346\n",
      "[LightGBM] [Warning] Auto-choosing col-wise multi-threading, the overhead of testing was 0.004605 seconds.\n",
      "You can set `force_col_wise=true` to remove the overhead.\n",
      "[LightGBM] [Info] Total Bins 16103\n",
      "[LightGBM] [Info] Number of data points in the train set: 23420, number of used features: 106\n",
      "[LightGBM] [Info] [binary:BoostFromScore]: pavg=0.216652 -> initscore=-1.285282\n",
      "[LightGBM] [Info] Start training from score -1.285282\n",
      "Training until validation scores don't improve for 10 rounds\n"
     ]
    },
    {
     "name": "stderr",
     "output_type": "stream",
     "text": [
      "regularization_factors, val_score: 0.420876:  50%|5| 10/20 [00:02<00:02,  3.53it\u001b[32m[I 2021-11-11 11:40:53,546]\u001b[0m Trial 52 finished with value: 0.4208757915758948 and parameters: {'lambda_l1': 0.010843825885755384, 'lambda_l2': 0.0034208210118534593}. Best is trial 52 with value: 0.4208757915758948.\u001b[0m\n",
      "regularization_factors, val_score: 0.420876:  50%|5| 10/20 [00:02<00:02,  3.53it"
     ]
    },
    {
     "name": "stdout",
     "output_type": "stream",
     "text": [
      "Early stopping, best iteration is:\n",
      "[42]\tvalid_0's binary_logloss: 0.401387\tvalid_1's binary_logloss: 0.420876\n",
      "[LightGBM] [Info] Number of positive: 5074, number of negative: 18346\n",
      "[LightGBM] [Warning] Auto-choosing col-wise multi-threading, the overhead of testing was 0.004564 seconds.\n",
      "You can set `force_col_wise=true` to remove the overhead.\n",
      "[LightGBM] [Info] Total Bins 16103\n",
      "[LightGBM] [Info] Number of data points in the train set: 23420, number of used features: 106\n",
      "[LightGBM] [Info] [binary:BoostFromScore]: pavg=0.216652 -> initscore=-1.285282\n",
      "[LightGBM] [Info] Start training from score -1.285282\n",
      "Training until validation scores don't improve for 10 rounds\n"
     ]
    },
    {
     "name": "stderr",
     "output_type": "stream",
     "text": [
      "regularization_factors, val_score: 0.420876:  55%|5| 11/20 [00:03<00:02,  3.48it\u001b[32m[I 2021-11-11 11:40:53,842]\u001b[0m Trial 53 finished with value: 0.421579939359146 and parameters: {'lambda_l1': 5.603078145764433, 'lambda_l2': 4.9057100100948406e-05}. Best is trial 52 with value: 0.4208757915758948.\u001b[0m\n",
      "regularization_factors, val_score: 0.420876:  55%|5| 11/20 [00:03<00:02,  3.48it"
     ]
    },
    {
     "name": "stdout",
     "output_type": "stream",
     "text": [
      "Early stopping, best iteration is:\n",
      "[45]\tvalid_0's binary_logloss: 0.401617\tvalid_1's binary_logloss: 0.42158\n",
      "[LightGBM] [Info] Number of positive: 5074, number of negative: 18346\n",
      "[LightGBM] [Warning] Auto-choosing col-wise multi-threading, the overhead of testing was 0.006068 seconds.\n",
      "You can set `force_col_wise=true` to remove the overhead.\n",
      "[LightGBM] [Info] Total Bins 16103\n",
      "[LightGBM] [Info] Number of data points in the train set: 23420, number of used features: 106\n",
      "[LightGBM] [Info] [binary:BoostFromScore]: pavg=0.216652 -> initscore=-1.285282\n",
      "[LightGBM] [Info] Start training from score -1.285282\n",
      "Training until validation scores don't improve for 10 rounds\n"
     ]
    },
    {
     "name": "stderr",
     "output_type": "stream",
     "text": [
      "regularization_factors, val_score: 0.420876:  60%|6| 12/20 [00:03<00:02,  3.49it\u001b[32m[I 2021-11-11 11:40:54,127]\u001b[0m Trial 54 finished with value: 0.42087723762158685 and parameters: {'lambda_l1': 1.0407692843205385e-08, 'lambda_l2': 1.3573486049651736e-05}. Best is trial 52 with value: 0.4208757915758948.\u001b[0m\n",
      "regularization_factors, val_score: 0.420876:  60%|6| 12/20 [00:03<00:02,  3.49it"
     ]
    },
    {
     "name": "stdout",
     "output_type": "stream",
     "text": [
      "Early stopping, best iteration is:\n",
      "[42]\tvalid_0's binary_logloss: 0.401385\tvalid_1's binary_logloss: 0.420877\n",
      "[LightGBM] [Info] Number of positive: 5074, number of negative: 18346\n",
      "[LightGBM] [Warning] Auto-choosing col-wise multi-threading, the overhead of testing was 0.004226 seconds.\n",
      "You can set `force_col_wise=true` to remove the overhead.\n",
      "[LightGBM] [Info] Total Bins 16103\n",
      "[LightGBM] [Info] Number of data points in the train set: 23420, number of used features: 106\n",
      "[LightGBM] [Info] [binary:BoostFromScore]: pavg=0.216652 -> initscore=-1.285282\n",
      "[LightGBM] [Info] Start training from score -1.285282\n",
      "Training until validation scores don't improve for 10 rounds\n"
     ]
    },
    {
     "name": "stderr",
     "output_type": "stream",
     "text": [
      "regularization_factors, val_score: 0.420876:  65%|6| 13/20 [00:03<00:02,  3.50it\u001b[32m[I 2021-11-11 11:40:54,411]\u001b[0m Trial 55 finished with value: 0.42104168294319455 and parameters: {'lambda_l1': 4.505517851658376e-06, 'lambda_l2': 0.006082058157240855}. Best is trial 52 with value: 0.4208757915758948.\u001b[0m\n",
      "regularization_factors, val_score: 0.420876:  65%|6| 13/20 [00:03<00:02,  3.50it"
     ]
    },
    {
     "name": "stdout",
     "output_type": "stream",
     "text": [
      "Early stopping, best iteration is:\n",
      "[42]\tvalid_0's binary_logloss: 0.401417\tvalid_1's binary_logloss: 0.421042\n",
      "[LightGBM] [Info] Number of positive: 5074, number of negative: 18346\n",
      "[LightGBM] [Warning] Auto-choosing col-wise multi-threading, the overhead of testing was 0.004912 seconds.\n",
      "You can set `force_col_wise=true` to remove the overhead.\n",
      "[LightGBM] [Info] Total Bins 16103\n",
      "[LightGBM] [Info] Number of data points in the train set: 23420, number of used features: 106\n",
      "[LightGBM] [Info] [binary:BoostFromScore]: pavg=0.216652 -> initscore=-1.285282\n",
      "[LightGBM] [Info] Start training from score -1.285282\n",
      "Training until validation scores don't improve for 10 rounds\n"
     ]
    },
    {
     "name": "stderr",
     "output_type": "stream",
     "text": [
      "regularization_factors, val_score: 0.420876:  70%|7| 14/20 [00:03<00:01,  3.50it\u001b[32m[I 2021-11-11 11:40:54,697]\u001b[0m Trial 56 finished with value: 0.42087723810834926 and parameters: {'lambda_l1': 1.870068215452624e-05, 'lambda_l2': 1.821397653503051e-06}. Best is trial 52 with value: 0.4208757915758948.\u001b[0m\n",
      "regularization_factors, val_score: 0.420876:  70%|7| 14/20 [00:03<00:01,  3.50it"
     ]
    },
    {
     "name": "stdout",
     "output_type": "stream",
     "text": [
      "Early stopping, best iteration is:\n",
      "[42]\tvalid_0's binary_logloss: 0.401385\tvalid_1's binary_logloss: 0.420877\n",
      "[LightGBM] [Info] Number of positive: 5074, number of negative: 18346\n",
      "[LightGBM] [Warning] Auto-choosing col-wise multi-threading, the overhead of testing was 0.005072 seconds.\n",
      "You can set `force_col_wise=true` to remove the overhead.\n",
      "[LightGBM] [Info] Total Bins 16103\n",
      "[LightGBM] [Info] Number of data points in the train set: 23420, number of used features: 106\n",
      "[LightGBM] [Info] [binary:BoostFromScore]: pavg=0.216652 -> initscore=-1.285282\n",
      "[LightGBM] [Info] Start training from score -1.285282\n",
      "Training until validation scores don't improve for 10 rounds\n"
     ]
    },
    {
     "name": "stderr",
     "output_type": "stream",
     "text": [
      "regularization_factors, val_score: 0.420876:  75%|7| 15/20 [00:04<00:01,  3.50it\u001b[32m[I 2021-11-11 11:40:54,981]\u001b[0m Trial 57 finished with value: 0.42087570575481165 and parameters: {'lambda_l1': 0.008531805342117359, 'lambda_l2': 0.0009555564605984136}. Best is trial 57 with value: 0.42087570575481165.\u001b[0m\n",
      "regularization_factors, val_score: 0.420876:  75%|7| 15/20 [00:04<00:01,  3.50it"
     ]
    },
    {
     "name": "stdout",
     "output_type": "stream",
     "text": [
      "Early stopping, best iteration is:\n",
      "[42]\tvalid_0's binary_logloss: 0.401386\tvalid_1's binary_logloss: 0.420876\n",
      "[LightGBM] [Info] Number of positive: 5074, number of negative: 18346\n",
      "[LightGBM] [Warning] Auto-choosing col-wise multi-threading, the overhead of testing was 0.006498 seconds.\n",
      "You can set `force_col_wise=true` to remove the overhead.\n",
      "[LightGBM] [Info] Total Bins 16103\n",
      "[LightGBM] [Info] Number of data points in the train set: 23420, number of used features: 106\n",
      "[LightGBM] [Info] [binary:BoostFromScore]: pavg=0.216652 -> initscore=-1.285282\n",
      "[LightGBM] [Info] Start training from score -1.285282\n",
      "Training until validation scores don't improve for 10 rounds\n"
     ]
    },
    {
     "name": "stderr",
     "output_type": "stream",
     "text": [
      "regularization_factors, val_score: 0.420876:  80%|8| 16/20 [00:04<00:01,  3.49it\u001b[32m[I 2021-11-11 11:40:55,270]\u001b[0m Trial 58 finished with value: 0.4210418171852233 and parameters: {'lambda_l1': 0.006605723169183828, 'lambda_l2': 0.003207696987700988}. Best is trial 57 with value: 0.42087570575481165.\u001b[0m\n",
      "regularization_factors, val_score: 0.420876:  80%|8| 16/20 [00:04<00:01,  3.49it"
     ]
    },
    {
     "name": "stdout",
     "output_type": "stream",
     "text": [
      "Early stopping, best iteration is:\n",
      "[42]\tvalid_0's binary_logloss: 0.401417\tvalid_1's binary_logloss: 0.421042\n",
      "[LightGBM] [Info] Number of positive: 5074, number of negative: 18346\n",
      "[LightGBM] [Warning] Auto-choosing col-wise multi-threading, the overhead of testing was 0.006783 seconds.\n",
      "You can set `force_col_wise=true` to remove the overhead.\n",
      "[LightGBM] [Info] Total Bins 16103\n",
      "[LightGBM] [Info] Number of data points in the train set: 23420, number of used features: 106\n",
      "[LightGBM] [Info] [binary:BoostFromScore]: pavg=0.216652 -> initscore=-1.285282\n",
      "[LightGBM] [Info] Start training from score -1.285282\n",
      "Training until validation scores don't improve for 10 rounds\n"
     ]
    },
    {
     "name": "stderr",
     "output_type": "stream",
     "text": [
      "regularization_factors, val_score: 0.420876:  85%|8| 17/20 [00:04<00:00,  3.51it\u001b[32m[I 2021-11-11 11:40:55,552]\u001b[0m Trial 59 finished with value: 0.42104178088897104 and parameters: {'lambda_l1': 0.006613745474687785, 'lambda_l2': 0.0009966596013827747}. Best is trial 57 with value: 0.42087570575481165.\u001b[0m\n",
      "regularization_factors, val_score: 0.420876:  85%|8| 17/20 [00:04<00:00,  3.51it"
     ]
    },
    {
     "name": "stdout",
     "output_type": "stream",
     "text": [
      "Early stopping, best iteration is:\n",
      "[42]\tvalid_0's binary_logloss: 0.401416\tvalid_1's binary_logloss: 0.421042\n",
      "[LightGBM] [Info] Number of positive: 5074, number of negative: 18346\n",
      "[LightGBM] [Warning] Auto-choosing col-wise multi-threading, the overhead of testing was 0.005988 seconds.\n",
      "You can set `force_col_wise=true` to remove the overhead.\n",
      "[LightGBM] [Info] Total Bins 16103\n",
      "[LightGBM] [Info] Number of data points in the train set: 23420, number of used features: 106\n",
      "[LightGBM] [Info] [binary:BoostFromScore]: pavg=0.216652 -> initscore=-1.285282\n",
      "[LightGBM] [Info] Start training from score -1.285282\n",
      "Training until validation scores don't improve for 10 rounds\n"
     ]
    },
    {
     "name": "stderr",
     "output_type": "stream",
     "text": [
      "regularization_factors, val_score: 0.420876:  90%|9| 18/20 [00:05<00:00,  3.49it\u001b[32m[I 2021-11-11 11:40:55,841]\u001b[0m Trial 60 finished with value: 0.4215529594222871 and parameters: {'lambda_l1': 4.069666465985349, 'lambda_l2': 0.053822501347105}. Best is trial 57 with value: 0.42087570575481165.\u001b[0m\n",
      "regularization_factors, val_score: 0.420876:  90%|9| 18/20 [00:05<00:00,  3.49it"
     ]
    },
    {
     "name": "stdout",
     "output_type": "stream",
     "text": [
      "Early stopping, best iteration is:\n",
      "[42]\tvalid_0's binary_logloss: 0.40188\tvalid_1's binary_logloss: 0.421553\n",
      "[LightGBM] [Info] Number of positive: 5074, number of negative: 18346\n",
      "[LightGBM] [Warning] Auto-choosing col-wise multi-threading, the overhead of testing was 0.004291 seconds.\n",
      "You can set `force_col_wise=true` to remove the overhead.\n",
      "[LightGBM] [Info] Total Bins 16103\n",
      "[LightGBM] [Info] Number of data points in the train set: 23420, number of used features: 106\n",
      "[LightGBM] [Info] [binary:BoostFromScore]: pavg=0.216652 -> initscore=-1.285282\n",
      "[LightGBM] [Info] Start training from score -1.285282\n",
      "Training until validation scores don't improve for 10 rounds\n"
     ]
    },
    {
     "name": "stderr",
     "output_type": "stream",
     "text": [
      "regularization_factors, val_score: 0.420876:  95%|9| 19/20 [00:05<00:00,  3.52it\u001b[32m[I 2021-11-11 11:40:56,120]\u001b[0m Trial 61 finished with value: 0.42087570505248195 and parameters: {'lambda_l1': 0.008732558425717211, 'lambda_l2': 1.2839179406304322e-05}. Best is trial 61 with value: 0.42087570505248195.\u001b[0m\n",
      "regularization_factors, val_score: 0.420876:  95%|9| 19/20 [00:05<00:00,  3.52it"
     ]
    },
    {
     "name": "stdout",
     "output_type": "stream",
     "text": [
      "Early stopping, best iteration is:\n",
      "[42]\tvalid_0's binary_logloss: 0.401386\tvalid_1's binary_logloss: 0.420876\n",
      "[LightGBM] [Info] Number of positive: 5074, number of negative: 18346\n",
      "[LightGBM] [Warning] Auto-choosing col-wise multi-threading, the overhead of testing was 0.004559 seconds.\n",
      "You can set `force_col_wise=true` to remove the overhead.\n",
      "[LightGBM] [Info] Total Bins 16103\n",
      "[LightGBM] [Info] Number of data points in the train set: 23420, number of used features: 106\n",
      "[LightGBM] [Info] [binary:BoostFromScore]: pavg=0.216652 -> initscore=-1.285282\n",
      "[LightGBM] [Info] Start training from score -1.285282\n",
      "Training until validation scores don't improve for 10 rounds\n"
     ]
    },
    {
     "name": "stderr",
     "output_type": "stream",
     "text": [
      "regularization_factors, val_score: 0.420876: 100%|#| 20/20 [00:05<00:00,  3.53it\u001b[32m[I 2021-11-11 11:40:56,402]\u001b[0m Trial 62 finished with value: 0.4208772383822213 and parameters: {'lambda_l1': 2.604105442584847e-05, 'lambda_l2': 1.1396013026270572e-05}. Best is trial 61 with value: 0.42087570505248195.\u001b[0m\n",
      "regularization_factors, val_score: 0.420876: 100%|#| 20/20 [00:05<00:00,  3.54it\n"
     ]
    },
    {
     "name": "stdout",
     "output_type": "stream",
     "text": [
      "Early stopping, best iteration is:\n",
      "[42]\tvalid_0's binary_logloss: 0.401385\tvalid_1's binary_logloss: 0.420877\n"
     ]
    },
    {
     "name": "stderr",
     "output_type": "stream",
     "text": [
      "min_data_in_leaf, val_score: 0.420876:   0%|              | 0/5 [00:00<?, ?it/s]"
     ]
    },
    {
     "name": "stdout",
     "output_type": "stream",
     "text": [
      "[LightGBM] [Info] Number of positive: 5074, number of negative: 18346\n",
      "[LightGBM] [Warning] Auto-choosing col-wise multi-threading, the overhead of testing was 0.004654 seconds.\n",
      "You can set `force_col_wise=true` to remove the overhead.\n",
      "[LightGBM] [Info] Total Bins 16103\n",
      "[LightGBM] [Info] Number of data points in the train set: 23420, number of used features: 106\n",
      "[LightGBM] [Info] [binary:BoostFromScore]: pavg=0.216652 -> initscore=-1.285282\n",
      "[LightGBM] [Info] Start training from score -1.285282\n",
      "Training until validation scores don't improve for 10 rounds\n",
      "Early stopping, best iteration is:\n",
      "[43]\tvalid_0's binary_logloss: 0.401105\tvalid_1's binary_logloss: 0.420963\n"
     ]
    },
    {
     "name": "stderr",
     "output_type": "stream",
     "text": [
      "min_data_in_leaf, val_score: 0.420876:  20%|#2    | 1/5 [00:00<00:01,  3.41it/s]\u001b[32m[I 2021-11-11 11:40:56,699]\u001b[0m Trial 63 finished with value: 0.4209631000261089 and parameters: {'min_child_samples': 5}. Best is trial 63 with value: 0.4209631000261089.\u001b[0m\n",
      "min_data_in_leaf, val_score: 0.420876:  20%|#2    | 1/5 [00:00<00:01,  3.41it/s]"
     ]
    },
    {
     "name": "stdout",
     "output_type": "stream",
     "text": [
      "[LightGBM] [Info] Number of positive: 5074, number of negative: 18346\n",
      "[LightGBM] [Warning] Auto-choosing row-wise multi-threading, the overhead of testing was 0.001790 seconds.\n",
      "You can set `force_row_wise=true` to remove the overhead.\n",
      "And if memory is not enough, you can set `force_col_wise=true`.\n",
      "[LightGBM] [Info] Total Bins 16103\n",
      "[LightGBM] [Info] Number of data points in the train set: 23420, number of used features: 106\n",
      "[LightGBM] [Info] [binary:BoostFromScore]: pavg=0.216652 -> initscore=-1.285282\n",
      "[LightGBM] [Info] Start training from score -1.285282\n",
      "Training until validation scores don't improve for 10 rounds\n"
     ]
    },
    {
     "name": "stderr",
     "output_type": "stream",
     "text": [
      "min_data_in_leaf, val_score: 0.420876:  40%|##4   | 2/5 [00:00<00:00,  3.43it/s]\u001b[32m[I 2021-11-11 11:40:56,990]\u001b[0m Trial 64 finished with value: 0.42091570745345497 and parameters: {'min_child_samples': 50}. Best is trial 64 with value: 0.42091570745345497.\u001b[0m\n",
      "min_data_in_leaf, val_score: 0.420876:  40%|##4   | 2/5 [00:00<00:00,  3.43it/s]"
     ]
    },
    {
     "name": "stdout",
     "output_type": "stream",
     "text": [
      "Early stopping, best iteration is:\n",
      "[42]\tvalid_0's binary_logloss: 0.401443\tvalid_1's binary_logloss: 0.420916\n",
      "[LightGBM] [Info] Number of positive: 5074, number of negative: 18346\n",
      "[LightGBM] [Warning] Auto-choosing col-wise multi-threading, the overhead of testing was 0.004291 seconds.\n",
      "You can set `force_col_wise=true` to remove the overhead.\n",
      "[LightGBM] [Info] Total Bins 16103\n",
      "[LightGBM] [Info] Number of data points in the train set: 23420, number of used features: 106\n",
      "[LightGBM] [Info] [binary:BoostFromScore]: pavg=0.216652 -> initscore=-1.285282\n",
      "[LightGBM] [Info] Start training from score -1.285282\n",
      "Training until validation scores don't improve for 10 rounds\n"
     ]
    },
    {
     "name": "stderr",
     "output_type": "stream",
     "text": [
      "min_data_in_leaf, val_score: 0.420876:  60%|###6  | 3/5 [00:00<00:00,  3.45it/s]\u001b[32m[I 2021-11-11 11:40:57,276]\u001b[0m Trial 65 finished with value: 0.42098662437232925 and parameters: {'min_child_samples': 10}. Best is trial 64 with value: 0.42091570745345497.\u001b[0m\n",
      "min_data_in_leaf, val_score: 0.420876:  60%|###6  | 3/5 [00:00<00:00,  3.45it/s]"
     ]
    },
    {
     "name": "stdout",
     "output_type": "stream",
     "text": [
      "Early stopping, best iteration is:\n",
      "[43]\tvalid_0's binary_logloss: 0.401135\tvalid_1's binary_logloss: 0.420987\n",
      "[LightGBM] [Info] Number of positive: 5074, number of negative: 18346\n",
      "[LightGBM] [Warning] Auto-choosing col-wise multi-threading, the overhead of testing was 0.004484 seconds.\n",
      "You can set `force_col_wise=true` to remove the overhead.\n",
      "[LightGBM] [Info] Total Bins 16103\n",
      "[LightGBM] [Info] Number of data points in the train set: 23420, number of used features: 106\n",
      "[LightGBM] [Info] [binary:BoostFromScore]: pavg=0.216652 -> initscore=-1.285282\n",
      "[LightGBM] [Info] Start training from score -1.285282\n",
      "Training until validation scores don't improve for 10 rounds\n"
     ]
    },
    {
     "name": "stderr",
     "output_type": "stream",
     "text": [
      "min_data_in_leaf, val_score: 0.420876:  80%|####8 | 4/5 [00:01<00:00,  3.42it/s]\u001b[32m[I 2021-11-11 11:40:57,573]\u001b[0m Trial 66 finished with value: 0.42106804698176536 and parameters: {'min_child_samples': 100}. Best is trial 64 with value: 0.42091570745345497.\u001b[0m\n",
      "min_data_in_leaf, val_score: 0.420876:  80%|####8 | 4/5 [00:01<00:00,  3.42it/s]"
     ]
    },
    {
     "name": "stdout",
     "output_type": "stream",
     "text": [
      "Early stopping, best iteration is:\n",
      "[46]\tvalid_0's binary_logloss: 0.400938\tvalid_1's binary_logloss: 0.421068\n",
      "[LightGBM] [Info] Number of positive: 5074, number of negative: 18346\n",
      "[LightGBM] [Warning] Auto-choosing col-wise multi-threading, the overhead of testing was 0.004655 seconds.\n",
      "You can set `force_col_wise=true` to remove the overhead.\n",
      "[LightGBM] [Info] Total Bins 16103\n",
      "[LightGBM] [Info] Number of data points in the train set: 23420, number of used features: 106\n",
      "[LightGBM] [Info] [binary:BoostFromScore]: pavg=0.216652 -> initscore=-1.285282\n",
      "[LightGBM] [Info] Start training from score -1.285282\n",
      "Training until validation scores don't improve for 10 rounds\n"
     ]
    },
    {
     "name": "stderr",
     "output_type": "stream",
     "text": [
      "min_data_in_leaf, val_score: 0.420876: 100%|######| 5/5 [00:01<00:00,  3.44it/s]\u001b[32m[I 2021-11-11 11:40:57,860]\u001b[0m Trial 67 finished with value: 0.4209380427931615 and parameters: {'min_child_samples': 25}. Best is trial 64 with value: 0.42091570745345497.\u001b[0m\n",
      "min_data_in_leaf, val_score: 0.420876: 100%|######| 5/5 [00:01<00:00,  3.43it/s]"
     ]
    },
    {
     "name": "stdout",
     "output_type": "stream",
     "text": [
      "Early stopping, best iteration is:\n",
      "[42]\tvalid_0's binary_logloss: 0.401364\tvalid_1's binary_logloss: 0.420938\n"
     ]
    },
    {
     "name": "stderr",
     "output_type": "stream",
     "text": [
      "\n"
     ]
    }
   ],
   "source": [
    "#ハイパーパラメーターをoptunaで求める際のsplit_data\n",
    "train, test = split_data(r.data_c)\n",
    "train, valid = split_data(train)\n",
    "\n",
    "#学習データ\n",
    "X_train = train.drop([\"rank\",\"date\"], axis=1)\n",
    "y_train = train['rank']\n",
    "\n",
    "#テストデータ\n",
    "X_test = test.drop([\"rank\",\"date\"], axis=1)\n",
    "y_test = test['rank']\n",
    "\n",
    "#検証データ\n",
    "X_valid = valid.drop([\"rank\",\"date\"], axis=1)\n",
    "y_valid = valid[\"rank\"]\n",
    "\n",
    "lgb_train = lgb_o.Dataset(X_train.values, y_train.values)\n",
    "lgb_valid = lgb_o.Dataset(X_valid.values, y_valid.values)\n",
    "\n",
    "params = {\n",
    "    \"objective\":\"binary\",\n",
    "    \"random_state\": 100\n",
    "}\n",
    "lgb_clf_o = lgb_o.train(params, lgb_train,\n",
    "                valid_sets=(lgb_train, lgb_valid),\n",
    "                verbose_eval=100,\n",
    "                early_stopping_rounds=10)"
   ]
  },
  {
   "cell_type": "code",
   "execution_count": 21,
   "id": "1abe3da3-fd28-49f5-aaa0-531f2efc8b39",
   "metadata": {
    "tags": []
   },
   "outputs": [
    {
     "data": {
      "text/plain": [
       "{'objective': 'binary',\n",
       " 'random_state': 100,\n",
       " 'feature_pre_filter': False,\n",
       " 'lambda_l1': 0.008732558425717211,\n",
       " 'lambda_l2': 1.2839179406304322e-05,\n",
       " 'num_leaves': 4,\n",
       " 'feature_fraction': 0.9799999999999999,\n",
       " 'bagging_fraction': 0.8295235542136072,\n",
       " 'bagging_freq': 2,\n",
       " 'min_child_samples': 20,\n",
       " 'num_iterations': 1000}"
      ]
     },
     "execution_count": 21,
     "metadata": {},
     "output_type": "execute_result"
    }
   ],
   "source": [
    "lgb_clf_o.params.pop('early_stopping_round')\n",
    "lgb_clf_o.params.pop('num_iterations')\n",
    "lgb_clf_o.params"
   ]
  },
  {
   "cell_type": "code",
   "execution_count": 391,
   "id": "5f0c0821-2944-4829-931a-c575135542ff",
   "metadata": {},
   "outputs": [],
   "source": [
    "train, test = split_data(r.data_c)\n",
    "\n",
    "X_train = train.drop([\"rank\",\"date\",\"単勝\"], axis=1)\n",
    "y_train = train['rank']\n",
    "X_test = test.drop([\"rank\",\"date\"], axis=1)\n",
    "y_test = test['rank']"
   ]
  },
  {
   "cell_type": "code",
   "execution_count": 365,
   "id": "4273467c-25a2-4fb9-87c6-23b597858ebc",
   "metadata": {},
   "outputs": [],
   "source": [
    "params = {\n",
    " 'objective': 'binary',\n",
    " 'random_state': 100,\n",
    " 'feature_pre_filter': False,\n",
    " 'lambda_l1': 0.008732558425717211,\n",
    " 'lambda_l2': 1.2839179406304322e-05,\n",
    " 'num_leaves': 4,\n",
    " 'feature_fraction': 0.9799999999999999,\n",
    " 'bagging_fraction': 0.8295235542136072,\n",
    " 'bagging_freq': 2,\n",
    " 'min_child_samples': 20,\n",
    "}\n",
    "    "
   ]
  },
  {
   "cell_type": "code",
   "execution_count": 392,
   "id": "1865154b-9405-47df-bfb4-415c0f9ad474",
   "metadata": {},
   "outputs": [
    {
     "name": "stdout",
     "output_type": "stream",
     "text": [
      "[LightGBM] [Warning] bagging_freq is set=2, subsample_freq=0 will be ignored. Current value: bagging_freq=2\n",
      "[LightGBM] [Warning] feature_fraction is set=0.9799999999999999, colsample_bytree=1.0 will be ignored. Current value: feature_fraction=0.9799999999999999\n",
      "[LightGBM] [Warning] bagging_fraction is set=0.8295235542136072, subsample=1.0 will be ignored. Current value: bagging_fraction=0.8295235542136072\n",
      "[LightGBM] [Warning] lambda_l2 is set=1.2839179406304322e-05, reg_lambda=0.0 will be ignored. Current value: lambda_l2=1.2839179406304322e-05\n",
      "[LightGBM] [Warning] lambda_l1 is set=0.008732558425717211, reg_alpha=0.0 will be ignored. Current value: lambda_l1=0.008732558425717211\n"
     ]
    }
   ],
   "source": [
    "lgb_clf = lgb.LGBMClassifier(**params)\n",
    "lgb_clf.fit(X_train.values, y_train.values)\n",
    "me = ModelEvaluator(lgb_clf, [\"Return_tables-Copy1.pickle\"])\n",
    "#me_p = gain(me.tansho_return_proper, X_test)"
   ]
  },
  {
   "cell_type": "code",
   "execution_count": 420,
   "id": "26fa713f-9398-4a9d-91e3-af21c5b91bc9",
   "metadata": {
    "tags": []
   },
   "outputs": [
    {
     "data": {
      "text/html": [
       "<div>\n",
       "<style scoped>\n",
       "    .dataframe tbody tr th:only-of-type {\n",
       "        vertical-align: middle;\n",
       "    }\n",
       "\n",
       "    .dataframe tbody tr th {\n",
       "        vertical-align: top;\n",
       "    }\n",
       "\n",
       "    .dataframe thead th {\n",
       "        text-align: right;\n",
       "    }\n",
       "</style>\n",
       "<table border=\"1\" class=\"dataframe\">\n",
       "  <thead>\n",
       "    <tr style=\"text-align: right;\">\n",
       "      <th></th>\n",
       "      <th>features</th>\n",
       "      <th>importance</th>\n",
       "    </tr>\n",
       "  </thead>\n",
       "  <tbody>\n",
       "    <tr>\n",
       "      <th>4</th>\n",
       "      <td>horse_id</td>\n",
       "      <td>31</td>\n",
       "    </tr>\n",
       "    <tr>\n",
       "      <th>9</th>\n",
       "      <td>着順_5R</td>\n",
       "      <td>28</td>\n",
       "    </tr>\n",
       "    <tr>\n",
       "      <th>5</th>\n",
       "      <td>jockey_id</td>\n",
       "      <td>28</td>\n",
       "    </tr>\n",
       "    <tr>\n",
       "      <th>10</th>\n",
       "      <td>賞金_5R</td>\n",
       "      <td>27</td>\n",
       "    </tr>\n",
       "    <tr>\n",
       "      <th>7</th>\n",
       "      <td>体重</td>\n",
       "      <td>18</td>\n",
       "    </tr>\n",
       "    <tr>\n",
       "      <th>23</th>\n",
       "      <td>着差_allR</td>\n",
       "      <td>13</td>\n",
       "    </tr>\n",
       "    <tr>\n",
       "      <th>3</th>\n",
       "      <td>course_len</td>\n",
       "      <td>13</td>\n",
       "    </tr>\n",
       "    <tr>\n",
       "      <th>11</th>\n",
       "      <td>着差_5R</td>\n",
       "      <td>12</td>\n",
       "    </tr>\n",
       "    <tr>\n",
       "      <th>21</th>\n",
       "      <td>着順_allR</td>\n",
       "      <td>11</td>\n",
       "    </tr>\n",
       "    <tr>\n",
       "      <th>2</th>\n",
       "      <td>斤量</td>\n",
       "      <td>9</td>\n",
       "    </tr>\n",
       "    <tr>\n",
       "      <th>8</th>\n",
       "      <td>体重変化</td>\n",
       "      <td>8</td>\n",
       "    </tr>\n",
       "    <tr>\n",
       "      <th>15</th>\n",
       "      <td>着順_9R</td>\n",
       "      <td>7</td>\n",
       "    </tr>\n",
       "    <tr>\n",
       "      <th>31</th>\n",
       "      <td>peds_4</td>\n",
       "      <td>7</td>\n",
       "    </tr>\n",
       "    <tr>\n",
       "      <th>1</th>\n",
       "      <td>馬番</td>\n",
       "      <td>6</td>\n",
       "    </tr>\n",
       "    <tr>\n",
       "      <th>16</th>\n",
       "      <td>賞金_9R</td>\n",
       "      <td>5</td>\n",
       "    </tr>\n",
       "    <tr>\n",
       "      <th>36</th>\n",
       "      <td>peds_9</td>\n",
       "      <td>4</td>\n",
       "    </tr>\n",
       "    <tr>\n",
       "      <th>67</th>\n",
       "      <td>peds_40</td>\n",
       "      <td>4</td>\n",
       "    </tr>\n",
       "    <tr>\n",
       "      <th>32</th>\n",
       "      <td>peds_5</td>\n",
       "      <td>4</td>\n",
       "    </tr>\n",
       "    <tr>\n",
       "      <th>47</th>\n",
       "      <td>peds_20</td>\n",
       "      <td>4</td>\n",
       "    </tr>\n",
       "    <tr>\n",
       "      <th>0</th>\n",
       "      <td>枠番</td>\n",
       "      <td>4</td>\n",
       "    </tr>\n",
       "  </tbody>\n",
       "</table>\n",
       "</div>"
      ],
      "text/plain": [
       "      features  importance\n",
       "4     horse_id          31\n",
       "9        着順_5R          28\n",
       "5    jockey_id          28\n",
       "10       賞金_5R          27\n",
       "7           体重          18\n",
       "23     着差_allR          13\n",
       "3   course_len          13\n",
       "11       着差_5R          12\n",
       "21     着順_allR          11\n",
       "2           斤量           9\n",
       "8         体重変化           8\n",
       "15       着順_9R           7\n",
       "31      peds_4           7\n",
       "1           馬番           6\n",
       "16       賞金_9R           5\n",
       "36      peds_9           4\n",
       "67     peds_40           4\n",
       "32      peds_5           4\n",
       "47     peds_20           4\n",
       "0           枠番           4"
      ]
     },
     "execution_count": 420,
     "metadata": {},
     "output_type": "execute_result"
    }
   ],
   "source": [
    "me.feature_importance(X_train)"
   ]
  },
  {
   "cell_type": "code",
   "execution_count": 421,
   "id": "7548eeff-ab18-4e0a-9183-d1fa219d8e13",
   "metadata": {},
   "outputs": [
    {
     "data": {
      "application/vnd.jupyter.widget-view+json": {
       "model_id": "5235aada8c2d40ca94485c51b6e75d63",
       "version_major": 2,
       "version_minor": 0
      },
      "text/plain": [
       "  0%|          | 0/100 [00:00<?, ?it/s]"
      ]
     },
     "metadata": {},
     "output_type": "display_data"
    },
    {
     "name": "stderr",
     "output_type": "stream",
     "text": [
      "/var/folders/tm/fn98hw1541vg9yshhxdqfgc80000gn/T/ipykernel_99170/392476289.py:96: RuntimeWarning: invalid value encountered in double_scalars\n",
      "  return_rate = n_hits / (1/ pred_table['単勝']).sum()\n"
     ]
    }
   ],
   "source": [
    "#me_p = gain(me.tansho_return, X_test)\n",
    "me_p2 = gain(me.tansho_return_proper, X_test)"
   ]
  },
  {
   "cell_type": "code",
   "execution_count": 422,
   "id": "66f59ae0-8512-44b7-a83b-7235884c9d2e",
   "metadata": {},
   "outputs": [
    {
     "data": {
      "text/html": [
       "<div>\n",
       "<style scoped>\n",
       "    .dataframe tbody tr th:only-of-type {\n",
       "        vertical-align: middle;\n",
       "    }\n",
       "\n",
       "    .dataframe tbody tr th {\n",
       "        vertical-align: top;\n",
       "    }\n",
       "\n",
       "    .dataframe thead th {\n",
       "        text-align: right;\n",
       "    }\n",
       "</style>\n",
       "<table border=\"1\" class=\"dataframe\">\n",
       "  <thead>\n",
       "    <tr style=\"text-align: right;\">\n",
       "      <th></th>\n",
       "      <th>return_rate</th>\n",
       "      <th>n_hits</th>\n",
       "      <th>std</th>\n",
       "      <th>n_bets</th>\n",
       "    </tr>\n",
       "  </thead>\n",
       "  <tbody>\n",
       "    <tr>\n",
       "      <th>0.50</th>\n",
       "      <td>0.815760</td>\n",
       "      <td>745.0</td>\n",
       "      <td>0.015848</td>\n",
       "      <td>5222.0</td>\n",
       "    </tr>\n",
       "    <tr>\n",
       "      <th>0.53</th>\n",
       "      <td>0.817425</td>\n",
       "      <td>684.0</td>\n",
       "      <td>0.018227</td>\n",
       "      <td>4470.0</td>\n",
       "    </tr>\n",
       "    <tr>\n",
       "      <th>0.56</th>\n",
       "      <td>0.816267</td>\n",
       "      <td>618.0</td>\n",
       "      <td>0.020867</td>\n",
       "      <td>3788.0</td>\n",
       "    </tr>\n",
       "    <tr>\n",
       "      <th>0.59</th>\n",
       "      <td>0.816001</td>\n",
       "      <td>546.0</td>\n",
       "      <td>0.024002</td>\n",
       "      <td>3126.0</td>\n",
       "    </tr>\n",
       "    <tr>\n",
       "      <th>0.62</th>\n",
       "      <td>0.839322</td>\n",
       "      <td>478.0</td>\n",
       "      <td>0.028058</td>\n",
       "      <td>2487.0</td>\n",
       "    </tr>\n",
       "    <tr>\n",
       "      <th>0.65</th>\n",
       "      <td>0.817497</td>\n",
       "      <td>384.0</td>\n",
       "      <td>0.032624</td>\n",
       "      <td>1894.0</td>\n",
       "    </tr>\n",
       "    <tr>\n",
       "      <th>0.68</th>\n",
       "      <td>0.832687</td>\n",
       "      <td>307.0</td>\n",
       "      <td>0.038531</td>\n",
       "      <td>1380.0</td>\n",
       "    </tr>\n",
       "    <tr>\n",
       "      <th>0.71</th>\n",
       "      <td>0.789170</td>\n",
       "      <td>210.0</td>\n",
       "      <td>0.046131</td>\n",
       "      <td>938.0</td>\n",
       "    </tr>\n",
       "    <tr>\n",
       "      <th>0.74</th>\n",
       "      <td>0.806199</td>\n",
       "      <td>153.0</td>\n",
       "      <td>0.055288</td>\n",
       "      <td>622.0</td>\n",
       "    </tr>\n",
       "    <tr>\n",
       "      <th>0.77</th>\n",
       "      <td>0.821413</td>\n",
       "      <td>108.0</td>\n",
       "      <td>0.066819</td>\n",
       "      <td>396.0</td>\n",
       "    </tr>\n",
       "    <tr>\n",
       "      <th>0.80</th>\n",
       "      <td>0.824157</td>\n",
       "      <td>76.0</td>\n",
       "      <td>0.079163</td>\n",
       "      <td>255.0</td>\n",
       "    </tr>\n",
       "    <tr>\n",
       "      <th>0.83</th>\n",
       "      <td>0.868739</td>\n",
       "      <td>44.0</td>\n",
       "      <td>0.106296</td>\n",
       "      <td>128.0</td>\n",
       "    </tr>\n",
       "    <tr>\n",
       "      <th>0.86</th>\n",
       "      <td>0.791656</td>\n",
       "      <td>23.0</td>\n",
       "      <td>0.136238</td>\n",
       "      <td>70.0</td>\n",
       "    </tr>\n",
       "    <tr>\n",
       "      <th>0.89</th>\n",
       "      <td>0.697351</td>\n",
       "      <td>10.0</td>\n",
       "      <td>0.186956</td>\n",
       "      <td>33.0</td>\n",
       "    </tr>\n",
       "    <tr>\n",
       "      <th>0.92</th>\n",
       "      <td>1.129815</td>\n",
       "      <td>7.0</td>\n",
       "      <td>0.301956</td>\n",
       "      <td>13.0</td>\n",
       "    </tr>\n",
       "    <tr>\n",
       "      <th>0.95</th>\n",
       "      <td>1.738603</td>\n",
       "      <td>4.0</td>\n",
       "      <td>0.434651</td>\n",
       "      <td>5.0</td>\n",
       "    </tr>\n",
       "  </tbody>\n",
       "</table>\n",
       "</div>"
      ],
      "text/plain": [
       "      return_rate  n_hits       std  n_bets\n",
       "0.50     0.815760   745.0  0.015848  5222.0\n",
       "0.53     0.817425   684.0  0.018227  4470.0\n",
       "0.56     0.816267   618.0  0.020867  3788.0\n",
       "0.59     0.816001   546.0  0.024002  3126.0\n",
       "0.62     0.839322   478.0  0.028058  2487.0\n",
       "0.65     0.817497   384.0  0.032624  1894.0\n",
       "0.68     0.832687   307.0  0.038531  1380.0\n",
       "0.71     0.789170   210.0  0.046131   938.0\n",
       "0.74     0.806199   153.0  0.055288   622.0\n",
       "0.77     0.821413   108.0  0.066819   396.0\n",
       "0.80     0.824157    76.0  0.079163   255.0\n",
       "0.83     0.868739    44.0  0.106296   128.0\n",
       "0.86     0.791656    23.0  0.136238    70.0\n",
       "0.89     0.697351    10.0  0.186956    33.0\n",
       "0.92     1.129815     7.0  0.301956    13.0\n",
       "0.95     1.738603     4.0  0.434651     5.0"
      ]
     },
     "execution_count": 422,
     "metadata": {},
     "output_type": "execute_result"
    }
   ],
   "source": [
    "me_p2"
   ]
  },
  {
   "cell_type": "code",
   "execution_count": 395,
   "id": "34ccef2d-bd77-47fd-bc47-c6ce26d2a8c3",
   "metadata": {},
   "outputs": [
    {
     "name": "stderr",
     "output_type": "stream",
     "text": [
      "No handles with labels found to put in legend.\n"
     ]
    },
    {
     "data": {
      "text/plain": [
       "<matplotlib.legend.Legend at 0x7fa68ce14fd0>"
      ]
     },
     "execution_count": 395,
     "metadata": {},
     "output_type": "execute_result"
    },
    {
     "data": {
      "image/png": "[encoded data removed]",
      "text/plain": [
       "<Figure size 432x288 with 1 Axes>"
      ]
     },
     "metadata": {
      "needs_background": "light"
     },
     "output_type": "display_data"
    }
   ],
   "source": [
    "plt.fill_between(me_p.index, y1=me_p['return_rate']-me_p[\"std\"],\\\n",
    "         y2=me_p[\"return_rate\"]+me_p[\"std\"], alpha=0.3)\n",
    "plt.plot(me_p.index, me_p[\"return_rate\"])\n",
    "plt.grid()\n",
    "plt.legend()"
   ]
  },
  {
   "cell_type": "code",
   "execution_count": 417,
   "id": "fd1f56f2-71c6-43ef-a0d6-db91ab846b76",
   "metadata": {},
   "outputs": [
    {
     "name": "stderr",
     "output_type": "stream",
     "text": [
      "No handles with labels found to put in legend.\n"
     ]
    },
    {
     "data": {
      "text/plain": [
       "<matplotlib.legend.Legend at 0x7fa624de9a30>"
      ]
     },
     "execution_count": 417,
     "metadata": {},
     "output_type": "execute_result"
    },
    {
     "data": {
      "image/png": "[encoded data removed]",
      "text/plain": [
       "<Figure size 432x288 with 1 Axes>"
      ]
     },
     "metadata": {
      "needs_background": "light"
     },
     "output_type": "display_data"
    }
   ],
   "source": [
    "plt.fill_between(me_p2.index, y1=me_p2['return_rate']-me_p2[\"std\"],\\\n",
    "         y2=me_p2[\"return_rate\"]+me_p2[\"std\"], alpha=0.3)\n",
    "plt.plot(me_p2.index, me_p2[\"return_rate\"])\n",
    "plt.grid()\n",
    "plt.legend()"
   ]
  },
  {
   "cell_type": "code",
   "execution_count": 59,
   "id": "b993feac-5abd-471a-9292-ab615545e1e9",
   "metadata": {},
   "outputs": [
    {
     "data": {
      "text/plain": [
       "<matplotlib.legend.Legend at 0x7fa61f9b9340>"
      ]
     },
     "execution_count": 59,
     "metadata": {},
     "output_type": "execute_result"
    },
    {
     "data": {
      "image/png": "[encoded data removed]",
      "text/plain": [
       "<Figure size 432x288 with 1 Axes>"
      ]
     },
     "metadata": {
      "needs_background": "light"
     },
     "output_type": "display_data"
    }
   ],
   "source": [
    "plt.plot(me_p.index, me_p['return_rate'], label='add_tyakusa&tuka')\n",
    "plt.xlabel('threshold')\n",
    "plt.ylabel('return_rate')\n",
    "plt.grid()\n",
    "plt.legend()"
   ]
  },
  {
   "cell_type": "code",
   "execution_count": 26,
   "id": "76cafcaa-8145-47b2-9e99-5533fe23edf5",
   "metadata": {},
   "outputs": [
    {
     "data": {
      "text/html": [
       "<div>\n",
       "<style scoped>\n",
       "    .dataframe tbody tr th:only-of-type {\n",
       "        vertical-align: middle;\n",
       "    }\n",
       "\n",
       "    .dataframe tbody tr th {\n",
       "        vertical-align: top;\n",
       "    }\n",
       "\n",
       "    .dataframe thead th {\n",
       "        text-align: right;\n",
       "    }\n",
       "</style>\n",
       "<table border=\"1\" class=\"dataframe\">\n",
       "  <thead>\n",
       "    <tr style=\"text-align: right;\">\n",
       "      <th></th>\n",
       "      <th>features</th>\n",
       "      <th>importance</th>\n",
       "    </tr>\n",
       "  </thead>\n",
       "  <tbody>\n",
       "    <tr>\n",
       "      <th>5</th>\n",
       "      <td>jockey_id</td>\n",
       "      <td>140</td>\n",
       "    </tr>\n",
       "    <tr>\n",
       "      <th>10</th>\n",
       "      <td>賞金_5R</td>\n",
       "      <td>129</td>\n",
       "    </tr>\n",
       "    <tr>\n",
       "      <th>4</th>\n",
       "      <td>horse_id</td>\n",
       "      <td>101</td>\n",
       "    </tr>\n",
       "    <tr>\n",
       "      <th>9</th>\n",
       "      <td>着順_5R</td>\n",
       "      <td>73</td>\n",
       "    </tr>\n",
       "    <tr>\n",
       "      <th>7</th>\n",
       "      <td>体重</td>\n",
       "      <td>71</td>\n",
       "    </tr>\n",
       "    <tr>\n",
       "      <th>12</th>\n",
       "      <td>first_corner_5R</td>\n",
       "      <td>63</td>\n",
       "    </tr>\n",
       "    <tr>\n",
       "      <th>3</th>\n",
       "      <td>course_len</td>\n",
       "      <td>58</td>\n",
       "    </tr>\n",
       "    <tr>\n",
       "      <th>18</th>\n",
       "      <td>first_corner_9R</td>\n",
       "      <td>57</td>\n",
       "    </tr>\n",
       "    <tr>\n",
       "      <th>55</th>\n",
       "      <td>peds_28</td>\n",
       "      <td>56</td>\n",
       "    </tr>\n",
       "    <tr>\n",
       "      <th>1</th>\n",
       "      <td>馬番</td>\n",
       "      <td>55</td>\n",
       "    </tr>\n",
       "    <tr>\n",
       "      <th>23</th>\n",
       "      <td>着差_allR</td>\n",
       "      <td>53</td>\n",
       "    </tr>\n",
       "    <tr>\n",
       "      <th>8</th>\n",
       "      <td>体重変化</td>\n",
       "      <td>52</td>\n",
       "    </tr>\n",
       "    <tr>\n",
       "      <th>11</th>\n",
       "      <td>着差_5R</td>\n",
       "      <td>52</td>\n",
       "    </tr>\n",
       "    <tr>\n",
       "      <th>56</th>\n",
       "      <td>peds_29</td>\n",
       "      <td>52</td>\n",
       "    </tr>\n",
       "    <tr>\n",
       "      <th>52</th>\n",
       "      <td>peds_25</td>\n",
       "      <td>50</td>\n",
       "    </tr>\n",
       "    <tr>\n",
       "      <th>85</th>\n",
       "      <td>peds_58</td>\n",
       "      <td>49</td>\n",
       "    </tr>\n",
       "    <tr>\n",
       "      <th>88</th>\n",
       "      <td>peds_61</td>\n",
       "      <td>47</td>\n",
       "    </tr>\n",
       "    <tr>\n",
       "      <th>27</th>\n",
       "      <td>peds_0</td>\n",
       "      <td>47</td>\n",
       "    </tr>\n",
       "    <tr>\n",
       "      <th>22</th>\n",
       "      <td>賞金_allR</td>\n",
       "      <td>46</td>\n",
       "    </tr>\n",
       "    <tr>\n",
       "      <th>39</th>\n",
       "      <td>peds_12</td>\n",
       "      <td>45</td>\n",
       "    </tr>\n",
       "  </tbody>\n",
       "</table>\n",
       "</div>"
      ],
      "text/plain": [
       "           features  importance\n",
       "5         jockey_id         140\n",
       "10            賞金_5R         129\n",
       "4          horse_id         101\n",
       "9             着順_5R          73\n",
       "7                体重          71\n",
       "12  first_corner_5R          63\n",
       "3        course_len          58\n",
       "18  first_corner_9R          57\n",
       "55          peds_28          56\n",
       "1                馬番          55\n",
       "23          着差_allR          53\n",
       "8              体重変化          52\n",
       "11            着差_5R          52\n",
       "56          peds_29          52\n",
       "52          peds_25          50\n",
       "85          peds_58          49\n",
       "88          peds_61          47\n",
       "27           peds_0          47\n",
       "22          賞金_allR          46\n",
       "39          peds_12          45"
      ]
     },
     "execution_count": 26,
     "metadata": {},
     "output_type": "execute_result"
    }
   ],
   "source": [
    "me.feature_importance(X_train)"
   ]
  },
  {
   "cell_type": "code",
   "execution_count": 193,
   "id": "971e0a2d-15b4-4f16-905d-da05b03736f8",
   "metadata": {},
   "outputs": [
    {
     "data": {
      "image/png": "[encoded data removed]",
      "text/plain": [
       "<Figure size 720x576 with 1 Axes>"
      ]
     },
     "metadata": {
      "needs_background": "light"
     },
     "output_type": "display_data"
    }
   ],
   "source": [
    "plt.figure(figsize=(10,8))\n",
    "me_p.rename(\"baseline\").plot(legend=True)\n",
    "\n",
    "plt.grid()"
   ]
  },
  {
   "cell_type": "markdown",
   "id": "1aac7c11-5999-482c-8cca-89c4a931c9b2",
   "metadata": {},
   "source": [
    "# 開催日、距離の特徴量の追加"
   ]
  },
  {
   "cell_type": "code",
   "execution_count": 430,
   "id": "537824de-73c7-43a1-8fcb-a715f2ac7452",
   "metadata": {},
   "outputs": [],
   "source": [
    "class Horse_Results:\n",
    "    def __init__(self, horse_results):\n",
    "        self.horse_results = horse_results[['日付','着順','賞金','着差','通過','開催','距離']]\n",
    "        self.preprocessing()\n",
    "        #self.horse_results.rename(columns={'着順':'着順_ave','賞金':'賞金_ave'}, inplace=True)\n",
    "    \n",
    "    # path_listはHorse_Results.pickle名\n",
    "    @classmethod\n",
    "    def read_pickle(cls, path_list):\n",
    "        df = pd.concat([pd.read_pickle(path) for path in path_list])\n",
    "        return cls(df)\n",
    "    # 使い方\n",
    "    # Horse_Results.read_pickle([pickle名])\n",
    "    \n",
    "    @staticmethod\n",
    "    def scrape(horse_id_list):\n",
    "        #horse_idをkeyにしてDataFrame型を格納\n",
    "        horse_results = {}\n",
    "        for horse_id in tqdm(horse_id_list):\n",
    "            try:\n",
    "                url = 'https://db.netkeiba.com/horse/' + horse_id\n",
    "                df = pd.read_html(url)[3]\n",
    "                #受賞歴がある馬の場合、3番目に受賞歴テーブルが来るため、4番目のデータを取得する\n",
    "                if df.columns[0]=='受賞歴':\n",
    "                    df = pd.read_html(url)[4]\n",
    "                df.index = [horse_id] * len(df)\n",
    "                horse_results[horse_id] = df\n",
    "                time.sleep(1)\n",
    "            except IndexError:\n",
    "                continue\n",
    "            except Exception as e:\n",
    "                print(e)\n",
    "                break\n",
    "            except:\n",
    "                break\n",
    "\n",
    "        #pd.DataFrame型にして一つのデータにまとめる        \n",
    "        horse_results_df = pd.concat([horse_results[key] for key in horse_results])\n",
    "\n",
    "        return horse_results_df\n",
    "        \n",
    "        \n",
    "    def preprocessing(self):\n",
    "        df = self.horse_results.copy()\n",
    "\n",
    "        # 着順に数字以外の文字列が含まれているものを取り除く\n",
    "        df['着順'] = pd.to_numeric(df['着順'], errors='coerce')\n",
    "        df.dropna(subset=['着順'], inplace=True)\n",
    "        df['着順'] = df['着順'].astype(int)\n",
    "\n",
    "        df[\"date\"] = pd.to_datetime(df[\"日付\"])\n",
    "        df.drop(['日付'], axis=1, inplace=True)\n",
    "        \n",
    "        #賞金のNaNを0で埋める\n",
    "        df['賞金'].fillna(0, inplace=True)\n",
    "        \n",
    "        #1着の着差を0にする\n",
    "        df['着差'] = df['着差'].map(lambda x: 0 if x<0 else x)\n",
    "        \n",
    "        #レース展開データ\n",
    "        #n=1: 最初のコーナー位置, n=4: 最終コーナー位置\n",
    "        def corner(x, n):\n",
    "            if type(x) != str:\n",
    "                return x\n",
    "            elif n==4:\n",
    "                return int(re.findall(r'\\d+', x)[-1])\n",
    "            elif n==1:\n",
    "                return int(re.findall(r'\\d+', x)[0])\n",
    "        df['first_corner'] = df['通過'].map(lambda x: corner(x, 1))\n",
    "        df['final_corner'] = df['通過'].map(lambda x: corner(x, 4))\n",
    "        \n",
    "        df['final_to_rank'] = df['final_corner'] - df['着順']\n",
    "        df['first_to_rank'] = df['first_corner'] - df['着順']\n",
    "        df['first_to_final'] = df['first_corner'] - df['final_corner']\n",
    "        \n",
    "        #開催場所\n",
    "        df['開催'] = df['開催'].str.extract(r'(\\D+)')[0].map(place_dict).fillna('11')\n",
    "        #race_type\n",
    "        df['race_type'] = df['距離'].str.extract(r'(\\D+)')[0].map(race_type_dict)\n",
    "        #距離\n",
    "        df['course_len'] = df['距離'].str.extract(r'(\\d+)').astype(int) // 100\n",
    "        df.drop(['距離'], axis=1, inplace=True)\n",
    "        \n",
    "        #インデックス名を与える\n",
    "        df.index.name = 'horse_id'\n",
    "    \n",
    "        self.horse_results = df\n",
    "        self.target_list = ['着順', '賞金', '着差', 'first_corner',\n",
    "                            'first_to_rank', 'first_to_final','final_to_rank']\n",
    "\n",
    "        \n",
    "    def average(self, horse_id_list, date, n_samples='all'):\n",
    "        target_df = self.horse_results.loc[horse_id_list]\n",
    "        \n",
    "        #過去何走分取り出すか指定\n",
    "        if n_samples == 'all':\n",
    "            filtered_df = target_df[target_df['date'] < date]\n",
    "        elif n_samples > 0:\n",
    "            filtered_df = target_df[target_df['date'] < date].\\\n",
    "                sort_values('date', ascending=False).groupby(level=0).head(n_samples)\n",
    "        else:\n",
    "            raise Exception('n_samples must be >0')\n",
    "          \n",
    "        self.average_dict = {}\n",
    "        self.average_dict['non_category'] = filtered_df.groupby(level=0)[self.target_list]\\\n",
    "            .mean().add_suffix('_{}R'.format(n_samples))\n",
    "        for column in ['course_len', 'race_type', '開催']:\n",
    "            self.average_dict[column] = filtered_df.groupby(['horse_id', column])\\\n",
    "                [self.target_list].mean().add_suffix('_{}_{}R'.format(column, n_samples))\n",
    "\n",
    "    \n",
    "    def merge(self, results, date, n_samples='all'):\n",
    "        df = results[results['date']==date]\n",
    "        horse_id_list = df['horse_id']\n",
    "        self.average(horse_id_list, date, n_samples)\n",
    "        merged_df = df.merge(self.average_dict['non_category'], left_on='horse_id',\n",
    "                             right_index=True, how='left')\n",
    "        for column in ['course_len','race_type', '開催']:\n",
    "            merged_df = merged_df.merge(self.average_dict[column], \n",
    "                                        left_on=['horse_id', column],\n",
    "                                        right_index=True, how='left')\n",
    "        return merged_df\n",
    "    \n",
    "    def merge_all(self, results, n_samples='all'):\n",
    "        date_list = results['date'].unique()\n",
    "        merged_df = pd.concat(\n",
    "            [self.merge(results, date, n_samples) for date in tqdm(date_list)]\n",
    "        )\n",
    "        return merged_df\n",
    "    \n",
    "   "
   ]
  },
  {
   "cell_type": "code",
   "execution_count": 61,
   "id": "651aed79-9ad2-4170-9c6e-dd2aaceb9065",
   "metadata": {
    "scrolled": true,
    "tags": []
   },
   "outputs": [],
   "source": [
    "rr = r.data_p"
   ]
  },
  {
   "cell_type": "code",
   "execution_count": 431,
   "id": "9f7685a8-1a96-416d-b7e7-1dc7d396194d",
   "metadata": {
    "scrolled": true,
    "tags": []
   },
   "outputs": [
    {
     "data": {
      "application/vnd.jupyter.widget-view+json": {
       "model_id": "b71cbab18e2948fc951daea49545787a",
       "version_major": 2,
       "version_minor": 0
      },
      "text/plain": [
       "  0%|          | 0/110 [00:00<?, ?it/s]"
      ]
     },
     "metadata": {},
     "output_type": "display_data"
    },
    {
     "data": {
      "application/vnd.jupyter.widget-view+json": {
       "model_id": "c25d5816a9d2486bb7818f106e2402f1",
       "version_major": 2,
       "version_minor": 0
      },
      "text/plain": [
       "  0%|          | 0/110 [00:00<?, ?it/s]"
      ]
     },
     "metadata": {},
     "output_type": "display_data"
    },
    {
     "data": {
      "application/vnd.jupyter.widget-view+json": {
       "model_id": "93ec9c019b9d47c498f965507c3f249d",
       "version_major": 2,
       "version_minor": 0
      },
      "text/plain": [
       "  0%|          | 0/110 [00:00<?, ?it/s]"
      ]
     },
     "metadata": {},
     "output_type": "display_data"
    }
   ],
   "source": [
    "hr = Horse_Results(horse_results)\n",
    "r = Results(results_19)\n",
    "r.preprocessing()\n",
    "r.merge_horse_results(hr)"
   ]
  },
  {
   "cell_type": "code",
   "execution_count": 432,
   "id": "79cf96e7-0a87-4412-88d3-c43f22781e25",
   "metadata": {},
   "outputs": [],
   "source": [
    "p = Peds(n_peds_all)\n",
    "p.encode()"
   ]
  },
  {
   "cell_type": "code",
   "execution_count": 433,
   "id": "cc756233-e0ac-4ee5-8282-6f1836d31fe6",
   "metadata": {},
   "outputs": [],
   "source": [
    "r.merge_peds(p.peds_e)\n",
    "r.process_categorical()"
   ]
  },
  {
   "cell_type": "code",
   "execution_count": 227,
   "id": "04592273-d21a-42a7-a63c-34e6ed2706f3",
   "metadata": {
    "scrolled": true,
    "tags": []
   },
   "outputs": [
    {
     "name": "stderr",
     "output_type": "stream",
     "text": [
      "\u001b[32m[I 2021-11-27 17:53:07,820]\u001b[0m A new study created in memory with name: no-name-809c6edd-9e31-40a2-9daa-b912fc8d632c\u001b[0m\n",
      "feature_fraction, val_score: inf:   0%|                   | 0/7 [00:00<?, ?it/s]"
     ]
    },
    {
     "name": "stdout",
     "output_type": "stream",
     "text": [
      "[LightGBM] [Info] Number of positive: 5074, number of negative: 18346\n",
      "[LightGBM] [Warning] Auto-choosing col-wise multi-threading, the overhead of testing was 0.014756 seconds.\n",
      "You can set `force_col_wise=true` to remove the overhead.\n",
      "[LightGBM] [Info] Total Bins 30048\n",
      "[LightGBM] [Info] Number of data points in the train set: 23420, number of used features: 172\n",
      "[LightGBM] [Info] [binary:BoostFromScore]: pavg=0.216652 -> initscore=-1.285282\n",
      "[LightGBM] [Info] Start training from score -1.285282\n",
      "Training until validation scores don't improve for 10 rounds\n"
     ]
    },
    {
     "name": "stderr",
     "output_type": "stream",
     "text": [
      "feature_fraction, val_score: 0.424382:  14%|8     | 1/7 [00:00<00:04,  1.33it/s]\u001b[32m[I 2021-11-27 17:53:08,574]\u001b[0m Trial 0 finished with value: 0.4243823904168617 and parameters: {'feature_fraction': 1.0}. Best is trial 0 with value: 0.4243823904168617.\u001b[0m\n",
      "feature_fraction, val_score: 0.424382:  14%|8     | 1/7 [00:00<00:04,  1.33it/s]"
     ]
    },
    {
     "name": "stdout",
     "output_type": "stream",
     "text": [
      "Early stopping, best iteration is:\n",
      "[30]\tvalid_0's binary_logloss: 0.364598\tvalid_1's binary_logloss: 0.424382\n",
      "[LightGBM] [Info] Number of positive: 5074, number of negative: 18346\n",
      "[LightGBM] [Warning] Auto-choosing col-wise multi-threading, the overhead of testing was 0.009637 seconds.\n",
      "You can set `force_col_wise=true` to remove the overhead.\n",
      "[LightGBM] [Info] Total Bins 30048\n",
      "[LightGBM] [Info] Number of data points in the train set: 23420, number of used features: 172\n",
      "[LightGBM] [Info] [binary:BoostFromScore]: pavg=0.216652 -> initscore=-1.285282\n",
      "[LightGBM] [Info] Start training from score -1.285282\n",
      "Training until validation scores don't improve for 10 rounds\n"
     ]
    },
    {
     "name": "stderr",
     "output_type": "stream",
     "text": [
      "feature_fraction, val_score: 0.424382:  29%|#7    | 2/7 [00:01<00:03,  1.43it/s]\u001b[32m[I 2021-11-27 17:53:09,238]\u001b[0m Trial 1 finished with value: 0.42569700595744747 and parameters: {'feature_fraction': 0.6}. Best is trial 0 with value: 0.4243823904168617.\u001b[0m\n",
      "feature_fraction, val_score: 0.424382:  29%|#7    | 2/7 [00:01<00:03,  1.43it/s]"
     ]
    },
    {
     "name": "stdout",
     "output_type": "stream",
     "text": [
      "Early stopping, best iteration is:\n",
      "[37]\tvalid_0's binary_logloss: 0.359146\tvalid_1's binary_logloss: 0.425697\n",
      "[LightGBM] [Info] Number of positive: 5074, number of negative: 18346\n",
      "[LightGBM] [Warning] Auto-choosing col-wise multi-threading, the overhead of testing was 0.011053 seconds.\n",
      "You can set `force_col_wise=true` to remove the overhead.\n",
      "[LightGBM] [Info] Total Bins 30048\n",
      "[LightGBM] [Info] Number of data points in the train set: 23420, number of used features: 172\n",
      "[LightGBM] [Info] [binary:BoostFromScore]: pavg=0.216652 -> initscore=-1.285282\n",
      "[LightGBM] [Info] Start training from score -1.285282\n",
      "Training until validation scores don't improve for 10 rounds\n"
     ]
    },
    {
     "name": "stderr",
     "output_type": "stream",
     "text": [
      "feature_fraction, val_score: 0.424382:  43%|##5   | 3/7 [00:01<00:02,  1.60it/s]\u001b[32m[I 2021-11-27 17:53:09,778]\u001b[0m Trial 2 finished with value: 0.43053467719469735 and parameters: {'feature_fraction': 0.4}. Best is trial 0 with value: 0.4243823904168617.\u001b[0m\n",
      "feature_fraction, val_score: 0.424382:  43%|##5   | 3/7 [00:01<00:02,  1.60it/s]"
     ]
    },
    {
     "name": "stdout",
     "output_type": "stream",
     "text": [
      "Early stopping, best iteration is:\n",
      "[36]\tvalid_0's binary_logloss: 0.36955\tvalid_1's binary_logloss: 0.430535\n",
      "[LightGBM] [Info] Number of positive: 5074, number of negative: 18346\n",
      "[LightGBM] [Warning] Auto-choosing col-wise multi-threading, the overhead of testing was 0.012752 seconds.\n",
      "You can set `force_col_wise=true` to remove the overhead.\n",
      "[LightGBM] [Info] Total Bins 30048\n",
      "[LightGBM] [Info] Number of data points in the train set: 23420, number of used features: 172\n",
      "[LightGBM] [Info] [binary:BoostFromScore]: pavg=0.216652 -> initscore=-1.285282\n",
      "[LightGBM] [Info] Start training from score -1.285282\n",
      "Training until validation scores don't improve for 10 rounds\n"
     ]
    },
    {
     "name": "stderr",
     "output_type": "stream",
     "text": [
      "feature_fraction, val_score: 0.423564:  57%|###4  | 4/7 [00:02<00:01,  1.58it/s]\u001b[32m[I 2021-11-27 17:53:10,417]\u001b[0m Trial 3 finished with value: 0.42356432486848095 and parameters: {'feature_fraction': 0.7}. Best is trial 3 with value: 0.42356432486848095.\u001b[0m\n",
      "feature_fraction, val_score: 0.423564:  57%|###4  | 4/7 [00:02<00:01,  1.58it/s]"
     ]
    },
    {
     "name": "stdout",
     "output_type": "stream",
     "text": [
      "Early stopping, best iteration is:\n",
      "[37]\tvalid_0's binary_logloss: 0.358021\tvalid_1's binary_logloss: 0.423564\n",
      "[LightGBM] [Info] Number of positive: 5074, number of negative: 18346\n",
      "[LightGBM] [Warning] Auto-choosing col-wise multi-threading, the overhead of testing was 0.012395 seconds.\n",
      "You can set `force_col_wise=true` to remove the overhead.\n",
      "[LightGBM] [Info] Total Bins 30048\n",
      "[LightGBM] [Info] Number of data points in the train set: 23420, number of used features: 172\n",
      "[LightGBM] [Info] [binary:BoostFromScore]: pavg=0.216652 -> initscore=-1.285282\n",
      "[LightGBM] [Info] Start training from score -1.285282\n",
      "Training until validation scores don't improve for 10 rounds\n"
     ]
    },
    {
     "ename": "KeyboardInterrupt",
     "evalue": "",
     "output_type": "error",
     "traceback": [
      "\u001b[0;31m---------------------------------------------------------------------------\u001b[0m",
      "\u001b[0;31mKeyboardInterrupt\u001b[0m                         Traceback (most recent call last)",
      "\u001b[0;32m/var/folders/tm/fn98hw1541vg9yshhxdqfgc80000gn/T/ipykernel_99170/4194791822.py\u001b[0m in \u001b[0;36m<module>\u001b[0;34m\u001b[0m\n\u001b[1;32m     19\u001b[0m     \u001b[0;34m\"random_state\"\u001b[0m\u001b[0;34m:\u001b[0m \u001b[0;36m100\u001b[0m\u001b[0;34m\u001b[0m\u001b[0;34m\u001b[0m\u001b[0m\n\u001b[1;32m     20\u001b[0m }\n\u001b[0;32m---> 21\u001b[0;31m lgb_clf_o = lgb_o.train(params, lgb_train,\n\u001b[0m\u001b[1;32m     22\u001b[0m                 \u001b[0mvalid_sets\u001b[0m\u001b[0;34m=\u001b[0m\u001b[0;34m(\u001b[0m\u001b[0mlgb_train\u001b[0m\u001b[0;34m,\u001b[0m \u001b[0mlgb_valid\u001b[0m\u001b[0;34m)\u001b[0m\u001b[0;34m,\u001b[0m\u001b[0;34m\u001b[0m\u001b[0;34m\u001b[0m\u001b[0m\n\u001b[1;32m     23\u001b[0m                 \u001b[0mverbose_eval\u001b[0m\u001b[0;34m=\u001b[0m\u001b[0;36m100\u001b[0m\u001b[0;34m,\u001b[0m\u001b[0;34m\u001b[0m\u001b[0;34m\u001b[0m\u001b[0m\n",
      "\u001b[0;32m~/opt/anaconda3/lib/python3.8/site-packages/optuna/integration/_lightgbm_tuner/__init__.py\u001b[0m in \u001b[0;36mtrain\u001b[0;34m(*args, **kwargs)\u001b[0m\n\u001b[1;32m     33\u001b[0m \u001b[0;34m\u001b[0m\u001b[0m\n\u001b[1;32m     34\u001b[0m     \u001b[0mauto_booster\u001b[0m \u001b[0;34m=\u001b[0m \u001b[0mLightGBMTuner\u001b[0m\u001b[0;34m(\u001b[0m\u001b[0;34m*\u001b[0m\u001b[0margs\u001b[0m\u001b[0;34m,\u001b[0m \u001b[0;34m**\u001b[0m\u001b[0mkwargs\u001b[0m\u001b[0;34m)\u001b[0m\u001b[0;34m\u001b[0m\u001b[0;34m\u001b[0m\u001b[0m\n\u001b[0;32m---> 35\u001b[0;31m     \u001b[0mauto_booster\u001b[0m\u001b[0;34m.\u001b[0m\u001b[0mrun\u001b[0m\u001b[0;34m(\u001b[0m\u001b[0;34m)\u001b[0m\u001b[0;34m\u001b[0m\u001b[0;34m\u001b[0m\u001b[0m\n\u001b[0m\u001b[1;32m     36\u001b[0m     \u001b[0;32mreturn\u001b[0m \u001b[0mauto_booster\u001b[0m\u001b[0;34m.\u001b[0m\u001b[0mget_best_booster\u001b[0m\u001b[0;34m(\u001b[0m\u001b[0;34m)\u001b[0m\u001b[0;34m\u001b[0m\u001b[0;34m\u001b[0m\u001b[0m\n",
      "\u001b[0;32m~/opt/anaconda3/lib/python3.8/site-packages/optuna/integration/_lightgbm_tuner/optimize.py\u001b[0m in \u001b[0;36mrun\u001b[0;34m(self)\u001b[0m\n\u001b[1;32m    544\u001b[0m         \u001b[0mself\u001b[0m\u001b[0;34m.\u001b[0m\u001b[0msample_train_set\u001b[0m\u001b[0;34m(\u001b[0m\u001b[0;34m)\u001b[0m\u001b[0;34m\u001b[0m\u001b[0;34m\u001b[0m\u001b[0m\n\u001b[1;32m    545\u001b[0m \u001b[0;34m\u001b[0m\u001b[0m\n\u001b[0;32m--> 546\u001b[0;31m         \u001b[0mself\u001b[0m\u001b[0;34m.\u001b[0m\u001b[0mtune_feature_fraction\u001b[0m\u001b[0;34m(\u001b[0m\u001b[0;34m)\u001b[0m\u001b[0;34m\u001b[0m\u001b[0;34m\u001b[0m\u001b[0m\n\u001b[0m\u001b[1;32m    547\u001b[0m         \u001b[0mself\u001b[0m\u001b[0;34m.\u001b[0m\u001b[0mtune_num_leaves\u001b[0m\u001b[0;34m(\u001b[0m\u001b[0;34m)\u001b[0m\u001b[0;34m\u001b[0m\u001b[0;34m\u001b[0m\u001b[0m\n\u001b[1;32m    548\u001b[0m         \u001b[0mself\u001b[0m\u001b[0;34m.\u001b[0m\u001b[0mtune_bagging\u001b[0m\u001b[0;34m(\u001b[0m\u001b[0;34m)\u001b[0m\u001b[0;34m\u001b[0m\u001b[0;34m\u001b[0m\u001b[0m\n",
      "\u001b[0;32m~/opt/anaconda3/lib/python3.8/site-packages/optuna/integration/_lightgbm_tuner/optimize.py\u001b[0m in \u001b[0;36mtune_feature_fraction\u001b[0;34m(self, n_trials)\u001b[0m\n\u001b[1;32m    569\u001b[0m \u001b[0;34m\u001b[0m\u001b[0m\n\u001b[1;32m    570\u001b[0m         \u001b[0msampler\u001b[0m \u001b[0;34m=\u001b[0m \u001b[0moptuna\u001b[0m\u001b[0;34m.\u001b[0m\u001b[0msamplers\u001b[0m\u001b[0;34m.\u001b[0m\u001b[0mGridSampler\u001b[0m\u001b[0;34m(\u001b[0m\u001b[0;34m{\u001b[0m\u001b[0mparam_name\u001b[0m\u001b[0;34m:\u001b[0m \u001b[0mparam_values\u001b[0m\u001b[0;34m}\u001b[0m\u001b[0;34m)\u001b[0m\u001b[0;34m\u001b[0m\u001b[0;34m\u001b[0m\u001b[0m\n\u001b[0;32m--> 571\u001b[0;31m         \u001b[0mself\u001b[0m\u001b[0;34m.\u001b[0m\u001b[0m_tune_params\u001b[0m\u001b[0;34m(\u001b[0m\u001b[0;34m[\u001b[0m\u001b[0mparam_name\u001b[0m\u001b[0;34m]\u001b[0m\u001b[0;34m,\u001b[0m \u001b[0mlen\u001b[0m\u001b[0;34m(\u001b[0m\u001b[0mparam_values\u001b[0m\u001b[0;34m)\u001b[0m\u001b[0;34m,\u001b[0m \u001b[0msampler\u001b[0m\u001b[0;34m,\u001b[0m \u001b[0;34m\"feature_fraction\"\u001b[0m\u001b[0;34m)\u001b[0m\u001b[0;34m\u001b[0m\u001b[0;34m\u001b[0m\u001b[0m\n\u001b[0m\u001b[1;32m    572\u001b[0m \u001b[0;34m\u001b[0m\u001b[0m\n\u001b[1;32m    573\u001b[0m     \u001b[0;32mdef\u001b[0m \u001b[0mtune_num_leaves\u001b[0m\u001b[0;34m(\u001b[0m\u001b[0mself\u001b[0m\u001b[0;34m,\u001b[0m \u001b[0mn_trials\u001b[0m\u001b[0;34m:\u001b[0m \u001b[0mint\u001b[0m \u001b[0;34m=\u001b[0m \u001b[0;36m20\u001b[0m\u001b[0;34m)\u001b[0m \u001b[0;34m->\u001b[0m \u001b[0;32mNone\u001b[0m\u001b[0;34m:\u001b[0m\u001b[0;34m\u001b[0m\u001b[0;34m\u001b[0m\u001b[0m\n",
      "\u001b[0;32m~/opt/anaconda3/lib/python3.8/site-packages/optuna/integration/_lightgbm_tuner/optimize.py\u001b[0m in \u001b[0;36m_tune_params\u001b[0;34m(self, target_param_names, n_trials, sampler, step_name)\u001b[0m\n\u001b[1;32m    652\u001b[0m             \u001b[0m_timeout\u001b[0m \u001b[0;34m=\u001b[0m \u001b[0;32mNone\u001b[0m\u001b[0;34m\u001b[0m\u001b[0;34m\u001b[0m\u001b[0m\n\u001b[1;32m    653\u001b[0m         \u001b[0;32mif\u001b[0m \u001b[0m_n_trials\u001b[0m \u001b[0;34m>\u001b[0m \u001b[0;36m0\u001b[0m\u001b[0;34m:\u001b[0m\u001b[0;34m\u001b[0m\u001b[0;34m\u001b[0m\u001b[0m\n\u001b[0;32m--> 654\u001b[0;31m             study.optimize(\n\u001b[0m\u001b[1;32m    655\u001b[0m                 \u001b[0mobjective\u001b[0m\u001b[0;34m,\u001b[0m\u001b[0;34m\u001b[0m\u001b[0;34m\u001b[0m\u001b[0m\n\u001b[1;32m    656\u001b[0m                 \u001b[0mn_trials\u001b[0m\u001b[0;34m=\u001b[0m\u001b[0m_n_trials\u001b[0m\u001b[0;34m,\u001b[0m\u001b[0;34m\u001b[0m\u001b[0;34m\u001b[0m\u001b[0m\n",
      "\u001b[0;32m~/opt/anaconda3/lib/python3.8/site-packages/optuna/study/study.py\u001b[0m in \u001b[0;36moptimize\u001b[0;34m(self, func, n_trials, timeout, n_jobs, catch, callbacks, gc_after_trial, show_progress_bar)\u001b[0m\n\u001b[1;32m    398\u001b[0m             )\n\u001b[1;32m    399\u001b[0m \u001b[0;34m\u001b[0m\u001b[0m\n\u001b[0;32m--> 400\u001b[0;31m         _optimize(\n\u001b[0m\u001b[1;32m    401\u001b[0m             \u001b[0mstudy\u001b[0m\u001b[0;34m=\u001b[0m\u001b[0mself\u001b[0m\u001b[0;34m,\u001b[0m\u001b[0;34m\u001b[0m\u001b[0;34m\u001b[0m\u001b[0m\n\u001b[1;32m    402\u001b[0m             \u001b[0mfunc\u001b[0m\u001b[0;34m=\u001b[0m\u001b[0mfunc\u001b[0m\u001b[0;34m,\u001b[0m\u001b[0;34m\u001b[0m\u001b[0;34m\u001b[0m\u001b[0m\n",
      "\u001b[0;32m~/opt/anaconda3/lib/python3.8/site-packages/optuna/study/_optimize.py\u001b[0m in \u001b[0;36m_optimize\u001b[0;34m(study, func, n_trials, timeout, n_jobs, catch, callbacks, gc_after_trial, show_progress_bar)\u001b[0m\n\u001b[1;32m     64\u001b[0m     \u001b[0;32mtry\u001b[0m\u001b[0;34m:\u001b[0m\u001b[0;34m\u001b[0m\u001b[0;34m\u001b[0m\u001b[0m\n\u001b[1;32m     65\u001b[0m         \u001b[0;32mif\u001b[0m \u001b[0mn_jobs\u001b[0m \u001b[0;34m==\u001b[0m \u001b[0;36m1\u001b[0m\u001b[0;34m:\u001b[0m\u001b[0;34m\u001b[0m\u001b[0;34m\u001b[0m\u001b[0m\n\u001b[0;32m---> 66\u001b[0;31m             _optimize_sequential(\n\u001b[0m\u001b[1;32m     67\u001b[0m                 \u001b[0mstudy\u001b[0m\u001b[0;34m,\u001b[0m\u001b[0;34m\u001b[0m\u001b[0;34m\u001b[0m\u001b[0m\n\u001b[1;32m     68\u001b[0m                 \u001b[0mfunc\u001b[0m\u001b[0;34m,\u001b[0m\u001b[0;34m\u001b[0m\u001b[0;34m\u001b[0m\u001b[0m\n",
      "\u001b[0;32m~/opt/anaconda3/lib/python3.8/site-packages/optuna/study/_optimize.py\u001b[0m in \u001b[0;36m_optimize_sequential\u001b[0;34m(study, func, n_trials, timeout, catch, callbacks, gc_after_trial, reseed_sampler_rng, time_start, progress_bar)\u001b[0m\n\u001b[1;32m    161\u001b[0m \u001b[0;34m\u001b[0m\u001b[0m\n\u001b[1;32m    162\u001b[0m         \u001b[0;32mtry\u001b[0m\u001b[0;34m:\u001b[0m\u001b[0;34m\u001b[0m\u001b[0;34m\u001b[0m\u001b[0m\n\u001b[0;32m--> 163\u001b[0;31m             \u001b[0mtrial\u001b[0m \u001b[0;34m=\u001b[0m \u001b[0m_run_trial\u001b[0m\u001b[0;34m(\u001b[0m\u001b[0mstudy\u001b[0m\u001b[0;34m,\u001b[0m \u001b[0mfunc\u001b[0m\u001b[0;34m,\u001b[0m \u001b[0mcatch\u001b[0m\u001b[0;34m)\u001b[0m\u001b[0;34m\u001b[0m\u001b[0;34m\u001b[0m\u001b[0m\n\u001b[0m\u001b[1;32m    164\u001b[0m         \u001b[0;32mexcept\u001b[0m \u001b[0mException\u001b[0m\u001b[0;34m:\u001b[0m\u001b[0;34m\u001b[0m\u001b[0;34m\u001b[0m\u001b[0m\n\u001b[1;32m    165\u001b[0m             \u001b[0;32mraise\u001b[0m\u001b[0;34m\u001b[0m\u001b[0;34m\u001b[0m\u001b[0m\n",
      "\u001b[0;32m~/opt/anaconda3/lib/python3.8/site-packages/optuna/study/_optimize.py\u001b[0m in \u001b[0;36m_run_trial\u001b[0;34m(study, func, catch)\u001b[0m\n\u001b[1;32m    211\u001b[0m \u001b[0;34m\u001b[0m\u001b[0m\n\u001b[1;32m    212\u001b[0m     \u001b[0;32mtry\u001b[0m\u001b[0;34m:\u001b[0m\u001b[0;34m\u001b[0m\u001b[0;34m\u001b[0m\u001b[0m\n\u001b[0;32m--> 213\u001b[0;31m         \u001b[0mvalue_or_values\u001b[0m \u001b[0;34m=\u001b[0m \u001b[0mfunc\u001b[0m\u001b[0;34m(\u001b[0m\u001b[0mtrial\u001b[0m\u001b[0;34m)\u001b[0m\u001b[0;34m\u001b[0m\u001b[0;34m\u001b[0m\u001b[0m\n\u001b[0m\u001b[1;32m    214\u001b[0m     \u001b[0;32mexcept\u001b[0m \u001b[0mexceptions\u001b[0m\u001b[0;34m.\u001b[0m\u001b[0mTrialPruned\u001b[0m \u001b[0;32mas\u001b[0m \u001b[0me\u001b[0m\u001b[0;34m:\u001b[0m\u001b[0;34m\u001b[0m\u001b[0;34m\u001b[0m\u001b[0m\n\u001b[1;32m    215\u001b[0m         \u001b[0;31m# TODO(mamu): Handle multi-objective cases.\u001b[0m\u001b[0;34m\u001b[0m\u001b[0;34m\u001b[0m\u001b[0;34m\u001b[0m\u001b[0m\n",
      "\u001b[0;32m~/opt/anaconda3/lib/python3.8/site-packages/optuna/integration/_lightgbm_tuner/optimize.py\u001b[0m in \u001b[0;36m__call__\u001b[0;34m(self, trial)\u001b[0m\n\u001b[1;32m    247\u001b[0m         \u001b[0mkwargs\u001b[0m \u001b[0;34m=\u001b[0m \u001b[0mcopy\u001b[0m\u001b[0;34m.\u001b[0m\u001b[0mcopy\u001b[0m\u001b[0;34m(\u001b[0m\u001b[0mself\u001b[0m\u001b[0;34m.\u001b[0m\u001b[0mlgbm_kwargs\u001b[0m\u001b[0;34m)\u001b[0m\u001b[0;34m\u001b[0m\u001b[0;34m\u001b[0m\u001b[0m\n\u001b[1;32m    248\u001b[0m         \u001b[0mkwargs\u001b[0m\u001b[0;34m[\u001b[0m\u001b[0;34m\"valid_sets\"\u001b[0m\u001b[0;34m]\u001b[0m \u001b[0;34m=\u001b[0m \u001b[0mself\u001b[0m\u001b[0;34m.\u001b[0m\u001b[0m_copy_valid_sets\u001b[0m\u001b[0;34m(\u001b[0m\u001b[0mkwargs\u001b[0m\u001b[0;34m[\u001b[0m\u001b[0;34m\"valid_sets\"\u001b[0m\u001b[0;34m]\u001b[0m\u001b[0;34m)\u001b[0m\u001b[0;34m\u001b[0m\u001b[0;34m\u001b[0m\u001b[0m\n\u001b[0;32m--> 249\u001b[0;31m         \u001b[0mbooster\u001b[0m \u001b[0;34m=\u001b[0m \u001b[0mlgb\u001b[0m\u001b[0;34m.\u001b[0m\u001b[0mtrain\u001b[0m\u001b[0;34m(\u001b[0m\u001b[0mself\u001b[0m\u001b[0;34m.\u001b[0m\u001b[0mlgbm_params\u001b[0m\u001b[0;34m,\u001b[0m \u001b[0mtrain_set\u001b[0m\u001b[0;34m,\u001b[0m \u001b[0;34m**\u001b[0m\u001b[0mkwargs\u001b[0m\u001b[0;34m)\u001b[0m\u001b[0;34m\u001b[0m\u001b[0;34m\u001b[0m\u001b[0m\n\u001b[0m\u001b[1;32m    250\u001b[0m \u001b[0;34m\u001b[0m\u001b[0m\n\u001b[1;32m    251\u001b[0m         \u001b[0mval_score\u001b[0m \u001b[0;34m=\u001b[0m \u001b[0mself\u001b[0m\u001b[0;34m.\u001b[0m\u001b[0m_get_booster_best_score\u001b[0m\u001b[0;34m(\u001b[0m\u001b[0mbooster\u001b[0m\u001b[0;34m)\u001b[0m\u001b[0;34m\u001b[0m\u001b[0;34m\u001b[0m\u001b[0m\n",
      "\u001b[0;32m~/opt/anaconda3/lib/python3.8/site-packages/lightgbm/engine.py\u001b[0m in \u001b[0;36mtrain\u001b[0;34m(params, train_set, num_boost_round, valid_sets, valid_names, fobj, feval, init_model, feature_name, categorical_feature, early_stopping_rounds, evals_result, verbose_eval, learning_rates, keep_training_booster, callbacks)\u001b[0m\n\u001b[1;32m    247\u001b[0m                                     evaluation_result_list=None))\n\u001b[1;32m    248\u001b[0m \u001b[0;34m\u001b[0m\u001b[0m\n\u001b[0;32m--> 249\u001b[0;31m         \u001b[0mbooster\u001b[0m\u001b[0;34m.\u001b[0m\u001b[0mupdate\u001b[0m\u001b[0;34m(\u001b[0m\u001b[0mfobj\u001b[0m\u001b[0;34m=\u001b[0m\u001b[0mfobj\u001b[0m\u001b[0;34m)\u001b[0m\u001b[0;34m\u001b[0m\u001b[0;34m\u001b[0m\u001b[0m\n\u001b[0m\u001b[1;32m    250\u001b[0m \u001b[0;34m\u001b[0m\u001b[0m\n\u001b[1;32m    251\u001b[0m         \u001b[0mevaluation_result_list\u001b[0m \u001b[0;34m=\u001b[0m \u001b[0;34m[\u001b[0m\u001b[0;34m]\u001b[0m\u001b[0;34m\u001b[0m\u001b[0;34m\u001b[0m\u001b[0m\n",
      "\u001b[0;32m~/opt/anaconda3/lib/python3.8/site-packages/lightgbm/basic.py\u001b[0m in \u001b[0;36mupdate\u001b[0;34m(self, train_set, fobj)\u001b[0m\n\u001b[1;32m   2641\u001b[0m             \u001b[0;32mif\u001b[0m \u001b[0mself\u001b[0m\u001b[0;34m.\u001b[0m\u001b[0m__set_objective_to_none\u001b[0m\u001b[0;34m:\u001b[0m\u001b[0;34m\u001b[0m\u001b[0;34m\u001b[0m\u001b[0m\n\u001b[1;32m   2642\u001b[0m                 \u001b[0;32mraise\u001b[0m \u001b[0mLightGBMError\u001b[0m\u001b[0;34m(\u001b[0m\u001b[0;34m'Cannot update due to null objective function.'\u001b[0m\u001b[0;34m)\u001b[0m\u001b[0;34m\u001b[0m\u001b[0;34m\u001b[0m\u001b[0m\n\u001b[0;32m-> 2643\u001b[0;31m             _safe_call(_LIB.LGBM_BoosterUpdateOneIter(\n\u001b[0m\u001b[1;32m   2644\u001b[0m                 \u001b[0mself\u001b[0m\u001b[0;34m.\u001b[0m\u001b[0mhandle\u001b[0m\u001b[0;34m,\u001b[0m\u001b[0;34m\u001b[0m\u001b[0;34m\u001b[0m\u001b[0m\n\u001b[1;32m   2645\u001b[0m                 ctypes.byref(is_finished)))\n",
      "\u001b[0;31mKeyboardInterrupt\u001b[0m: "
     ]
    }
   ],
   "source": [
    "#r.data_c.drop([\"単勝\"],axis=1,inplace=True)\n",
    "train, test = split_data(r.data_c)\n",
    "train, valid = split_data(train)\n",
    "\n",
    "X_train = train.drop(['rank',\"date\"],axis=1)\n",
    "y_train = train[\"rank\"]\n",
    "\n",
    "X_test = test.drop(['rank',\"date\"],axis=1)\n",
    "y_test = test[\"rank\"]\n",
    "\n",
    "X_valid = valid.drop(['rank',\"date\"],axis=1)\n",
    "y_valid = valid[\"rank\"]\n",
    "\n",
    "lgb_train = lgb_o.Dataset(X_train.values, y_train.values)\n",
    "lgb_valid = lgb_o.Dataset(X_valid.values, y_valid.values)\n",
    "\n",
    "params = {\n",
    "    \"objective\":\"binary\",\n",
    "    \"random_state\": 100\n",
    "}\n",
    "lgb_clf_o = lgb_o.train(params, lgb_train,\n",
    "                valid_sets=(lgb_train, lgb_valid),\n",
    "                verbose_eval=100,\n",
    "                early_stopping_rounds=10)"
   ]
  },
  {
   "cell_type": "code",
   "execution_count": 212,
   "id": "7872d79a-638e-4b74-ab3f-2e8586d3fd16",
   "metadata": {},
   "outputs": [
    {
     "data": {
      "text/plain": [
       "1000"
      ]
     },
     "execution_count": 212,
     "metadata": {},
     "output_type": "execute_result"
    }
   ],
   "source": [
    "lgb_clf_o.params.pop(\"num_iterations\")"
   ]
  },
  {
   "cell_type": "code",
   "execution_count": 213,
   "id": "fba9d5a2-8d03-4769-b301-99d2e04d81c5",
   "metadata": {},
   "outputs": [
    {
     "data": {
      "text/plain": [
       "{'objective': 'binary',\n",
       " 'random_state': 100,\n",
       " 'feature_pre_filter': False,\n",
       " 'lambda_l1': 0.0,\n",
       " 'lambda_l2': 0.0,\n",
       " 'num_leaves': 5,\n",
       " 'feature_fraction': 0.7,\n",
       " 'bagging_fraction': 0.9400930505843544,\n",
       " 'bagging_freq': 2,\n",
       " 'min_child_samples': 10}"
      ]
     },
     "execution_count": 213,
     "metadata": {},
     "output_type": "execute_result"
    }
   ],
   "source": [
    "lgb_clf_o.params"
   ]
  },
  {
   "cell_type": "code",
   "execution_count": 214,
   "id": "01137125-b8d6-4a38-95bf-64e1cc0045d1",
   "metadata": {},
   "outputs": [],
   "source": [
    "new_params = {\n",
    " 'objective': 'binary',\n",
    " 'random_state': 100,\n",
    " 'feature_pre_filter': False,\n",
    " 'lambda_l1': 0.0,\n",
    " 'lambda_l2': 0.0,\n",
    " 'num_leaves': 5,\n",
    " 'feature_fraction': 0.7,\n",
    " 'bagging_fraction': 0.9400930505843544,\n",
    " 'bagging_freq': 2,\n",
    " 'min_child_samples': 10}"
   ]
  },
  {
   "cell_type": "code",
   "execution_count": 434,
   "id": "0fa3562f-b487-41ea-adfb-47273b7bd6b3",
   "metadata": {},
   "outputs": [],
   "source": [
    "#r.data_c.drop(['単勝'],axis=1,inplace=True)\n",
    "train, test = split_data(r.data_c)\n",
    "\n",
    "X_train = train.drop([\"rank\",\"date\",\"単勝\"], axis=1)\n",
    "y_train = train['rank']\n",
    "X_test = test.drop([\"rank\",\"date\"], axis=1)\n",
    "y_test = test['rank']"
   ]
  },
  {
   "cell_type": "code",
   "execution_count": 435,
   "id": "2f63570b-70c9-4e2a-abf8-10d5c941be4e",
   "metadata": {
    "tags": []
   },
   "outputs": [
    {
     "name": "stdout",
     "output_type": "stream",
     "text": [
      "[LightGBM] [Warning] bagging_freq is set=2, subsample_freq=0 will be ignored. Current value: bagging_freq=2\n",
      "[LightGBM] [Warning] feature_fraction is set=0.9799999999999999, colsample_bytree=1.0 will be ignored. Current value: feature_fraction=0.9799999999999999\n",
      "[LightGBM] [Warning] bagging_fraction is set=0.8295235542136072, subsample=1.0 will be ignored. Current value: bagging_fraction=0.8295235542136072\n",
      "[LightGBM] [Warning] lambda_l2 is set=1.2839179406304322e-05, reg_lambda=0.0 will be ignored. Current value: lambda_l2=1.2839179406304322e-05\n",
      "[LightGBM] [Warning] lambda_l1 is set=0.008732558425717211, reg_alpha=0.0 will be ignored. Current value: lambda_l1=0.008732558425717211\n"
     ]
    }
   ],
   "source": [
    "lgb_clf = lgb.LGBMClassifier(**params)\n",
    "lgb_clf.fit(X_train.values, y_train.values)\n",
    "me_h2 = ModelEvaluator(lgb_clf, [\"Return_tables-Copy1.pickle\"])\n",
    "#add_race_type = gain(me.tansho_return_proper, X_test)"
   ]
  },
  {
   "cell_type": "code",
   "execution_count": 182,
   "id": "c22c2d15-e91f-40d7-ba1f-dcd4a9d74198",
   "metadata": {},
   "outputs": [],
   "source": [
    "def gain(return_func, X, n_samples=100, lower=50, min_threshold=0.5):\n",
    "    gain = {}\n",
    "    for i in tqdm(range(n_samples)):\n",
    "        threshold = 1 * i / n_samples + min_threshold * (1-(i/n_samples))\n",
    "        n_bets, return_rate, n_hits = return_func(X, threshold)\n",
    "        if n_bets > lower:\n",
    "            gain[n_bets] = {'return_rate': return_rate, 'n_hits': n_hits}\n",
    "    return pd.DataFrame(gain).T"
   ]
  },
  {
   "cell_type": "code",
   "execution_count": 408,
   "id": "9e75fcf1-51f7-4e55-b827-f0e3f672258d",
   "metadata": {
    "collapsed": true,
    "jupyter": {
     "outputs_hidden": true
    },
    "tags": []
   },
   "outputs": [
    {
     "ename": "ValueError",
     "evalue": "All arrays must be of the same length",
     "output_type": "error",
     "traceback": [
      "\u001b[0;31m---------------------------------------------------------------------------\u001b[0m",
      "\u001b[0;31mValueError\u001b[0m                                Traceback (most recent call last)",
      "\u001b[0;32m/var/folders/tm/fn98hw1541vg9yshhxdqfgc80000gn/T/ipykernel_99170/3394084057.py\u001b[0m in \u001b[0;36m<module>\u001b[0;34m\u001b[0m\n\u001b[0;32m----> 1\u001b[0;31m \u001b[0mme_h2\u001b[0m\u001b[0;34m.\u001b[0m\u001b[0mfeature_importance\u001b[0m\u001b[0;34m(\u001b[0m\u001b[0mX_train\u001b[0m\u001b[0;34m)\u001b[0m\u001b[0;34m\u001b[0m\u001b[0;34m\u001b[0m\u001b[0m\n\u001b[0m",
      "\u001b[0;32m/var/folders/tm/fn98hw1541vg9yshhxdqfgc80000gn/T/ipykernel_99170/392476289.py\u001b[0m in \u001b[0;36mfeature_importance\u001b[0;34m(self, X, n_display)\u001b[0m\n\u001b[1;32m     31\u001b[0m     \u001b[0;31m#各成分の特徴量の強さの表示 デフォルト20\u001b[0m\u001b[0;34m\u001b[0m\u001b[0;34m\u001b[0m\u001b[0;34m\u001b[0m\u001b[0m\n\u001b[1;32m     32\u001b[0m     \u001b[0;32mdef\u001b[0m \u001b[0mfeature_importance\u001b[0m\u001b[0;34m(\u001b[0m\u001b[0mself\u001b[0m\u001b[0;34m,\u001b[0m \u001b[0mX\u001b[0m\u001b[0;34m,\u001b[0m \u001b[0mn_display\u001b[0m\u001b[0;34m=\u001b[0m\u001b[0;36m20\u001b[0m\u001b[0;34m)\u001b[0m\u001b[0;34m:\u001b[0m\u001b[0;34m\u001b[0m\u001b[0;34m\u001b[0m\u001b[0m\n\u001b[0;32m---> 33\u001b[0;31m         importances = pd.DataFrame({\"features\":X.columns, \n\u001b[0m\u001b[1;32m     34\u001b[0m                                   \"importance\":self.model.feature_importances_})\n\u001b[1;32m     35\u001b[0m         \u001b[0;32mreturn\u001b[0m \u001b[0mimportances\u001b[0m\u001b[0;34m.\u001b[0m\u001b[0msort_values\u001b[0m\u001b[0;34m(\u001b[0m\u001b[0;34m'importance'\u001b[0m\u001b[0;34m,\u001b[0m \u001b[0mascending\u001b[0m\u001b[0;34m=\u001b[0m\u001b[0;32mFalse\u001b[0m\u001b[0;34m)\u001b[0m\u001b[0;34m[\u001b[0m\u001b[0;34m:\u001b[0m\u001b[0mn_display\u001b[0m\u001b[0;34m]\u001b[0m\u001b[0;34m\u001b[0m\u001b[0;34m\u001b[0m\u001b[0m\n",
      "\u001b[0;32m~/opt/anaconda3/lib/python3.8/site-packages/pandas/core/frame.py\u001b[0m in \u001b[0;36m__init__\u001b[0;34m(self, data, index, columns, dtype, copy)\u001b[0m\n\u001b[1;32m    612\u001b[0m         \u001b[0;32melif\u001b[0m \u001b[0misinstance\u001b[0m\u001b[0;34m(\u001b[0m\u001b[0mdata\u001b[0m\u001b[0;34m,\u001b[0m \u001b[0mdict\u001b[0m\u001b[0;34m)\u001b[0m\u001b[0;34m:\u001b[0m\u001b[0;34m\u001b[0m\u001b[0;34m\u001b[0m\u001b[0m\n\u001b[1;32m    613\u001b[0m             \u001b[0;31m# GH#38939 de facto copy defaults to False only in non-dict cases\u001b[0m\u001b[0;34m\u001b[0m\u001b[0;34m\u001b[0m\u001b[0;34m\u001b[0m\u001b[0m\n\u001b[0;32m--> 614\u001b[0;31m             \u001b[0mmgr\u001b[0m \u001b[0;34m=\u001b[0m \u001b[0mdict_to_mgr\u001b[0m\u001b[0;34m(\u001b[0m\u001b[0mdata\u001b[0m\u001b[0;34m,\u001b[0m \u001b[0mindex\u001b[0m\u001b[0;34m,\u001b[0m \u001b[0mcolumns\u001b[0m\u001b[0;34m,\u001b[0m \u001b[0mdtype\u001b[0m\u001b[0;34m=\u001b[0m\u001b[0mdtype\u001b[0m\u001b[0;34m,\u001b[0m \u001b[0mcopy\u001b[0m\u001b[0;34m=\u001b[0m\u001b[0mcopy\u001b[0m\u001b[0;34m,\u001b[0m \u001b[0mtyp\u001b[0m\u001b[0;34m=\u001b[0m\u001b[0mmanager\u001b[0m\u001b[0;34m)\u001b[0m\u001b[0;34m\u001b[0m\u001b[0;34m\u001b[0m\u001b[0m\n\u001b[0m\u001b[1;32m    615\u001b[0m         \u001b[0;32melif\u001b[0m \u001b[0misinstance\u001b[0m\u001b[0;34m(\u001b[0m\u001b[0mdata\u001b[0m\u001b[0;34m,\u001b[0m \u001b[0mma\u001b[0m\u001b[0;34m.\u001b[0m\u001b[0mMaskedArray\u001b[0m\u001b[0;34m)\u001b[0m\u001b[0;34m:\u001b[0m\u001b[0;34m\u001b[0m\u001b[0;34m\u001b[0m\u001b[0m\n\u001b[1;32m    616\u001b[0m             \u001b[0;32mimport\u001b[0m \u001b[0mnumpy\u001b[0m\u001b[0;34m.\u001b[0m\u001b[0mma\u001b[0m\u001b[0;34m.\u001b[0m\u001b[0mmrecords\u001b[0m \u001b[0;32mas\u001b[0m \u001b[0mmrecords\u001b[0m\u001b[0;34m\u001b[0m\u001b[0;34m\u001b[0m\u001b[0m\n",
      "\u001b[0;32m~/opt/anaconda3/lib/python3.8/site-packages/pandas/core/internals/construction.py\u001b[0m in \u001b[0;36mdict_to_mgr\u001b[0;34m(data, index, columns, dtype, typ, copy)\u001b[0m\n\u001b[1;32m    462\u001b[0m         \u001b[0;31m# TODO: can we get rid of the dt64tz special case above?\u001b[0m\u001b[0;34m\u001b[0m\u001b[0;34m\u001b[0m\u001b[0;34m\u001b[0m\u001b[0m\n\u001b[1;32m    463\u001b[0m \u001b[0;34m\u001b[0m\u001b[0m\n\u001b[0;32m--> 464\u001b[0;31m     return arrays_to_mgr(\n\u001b[0m\u001b[1;32m    465\u001b[0m         \u001b[0marrays\u001b[0m\u001b[0;34m,\u001b[0m \u001b[0mdata_names\u001b[0m\u001b[0;34m,\u001b[0m \u001b[0mindex\u001b[0m\u001b[0;34m,\u001b[0m \u001b[0mcolumns\u001b[0m\u001b[0;34m,\u001b[0m \u001b[0mdtype\u001b[0m\u001b[0;34m=\u001b[0m\u001b[0mdtype\u001b[0m\u001b[0;34m,\u001b[0m \u001b[0mtyp\u001b[0m\u001b[0;34m=\u001b[0m\u001b[0mtyp\u001b[0m\u001b[0;34m,\u001b[0m \u001b[0mconsolidate\u001b[0m\u001b[0;34m=\u001b[0m\u001b[0mcopy\u001b[0m\u001b[0;34m\u001b[0m\u001b[0;34m\u001b[0m\u001b[0m\n\u001b[1;32m    466\u001b[0m     )\n",
      "\u001b[0;32m~/opt/anaconda3/lib/python3.8/site-packages/pandas/core/internals/construction.py\u001b[0m in \u001b[0;36marrays_to_mgr\u001b[0;34m(arrays, arr_names, index, columns, dtype, verify_integrity, typ, consolidate)\u001b[0m\n\u001b[1;32m    117\u001b[0m         \u001b[0;31m# figure out the index, if necessary\u001b[0m\u001b[0;34m\u001b[0m\u001b[0;34m\u001b[0m\u001b[0;34m\u001b[0m\u001b[0m\n\u001b[1;32m    118\u001b[0m         \u001b[0;32mif\u001b[0m \u001b[0mindex\u001b[0m \u001b[0;32mis\u001b[0m \u001b[0;32mNone\u001b[0m\u001b[0;34m:\u001b[0m\u001b[0;34m\u001b[0m\u001b[0;34m\u001b[0m\u001b[0m\n\u001b[0;32m--> 119\u001b[0;31m             \u001b[0mindex\u001b[0m \u001b[0;34m=\u001b[0m \u001b[0m_extract_index\u001b[0m\u001b[0;34m(\u001b[0m\u001b[0marrays\u001b[0m\u001b[0;34m)\u001b[0m\u001b[0;34m\u001b[0m\u001b[0;34m\u001b[0m\u001b[0m\n\u001b[0m\u001b[1;32m    120\u001b[0m         \u001b[0;32melse\u001b[0m\u001b[0;34m:\u001b[0m\u001b[0;34m\u001b[0m\u001b[0;34m\u001b[0m\u001b[0m\n\u001b[1;32m    121\u001b[0m             \u001b[0mindex\u001b[0m \u001b[0;34m=\u001b[0m \u001b[0mensure_index\u001b[0m\u001b[0;34m(\u001b[0m\u001b[0mindex\u001b[0m\u001b[0;34m)\u001b[0m\u001b[0;34m\u001b[0m\u001b[0;34m\u001b[0m\u001b[0m\n",
      "\u001b[0;32m~/opt/anaconda3/lib/python3.8/site-packages/pandas/core/internals/construction.py\u001b[0m in \u001b[0;36m_extract_index\u001b[0;34m(data)\u001b[0m\n\u001b[1;32m    633\u001b[0m             \u001b[0mlengths\u001b[0m \u001b[0;34m=\u001b[0m \u001b[0mlist\u001b[0m\u001b[0;34m(\u001b[0m\u001b[0mset\u001b[0m\u001b[0;34m(\u001b[0m\u001b[0mraw_lengths\u001b[0m\u001b[0;34m)\u001b[0m\u001b[0;34m)\u001b[0m\u001b[0;34m\u001b[0m\u001b[0;34m\u001b[0m\u001b[0m\n\u001b[1;32m    634\u001b[0m             \u001b[0;32mif\u001b[0m \u001b[0mlen\u001b[0m\u001b[0;34m(\u001b[0m\u001b[0mlengths\u001b[0m\u001b[0;34m)\u001b[0m \u001b[0;34m>\u001b[0m \u001b[0;36m1\u001b[0m\u001b[0;34m:\u001b[0m\u001b[0;34m\u001b[0m\u001b[0;34m\u001b[0m\u001b[0m\n\u001b[0;32m--> 635\u001b[0;31m                 \u001b[0;32mraise\u001b[0m \u001b[0mValueError\u001b[0m\u001b[0;34m(\u001b[0m\u001b[0;34m\"All arrays must be of the same length\"\u001b[0m\u001b[0;34m)\u001b[0m\u001b[0;34m\u001b[0m\u001b[0;34m\u001b[0m\u001b[0m\n\u001b[0m\u001b[1;32m    636\u001b[0m \u001b[0;34m\u001b[0m\u001b[0m\n\u001b[1;32m    637\u001b[0m             \u001b[0;32mif\u001b[0m \u001b[0mhave_dicts\u001b[0m\u001b[0;34m:\u001b[0m\u001b[0;34m\u001b[0m\u001b[0;34m\u001b[0m\u001b[0m\n",
      "\u001b[0;31mValueError\u001b[0m: All arrays must be of the same length"
     ]
    }
   ],
   "source": [
    "me.feature_importance(X_train)"
   ]
  },
  {
   "cell_type": "code",
   "execution_count": 380,
   "id": "7ae17fe2-c490-4637-af39-50bf2d6c73f1",
   "metadata": {},
   "outputs": [
    {
     "data": {
      "text/html": [
       "<div>\n",
       "<style scoped>\n",
       "    .dataframe tbody tr th:only-of-type {\n",
       "        vertical-align: middle;\n",
       "    }\n",
       "\n",
       "    .dataframe tbody tr th {\n",
       "        vertical-align: top;\n",
       "    }\n",
       "\n",
       "    .dataframe thead th {\n",
       "        text-align: right;\n",
       "    }\n",
       "</style>\n",
       "<table border=\"1\" class=\"dataframe\">\n",
       "  <thead>\n",
       "    <tr style=\"text-align: right;\">\n",
       "      <th></th>\n",
       "      <th>features</th>\n",
       "      <th>importance</th>\n",
       "    </tr>\n",
       "  </thead>\n",
       "  <tbody>\n",
       "    <tr>\n",
       "      <th>4</th>\n",
       "      <td>horse_id</td>\n",
       "      <td>26</td>\n",
       "    </tr>\n",
       "    <tr>\n",
       "      <th>5</th>\n",
       "      <td>jockey_id</td>\n",
       "      <td>26</td>\n",
       "    </tr>\n",
       "    <tr>\n",
       "      <th>10</th>\n",
       "      <td>賞金_5R</td>\n",
       "      <td>15</td>\n",
       "    </tr>\n",
       "    <tr>\n",
       "      <th>7</th>\n",
       "      <td>体重</td>\n",
       "      <td>14</td>\n",
       "    </tr>\n",
       "    <tr>\n",
       "      <th>9</th>\n",
       "      <td>着順_5R</td>\n",
       "      <td>13</td>\n",
       "    </tr>\n",
       "    <tr>\n",
       "      <th>3</th>\n",
       "      <td>course_len</td>\n",
       "      <td>11</td>\n",
       "    </tr>\n",
       "    <tr>\n",
       "      <th>24</th>\n",
       "      <td>賞金_race_type_5R</td>\n",
       "      <td>10</td>\n",
       "    </tr>\n",
       "    <tr>\n",
       "      <th>67</th>\n",
       "      <td>着差_allR</td>\n",
       "      <td>10</td>\n",
       "    </tr>\n",
       "    <tr>\n",
       "      <th>51</th>\n",
       "      <td>着順_race_type_9R</td>\n",
       "      <td>9</td>\n",
       "    </tr>\n",
       "    <tr>\n",
       "      <th>79</th>\n",
       "      <td>着順_race_type_allR</td>\n",
       "      <td>8</td>\n",
       "    </tr>\n",
       "    <tr>\n",
       "      <th>72</th>\n",
       "      <td>着順_course_len_allR</td>\n",
       "      <td>8</td>\n",
       "    </tr>\n",
       "    <tr>\n",
       "      <th>23</th>\n",
       "      <td>着順_race_type_5R</td>\n",
       "      <td>8</td>\n",
       "    </tr>\n",
       "    <tr>\n",
       "      <th>16</th>\n",
       "      <td>着順_course_len_5R</td>\n",
       "      <td>7</td>\n",
       "    </tr>\n",
       "    <tr>\n",
       "      <th>97</th>\n",
       "      <td>peds_4</td>\n",
       "      <td>6</td>\n",
       "    </tr>\n",
       "    <tr>\n",
       "      <th>44</th>\n",
       "      <td>着順_course_len_9R</td>\n",
       "      <td>5</td>\n",
       "    </tr>\n",
       "    <tr>\n",
       "      <th>1</th>\n",
       "      <td>馬番</td>\n",
       "      <td>5</td>\n",
       "    </tr>\n",
       "    <tr>\n",
       "      <th>2</th>\n",
       "      <td>斤量</td>\n",
       "      <td>5</td>\n",
       "    </tr>\n",
       "    <tr>\n",
       "      <th>58</th>\n",
       "      <td>着順_開催_9R</td>\n",
       "      <td>5</td>\n",
       "    </tr>\n",
       "    <tr>\n",
       "      <th>57</th>\n",
       "      <td>final_to_rank_race_type_9R</td>\n",
       "      <td>4</td>\n",
       "    </tr>\n",
       "    <tr>\n",
       "      <th>86</th>\n",
       "      <td>着順_開催_allR</td>\n",
       "      <td>4</td>\n",
       "    </tr>\n",
       "  </tbody>\n",
       "</table>\n",
       "</div>"
      ],
      "text/plain": [
       "                      features  importance\n",
       "4                     horse_id          26\n",
       "5                    jockey_id          26\n",
       "10                       賞金_5R          15\n",
       "7                           体重          14\n",
       "9                        着順_5R          13\n",
       "3                   course_len          11\n",
       "24             賞金_race_type_5R          10\n",
       "67                     着差_allR          10\n",
       "51             着順_race_type_9R           9\n",
       "79           着順_race_type_allR           8\n",
       "72          着順_course_len_allR           8\n",
       "23             着順_race_type_5R           8\n",
       "16            着順_course_len_5R           7\n",
       "97                      peds_4           6\n",
       "44            着順_course_len_9R           5\n",
       "1                           馬番           5\n",
       "2                           斤量           5\n",
       "58                    着順_開催_9R           5\n",
       "57  final_to_rank_race_type_9R           4\n",
       "86                  着順_開催_allR           4"
      ]
     },
     "execution_count": 380,
     "metadata": {},
     "output_type": "execute_result"
    }
   ],
   "source": [
    "me_h2.feature_importance(X_train)"
   ]
  },
  {
   "cell_type": "code",
   "execution_count": 436,
   "id": "3ca30f99-ea07-48fb-8bc2-3f5ee2a88c91",
   "metadata": {},
   "outputs": [
    {
     "data": {
      "application/vnd.jupyter.widget-view+json": {
       "model_id": "d005b66f2bd54764b6a192bf953a1493",
       "version_major": 2,
       "version_minor": 0
      },
      "text/plain": [
       "  0%|          | 0/100 [00:00<?, ?it/s]"
      ]
     },
     "metadata": {},
     "output_type": "display_data"
    },
    {
     "name": "stderr",
     "output_type": "stream",
     "text": [
      "/var/folders/tm/fn98hw1541vg9yshhxdqfgc80000gn/T/ipykernel_99170/392476289.py:96: RuntimeWarning: invalid value encountered in double_scalars\n",
      "  return_rate = n_hits / (1/ pred_table['単勝']).sum()\n"
     ]
    }
   ],
   "source": [
    "bb = gain(me_h2.tansho_return_proper, X_test)"
   ]
  },
  {
   "cell_type": "code",
   "execution_count": 437,
   "id": "2f45a316-c5d7-4c6f-8d8d-94585c3179f3",
   "metadata": {},
   "outputs": [
    {
     "data": {
      "text/html": [
       "<div>\n",
       "<style scoped>\n",
       "    .dataframe tbody tr th:only-of-type {\n",
       "        vertical-align: middle;\n",
       "    }\n",
       "\n",
       "    .dataframe tbody tr th {\n",
       "        vertical-align: top;\n",
       "    }\n",
       "\n",
       "    .dataframe thead th {\n",
       "        text-align: right;\n",
       "    }\n",
       "</style>\n",
       "<table border=\"1\" class=\"dataframe\">\n",
       "  <thead>\n",
       "    <tr style=\"text-align: right;\">\n",
       "      <th></th>\n",
       "      <th>return_rate</th>\n",
       "      <th>n_hits</th>\n",
       "      <th>std</th>\n",
       "      <th>n_bets</th>\n",
       "    </tr>\n",
       "  </thead>\n",
       "  <tbody>\n",
       "    <tr>\n",
       "      <th>0.50</th>\n",
       "      <td>0.809829</td>\n",
       "      <td>697.0</td>\n",
       "      <td>0.017555</td>\n",
       "      <td>4645.0</td>\n",
       "    </tr>\n",
       "    <tr>\n",
       "      <th>0.53</th>\n",
       "      <td>0.809337</td>\n",
       "      <td>638.0</td>\n",
       "      <td>0.019870</td>\n",
       "      <td>3991.0</td>\n",
       "    </tr>\n",
       "    <tr>\n",
       "      <th>0.56</th>\n",
       "      <td>0.815450</td>\n",
       "      <td>581.0</td>\n",
       "      <td>0.022431</td>\n",
       "      <td>3381.0</td>\n",
       "    </tr>\n",
       "    <tr>\n",
       "      <th>0.59</th>\n",
       "      <td>0.815070</td>\n",
       "      <td>507.0</td>\n",
       "      <td>0.025795</td>\n",
       "      <td>2753.0</td>\n",
       "    </tr>\n",
       "    <tr>\n",
       "      <th>0.62</th>\n",
       "      <td>0.817810</td>\n",
       "      <td>424.0</td>\n",
       "      <td>0.030202</td>\n",
       "      <td>2138.0</td>\n",
       "    </tr>\n",
       "    <tr>\n",
       "      <th>0.65</th>\n",
       "      <td>0.790984</td>\n",
       "      <td>329.0</td>\n",
       "      <td>0.035137</td>\n",
       "      <td>1588.0</td>\n",
       "    </tr>\n",
       "    <tr>\n",
       "      <th>0.68</th>\n",
       "      <td>0.801503</td>\n",
       "      <td>256.0</td>\n",
       "      <td>0.041501</td>\n",
       "      <td>1140.0</td>\n",
       "    </tr>\n",
       "    <tr>\n",
       "      <th>0.71</th>\n",
       "      <td>0.790920</td>\n",
       "      <td>186.0</td>\n",
       "      <td>0.049051</td>\n",
       "      <td>800.0</td>\n",
       "    </tr>\n",
       "    <tr>\n",
       "      <th>0.74</th>\n",
       "      <td>0.804200</td>\n",
       "      <td>134.0</td>\n",
       "      <td>0.058626</td>\n",
       "      <td>522.0</td>\n",
       "    </tr>\n",
       "    <tr>\n",
       "      <th>0.77</th>\n",
       "      <td>0.780393</td>\n",
       "      <td>85.0</td>\n",
       "      <td>0.071824</td>\n",
       "      <td>313.0</td>\n",
       "    </tr>\n",
       "    <tr>\n",
       "      <th>0.80</th>\n",
       "      <td>0.815007</td>\n",
       "      <td>56.0</td>\n",
       "      <td>0.091191</td>\n",
       "      <td>187.0</td>\n",
       "    </tr>\n",
       "    <tr>\n",
       "      <th>0.83</th>\n",
       "      <td>0.736028</td>\n",
       "      <td>30.0</td>\n",
       "      <td>0.115124</td>\n",
       "      <td>110.0</td>\n",
       "    </tr>\n",
       "    <tr>\n",
       "      <th>0.86</th>\n",
       "      <td>0.790129</td>\n",
       "      <td>19.0</td>\n",
       "      <td>0.151108</td>\n",
       "      <td>60.0</td>\n",
       "    </tr>\n",
       "    <tr>\n",
       "      <th>0.89</th>\n",
       "      <td>0.921491</td>\n",
       "      <td>12.0</td>\n",
       "      <td>0.211698</td>\n",
       "      <td>31.0</td>\n",
       "    </tr>\n",
       "    <tr>\n",
       "      <th>0.92</th>\n",
       "      <td>1.170850</td>\n",
       "      <td>6.0</td>\n",
       "      <td>0.365077</td>\n",
       "      <td>13.0</td>\n",
       "    </tr>\n",
       "    <tr>\n",
       "      <th>0.95</th>\n",
       "      <td>1.656489</td>\n",
       "      <td>6.0</td>\n",
       "      <td>0.361476</td>\n",
       "      <td>8.0</td>\n",
       "    </tr>\n",
       "    <tr>\n",
       "      <th>0.98</th>\n",
       "      <td>0.913314</td>\n",
       "      <td>1.0</td>\n",
       "      <td>0.913314</td>\n",
       "      <td>3.0</td>\n",
       "    </tr>\n",
       "  </tbody>\n",
       "</table>\n",
       "</div>"
      ],
      "text/plain": [
       "      return_rate  n_hits       std  n_bets\n",
       "0.50     0.809829   697.0  0.017555  4645.0\n",
       "0.53     0.809337   638.0  0.019870  3991.0\n",
       "0.56     0.815450   581.0  0.022431  3381.0\n",
       "0.59     0.815070   507.0  0.025795  2753.0\n",
       "0.62     0.817810   424.0  0.030202  2138.0\n",
       "0.65     0.790984   329.0  0.035137  1588.0\n",
       "0.68     0.801503   256.0  0.041501  1140.0\n",
       "0.71     0.790920   186.0  0.049051   800.0\n",
       "0.74     0.804200   134.0  0.058626   522.0\n",
       "0.77     0.780393    85.0  0.071824   313.0\n",
       "0.80     0.815007    56.0  0.091191   187.0\n",
       "0.83     0.736028    30.0  0.115124   110.0\n",
       "0.86     0.790129    19.0  0.151108    60.0\n",
       "0.89     0.921491    12.0  0.211698    31.0\n",
       "0.92     1.170850     6.0  0.365077    13.0\n",
       "0.95     1.656489     6.0  0.361476     8.0\n",
       "0.98     0.913314     1.0  0.913314     3.0"
      ]
     },
     "execution_count": 437,
     "metadata": {},
     "output_type": "execute_result"
    }
   ],
   "source": [
    "bb"
   ]
  },
  {
   "cell_type": "code",
   "execution_count": 254,
   "id": "b666adad-171e-443d-83fb-3df746176516",
   "metadata": {},
   "outputs": [
    {
     "data": {
      "text/plain": [
       "<matplotlib.legend.Legend at 0x7fa68cc85430>"
      ]
     },
     "execution_count": 254,
     "metadata": {},
     "output_type": "execute_result"
    },
    {
     "data": {
      "image/png": "[encoded data removed]",
      "text/plain": [
       "<Figure size 432x288 with 1 Axes>"
      ]
     },
     "metadata": {
      "needs_background": "light"
     },
     "output_type": "display_data"
    }
   ],
   "source": [
    "plt.plot(a.index, a['return_rate'], label='add_kaisai&kyori')\n",
    "plt.plot(me_p.index, me_p['return_rate'], label='add_tyakusa&tuka')\n",
    "plt.xlabel('threshold')\n",
    "plt.ylabel('return_rate')\n",
    "plt.grid()\n",
    "plt.legend()\n"
   ]
  },
  {
   "cell_type": "code",
   "execution_count": 382,
   "id": "9f45e316-a850-4b91-81c9-5f69448ef076",
   "metadata": {
    "tags": []
   },
   "outputs": [
    {
     "data": {
      "text/html": [
       "<div>\n",
       "<style scoped>\n",
       "    .dataframe tbody tr th:only-of-type {\n",
       "        vertical-align: middle;\n",
       "    }\n",
       "\n",
       "    .dataframe tbody tr th {\n",
       "        vertical-align: top;\n",
       "    }\n",
       "\n",
       "    .dataframe thead th {\n",
       "        text-align: right;\n",
       "    }\n",
       "</style>\n",
       "<table border=\"1\" class=\"dataframe\">\n",
       "  <thead>\n",
       "    <tr style=\"text-align: right;\">\n",
       "      <th></th>\n",
       "      <th>return_rate</th>\n",
       "      <th>n_hits</th>\n",
       "      <th>std</th>\n",
       "      <th>n_bets</th>\n",
       "    </tr>\n",
       "  </thead>\n",
       "  <tbody>\n",
       "    <tr>\n",
       "      <th>0.50</th>\n",
       "      <td>0.809829</td>\n",
       "      <td>697.0</td>\n",
       "      <td>0.017555</td>\n",
       "      <td>4645.0</td>\n",
       "    </tr>\n",
       "    <tr>\n",
       "      <th>0.53</th>\n",
       "      <td>0.809337</td>\n",
       "      <td>638.0</td>\n",
       "      <td>0.019870</td>\n",
       "      <td>3991.0</td>\n",
       "    </tr>\n",
       "    <tr>\n",
       "      <th>0.56</th>\n",
       "      <td>0.815450</td>\n",
       "      <td>581.0</td>\n",
       "      <td>0.022431</td>\n",
       "      <td>3381.0</td>\n",
       "    </tr>\n",
       "    <tr>\n",
       "      <th>0.59</th>\n",
       "      <td>0.815070</td>\n",
       "      <td>507.0</td>\n",
       "      <td>0.025795</td>\n",
       "      <td>2753.0</td>\n",
       "    </tr>\n",
       "    <tr>\n",
       "      <th>0.62</th>\n",
       "      <td>0.817810</td>\n",
       "      <td>424.0</td>\n",
       "      <td>0.030202</td>\n",
       "      <td>2138.0</td>\n",
       "    </tr>\n",
       "    <tr>\n",
       "      <th>0.65</th>\n",
       "      <td>0.790984</td>\n",
       "      <td>329.0</td>\n",
       "      <td>0.035137</td>\n",
       "      <td>1588.0</td>\n",
       "    </tr>\n",
       "    <tr>\n",
       "      <th>0.68</th>\n",
       "      <td>0.801503</td>\n",
       "      <td>256.0</td>\n",
       "      <td>0.041501</td>\n",
       "      <td>1140.0</td>\n",
       "    </tr>\n",
       "    <tr>\n",
       "      <th>0.71</th>\n",
       "      <td>0.790920</td>\n",
       "      <td>186.0</td>\n",
       "      <td>0.049051</td>\n",
       "      <td>800.0</td>\n",
       "    </tr>\n",
       "    <tr>\n",
       "      <th>0.74</th>\n",
       "      <td>0.804200</td>\n",
       "      <td>134.0</td>\n",
       "      <td>0.058626</td>\n",
       "      <td>522.0</td>\n",
       "    </tr>\n",
       "    <tr>\n",
       "      <th>0.77</th>\n",
       "      <td>0.780393</td>\n",
       "      <td>85.0</td>\n",
       "      <td>0.071824</td>\n",
       "      <td>313.0</td>\n",
       "    </tr>\n",
       "    <tr>\n",
       "      <th>0.80</th>\n",
       "      <td>0.815007</td>\n",
       "      <td>56.0</td>\n",
       "      <td>0.091191</td>\n",
       "      <td>187.0</td>\n",
       "    </tr>\n",
       "    <tr>\n",
       "      <th>0.83</th>\n",
       "      <td>0.736028</td>\n",
       "      <td>30.0</td>\n",
       "      <td>0.115124</td>\n",
       "      <td>110.0</td>\n",
       "    </tr>\n",
       "    <tr>\n",
       "      <th>0.86</th>\n",
       "      <td>0.790129</td>\n",
       "      <td>19.0</td>\n",
       "      <td>0.151108</td>\n",
       "      <td>60.0</td>\n",
       "    </tr>\n",
       "    <tr>\n",
       "      <th>0.89</th>\n",
       "      <td>0.921491</td>\n",
       "      <td>12.0</td>\n",
       "      <td>0.211698</td>\n",
       "      <td>31.0</td>\n",
       "    </tr>\n",
       "    <tr>\n",
       "      <th>0.92</th>\n",
       "      <td>1.170850</td>\n",
       "      <td>6.0</td>\n",
       "      <td>0.365077</td>\n",
       "      <td>13.0</td>\n",
       "    </tr>\n",
       "    <tr>\n",
       "      <th>0.95</th>\n",
       "      <td>1.656489</td>\n",
       "      <td>6.0</td>\n",
       "      <td>0.361476</td>\n",
       "      <td>8.0</td>\n",
       "    </tr>\n",
       "    <tr>\n",
       "      <th>0.98</th>\n",
       "      <td>0.913314</td>\n",
       "      <td>1.0</td>\n",
       "      <td>0.913314</td>\n",
       "      <td>3.0</td>\n",
       "    </tr>\n",
       "  </tbody>\n",
       "</table>\n",
       "</div>"
      ],
      "text/plain": [
       "      return_rate  n_hits       std  n_bets\n",
       "0.50     0.809829   697.0  0.017555  4645.0\n",
       "0.53     0.809337   638.0  0.019870  3991.0\n",
       "0.56     0.815450   581.0  0.022431  3381.0\n",
       "0.59     0.815070   507.0  0.025795  2753.0\n",
       "0.62     0.817810   424.0  0.030202  2138.0\n",
       "0.65     0.790984   329.0  0.035137  1588.0\n",
       "0.68     0.801503   256.0  0.041501  1140.0\n",
       "0.71     0.790920   186.0  0.049051   800.0\n",
       "0.74     0.804200   134.0  0.058626   522.0\n",
       "0.77     0.780393    85.0  0.071824   313.0\n",
       "0.80     0.815007    56.0  0.091191   187.0\n",
       "0.83     0.736028    30.0  0.115124   110.0\n",
       "0.86     0.790129    19.0  0.151108    60.0\n",
       "0.89     0.921491    12.0  0.211698    31.0\n",
       "0.92     1.170850     6.0  0.365077    13.0\n",
       "0.95     1.656489     6.0  0.361476     8.0\n",
       "0.98     0.913314     1.0  0.913314     3.0"
      ]
     },
     "execution_count": 382,
     "metadata": {},
     "output_type": "execute_result"
    }
   ],
   "source": [
    "a"
   ]
  },
  {
   "cell_type": "code",
   "execution_count": 426,
   "id": "e699d2c6-a5e5-4743-b550-44f6d133f84a",
   "metadata": {},
   "outputs": [
    {
     "data": {
      "text/html": [
       "<div>\n",
       "<style scoped>\n",
       "    .dataframe tbody tr th:only-of-type {\n",
       "        vertical-align: middle;\n",
       "    }\n",
       "\n",
       "    .dataframe tbody tr th {\n",
       "        vertical-align: top;\n",
       "    }\n",
       "\n",
       "    .dataframe thead th {\n",
       "        text-align: right;\n",
       "    }\n",
       "</style>\n",
       "<table border=\"1\" class=\"dataframe\">\n",
       "  <thead>\n",
       "    <tr style=\"text-align: right;\">\n",
       "      <th></th>\n",
       "      <th>return_rate</th>\n",
       "      <th>n_hits</th>\n",
       "    </tr>\n",
       "  </thead>\n",
       "  <tbody>\n",
       "    <tr>\n",
       "      <th>4077</th>\n",
       "      <td>0.808673</td>\n",
       "      <td>642.0</td>\n",
       "    </tr>\n",
       "    <tr>\n",
       "      <th>3965</th>\n",
       "      <td>0.806079</td>\n",
       "      <td>629.0</td>\n",
       "    </tr>\n",
       "    <tr>\n",
       "      <th>3866</th>\n",
       "      <td>0.799403</td>\n",
       "      <td>614.0</td>\n",
       "    </tr>\n",
       "    <tr>\n",
       "      <th>3753</th>\n",
       "      <td>0.799785</td>\n",
       "      <td>604.0</td>\n",
       "    </tr>\n",
       "    <tr>\n",
       "      <th>3654</th>\n",
       "      <td>0.798432</td>\n",
       "      <td>594.0</td>\n",
       "    </tr>\n",
       "    <tr>\n",
       "      <th>...</th>\n",
       "      <td>...</td>\n",
       "      <td>...</td>\n",
       "    </tr>\n",
       "    <tr>\n",
       "      <th>95</th>\n",
       "      <td>0.719780</td>\n",
       "      <td>25.0</td>\n",
       "    </tr>\n",
       "    <tr>\n",
       "      <th>80</th>\n",
       "      <td>0.835793</td>\n",
       "      <td>25.0</td>\n",
       "    </tr>\n",
       "    <tr>\n",
       "      <th>72</th>\n",
       "      <td>0.839000</td>\n",
       "      <td>23.0</td>\n",
       "    </tr>\n",
       "    <tr>\n",
       "      <th>62</th>\n",
       "      <td>0.782453</td>\n",
       "      <td>20.0</td>\n",
       "    </tr>\n",
       "    <tr>\n",
       "      <th>54</th>\n",
       "      <td>0.849519</td>\n",
       "      <td>19.0</td>\n",
       "    </tr>\n",
       "  </tbody>\n",
       "</table>\n",
       "<p>75 rows × 2 columns</p>\n",
       "</div>"
      ],
      "text/plain": [
       "      return_rate  n_hits\n",
       "4077     0.808673   642.0\n",
       "3965     0.806079   629.0\n",
       "3866     0.799403   614.0\n",
       "3753     0.799785   604.0\n",
       "3654     0.798432   594.0\n",
       "...           ...     ...\n",
       "95       0.719780    25.0\n",
       "80       0.835793    25.0\n",
       "72       0.839000    23.0\n",
       "62       0.782453    20.0\n",
       "54       0.849519    19.0\n",
       "\n",
       "[75 rows x 2 columns]"
      ]
     },
     "execution_count": 426,
     "metadata": {},
     "output_type": "execute_result"
    }
   ],
   "source": [
    "b"
   ]
  },
  {
   "cell_type": "code",
   "execution_count": 428,
   "id": "3d91dad6-0d59-47d8-82fa-b726708c338a",
   "metadata": {},
   "outputs": [
    {
     "data": {
      "text/plain": [
       "<matplotlib.legend.Legend at 0x7fa63d67e970>"
      ]
     },
     "execution_count": 428,
     "metadata": {},
     "output_type": "execute_result"
    },
    {
     "data": {
      "image/png": "[encoded data removed]",
      "text/plain": [
       "<Figure size 432x288 with 1 Axes>"
      ]
     },
     "metadata": {
      "needs_background": "light"
     },
     "output_type": "display_data"
    }
   ],
   "source": [
    "plt.fill_between(a.index, y1=a[\"return_rate\"]-a[\"std\"],\\\n",
    "                y2=a[\"return_rate\"]+a[\"std\"], alpha=0.3)\n",
    "plt.plot(a.index, a[\"return_rate\"],label='add_kaisai&kyori')\n",
    "plt.fill_between(me_p.index, y1=me_p['return_rate']-me_p[\"std\"],\\\n",
    "         y2=me_p[\"return_rate\"]+me_p[\"std\"], alpha=0.3)\n",
    "plt.plot(me_p.index, me_p[\"return_rate\"],label='add_tyakusa&tuka')\n",
    "plt.grid()\n",
    "plt.xlabel(\"threshold\")\n",
    "plt.ylabel('return_rate')\n",
    "plt.legend()\n",
    "#単勝の回収率の比較"
   ]
  },
  {
   "cell_type": "code",
   "execution_count": 429,
   "id": "4dd64bf6-1067-41b3-87c5-4ec1526055bd",
   "metadata": {},
   "outputs": [
    {
     "data": {
      "text/html": [
       "<div>\n",
       "<style scoped>\n",
       "    .dataframe tbody tr th:only-of-type {\n",
       "        vertical-align: middle;\n",
       "    }\n",
       "\n",
       "    .dataframe tbody tr th {\n",
       "        vertical-align: top;\n",
       "    }\n",
       "\n",
       "    .dataframe thead th {\n",
       "        text-align: right;\n",
       "    }\n",
       "</style>\n",
       "<table border=\"1\" class=\"dataframe\">\n",
       "  <thead>\n",
       "    <tr style=\"text-align: right;\">\n",
       "      <th></th>\n",
       "      <th>return_rate</th>\n",
       "      <th>n_hits</th>\n",
       "      <th>std</th>\n",
       "      <th>n_bets</th>\n",
       "    </tr>\n",
       "  </thead>\n",
       "  <tbody>\n",
       "    <tr>\n",
       "      <th>0.50</th>\n",
       "      <td>0.847913</td>\n",
       "      <td>745.0</td>\n",
       "      <td>0.046200</td>\n",
       "      <td>5222.0</td>\n",
       "    </tr>\n",
       "    <tr>\n",
       "      <th>0.53</th>\n",
       "      <td>0.847673</td>\n",
       "      <td>684.0</td>\n",
       "      <td>0.051208</td>\n",
       "      <td>4470.0</td>\n",
       "    </tr>\n",
       "    <tr>\n",
       "      <th>0.56</th>\n",
       "      <td>0.817423</td>\n",
       "      <td>618.0</td>\n",
       "      <td>0.037721</td>\n",
       "      <td>3788.0</td>\n",
       "    </tr>\n",
       "    <tr>\n",
       "      <th>0.59</th>\n",
       "      <td>0.820186</td>\n",
       "      <td>546.0</td>\n",
       "      <td>0.041075</td>\n",
       "      <td>3126.0</td>\n",
       "    </tr>\n",
       "    <tr>\n",
       "      <th>0.62</th>\n",
       "      <td>0.858062</td>\n",
       "      <td>478.0</td>\n",
       "      <td>0.046480</td>\n",
       "      <td>2487.0</td>\n",
       "    </tr>\n",
       "    <tr>\n",
       "      <th>0.65</th>\n",
       "      <td>0.843770</td>\n",
       "      <td>384.0</td>\n",
       "      <td>0.051925</td>\n",
       "      <td>1894.0</td>\n",
       "    </tr>\n",
       "    <tr>\n",
       "      <th>0.68</th>\n",
       "      <td>0.874420</td>\n",
       "      <td>307.0</td>\n",
       "      <td>0.062610</td>\n",
       "      <td>1380.0</td>\n",
       "    </tr>\n",
       "    <tr>\n",
       "      <th>0.71</th>\n",
       "      <td>0.839232</td>\n",
       "      <td>210.0</td>\n",
       "      <td>0.076813</td>\n",
       "      <td>938.0</td>\n",
       "    </tr>\n",
       "    <tr>\n",
       "      <th>0.74</th>\n",
       "      <td>0.816720</td>\n",
       "      <td>153.0</td>\n",
       "      <td>0.077064</td>\n",
       "      <td>622.0</td>\n",
       "    </tr>\n",
       "    <tr>\n",
       "      <th>0.77</th>\n",
       "      <td>0.878030</td>\n",
       "      <td>108.0</td>\n",
       "      <td>0.103752</td>\n",
       "      <td>396.0</td>\n",
       "    </tr>\n",
       "    <tr>\n",
       "      <th>0.80</th>\n",
       "      <td>0.857647</td>\n",
       "      <td>76.0</td>\n",
       "      <td>0.104845</td>\n",
       "      <td>255.0</td>\n",
       "    </tr>\n",
       "    <tr>\n",
       "      <th>0.83</th>\n",
       "      <td>0.913281</td>\n",
       "      <td>44.0</td>\n",
       "      <td>0.130056</td>\n",
       "      <td>128.0</td>\n",
       "    </tr>\n",
       "    <tr>\n",
       "      <th>0.86</th>\n",
       "      <td>0.857143</td>\n",
       "      <td>23.0</td>\n",
       "      <td>0.171011</td>\n",
       "      <td>70.0</td>\n",
       "    </tr>\n",
       "    <tr>\n",
       "      <th>0.89</th>\n",
       "      <td>0.724242</td>\n",
       "      <td>10.0</td>\n",
       "      <td>0.208213</td>\n",
       "      <td>33.0</td>\n",
       "    </tr>\n",
       "    <tr>\n",
       "      <th>0.92</th>\n",
       "      <td>1.153846</td>\n",
       "      <td>7.0</td>\n",
       "      <td>0.325146</td>\n",
       "      <td>13.0</td>\n",
       "    </tr>\n",
       "    <tr>\n",
       "      <th>0.95</th>\n",
       "      <td>1.560000</td>\n",
       "      <td>4.0</td>\n",
       "      <td>0.417852</td>\n",
       "      <td>5.0</td>\n",
       "    </tr>\n",
       "  </tbody>\n",
       "</table>\n",
       "</div>"
      ],
      "text/plain": [
       "      return_rate  n_hits       std  n_bets\n",
       "0.50     0.847913   745.0  0.046200  5222.0\n",
       "0.53     0.847673   684.0  0.051208  4470.0\n",
       "0.56     0.817423   618.0  0.037721  3788.0\n",
       "0.59     0.820186   546.0  0.041075  3126.0\n",
       "0.62     0.858062   478.0  0.046480  2487.0\n",
       "0.65     0.843770   384.0  0.051925  1894.0\n",
       "0.68     0.874420   307.0  0.062610  1380.0\n",
       "0.71     0.839232   210.0  0.076813   938.0\n",
       "0.74     0.816720   153.0  0.077064   622.0\n",
       "0.77     0.878030   108.0  0.103752   396.0\n",
       "0.80     0.857647    76.0  0.104845   255.0\n",
       "0.83     0.913281    44.0  0.130056   128.0\n",
       "0.86     0.857143    23.0  0.171011    70.0\n",
       "0.89     0.724242    10.0  0.208213    33.0\n",
       "0.92     1.153846     7.0  0.325146    13.0\n",
       "0.95     1.560000     4.0  0.417852     5.0"
      ]
     },
     "execution_count": 429,
     "metadata": {},
     "output_type": "execute_result"
    }
   ],
   "source": [
    "me_p"
   ]
  },
  {
   "cell_type": "code",
   "execution_count": 440,
   "id": "40fea26a-e4a0-4c00-9321-130a5a8842b6",
   "metadata": {},
   "outputs": [
    {
     "data": {
      "text/html": [
       "<div>\n",
       "<style scoped>\n",
       "    .dataframe tbody tr th:only-of-type {\n",
       "        vertical-align: middle;\n",
       "    }\n",
       "\n",
       "    .dataframe tbody tr th {\n",
       "        vertical-align: top;\n",
       "    }\n",
       "\n",
       "    .dataframe thead th {\n",
       "        text-align: right;\n",
       "    }\n",
       "</style>\n",
       "<table border=\"1\" class=\"dataframe\">\n",
       "  <thead>\n",
       "    <tr style=\"text-align: right;\">\n",
       "      <th></th>\n",
       "      <th>return_rate</th>\n",
       "      <th>n_hits</th>\n",
       "      <th>std</th>\n",
       "      <th>n_bets</th>\n",
       "    </tr>\n",
       "  </thead>\n",
       "  <tbody>\n",
       "    <tr>\n",
       "      <th>0.50</th>\n",
       "      <td>0.809829</td>\n",
       "      <td>697.0</td>\n",
       "      <td>0.017555</td>\n",
       "      <td>4645.0</td>\n",
       "    </tr>\n",
       "    <tr>\n",
       "      <th>0.53</th>\n",
       "      <td>0.809337</td>\n",
       "      <td>638.0</td>\n",
       "      <td>0.019870</td>\n",
       "      <td>3991.0</td>\n",
       "    </tr>\n",
       "    <tr>\n",
       "      <th>0.56</th>\n",
       "      <td>0.815450</td>\n",
       "      <td>581.0</td>\n",
       "      <td>0.022431</td>\n",
       "      <td>3381.0</td>\n",
       "    </tr>\n",
       "    <tr>\n",
       "      <th>0.59</th>\n",
       "      <td>0.815070</td>\n",
       "      <td>507.0</td>\n",
       "      <td>0.025795</td>\n",
       "      <td>2753.0</td>\n",
       "    </tr>\n",
       "    <tr>\n",
       "      <th>0.62</th>\n",
       "      <td>0.817810</td>\n",
       "      <td>424.0</td>\n",
       "      <td>0.030202</td>\n",
       "      <td>2138.0</td>\n",
       "    </tr>\n",
       "    <tr>\n",
       "      <th>0.65</th>\n",
       "      <td>0.790984</td>\n",
       "      <td>329.0</td>\n",
       "      <td>0.035137</td>\n",
       "      <td>1588.0</td>\n",
       "    </tr>\n",
       "    <tr>\n",
       "      <th>0.68</th>\n",
       "      <td>0.801503</td>\n",
       "      <td>256.0</td>\n",
       "      <td>0.041501</td>\n",
       "      <td>1140.0</td>\n",
       "    </tr>\n",
       "    <tr>\n",
       "      <th>0.71</th>\n",
       "      <td>0.790920</td>\n",
       "      <td>186.0</td>\n",
       "      <td>0.049051</td>\n",
       "      <td>800.0</td>\n",
       "    </tr>\n",
       "    <tr>\n",
       "      <th>0.74</th>\n",
       "      <td>0.804200</td>\n",
       "      <td>134.0</td>\n",
       "      <td>0.058626</td>\n",
       "      <td>522.0</td>\n",
       "    </tr>\n",
       "    <tr>\n",
       "      <th>0.77</th>\n",
       "      <td>0.780393</td>\n",
       "      <td>85.0</td>\n",
       "      <td>0.071824</td>\n",
       "      <td>313.0</td>\n",
       "    </tr>\n",
       "    <tr>\n",
       "      <th>0.80</th>\n",
       "      <td>0.815007</td>\n",
       "      <td>56.0</td>\n",
       "      <td>0.091191</td>\n",
       "      <td>187.0</td>\n",
       "    </tr>\n",
       "    <tr>\n",
       "      <th>0.83</th>\n",
       "      <td>0.736028</td>\n",
       "      <td>30.0</td>\n",
       "      <td>0.115124</td>\n",
       "      <td>110.0</td>\n",
       "    </tr>\n",
       "    <tr>\n",
       "      <th>0.86</th>\n",
       "      <td>0.790129</td>\n",
       "      <td>19.0</td>\n",
       "      <td>0.151108</td>\n",
       "      <td>60.0</td>\n",
       "    </tr>\n",
       "    <tr>\n",
       "      <th>0.89</th>\n",
       "      <td>0.921491</td>\n",
       "      <td>12.0</td>\n",
       "      <td>0.211698</td>\n",
       "      <td>31.0</td>\n",
       "    </tr>\n",
       "    <tr>\n",
       "      <th>0.92</th>\n",
       "      <td>1.170850</td>\n",
       "      <td>6.0</td>\n",
       "      <td>0.365077</td>\n",
       "      <td>13.0</td>\n",
       "    </tr>\n",
       "    <tr>\n",
       "      <th>0.95</th>\n",
       "      <td>1.656489</td>\n",
       "      <td>6.0</td>\n",
       "      <td>0.361476</td>\n",
       "      <td>8.0</td>\n",
       "    </tr>\n",
       "    <tr>\n",
       "      <th>0.98</th>\n",
       "      <td>0.913314</td>\n",
       "      <td>1.0</td>\n",
       "      <td>0.913314</td>\n",
       "      <td>3.0</td>\n",
       "    </tr>\n",
       "  </tbody>\n",
       "</table>\n",
       "</div>"
      ],
      "text/plain": [
       "      return_rate  n_hits       std  n_bets\n",
       "0.50     0.809829   697.0  0.017555  4645.0\n",
       "0.53     0.809337   638.0  0.019870  3991.0\n",
       "0.56     0.815450   581.0  0.022431  3381.0\n",
       "0.59     0.815070   507.0  0.025795  2753.0\n",
       "0.62     0.817810   424.0  0.030202  2138.0\n",
       "0.65     0.790984   329.0  0.035137  1588.0\n",
       "0.68     0.801503   256.0  0.041501  1140.0\n",
       "0.71     0.790920   186.0  0.049051   800.0\n",
       "0.74     0.804200   134.0  0.058626   522.0\n",
       "0.77     0.780393    85.0  0.071824   313.0\n",
       "0.80     0.815007    56.0  0.091191   187.0\n",
       "0.83     0.736028    30.0  0.115124   110.0\n",
       "0.86     0.790129    19.0  0.151108    60.0\n",
       "0.89     0.921491    12.0  0.211698    31.0\n",
       "0.92     1.170850     6.0  0.365077    13.0\n",
       "0.95     1.656489     6.0  0.361476     8.0\n",
       "0.98     0.913314     1.0  0.913314     3.0"
      ]
     },
     "execution_count": 440,
     "metadata": {},
     "output_type": "execute_result"
    }
   ],
   "source": [
    "bb"
   ]
  },
  {
   "cell_type": "code",
   "execution_count": 439,
   "id": "c0b5361d-4aa3-471d-b093-a1aeec438e74",
   "metadata": {},
   "outputs": [
    {
     "data": {
      "text/plain": [
       "<matplotlib.legend.Legend at 0x7fa5bc3d2d90>"
      ]
     },
     "execution_count": 439,
     "metadata": {},
     "output_type": "execute_result"
    },
    {
     "data": {
      "image/png": "[encoded data removed]",
      "text/plain": [
       "<Figure size 432x288 with 1 Axes>"
      ]
     },
     "metadata": {
      "needs_background": "light"
     },
     "output_type": "display_data"
    }
   ],
   "source": [
    "plt.plot(bb.index, bb[\"return_rate\"])\n",
    "plt.plot(me_p2.index, me_p2[\"return_rate\"])\n",
    "\n",
    "plt.fill_between(bb.index, y1=bb[\"return_rate\"]-bb[\"std\"],\\\n",
    "                y2=bb[\"return_rate\"]+bb[\"std\"], alpha=0.3, label=\"add_kaisai&kyori\")\n",
    "plt.fill_between(me_p2.index, y1=me_p2[\"return_rate\"]+me_p2[\"std\"],\\\n",
    "                y2=me_p2[\"return_rate\"]-me_p2[\"std\"], alpha=0.3, label=\"add_tyakusa&tuka\")\n",
    "plt.grid()\n",
    "plt.legend()"
   ]
  },
  {
   "cell_type": "code",
   "execution_count": 255,
   "id": "bf927cd7-5fe6-4470-ab48-68dd899d75f4",
   "metadata": {},
   "outputs": [
    {
     "data": {
      "application/vnd.jupyter.widget-view+json": {
       "model_id": "fec67090f7874ec5b8284edd02d83b28",
       "version_major": 2,
       "version_minor": 0
      },
      "text/plain": [
       "  0%|          | 0/100 [00:00<?, ?it/s]"
      ]
     },
     "metadata": {},
     "output_type": "display_data"
    },
    {
     "data": {
      "application/vnd.jupyter.widget-view+json": {
       "model_id": "abfbaee8d1344fcc9dcdf33189672062",
       "version_major": 2,
       "version_minor": 0
      },
      "text/plain": [
       "  0%|          | 0/100 [00:00<?, ?it/s]"
      ]
     },
     "metadata": {},
     "output_type": "display_data"
    }
   ],
   "source": [
    "a = gain(me_h.tansho_return, X_test)\n",
    "b = gain(me_h.tansho_return_proper, X_test)"
   ]
  },
  {
   "cell_type": "code",
   "execution_count": 261,
   "id": "0cb18c8f-da5f-4342-a69d-b94daf5bb7fb",
   "metadata": {},
   "outputs": [
    {
     "data": {
      "image/png": "[encoded data removed]",
      "text/plain": [
       "<Figure size 432x288 with 1 Axes>"
      ]
     },
     "metadata": {
      "needs_background": "light"
     },
     "output_type": "display_data"
    }
   ],
   "source": [
    "plt.plot(a.index, a['return_rate'], label='tansho_return')\n",
    "plt.plot(b.index, b['return_rate'], label='return_proper')\n",
    "plt.legend()\n",
    "plt.grid()"
   ]
  },
  {
   "cell_type": "markdown",
   "id": "29ff8896-af0d-4ea6-8dc3-80d2cc8bc209",
   "metadata": {},
   "source": [
    "#　標準偏差の追加"
   ]
  },
  {
   "cell_type": "code",
   "execution_count": 262,
   "id": "9f3b87e0-7a74-49cd-b9c8-ffd08874df58",
   "metadata": {},
   "outputs": [],
   "source": [
    "#第一引数にあたるxにはX_testのようなテストデータを入れる\n",
    "# return_tables_path = pickle_path\n",
    "class ModelEvaluator:\n",
    "    def __init__(self, model, return_tables_list, std=True):\n",
    "        self.model = model\n",
    "        self.rt = Return.read_pickle(return_tables_list)\n",
    "        self.fukusho = self.rt.fukusho\n",
    "        self.tansho = self.rt.tansho\n",
    "        self.umaren = self.rt.umaren\n",
    "        self.std = std\n",
    "    \n",
    "    #閾値(threshold)を設定する　デフォルト0.6\n",
    "    def predict(self, X, threshold=0.6):\n",
    "        y_pred = self.predict_proba(X)\n",
    "        return [0 if p < threshold else 1 for p in y_pred]\n",
    "    \n",
    "    #1になる確率の予測\n",
    "    def predict_proba(self, X):\n",
    "        proba = pd.Series(self.model.predict_proba(X.drop([\"単勝\"],axis=1))[:,1], index=X.index)\n",
    "        if self.std:\n",
    "            standerd_scaler = lambda x: (x - x.mean()) / x.std()\n",
    "            proba = proba.groupby(level=0).transform(standerd_scaler)\n",
    "        proba = (proba - proba.min()) / (proba.max() - proba.min())\n",
    "        return proba \n",
    "    \n",
    "    #auc曲線のスコアを求める\n",
    "    def score(self, y_true, X):\n",
    "        return roc_auc_score(y_true, self.predict_proba(X))\n",
    "    \n",
    "    #各成分の特徴量の強さの表示 デフォルト20\n",
    "    def feature_importance(self, X, n_display=20):\n",
    "        importances = pd.DataFrame({\"features\":X.columns, \n",
    "                                  \"importance\":self.model.feature_importances_})\n",
    "        return importances.sort_values('importance', ascending=False)[:n_display]\n",
    "    \n",
    "    #閾値を通して1と判定されたものだけをpred_tableとして出力する\n",
    "    def pred_table(self, X, threshold=0.6, bet_only = True):\n",
    "        pred_table = X.copy()[['馬番',\"単勝\"]]\n",
    "        pred_table['pred'] = self.predict(X, threshold)\n",
    "        if bet_only:\n",
    "            return pred_table[pred_table['pred']==1][['馬番',\"単勝\"]]\n",
    "        else:\n",
    "            return pred_table\n",
    "        \n",
    "    def fukusho_return(self, X, threshold=0.6):\n",
    "        pred_table = self.pred_table(X, threshold)\n",
    "        n_bets = len(pred_table)\n",
    "        money = -100 * n_bets\n",
    "        df = self.fukusho.copy()\n",
    "        df = df.merge(pred_table, left_index=True, right_index=True, how='right')\n",
    "        for i in range(3):\n",
    "            money += df[df['win_{}'.format(i)]==df['馬番']]['return_{}'.format(i)].sum()\n",
    "        return_rate = (n_bets * 100 + money) / (n_bets * 100)\n",
    "        return n_bets, return_rate\n",
    "    \n",
    "    def tansho_return(self, X, threshold=0.6):\n",
    "        pred_table = self.pred_table(X, threshold)\n",
    "        n_bets = len(pred_table)\n",
    "        n_races = pred_table.index.nunique()\n",
    "        \n",
    "        money = -100 * n_bets\n",
    "        df = self.tansho.copy()\n",
    "        df = df.merge(pred_table, left_index=True, right_index=True, how='right')\n",
    "        n_hits = len(df[df[\"win\"]==df[\"馬番\"]])\n",
    "        money += df[df['win']==df['馬番']]['return'].sum()\n",
    "        return_rate = (n_bets * 100 + money) / (n_bets * 100)\n",
    "        \n",
    "        std = ((df['win'] == df['馬番'])*\\\n",
    "               df['return']).groupby(level=0).sum().std() *\\\n",
    "                np.sqrt(n_races)/(n_bets*100)\n",
    "        \n",
    "        \n",
    "        return n_bets, return_rate, n_hits, std\n",
    "        #self.df = df\n",
    "        #self.tansho_df = self.tansho.copy()\n",
    "    \n",
    "    def tansho_return_proper(self, X, threshold=0.5):\n",
    "        #モデルによって儲かると判断された馬\n",
    "        pred_table = self.pred_table(X, threshold)\n",
    "        n_bets = len(pred_table)\n",
    "        n_races = pred_table.index.nunique()\n",
    "        \n",
    "        #払い戻しの際にpred_tableを混ぜる\n",
    "        df = self.tansho.copy()\n",
    "        df = df.merge(pred_table, left_index=True, right_index=True, how='right')\n",
    "        #self.s_df = df \n",
    "        \n",
    "        bet_money = (1 / pred_table[\"単勝\"]).sum()\n",
    "    \n",
    "        std = ((df[\"win\"] == df[\"馬番\"]).astype(int).groupby(level=0).sum().std()\\\n",
    "               * np.sqrt(n_races) / bet_money)\n",
    "        \n",
    "        #単勝適正回収率の計算\n",
    "        n_hits = len(df.query(\"win == 馬番\"))\n",
    "        return_rate = n_hits / (1/ pred_table['単勝']).sum()\n",
    "        \n",
    "        return n_bets, return_rate, n_hits, std\n",
    "    \n",
    "    def umaren_return(self, X, threshold=0.6):\n",
    "        pred_table = self.pred_table(X, threshold)\n",
    "        hit = {}\n",
    "        n_bets = 0\n",
    "        for race_id, preds in pred_table.groupby(level=0):\n",
    "            n_bets += comb(len(preds, 2))\n",
    "            hit[race_id] = set(\n",
    "                self.umaren.loc[race_id][[0, 1]]\n",
    "            ).issubset(set(preds))\n",
    "        return_rate = self.umaren.index.map(hit).values * self.umaren['return'].sum() / \\\n",
    "            (n_bets * 100)\n",
    "        return n_bets, return_rate\n",
    "      "
   ]
  },
  {
   "cell_type": "code",
   "execution_count": 282,
   "id": "81a97767-422a-4deb-b9b4-f87eb8d67bbe",
   "metadata": {},
   "outputs": [],
   "source": [
    "#第一引数にあたるxにはX_testのようなテストデータを入れる\n",
    "# return_tables_path = pickle_path\n",
    "class ModelEvaluator:\n",
    "    def __init__(self, model, return_tables_list, std=True):\n",
    "        self.model = model\n",
    "        self.rt = Return.read_pickle(return_tables_list)\n",
    "        #self.rt = return_tables_list\n",
    "        self.fukusho = self.rt.fukusho\n",
    "        self.tansho = self.rt.tansho\n",
    "        self.umaren = self.rt.umaren\n",
    "        self.std = std\n",
    "    \n",
    "    #閾値(threshold)を設定する　デフォルト0.6\n",
    "    def predict(self, X, threshold=0.6):\n",
    "        y_pred = self.predict_proba(X)\n",
    "        return [0 if p < threshold else 1 for p in y_pred]\n",
    "    \n",
    "    #1になる確率の予測\n",
    "    def predict_proba(self, X):\n",
    "        proba = pd.Series(self.model.predict_proba(X.drop([\"単勝\"],axis=1))[:,1], index=X.index)\n",
    "        if self.std:\n",
    "            standerd_scaler = lambda x: (x - x.mean()) / x.std()\n",
    "            proba = proba.groupby(level=0).transform(standerd_scaler)\n",
    "        proba = (proba - proba.min()) / (proba.max() - proba.min())\n",
    "        return proba \n",
    "    \n",
    "    #auc曲線のスコアを求める\n",
    "    def score(self, y_true, X):\n",
    "        return roc_auc_score(y_true, self.predict_proba(X))\n",
    "    \n",
    "    #各成分の特徴量の強さの表示 デフォルト20\n",
    "    def feature_importance(self, X, n_display=20):\n",
    "        importances = pd.DataFrame({\"features\":X.columns, \n",
    "                                  \"importance\":self.model.feature_importances_})\n",
    "        return importances.sort_values('importance', ascending=False)[:n_display]\n",
    "    \n",
    "    #閾値を通して1と判定されたものだけをpred_tableとして出力する\n",
    "    def pred_table(self, X, threshold=0.6, bet_only = True):\n",
    "        pred_table = X.copy()[['馬番',\"単勝\"]]\n",
    "        pred_table['pred'] = self.predict(X, threshold)\n",
    "        if bet_only:\n",
    "            return pred_table[pred_table['pred']==1][['馬番',\"単勝\"]]\n",
    "        else:\n",
    "            return pred_table\n",
    "        \n",
    "    def fukusho_return(self, X, threshold=0.6):\n",
    "        pred_table = self.pred_table(X, threshold)\n",
    "        n_bets = len(pred_table)\n",
    "        money = -100 * n_bets\n",
    "        df = self.fukusho.copy()\n",
    "        df = df.merge(pred_table, left_index=True, right_index=True, how='right')\n",
    "        for i in range(3):\n",
    "            money += df[df['win_{}'.format(i)]==df['馬番']]['return_{}'.format(i)].sum()\n",
    "        return_rate = (n_bets * 100 + money) / (n_bets * 100)\n",
    "        return n_bets, return_rate\n",
    "    \n",
    "    def tansho_return(self, X, threshold=0.6):\n",
    "        pred_table = self.pred_table(X, threshold)\n",
    "        n_bets = len(pred_table)\n",
    "        n_races = pred_table.index.nunique()\n",
    "        \n",
    "        money = -100 * n_bets\n",
    "        df = self.tansho.copy()\n",
    "        df = df.merge(pred_table, left_index=True, right_index=True, how='right')\n",
    "        n_hits = len(df[df[\"win\"]==df[\"馬番\"]])\n",
    "        money += df[df['win']==df['馬番']]['return'].sum()\n",
    "        return_rate = (n_bets * 100 + money) / (n_bets * 100)\n",
    "        \n",
    "        std = ((df['win'] == df['馬番'])*\\\n",
    "               df['return']).groupby(level=0).sum().std() *\\\n",
    "                np.sqrt(n_races)/(n_bets*100)\n",
    "        \n",
    "        \n",
    "        return n_bets, return_rate, n_hits, std\n",
    "        #self.df = df\n",
    "        #self.tansho_df = self.tansho.copy()\n",
    "    \n",
    "    def tansho_return_proper(self, X, threshold=0.5):\n",
    "        #モデルによって儲かると判断された馬\n",
    "        pred_table = self.pred_table(X, threshold)\n",
    "        n_bets = len(pred_table)\n",
    "        n_races = pred_table.index.nunique()\n",
    "        \n",
    "        #払い戻しの際にpred_tableを混ぜる\n",
    "        df = self.tansho.copy()\n",
    "        df = df.merge(pred_table, left_index=True, right_index=True, how='right')\n",
    "        #self.s_df = df \n",
    "        \n",
    "        bet_money = (1 / pred_table[\"単勝\"]).sum()\n",
    "    \n",
    "        std = ((df[\"win\"] == df[\"馬番\"]).astype(int).groupby(level=0).sum().std()\\\n",
    "               * np.sqrt(n_races) / bet_money)\n",
    "        \n",
    "        #単勝適正回収率の計算\n",
    "        n_hits = len(df.query(\"win == 馬番\"))\n",
    "        return_rate = n_hits / (1/ pred_table['単勝']).sum()\n",
    "        \n",
    "        return n_bets, return_rate, n_hits, std\n",
    "    \n",
    "    def umaren_return(self, X, threshold=0.6):\n",
    "        pred_table = self.pred_table(X, threshold)\n",
    "        hit = {}\n",
    "        n_bets = 0\n",
    "        for race_id, preds in pred_table.groupby(level=0):\n",
    "            n_bets += comb(len(preds, 2))\n",
    "            hit[race_id] = set(\n",
    "                self.umaren.loc[race_id][[0, 1]]\n",
    "            ).issubset(set(preds))\n",
    "        return_rate = self.umaren.index.map(hit).values * self.umaren['return'].sum() / \\\n",
    "            (n_bets * 100)\n",
    "        return n_bets, return_rate\n",
    "      "
   ]
  },
  {
   "cell_type": "code",
   "execution_count": 313,
   "id": "27201b08-5c18-480d-88cd-99aa990cf77d",
   "metadata": {},
   "outputs": [],
   "source": [
    "me = ModelEvaluator(lgb_clf, [\"Return_tables_all.pickle\"])"
   ]
  },
  {
   "cell_type": "code",
   "execution_count": 315,
   "id": "5ef481a3-da47-4be1-9529-b4a88c76854a",
   "metadata": {},
   "outputs": [
    {
     "data": {
      "application/vnd.jupyter.widget-view+json": {
       "model_id": "1ae9b9b9e78c4b60ae4207b4989b3718",
       "version_major": 2,
       "version_minor": 0
      },
      "text/plain": [
       "  0%|          | 0/100 [00:00<?, ?it/s]"
      ]
     },
     "metadata": {},
     "output_type": "display_data"
    },
    {
     "name": "stderr",
     "output_type": "stream",
     "text": [
      "/var/folders/tm/fn98hw1541vg9yshhxdqfgc80000gn/T/ipykernel_99170/392476289.py:96: RuntimeWarning: invalid value encountered in double_scalars\n",
      "  return_rate = n_hits / (1/ pred_table['単勝']).sum()\n"
     ]
    }
   ],
   "source": [
    "aa = gain(me.tansho_return_proper, X_test)"
   ]
  },
  {
   "cell_type": "code",
   "execution_count": null,
   "id": "db462c5f-6106-4999-aaf3-47feee7f139a",
   "metadata": {},
   "outputs": [],
   "source": [
    "plt.fill_between(df.index, y1=df['return_rate']-df['std'],\n",
    "        y2=df['return_rate']+df['std'],alpha=0.3)\n",
    " "
   ]
  },
  {
   "cell_type": "code",
   "execution_count": 319,
   "id": "58c0a0f0-8a89-4704-9e5d-c908ca5307ab",
   "metadata": {},
   "outputs": [
    {
     "data": {
      "text/plain": [
       "[<matplotlib.lines.Line2D at 0x7fa5f8e49850>]"
      ]
     },
     "execution_count": 319,
     "metadata": {},
     "output_type": "execute_result"
    },
    {
     "data": {
      "image/png": "[encoded data removed]",
      "text/plain": [
       "<Figure size 432x288 with 1 Axes>"
      ]
     },
     "metadata": {
      "needs_background": "light"
     },
     "output_type": "display_data"
    }
   ],
   "source": [
    "plt.fill_between(aa.index, y1=aa['return_rate']-aa['std'],y2=aa['return_rate']+aa[\"std\"], alpha=0.3)\n",
    "plt.plot(aa.index, aa[\"return_rate\"])"
   ]
  },
  {
   "cell_type": "code",
   "execution_count": 320,
   "id": "15079186-bd67-47d8-906e-11bab72a4f13",
   "metadata": {},
   "outputs": [
    {
     "data": {
      "text/html": [
       "<div>\n",
       "<style scoped>\n",
       "    .dataframe tbody tr th:only-of-type {\n",
       "        vertical-align: middle;\n",
       "    }\n",
       "\n",
       "    .dataframe tbody tr th {\n",
       "        vertical-align: top;\n",
       "    }\n",
       "\n",
       "    .dataframe thead th {\n",
       "        text-align: right;\n",
       "    }\n",
       "</style>\n",
       "<table border=\"1\" class=\"dataframe\">\n",
       "  <thead>\n",
       "    <tr style=\"text-align: right;\">\n",
       "      <th></th>\n",
       "      <th>return_rate</th>\n",
       "      <th>n_hits</th>\n",
       "      <th>std</th>\n",
       "      <th>n_bets</th>\n",
       "    </tr>\n",
       "  </thead>\n",
       "  <tbody>\n",
       "    <tr>\n",
       "      <th>0.50</th>\n",
       "      <td>0.808673</td>\n",
       "      <td>642.0</td>\n",
       "      <td>0.019692</td>\n",
       "      <td>4077.0</td>\n",
       "    </tr>\n",
       "    <tr>\n",
       "      <th>0.53</th>\n",
       "      <td>0.807737</td>\n",
       "      <td>576.0</td>\n",
       "      <td>0.022437</td>\n",
       "      <td>3427.0</td>\n",
       "    </tr>\n",
       "    <tr>\n",
       "      <th>0.56</th>\n",
       "      <td>0.808198</td>\n",
       "      <td>515.0</td>\n",
       "      <td>0.025268</td>\n",
       "      <td>2884.0</td>\n",
       "    </tr>\n",
       "    <tr>\n",
       "      <th>0.59</th>\n",
       "      <td>0.816329</td>\n",
       "      <td>460.0</td>\n",
       "      <td>0.028317</td>\n",
       "      <td>2405.0</td>\n",
       "    </tr>\n",
       "    <tr>\n",
       "      <th>0.62</th>\n",
       "      <td>0.814211</td>\n",
       "      <td>387.0</td>\n",
       "      <td>0.032532</td>\n",
       "      <td>1894.0</td>\n",
       "    </tr>\n",
       "    <tr>\n",
       "      <th>0.65</th>\n",
       "      <td>0.819739</td>\n",
       "      <td>323.0</td>\n",
       "      <td>0.037064</td>\n",
       "      <td>1470.0</td>\n",
       "    </tr>\n",
       "    <tr>\n",
       "      <th>0.68</th>\n",
       "      <td>0.832127</td>\n",
       "      <td>259.0</td>\n",
       "      <td>0.043005</td>\n",
       "      <td>1097.0</td>\n",
       "    </tr>\n",
       "    <tr>\n",
       "      <th>0.71</th>\n",
       "      <td>0.832422</td>\n",
       "      <td>202.0</td>\n",
       "      <td>0.049407</td>\n",
       "      <td>815.0</td>\n",
       "    </tr>\n",
       "    <tr>\n",
       "      <th>0.74</th>\n",
       "      <td>0.851612</td>\n",
       "      <td>152.0</td>\n",
       "      <td>0.058119</td>\n",
       "      <td>558.0</td>\n",
       "    </tr>\n",
       "    <tr>\n",
       "      <th>0.77</th>\n",
       "      <td>0.860371</td>\n",
       "      <td>109.0</td>\n",
       "      <td>0.069385</td>\n",
       "      <td>382.0</td>\n",
       "    </tr>\n",
       "    <tr>\n",
       "      <th>0.80</th>\n",
       "      <td>0.801753</td>\n",
       "      <td>67.0</td>\n",
       "      <td>0.083467</td>\n",
       "      <td>245.0</td>\n",
       "    </tr>\n",
       "    <tr>\n",
       "      <th>0.83</th>\n",
       "      <td>0.785562</td>\n",
       "      <td>41.0</td>\n",
       "      <td>0.104400</td>\n",
       "      <td>147.0</td>\n",
       "    </tr>\n",
       "    <tr>\n",
       "      <th>0.86</th>\n",
       "      <td>0.839000</td>\n",
       "      <td>23.0</td>\n",
       "      <td>0.145334</td>\n",
       "      <td>72.0</td>\n",
       "    </tr>\n",
       "    <tr>\n",
       "      <th>0.89</th>\n",
       "      <td>0.875485</td>\n",
       "      <td>13.0</td>\n",
       "      <td>0.195321</td>\n",
       "      <td>35.0</td>\n",
       "    </tr>\n",
       "    <tr>\n",
       "      <th>0.92</th>\n",
       "      <td>0.835726</td>\n",
       "      <td>4.0</td>\n",
       "      <td>0.356355</td>\n",
       "      <td>12.0</td>\n",
       "    </tr>\n",
       "    <tr>\n",
       "      <th>0.95</th>\n",
       "      <td>1.355323</td>\n",
       "      <td>3.0</td>\n",
       "      <td>0.451774</td>\n",
       "      <td>4.0</td>\n",
       "    </tr>\n",
       "    <tr>\n",
       "      <th>0.98</th>\n",
       "      <td>1.124409</td>\n",
       "      <td>2.0</td>\n",
       "      <td>0.562205</td>\n",
       "      <td>3.0</td>\n",
       "    </tr>\n",
       "  </tbody>\n",
       "</table>\n",
       "</div>"
      ],
      "text/plain": [
       "      return_rate  n_hits       std  n_bets\n",
       "0.50     0.808673   642.0  0.019692  4077.0\n",
       "0.53     0.807737   576.0  0.022437  3427.0\n",
       "0.56     0.808198   515.0  0.025268  2884.0\n",
       "0.59     0.816329   460.0  0.028317  2405.0\n",
       "0.62     0.814211   387.0  0.032532  1894.0\n",
       "0.65     0.819739   323.0  0.037064  1470.0\n",
       "0.68     0.832127   259.0  0.043005  1097.0\n",
       "0.71     0.832422   202.0  0.049407   815.0\n",
       "0.74     0.851612   152.0  0.058119   558.0\n",
       "0.77     0.860371   109.0  0.069385   382.0\n",
       "0.80     0.801753    67.0  0.083467   245.0\n",
       "0.83     0.785562    41.0  0.104400   147.0\n",
       "0.86     0.839000    23.0  0.145334    72.0\n",
       "0.89     0.875485    13.0  0.195321    35.0\n",
       "0.92     0.835726     4.0  0.356355    12.0\n",
       "0.95     1.355323     3.0  0.451774     4.0\n",
       "0.98     1.124409     2.0  0.562205     3.0"
      ]
     },
     "execution_count": 320,
     "metadata": {},
     "output_type": "execute_result"
    }
   ],
   "source": [
    "aa"
   ]
  },
  {
   "cell_type": "code",
   "execution_count": 302,
   "id": "81dde1f2-aeaa-499d-a7cf-43b31d61de82",
   "metadata": {},
   "outputs": [
    {
     "data": {
      "text/html": [
       "<div>\n",
       "<style scoped>\n",
       "    .dataframe tbody tr th:only-of-type {\n",
       "        vertical-align: middle;\n",
       "    }\n",
       "\n",
       "    .dataframe tbody tr th {\n",
       "        vertical-align: top;\n",
       "    }\n",
       "\n",
       "    .dataframe thead th {\n",
       "        text-align: right;\n",
       "    }\n",
       "</style>\n",
       "<table border=\"1\" class=\"dataframe\">\n",
       "  <thead>\n",
       "    <tr style=\"text-align: right;\">\n",
       "      <th></th>\n",
       "      <th>features</th>\n",
       "      <th>importance</th>\n",
       "    </tr>\n",
       "  </thead>\n",
       "  <tbody>\n",
       "    <tr>\n",
       "      <th>5</th>\n",
       "      <td>jockey_id</td>\n",
       "      <td>105</td>\n",
       "    </tr>\n",
       "    <tr>\n",
       "      <th>4</th>\n",
       "      <td>horse_id</td>\n",
       "      <td>82</td>\n",
       "    </tr>\n",
       "    <tr>\n",
       "      <th>7</th>\n",
       "      <td>体重</td>\n",
       "      <td>69</td>\n",
       "    </tr>\n",
       "    <tr>\n",
       "      <th>10</th>\n",
       "      <td>賞金_5R</td>\n",
       "      <td>54</td>\n",
       "    </tr>\n",
       "    <tr>\n",
       "      <th>24</th>\n",
       "      <td>賞金_race_type_5R</td>\n",
       "      <td>52</td>\n",
       "    </tr>\n",
       "    <tr>\n",
       "      <th>23</th>\n",
       "      <td>着順_race_type_5R</td>\n",
       "      <td>43</td>\n",
       "    </tr>\n",
       "    <tr>\n",
       "      <th>94</th>\n",
       "      <td>peds_1</td>\n",
       "      <td>42</td>\n",
       "    </tr>\n",
       "    <tr>\n",
       "      <th>9</th>\n",
       "      <td>着順_5R</td>\n",
       "      <td>41</td>\n",
       "    </tr>\n",
       "    <tr>\n",
       "      <th>152</th>\n",
       "      <td>peds_59</td>\n",
       "      <td>39</td>\n",
       "    </tr>\n",
       "    <tr>\n",
       "      <th>67</th>\n",
       "      <td>着差_allR</td>\n",
       "      <td>38</td>\n",
       "    </tr>\n",
       "    <tr>\n",
       "      <th>154</th>\n",
       "      <td>peds_61</td>\n",
       "      <td>37</td>\n",
       "    </tr>\n",
       "    <tr>\n",
       "      <th>2</th>\n",
       "      <td>斤量</td>\n",
       "      <td>36</td>\n",
       "    </tr>\n",
       "    <tr>\n",
       "      <th>8</th>\n",
       "      <td>体重変化</td>\n",
       "      <td>36</td>\n",
       "    </tr>\n",
       "    <tr>\n",
       "      <th>106</th>\n",
       "      <td>peds_13</td>\n",
       "      <td>36</td>\n",
       "    </tr>\n",
       "    <tr>\n",
       "      <th>98</th>\n",
       "      <td>peds_5</td>\n",
       "      <td>36</td>\n",
       "    </tr>\n",
       "    <tr>\n",
       "      <th>149</th>\n",
       "      <td>peds_56</td>\n",
       "      <td>33</td>\n",
       "    </tr>\n",
       "    <tr>\n",
       "      <th>97</th>\n",
       "      <td>peds_4</td>\n",
       "      <td>32</td>\n",
       "    </tr>\n",
       "    <tr>\n",
       "      <th>105</th>\n",
       "      <td>peds_12</td>\n",
       "      <td>31</td>\n",
       "    </tr>\n",
       "    <tr>\n",
       "      <th>3</th>\n",
       "      <td>course_len</td>\n",
       "      <td>31</td>\n",
       "    </tr>\n",
       "    <tr>\n",
       "      <th>1</th>\n",
       "      <td>馬番</td>\n",
       "      <td>30</td>\n",
       "    </tr>\n",
       "  </tbody>\n",
       "</table>\n",
       "</div>"
      ],
      "text/plain": [
       "            features  importance\n",
       "5          jockey_id         105\n",
       "4           horse_id          82\n",
       "7                 体重          69\n",
       "10             賞金_5R          54\n",
       "24   賞金_race_type_5R          52\n",
       "23   着順_race_type_5R          43\n",
       "94            peds_1          42\n",
       "9              着順_5R          41\n",
       "152          peds_59          39\n",
       "67           着差_allR          38\n",
       "154          peds_61          37\n",
       "2                 斤量          36\n",
       "8               体重変化          36\n",
       "106          peds_13          36\n",
       "98            peds_5          36\n",
       "149          peds_56          33\n",
       "97            peds_4          32\n",
       "105          peds_12          31\n",
       "3         course_len          31\n",
       "1                 馬番          30"
      ]
     },
     "execution_count": 302,
     "metadata": {},
     "output_type": "execute_result"
    }
   ],
   "source": [
    "me.feature_importance(X_train)"
   ]
  },
  {
   "cell_type": "raw",
   "id": "88b28e9a-53c6-4afe-89ca-2a4d19e40856",
   "metadata": {},
   "source": [
    "今後の構想\n",
    "・回収変数を増やして多くの回収方法で回収率の評価を行う\n",
    "・ロジスティック回帰を行い既存のモデルを合わせて予測を行うブースティングを行いたい\n",
    "    勾配ブースティング分類とロジスティック回帰\n",
    "    ・各特徴量の相関を見る\n",
    "    ・特徴量の選別\n",
    "    \n",
    "・勾配ブースティングで回帰を行いたい\n",
    "\n",
    "やってみたいこと\n",
    "・レースのクラス情報の追加\n",
    "    G1での勝利か未勝利クラスでの出走かを追加\n",
    "・lambdarankの実装(ランキング学習)\n",
    "\n",
    "\n",
    "できるかわからない\n",
    "騎手の過去成績をスクレイピング、学習して騎士で勾配ブースティングしてブースティングモデルを作る。"
   ]
  },
  {
   "cell_type": "code",
   "execution_count": null,
   "id": "42ae6e3d-ea99-4a49-835a-85ca4d1a000f",
   "metadata": {},
   "outputs": [],
   "source": []
  }
 ],
 "metadata": {
  "kernelspec": {
   "display_name": "Python 3 (ipykernel)",
   "language": "python",
   "name": "python3"
  },
  "language_info": {
   "codemirror_mode": {
    "name": "ipython",
    "version": 3
   },
   "file_extension": ".py",
   "mimetype": "text/x-python",
   "name": "python",
   "nbconvert_exporter": "python",
   "pygments_lexer": "ipython3",
   "version": "3.8.12"
  },
  "toc-autonumbering": true,
  "toc-showcode": false,
  "toc-showmarkdowntxt": false,
  "toc-showtags": false
 },
 "nbformat": 4,
 "nbformat_minor": 5
}
